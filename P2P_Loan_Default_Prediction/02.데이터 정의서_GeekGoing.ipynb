{
 "cells": [
  {
   "cell_type": "markdown",
   "id": "f6acc21a-0cf7-42c0-9dfb-7de8b772f568",
   "metadata": {},
   "source": [
    "# [데이터 명세]"
   ]
  },
  {
   "cell_type": "markdown",
   "id": "5e67feba-6a31-4339-9ba9-1649af404791",
   "metadata": {},
   "source": [
    "## [데이터#1] accepted_2007_to_2018Q4.csv"
   ]
  },
  {
   "cell_type": "markdown",
   "id": "904980ff-fc0f-471f-8c0f-e85b42bb6b5d",
   "metadata": {},
   "source": [
    "### 1. 데이터 정의"
   ]
  },
  {
   "cell_type": "markdown",
   "id": "94992a26-6f9d-4e05-a19d-3a324631ecf1",
   "metadata": {},
   "source": [
    "* 2007년~2018년 lending club p2p 대출 플랫폼의 승인된 대출에 관한 데이터\n",
    "* 2,260,701개의 행\n",
    "* 151개의 열"
   ]
  },
  {
   "cell_type": "markdown",
   "id": "df465796-66be-493a-978f-53bdc68e1d72",
   "metadata": {},
   "source": [
    "### 2. 수집 경로"
   ]
  },
  {
   "cell_type": "markdown",
   "id": "2c6d5d0e-8e38-460d-9999-c08f1ec6d45c",
   "metadata": {},
   "source": [
    "* Kaggle 내 기간별, 포함 변수별 여러 버전의 Lending club의 대출 상환 데이터가 있으며, 멘토링 시 2007-2018년 데이터 합본을 전달받음"
   ]
  },
  {
   "cell_type": "markdown",
   "id": "b8b31c75-7425-44d9-bcb3-e50e036cfa7a",
   "metadata": {},
   "source": [
    "### 3. 데이터의 논리적 구조"
   ]
  },
  {
   "cell_type": "markdown",
   "id": "dadaaac2-edc7-4998-816a-482bdabe75b4",
   "metadata": {},
   "source": [
    "#### 3-1. 용어 정리"
   ]
  },
  {
   "cell_type": "markdown",
   "id": "44878651-0d0f-4b56-b2fe-ee64cf1adfda",
   "metadata": {},
   "source": [
    "* 대출자 = 채무자\n",
    "* 투자자 = 채권자 (investor / inv)\n",
    "\n",
    "* 신용거래 (trade line / tl / opened account) 종류\n",
    "    * 리볼빙 (revolving / revol / rv) :\n",
    "        * 거래 : 가변적 시점, 가변적 금액\n",
    "        * 상환 : 가변적 시점, 가변적 금액\n",
    "    * 할부 (installment / il) :\n",
    "        * 거래 : 가변적 시점, 고정적 금액\n",
    "        * 상환 : 고정적 시점, 고정적 금액\n",
    "    * 은행카드 (bank card / bc) :\n",
    "        * 거래 : 가변적 시점, 가변적 금액\n",
    "        * 상환 : 고정적 시점, 고정적 금액\n",
    "\n",
    "* 계좌 (account / acc)\n",
    "* 만족 (satisfactory / sats) : 연체가 없는\n",
    "* 한도 (limit)\n",
    "* 잔액 (balance / bal) : 미상환 원금\n",
    "* 공동 (joint)\n",
    "* 신용점수 (FICO)\n",
    "* 채무조정 (hardship plan)\n",
    "* 채무불이행, 연체 (delinquency, delinq)\n",
    "* 채권 취소 (charge-off)\n",
    "* 이용률 (utilization rate, util)\n",
    "* 체납 (collection, coll)\n",
    "* 조회 (inquiry, inq)\n",
    "* 파산 (bankruptcy)\n",
    "* 채무합의 (settlement plan)"
   ]
  },
  {
   "cell_type": "markdown",
   "id": "4273959f-1393-441c-a748-f46fae1aa5a7",
   "metadata": {
    "jp-MarkdownHeadingCollapsed": true
   },
   "source": [
    "#### 3-2. 개체"
   ]
  },
  {
   "cell_type": "markdown",
   "id": "c2d9d5fa-674a-47c0-8cdf-9d0944c6129a",
   "metadata": {},
   "source": [
    "|#|출력명|자료형|유형|결측|출력 설명|범위|비고|\n",
    "|:---:|:---:|:---:|:---:|:---:|:---:|:---:|:---:|\n",
    "|1|id|문자형(object)|명목형|F|대출신청을 식별하는 ID||고유값|\n",
    "|2|member_id|실수형(float64)|명목형|T|회원을 식별하는 ID||고유값, 모든 값이 결측|\n",
    "|3|loan_amnt|실수형(float64)|연속형|T|대출 신청 금액||대출자가 신청한 대출 금액|\n",
    "|4|funded_amnt|실수형(float64)|연속형|T|실제로 제공된 대출 금액||대출자가 신청한 대출 금액 중 금융기관, 투자자로부터 실제로 제공된 대출 금액|\n",
    "|5|funded_amnt_inv|실수형(float64)|연속형|T|투자자로부터 제공된 대출 금액||투자자가 없으면 0|\n",
    "|6|term|문자형(object)|명목형|T|상환 기간|\"36 months\", \"60 months\"||\n",
    "|7|int_rate|실수형(float64)|연속형|T|이자율||대출자가 받은 대출의 이자율|\n",
    "|8|installment|실수형(float64)|연속형|T|월별 상환원리금||대출자가 월마다 내야하는 원리금|\n",
    "|9|grade|문자형(object)|순서형|T|대출 등급|\"A\" - \"G\"|플랫폼에서 할당한 대출 등급|\n",
    "|10|sub_grade|문자형(object)|순서형|T|대출 상세등급|\"A1\" - \"G5\"|플랫폼에서 할당한 대출 상세등급|\n",
    "|11|emp_title|문자형(object)|명목형|T|대출자의 직업||분류화 되지 않음|\n",
    "|12|emp_length|문자형(object)|명목형|T|대출자의 재직기간|\"< 1 year\" - \"10+ years\"||\n",
    "|13|home_ownership|문자형(object)|명목형|T|대출자의 주택 소유권 상태|\"MORTGAGE\", \"RENT\", \"OWN\", \"ANY\", \"NONE\", \"OTHER\"||\n",
    "|14|annual_inc|실수형(float64)|연속형|T|대출자의 연간소득 금액||대출자가 직접 할당|\n",
    "|15|verification_status|문자형(object)|명목형|T|대출자의 연간소득금액 검증 상태|\"Not Verified\", \"Source Verified\", \"Verified\"|플랫폼에서 검증시 \"Verified\"|\n",
    "|16|issue_d|문자형(object)|명목형|T|대출 확정일자|\"Jun-2007\" - \"Dec-2018\"||\n",
    "|17|loan_status|문자형(object)|명목형|T|대출 상환 상태|\"Fully Paid\", \"Current\" 등 총 9개|\"Fully Paid\", \"Charge off\" 이진분류|\n",
    "|18|pymnt_plan|문자형(object)|명목형|T|대출 상환에 대한 계획수립 여부|\"n\", \"y\"|비고|\n",
    "|19|url|문자형(object)|명목형|T|회원정보 url||고유값, 회원의 정보를 가지고있는 플랫폼 url|\n",
    "|20|desc|문자형(object)|명목형|T|대출 목적||대출자가 직접 할당|\n",
    "|21|purpose|문자형(object)|명목형|T|대출 목적|\"medical\", \"other\" 등 총 14개|desc의 분류화|\n",
    "|22|title|문자형(object)|명목형|T|대출 이름|||\n",
    "|23|zip_code|문자형(object)|명목형|T|대출자의 우편번호|\"007XX\" - \"999XX\"||\n",
    "|24|addr_state|문자형(object)|명목형|T|대출자의 거주지역|\"PA\", \"SD\" 등 총 51개|미국 주(state)의 명칭 약자|\n",
    "|25|dti|실수형(float64)|연속형|T|대출자의 총 부채상환비율(DTI)||월별 부채 지불액 (주택담보, 최근 요청된 대출 제외) / 월별 총 소득 * 100|\n",
    "|26|delinq_2yrs|실수형(float64)|이산형|T|대출자의 최근 2년간 30일 이상의 연체 횟수|||\n",
    "|27|earliest_cr_line|문자형(object)|명목형|T|대출자의 최초 신용 거래일|\"Aug-2003\", \"Dec-1999\" 외 754개||\n",
    "|28|fico_range_low|실수형(float64)|이산형|T|대출자의 대출시점 FICO범위 하한값|300 ~ 850의 정수||\n",
    "|29|fico_range_high|실수형(float64)|이산형|T|대출자의 대출시점 FICO범위 상한값|300 ~ 850의 정수||\n",
    "|30|inq_last_6mths|실수형(float64)|이산형|T|대출자의 최근 6개월간 신용조회 횟수||자동차, 주택담보대출 제외|\n",
    "|31|mths_since_last_delinq|실수형(float64)|이산형|T|대출자의 최근 채무불이행 이후 경과 월 수|||\n",
    "|32|mths_since_last_record|실수형(float64)|이산형|T|대출자의 최근 공공기록 이후 경과 월 수|||\n",
    "|33|open_acc|실수형(float64)|이산형|T|대출자의 활성화 상태의 신용거래 개수|||\n",
    "|34|pub_rec|실수형(float64)|이산형|T|대출자의 부정적 기록 개수||채무불이행, 파산, 채권 취소 등|\n",
    "|35|revol_bal|실수형(float64)|연속형|T|대출자가 사용중인 리볼빙 거래의 총 잔액||리볼빙거래의 총 미상환 원금|\n",
    "|36|revol_util|실수형(float64)|연속형|T|대출자의 리볼빙 거래 이용률||사용중인 리볼빙거래 금액 / 리볼빙거래 한도 * 100|\n",
    "|37|total_acc|실수형(float64)|이산형|T|대출자의 모든 유형의 신용거래 계좌 수||신용정보에 기재되어있는 신용거래 계좌 수|\n",
    "|38|initial_list_status|문자형(object)|명목형|T|대출 유형|\"w\", \"f\"|전액대출(w) 또는 분할대출(f)|\n",
    "|39|out_prncp|실수형(float64)|연속형|T|대출자의 미상환 원금 (기관 + 투자자)||기관에서 지급한 원금 + 투자자가 지급한 원금 - 대출자가 상환한 원금|\n",
    "|40|out_prncp_inv|실수형(float64)|연속형|T|대출자의 미상환 원금 (투자자)||투자자가 지급한 원금 - 대출자가 상환한 원금|\n",
    "|41|total_pymnt|실수형(float64)|연속형|T|대출자의 총 상환금 (기관 + 투자자)||원금 + 이자 + 연체료 ...|\n",
    "|42|total_pymnt_inv|실수형(float64)|연속형|T|대출자의 총 상환금 (투자자)||원금 + 이자 + 연체료 ...|\n",
    "|43|total_rec_prncp|실수형(float64)|연속형|T|대출자의 총 상환 원금|||\n",
    "|44|total_rec_int|실수형(float64)|연속형|T|대출자의 총 상환 이자|||\n",
    "|45|total_rec_late_fee|실수형(float64)|연속형|T|대출자의 총 상환 연체금|||\n",
    "|46|recoveries|실수형(float64)|연속형|T|대출자의 채권 취소 이후 회수 금액|||\n",
    "|47|collection_recovery_fee|실수형(float64)|연속형|T|대출자에 대한 채권추심중 발생한 수수료||대출자가 부담|\n",
    "|48|last_pymnt_d|문자형(object)|명목형|T|대출자의 최근 상환일|\"Jan-2019\", \"Jun-2016\" 등 총 136개||\n",
    "|49|last_pymnt_amnt|실수형(float64)|연속형|T|대출자의 최근 상환금액||원금 + 이자 + 연체료 ...|\n",
    "|50|next_pymnt_d|문자형(object)|명목형|T|대출자의 다음 상환일|\"Apr-2019\", \"Mar-2019\" 등 총 106개||\n",
    "|51|last_credit_pull_d|문자형(object)|명목형|T|대출자의 최근 신용조회일|\"Mar-2019\", \"Mar-2018\" 등 총 141개|플랫폼의 대출자 신용조회일|\n",
    "|52|last_fico_range_high|실수형(float64)|이산형|T|대출자의 현재 FICO범위 상한값|300 ~ 850의 정수||\n",
    "|53|last_fico_range_low|실수형(float64)|이산형|T|대출자의 현재 FICO범위 하한값|300 ~ 850의 정수||\n",
    "|54|collections_12_mths_ex_med|실수형(float64)|이산형|T|대출자의 최근 1년간 의료체납건 외 모든 체납건 횟수|||\n",
    "|55|mths_since_last_major_derog|실수형(float64)|이산형|T|대출자의 최근 신용점수 하락 이후 경과 월 수|||\n",
    "|56|policy_code|실수형(float64)|명목형|T|대출상품 종류|\"1\", \"2\"|모든 이용자에게 공개된 상품 (1) / 일부 이용자에게 공개된 상품 (2)|\n",
    "|57|application_type|문자형(object)|명목형|T|대출 신청 유형|\"Individual\", \"Joint App\"|개인대출 (Individual), 공동대출 (Joint App)|\n",
    "|58|annual_inc_joint|실수형(float64)|연속형|T|공동 대출자의 총 연간소득 금액||각 대출자가 직접 할당|\n",
    "|59|dti_joint|실수형(float64)|연속형|T|공동 대출자의 총 부채상환비율(DTI)||월별 부채 지불액 (주택담보, 최근 요청된 대출 제외) / 월별 총 소득 * 100|\n",
    "|60|verification_status_joint|문자형(object)|명목형|T|공동 대출자의 연간소득금액 검증 상태|\"Not Verified\", \"Source Verified\", \"Verified\"|플랫폼에서 검증시 \"Verified\" / 컬럼 정의에 없음|\n",
    "|61|acc_now_delinq|실수형(float64)|이산형|T|대출자의 현재 연체중인 신용거래 계좌 수|||\n",
    "|62|tot_coll_amt|실수형(float64)|연속형|T|대출자의 누적 체납금액|||\n",
    "|63|tot_cur_bal|실수형(float64)|연속형|T|대출자의 총 자산|||\n",
    "|64|open_acc_6m|실수형(float64)|이산형|T|대출자의 최근 6개월간 신용거래 수|||\n",
    "|65|open_act_il|실수형(float64)|이산형|T|대출자의 현재 활성화 상태의 할부거래 개수|||\n",
    "|66|open_il_12m|실수형(float64)|이산형|T|대출자의 최근 1년간 할부거래 횟수|||\n",
    "|67|open_il_24m|실수형(float64)|이산형|T|대출자의 최근 2년간 할부거래 횟수|||\n",
    "|68|mths_since_rcnt_il|실수형(float64)|이산형|T|대출자의 최근 할부거래 이후 경과 월 수|||\n",
    "|69|total_bal_il|실수형(float64)|연속형|T|대출자의 모든 할부거래 잔액||할부거래의 총 미상환 원금|\n",
    "|70|il_util|실수형(float64)|연속형|T|대출자의 할부거래 이용률||사용중인 할부거래 금액 / 할부거래 한도 * 100|\n",
    "|71|open_rv_12m|실수형(float64)|이산형|T|대출자의 최근 1년간 리볼빙거래 횟수|||\n",
    "|72|open_rv_24m|실수형(float64)|이산형|T|대출자의 최근 2년간 리볼빙거래 횟수|||\n",
    "|73|max_bal_bc|실수형(float64)|연속형|T|대출자의 모든 리볼빙거래의 최대잔액||리볼빙거래의 미상환 원금 최댓값|\n",
    "|74|all_util|실수형(float64)|연속형|T|대출자의 신용거래 이용률||사용중인 신용거래 금액 / 신용거래 한도 * 100|\n",
    "|75|total_rev_hi_lim|실수형(float64)|연속형|T|대출자의 리볼빙거래 총 한도|||\n",
    "|76|inq_fi|실수형(float64)|이산형|T|대출자의 개인재무 조회 횟수||기관에서 조회|\n",
    "|77|total_cu_tl|실수형(float64)|이산형|T|현재 진행중인 신용거래 수|||\n",
    "|78|inq_last_12m|실수형(float64)|이산형|T|최근 1년간 대출자의 신용조회 횟수||기관에서 조회|\n",
    "|79|acc_open_past_24mths|실수형(float64)|이산형|T|최근 2년간 대출자의 신용거래 횟수|||\n",
    "|80|avg_cur_bal|실수형(float64)|연속형|T|대출자의 평균 계좌잔액|||\n",
    "|81|bc_open_to_buy|실수형(float64)|연속형|T|대출자가 사용가능한 은행카드거래 금액|||\n",
    "|82|bc_util|실수형(float64)|연속형|T|대출자의 은행카드거래 이용률||사용중인 은행카드거래 금액 / 은행카드거래 한도 * 100|\n",
    "|83|chargeoff_within_12_mths|실수형(float64)|이산형|T|대출자의 최근 1년간 채권취소 횟수|||\n",
    "|84|delinq_amnt|실수형(float64)|연속형|T|대출자의 현재 연체금액|||\n",
    "|85|mo_sin_old_il_acct|실수형(float64)|이산형|T|대출자의 가장 오래된 할부거래 이후 경과 월 수|||\n",
    "|86|mo_sin_old_rev_tl_op|실수형(float64)|이산형|T|대출자의 가장 오래된 리볼빙거래 이후 경과 월 수|||\n",
    "|87|mo_sin_rcnt_rev_tl_op|실수형(float64)|이산형|T|대출자의 최근 리볼빙거래 이후 경과 월 수|||\n",
    "|88|mo_sin_rcnt_tl|실수형(float64)|이산형|T|대출자의 최근 신용거래 이후 경과 월 수|||\n",
    "|89|mort_acc|실수형(float64)|이산형|T|대출자의 주택담보대출용 계좌 수|||\n",
    "|90|mths_since_recent_bc|실수형(float64)|이산형|T|대출자의 최근 은행카드거래 이후 경과 월 수|||\n",
    "|91|mths_since_recent_bc_dlq|실수형(float64)|이산형|T|대출자의 최근 은행카드거래 연체 이후 경과 월 수|||\n",
    "|92|mths_since_recent_inq|실수형(float64)|이산형|T|대출자의 최근 조회 이후 경과 월 수||신용조회인지? 개인재무 조회인지?|\n",
    "|93|mths_since_recent_revol_delinq|실수형(float64)|이산형|T|대출자의 최근 리볼빙거래 연체 이후 경과 월 수|||\n",
    "|94|num_accts_ever_120_pd|실수형(float64)|이산형|T|대출자의 120일 이상 연체된 신용거래 계좌 수|||\n",
    "|95|num_actv_bc_tl|실수형(float64)|이산형|T|대출자의 활성화 상태의 은행카드거래 수|||\n",
    "|96|num_actv_rev_tl|실수형(float64)|이산형|T|대출자의 활성화 상태의 리볼빙거래 수|||\n",
    "|97|num_bc_sats|실수형(float64)|이산형|T|대출자의 연체없는 은행카드계좌 수|||\n",
    "|98|num_bc_tl|실수형(float64)|이산형|T|대출자의 은행카드거래 수|||\n",
    "|99|num_il_tl|실수형(float64)|이산형|T|대출자의 할부거래 수|||\n",
    "|100|num_op_rev_tl|실수형(float64)|이산형|T|대출자의 리볼빙거래 수|||\n",
    "|101|num_rev_accts|실수형(float64)|이산형|T|대출자의 리볼빙거래 계좌 수|||\n",
    "|102|num_rev_tl_bal_gt_0|실수형(float64)|이산형|T|대출자의 잔액이 있는 리볼빙거래 수||미상환 원금이 있는 리볼빙거래 수|\n",
    "|103|num_sats|실수형(float64)|이산형|T|대출자의 연체없는 신용거래 계좌 수|||\n",
    "|104|num_tl_120dpd_2m|실수형(float64)|이산형|T|대출자의 최근 2개월간 120일 이상 연체된 신용계좌 수|||\n",
    "|105|num_tl_30dpd|실수형(float64)|이산형|T|대출자의 최근 2개월간 30일 이상 연체된 신용계좌 수|||\n",
    "|106|num_tl_90g_dpd_24m|실수형(float64)|이산형|T|대출자의 최근 2년간 90일 이상 연체된 신용계좌 수|||\n",
    "|107|num_tl_op_past_12m|실수형(float64)|이산형|T|대출자의 최근 1년간 신용거래 수|||\n",
    "|108|pct_tl_nvr_dlq|실수형(float64)|연속형|T|대출자의 연체없는 신용거래 비율||연체없는 신용거래 수 / 모든 신용거래 수 * 100|\n",
    "|109|percent_bc_gt_75|실수형(float64)|연속형|T|대출자의 한도의 75% 이상 사용중인 은행카드 계좌 비율||한도 75% 이상 사용중인 은행카드 계좌 수 / 모든 은행카드 계좌 수 * 100|\n",
    "|110|pub_rec_bankruptcies|실수형(float64)|이산형|T|대출자의 파산기록 횟수|||\n",
    "|111|tax_liens|실수형(float64)|이산형|T|대출자의 세금 체납 횟수|||\n",
    "|112|tot_hi_cred_lim|실수형(float64)|연속형|T|대출자의 총 신용거래 한도|||\n",
    "|113|total_bal_ex_mort|실수형(float64)|연속형|T|대출자의 주택담보대출을 제외한 모든 신용거래의 잔액||주택담보대출 제외 신용거래의 총 미상환 원금|\n",
    "|114|total_bc_limit|실수형(float64)|연속형|T|대출자의 은행카드거래 총 한도|||\n",
    "|115|total_il_high_credit_limit|실수형(float64)|연속형|T|대출자의 할부거래 총 한도|||\n",
    "|116|revol_bal_joint|실수형(float64)|연속형|T|공동 대출자의 총 리볼빙거래 잔액 (중복잔액 제외)||공동 대출자의 리볼빙거래에 대한 총 미상환 원금|\n",
    "|117|sec_app_fico_range_low|실수형(float64)|이산형|T|공동대출자의 대출시점 FICO범위 하한값|300 ~ 850의 정수||\n",
    "|118|sec_app_fico_range_high|실수형(float64)|이산형|T|공동대출자의 대출시점 FICO범위 상한값|300 ~ 850의 정수||\n",
    "|119|sec_app_earliest_cr_line|문자형(object)|명목형|T|공동대출자의 최초 신용 거래일|\"Feb-2005\", \"Oct-1987\" 등 총 663개||\n",
    "|120|sec_app_inq_last_6mths|실수형(float64)|이산형|T|공동대출자의 최근 6개월간 신용조회 횟수|||\n",
    "|121|sec_app_mort_acc|실수형(float64)|이산형|T|공동대출자의 주택담보대출용 계좌 수|||\n",
    "|122|sec_app_open_acc|실수형(float64)|이산형|T|공동대출자의 활성화 상태의 신용거래 개수|||\n",
    "|123|sec_app_revol_util|실수형(float64)|연속형|T|공동대출자의 리볼빙 거래 이용률|||\n",
    "|124|sec_app_open_act_il|실수형(float64)|이산형|T|공동대출자의 현재 활성화 상태의 할부거래 개수|||\n",
    "|125|sec_app_num_rev_accts|실수형(float64)|이산형|T|공동대출자의 리볼빙거래 계좌 수|||\n",
    "|126|sec_app_chargeoff_within_12_mths|실수형(float64)|이산형|T|공동대출자의 최근 1년간 채권취소 횟수|||\n",
    "|127|sec_app_collections_12_mths_ex_med|실수형(float64)|이산형|T|공동대출자의 최근 1년간 의료체납건 외 모든 체납건 횟수|||\n",
    "|128|sec_app_mths_since_last_major_derog|실수형(float64)|이산형|T|공동대출자의 최근 신용점수 하락 이후 경과 월 수|||\n",
    "|129|hardship_flag|문자형(object)|명목형|T|대출자의 채무조정 여부|\"N\", \"Y\"||\n",
    "|130|hardship_type|문자형(object)|명목형|T|채무조정에 대한 설명|\"INTEREST ONLY-3 MONTHS DEFERRAL\"||\n",
    "|131|hardship_reason|문자형(object)|명목형|T|채무조정 이유|\"NATURAL_DISASTER\", \"DIVORCE\" 등 총 9개||\n",
    "|132|hardship_status|문자형(object)|명목형|T|채무조정 상태|\"ACTIVE\", \"PENDING\", \"CANCELED\", \"COMPLETED\", \"BROKEN\"||\n",
    "|133|deferral_term|실수형(float64)|이산형|T|채무조정 예상 지속 월 수|||\n",
    "|134|hardship_amount|실수형(float64)|연속형|T|채무조정중 납부금||기존 대출의 이자 + 채무조정 추가 이자|\n",
    "|135|hardship_start_date|문자형(object)|명목형|T|채무조정 시작일|\"Sep-2017\", \"Jul-2017\" 등 총 27개 ||\n",
    "|136|hardship_end_date|문자형(object)|명목형|T|채무조정 종료일|\"Dec-2017\", \"Nov-2017\" 등 총 28개||\n",
    "|137|payment_plan_start_date|문자형(object)|명목형|T|채무조정 이후 첫 납입일|\"Oct-2017\", \"Sep-2017\" 등 총 27개||\n",
    "|138|hardship_length|실수형(float64)|이산형|T|채무조정 지속 월 수|||\n",
    "|139|hardship_dpd|실수형(float64)|이산형|T|채무조정 시작 이후 연체일 수|||\n",
    "|140|hardship_loan_status|문자형(object)|명목형|T|채무조정 시작 이후 대출 상환 상태|\"Late (16-30 days)\", \"Current\" 등 총 5개||\n",
    "|141|orig_projected_additional_accrued_interest|실수형(float64)|연속형|T|채무조정 후 추가 이자||대출자가 채무조정계획을 파기(BROKEN)하면 결측|\n",
    "|142|hardship_payoff_balance_amount|실수형(float64)|연속형|T|채무조정 이후 채권취소 잔액|||\n",
    "|143|hardship_last_payment_amount|실수형(float64)|연속형|T|채무조정 이후 최근 납부금액|||\n",
    "|144|disbursement_method|문자형(object)|명목형|T|대출금 지급방식|\"Cash\", \"DirectPay\"||\n",
    "|145|debt_settlement_flag|문자형(object)|명목형|T|기관에 의한 채무합의 참여 여부|\"N\", \"Y\"||\n",
    "|146|debt_settlement_flag_date|문자형(object)|명목형|T|debt_settlement_flag 날짜|\"Nov-2017\", \"May-2018\" 등 총 163개|debt_settlement_flag가 N 이라면 결측|\n",
    "|147|settlement_status|문자형(object)|명목형|T|채무합의 상태|\"COMPLETE\", \"ACTIVE\" 등 총 6개||\n",
    "|148|settlement_date|문자형(object)|명목형|T|채무합의 동의 날짜|\"Sep-2017\", \"Nov-2017\" 등 총 180개||\n",
    "|149|settlement_amount|실수형(float64)|연속형|T|채무합의로 변경된 납입금|||\n",
    "|150|settlement_percentage|실수형(float64)|연속형|T|채무합의로 변경된 납입금에 대한 대출 잔액 비율|||\n",
    "|151|settlement_term|실수형(float64)|이산형|T|채무합의 지속기간|||"
   ]
  },
  {
   "cell_type": "markdown",
   "id": "fe11ddff-363a-4e07-bd46-e0b893efd605",
   "metadata": {},
   "source": [
    "#### 3-3. 관계"
   ]
  },
  {
   "cell_type": "markdown",
   "id": "62a337f3-05da-4628-b016-aec82262f3b2",
   "metadata": {},
   "source": [
    "* 개인정보\n",
    "    * id\n",
    "    * member_id\n",
    "    * url\n",
    "    * emp_title\n",
    "    * emp_length\n",
    "    * home_ownership\n",
    "    * annual_inc\n",
    "    * verification_status\n",
    "    * zip_code\n",
    "    * addr_state\n",
    "    * last_fico_range_high\n",
    "    * last_fico_range_low\n",
    "    * dti\n",
    "    * earliest_cr_line\n",
    "---\n",
    "* 신용기록\n",
    "    * pub_rec_bankruptcies\n",
    "    * mths_since_last_major_derog\n",
    "    * pub_rec\n",
    "    * mths_since_last_record\n",
    "---\n",
    "* 신용조회\n",
    "    * inq_fi\n",
    "    * inq_last_12m\n",
    "    * inq_last_6mths\n",
    "    * mths_since_recent_inq\n",
    "    * last_credit_pull_d\n",
    "---\n",
    "* 할부\n",
    "    * open_act_il\n",
    "    * open_il_12m\n",
    "    * open_il_24m\n",
    "    * mo_sin_old_il_acct\n",
    "    * mths_since_rcnt_il\n",
    "    * total_bal_il\n",
    "    * il_util\n",
    "    * num_il_tl\n",
    "    * total_il_high_credit_limit\n",
    "---\n",
    "* 리볼빙\n",
    "    * revol_bal\n",
    "    * revol_util\n",
    "    * open_rv_12m\n",
    "    * open_rv_24m\n",
    "    * total_rev_hi_lim\n",
    "    * mo_sin_old_rev_tl_op\n",
    "    * mo_sin_rcnt_rev_tl_op\n",
    "    * num_actv_rev_tl\n",
    "    * num_op_rev_tl\n",
    "    * num_rev_accts\n",
    "    * num_rev_tl_bal_gt_0\n",
    "    * mths_since_recent_revol_delinq\n",
    "---\n",
    "* 은행카드\n",
    "    * max_bal_bc\n",
    "    * bc_open_to_buy\n",
    "    * bc_util\n",
    "    * mths_since_recent_bc\n",
    "    * mths_since_recent_bc_dlq\n",
    "    * num_actv_bc_tl\n",
    "    * num_bc_sats\n",
    "    * num_bc_tl\n",
    "    * percent_bc_gt_75\n",
    "    * total_bc_limit\n",
    "---\n",
    "* 그 외 신용거래\n",
    "    * mort_acc\n",
    "---\n",
    "* 신용거래 통합\n",
    "    * open_acc\n",
    "    * total_acc\n",
    "    * tot_cur_bal\n",
    "    * open_acc_6m\n",
    "    * all_util\n",
    "    * total_cu_tl\n",
    "    * acc_open_past_24mths\n",
    "    * avg_cur_bal\n",
    "    * mo_sin_rcnt_tl\n",
    "    * num_accts_ever_120_pd\n",
    "    * num_sats\n",
    "    * num_tl_120dpd_2m\n",
    "    * num_tl_30dpd\n",
    "    * num_tl_90g_dpd_24m\n",
    "    * num_tl_op_past_12m\n",
    "    * pct_tl_nvr_dlq\n",
    "    * tot_hi_cred_lim\n",
    "    * total_bal_ex_mort\n",
    "---\n",
    "* 연체, 미납\n",
    "    * collections_12_mths_ex_med\n",
    "    * delinq_2yrs\n",
    "    * mths_since_last_delinq\n",
    "    * acc_now_delinq\n",
    "    * tot_coll_amt\n",
    "    * delinq_amnt\n",
    "    * tax_liens\n",
    "    * chargeoff_within_12_mths\n",
    "---\n",
    "\n",
    "    * joint\n",
    "        * annual_inc_joint\n",
    "        * dti_joint\n",
    "        * verification_status_joint\n",
    "        * revol_bal_joint\n",
    "        * sec_app_fico_range_low\n",
    "        * sec_app_fico_range_high\n",
    "        * sec_app_earliest_cr_line\n",
    "        * sec_app_inq_last_6mths\n",
    "        * sec_app_mort_acc\n",
    "        * sec_app_open_acc\n",
    "        * sec_app_revol_util\n",
    "        * sec_app_open_act_il\n",
    "        * sec_app_num_rev_accts\n",
    "        * sec_app_chargeoff_within_12_mths\n",
    "        * sec_app_collections_12_mths_ex_med\n",
    "        * sec_app_mths_since_last_major_derog\n",
    "- purpose\r",
    "- \n",
    "loan_amnt- \r\n",
    "ter- m\r\n",
    "initial_list_stat- us\r\n",
    "fico_range_- low\r\n",
    "fico_range_high\n",
    "---\n",
    "* 타겟\n",
    "    * loan_status"
   ]
  },
  {
   "cell_type": "markdown",
   "id": "bcc27ee7-7b81-4219-9895-4b7b22b28fd3",
   "metadata": {},
   "source": [
    "### 4. 데이터의 물리적 저장 구조"
   ]
  },
  {
   "cell_type": "markdown",
   "id": "bd23209f-0049-445b-9cd0-60314d0626e0",
   "metadata": {},
   "source": [
    "* CSV파일"
   ]
  },
  {
   "cell_type": "markdown",
   "id": "19898bca-206b-4ba7-9c7d-312486114907",
   "metadata": {},
   "source": [
    "## [데이터#2] rejected_2007_to_2018Q4.csv"
   ]
  },
  {
   "cell_type": "markdown",
   "id": "37706030-9030-41f8-8aa5-b8be75bdff2f",
   "metadata": {},
   "source": [
    "### 1. 데이터 정의"
   ]
  },
  {
   "cell_type": "markdown",
   "id": "d74869e5-0c8b-4e61-a9d8-70f9d9fac3de",
   "metadata": {},
   "source": [
    "* 2007년~2018년 lending club p2p 대출 플랫폼의 거절된 대출에 관한 데이터\n",
    "* 27,648,741개의 행\n",
    "* 9개의 열"
   ]
  },
  {
   "cell_type": "markdown",
   "id": "b3fa5df8-ecc2-49f6-b574-4ec8d7cfdb27",
   "metadata": {},
   "source": [
    "### 2. 수집 경로"
   ]
  },
  {
   "cell_type": "markdown",
   "id": "26a7aa16-de12-4c1a-abf5-c6fb71908ce2",
   "metadata": {},
   "source": [
    "* Kaggle 내 기간별, 포함 변수별 여러 버전의 Lending club의 대출 상환 데이터가 있으며, 멘토링 시 2007-2018년 데이터 합본을 전달받음"
   ]
  },
  {
   "cell_type": "markdown",
   "id": "4dbd4bec-7617-46d0-8276-5bf7ad9055cf",
   "metadata": {},
   "source": [
    "### 3. 데이터의 논리적 구조"
   ]
  },
  {
   "cell_type": "markdown",
   "id": "1d148cd4-4410-4197-ba5c-5d94dc8bb8af",
   "metadata": {},
   "source": [
    "|#|출력명|자료형|유형|결측|출력 설명|범위|비고|\n",
    "|:---:|:---:|:---:|:---:|:---:|:---:|:---:|:---:|\n",
    "|1|Amount Requested|실수형(float64)|연속형|F|대출 신청 금액|||\n",
    "|2|Application Date|문자형(object)|명목형|F|대출 신청일|||\n",
    "|3|Loan Title|문자형(object)|명목형|T|대출 목적||대출자가 직접 할당|\n",
    "|4|Risk_Score|실수형(float64)|연속형|T|위험도 점수|||\n",
    "|5|Debt-To-Income Ratio|문자형(object)|명목형|F|대출자의 총 부채상환비율(DTI)||월별 부채 지불액 / 월별 총 소득 * 100|\n",
    "|6|Zip Code|문자형(object)|명목형|T|대출자의 우편번호|||\n",
    "|7|State|문자형(object)|명목형|T|대출자의 거주지역|\"PA\", \"SD\" 등 총 51개|미국 주(state)의 명칭 약자|\n",
    "|8|Employment Length|문자형(object)|명목형|T|대출자의 재직기간|\"< 1 year\" - \"10+ years\"||\n",
    "|9|Policy Code|실수형(float64)|명목형|T|정책구분 코드|||"
   ]
  },
  {
   "cell_type": "markdown",
   "id": "7ac0a016-86f9-4e93-b422-4e5d3590c80e",
   "metadata": {},
   "source": [
    "### 4. 데이터의 물리적 저장 구조"
   ]
  },
  {
   "cell_type": "markdown",
   "id": "b6e6aa1a-e2f7-4541-aa94-51592b016376",
   "metadata": {},
   "source": [
    "* CSV파일"
   ]
  }
 ],
 "metadata": {
  "kernelspec": {
   "display_name": "Python 3 (ipykernel)",
   "language": "python",
   "name": "python3"
  },
  "language_info": {
   "codemirror_mode": {
    "name": "ipython",
    "version": 3
   },
   "file_extension": ".py",
   "mimetype": "text/x-python",
   "name": "python",
   "nbconvert_exporter": "python",
   "pygments_lexer": "ipython3",
   "version": "3.10.13"
  }
 },
 "nbformat": 4,
 "nbformat_minor": 5
}
