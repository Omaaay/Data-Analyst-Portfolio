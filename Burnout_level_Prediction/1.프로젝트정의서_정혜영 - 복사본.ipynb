{
 "cells": [
  {
   "attachments": {},
   "cell_type": "markdown",
   "metadata": {
    "id": "EegOYei1EadY"
   },
   "source": [
    "## [인적자원 관리를 위한 직원들의 번아웃 레벨 예측 모델 개발]"
   ]
  },
  {
   "attachments": {},
   "cell_type": "markdown",
   "metadata": {
    "id": "gaUGwf0uFD9j"
   },
   "source": [
    "### *   기간: 2023-12-20 ~ 2023-12-27 (총 6일)\n",
    "                      \n",
    "*   리더: 정혜영\n",
    "                                                                           \n",
    "*   정의: 직원 데이터 셋 분석을 통한 단계별 번아웃 지수 에측 모델 개발\n",
    "                                \n",
    "*   목적: 조직내 구성원들의 신체 건강뿐아니라 정신 건강을 관리하는 것에 대한 중요성 증가 -> 회사의 자원인 인재 유출을 막기위해 임직원들의 정신 건강 상태를 관리하기 위한 번아웃 예측 모형 개발 / 기업의 HR의 중점이 직원들의 정신적인 부분에 대한 관리로 확대되는 경향 "
   ]
  },
  {
   "attachments": {},
   "cell_type": "markdown",
   "metadata": {},
   "source": [
    "*   범위: 22750 \r\n",
    "unique values\n"
   ]
  },
  {
   "attachments": {},
   "cell_type": "markdown",
   "metadata": {},
   "source": [
    "*   <b>결론 및 향후 과제</b> :   \n",
    "1.  모델 성능 높일 수 있는 시도 해보기 / 시도 실패 사항 원인 분석 <br>\n",
    "   -  파라미터 지정시 더 낮은 성능이 나오는 문제\n",
    "   -  특성 제거에도 성능이 높아지지 않는 문제\n",
    "   -  가중치 부여 모델 학습에도 성능이 높아지지 않는 문제\n",
    "\n",
    "\n",
    "2.  다른 분류 모델 설계해보기\n",
    "   - 결정트리\n",
    "   - 서포트 벡터 머신(SVM)\n",
    "   - 부스팅 알고리즘 : LightGBM, CatBoost\n",
    "----\n",
    "* sklearn.Processing\n",
    "  \n",
    "https://scikit-learn.org/stable/modules/generated/sklearn.preprocessing.KBinsDiscretizer.html#sklearn.preprocessing.KBinsDiscretizer\n",
    "\n",
    "* sklearn.feature_selection\n",
    "https://scikit-learn.org/stable/modules/generated/sklearn.feature_selection.SelectFromModel.html#sklearn.feature_selection.SelectFromModel\n",
    "\n",
    "\n",
    "* 불균형 - SMOTE\n",
    " https://imbalanced-learn.org/stable/references/index.html\n",
    "\n",
    "* 지수 읽는 법\n",
    "* 분류/회귀 모델 만들어 보기"
   ]
  },
  {
   "cell_type": "markdown",
   "metadata": {
    "id": "Wc2oLxrZK3qy"
   },
   "source": [
    "## [할 일 목록]"
   ]
  },
  {
   "cell_type": "markdown",
   "metadata": {
    "id": "xqMJWyv7CtjL"
   },
   "source": [
    "### [1일차]\n"
   ]
  },
  {
   "cell_type": "markdown",
   "metadata": {},
   "source": [
    "#### 1.   프로젝트 주제 선정 : 캐글 경진대회 및 데이터 셋 탐색"
   ]
  },
  {
   "cell_type": "markdown",
   "metadata": {},
   "source": [
    "1. 학생 영어 작문 데이터 - 학생의 0~5.0(점수는 0.5씩 구간) 사이의 영작문 점수 예측\n",
    "- https://www.kaggle.com/competitions/feedback-prize-english-language-learning/overview\n",
    "  \n",
    "---------------\n",
    "\n",
    "2. 수면상태 감지 데이터 - 수면 예측(awake) 분류 모델 \n",
    "- https://www.kaggle.com/competitions/child-mind-institute-detect-sleep-states/overview\n",
    "  \n",
    "----------------\n",
    "\n",
    "3. 특정 지역- 요일별 배달 품목 정보 - 날씨별 배달음식 주문 품목 예측 모델\n",
    "- https://www.kaggle.com/competitions/2022-ai-tp-18011833\n",
    "  \n",
    "----------------\n",
    "\n",
    "4. **멘탈 데이터 - 직원의 정신 건강을 위한 번아웃 예측 모델** (주제 선정) <br>\n",
    "   *해커어스 머신러닝 챌린지 데이터셋*\n",
    "- https://www.kaggle.com/datasets/blurredmachine/are-your-employees-burning-out\n",
    "- https://www.hackerearth.com/challenges/new/competitive/hackerearth-machine-learning-challenge-predict-burnout-rate/\n",
    "  \n",
    "-------------------------"
   ]
  },
  {
   "cell_type": "markdown",
   "metadata": {
    "id": "lSQgQa0RPqVs"
   },
   "source": [
    "#### 2.  프로젝트 정의서 작성"
   ]
  },
  {
   "cell_type": "markdown",
   "metadata": {
    "id": "xqMJWyv7CtjL"
   },
   "source": [
    "### [2일차] 데이터 살펴보기 "
   ]
  },
  {
   "cell_type": "markdown",
   "metadata": {},
   "source": [
    "- target = Burn Rate (0.0~1.0의 비율값)\n",
    "- features = "
   ]
  },
  {
   "cell_type": "markdown",
   "metadata": {},
   "source": [
    "1. 결측값 확인\n",
    "2. 이상치 확인\n",
    "\n",
    "3. Target 컬럼 생성 - Burn Rate -> Burn Level 로 구간화 "
   ]
  },
  {
   "cell_type": "markdown",
   "metadata": {
    "id": "lSQgQa0RPqVs"
   },
   "source": [
    "#### 2.  데이터 정의서 작성"
   ]
  },
  {
   "cell_type": "markdown",
   "metadata": {},
   "source": [
    "#### 3. 성능 평가 지표 선택\n",
    "\n",
    "- hacker_earth 성능 평가 지표\n",
    "  <Evaluation criteria>**\r\n",
    "The evaluation metric that is used for this problem is the r2_score. The formula is as follows:\r\n",
    "\r\n",
    "\r\n"
   ]
  },
  {
   "cell_type": "markdown",
   "metadata": {},
   "source": [
    "### [3일차] 탐색적 데이터 분석 EDA"
   ]
  },
  {
   "cell_type": "markdown",
   "metadata": {},
   "source": [
    "1. features와 target간의 상관관계 파악\n",
    "    - 상관계수가 적은 feautures 제거 대상 선정"
   ]
  },
  {
   "cell_type": "markdown",
   "metadata": {},
   "source": [
    "### [4일차] 데이터 전처리 및 feature 제거 및 추출 -> 파이프 라인 구성(model.fit 까지)"
   ]
  },
  {
   "cell_type": "markdown",
   "metadata": {},
   "source": [
    "### [5일차] 분류 모델 생성 및 성능 확인 "
   ]
  },
  {
   "cell_type": "markdown",
   "metadata": {},
   "source": [
    "### [6일차] 최종 분류 모델 선정 "
   ]
  },
  {
   "cell_type": "code",
   "execution_count": null,
   "metadata": {},
   "outputs": [],
   "source": []
  }
 ],
 "metadata": {
  "colab": {
   "authorship_tag": "ABX9TyN2H03+SyTzY0fDql2e3c+O",
   "collapsed_sections": [
    "Wc2oLxrZK3qy",
    "xqMJWyv7CtjL",
    "5Zu9ptEAO4e9",
    "lSQgQa0RPqVs",
    "c7MRPWeEPrGL",
    "7FkXBF5YP3nG",
    "-ZzkFrNfRnic"
   ],
   "provenance": [],
   "toc_visible": true
  },
  "kernelspec": {
   "display_name": "Python 3 (ipykernel)",
   "language": "python",
   "name": "python3"
  },
  "language_info": {
   "codemirror_mode": {
    "name": "ipython",
    "version": 3
   },
   "file_extension": ".py",
   "mimetype": "text/x-python",
   "name": "python",
   "nbconvert_exporter": "python",
   "pygments_lexer": "ipython3",
   "version": "3.10.13"
  }
 },
 "nbformat": 4,
 "nbformat_minor": 4
}
