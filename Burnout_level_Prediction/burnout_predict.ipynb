{
 "cells": [
  {
   "cell_type": "markdown",
   "id": "4b3c66cc-0f81-41a5-8905-a2e899c466c9",
   "metadata": {},
   "source": [
    "## **Introduction** "
   ]
  },
  {
   "cell_type": "markdown",
   "id": "f1012c84-cc4f-45ce-b107-50277b4fb404",
   "metadata": {},
   "source": [
    "<div class=\"alert alert-block alert-info\">\n",
    "<b> Project : 인적자원 관리를 위한 직원들의 번아웃 레벨 예측 모델 개발 </b> <br> \n",
    "    \n",
    "   \n",
    "    predict the employee burn out level\n",
    "    Purpose : HR의 관점으로 임직원들의 정신 건강 상태를 관리의 목적\n",
    "\n",
    "    \n",
    "</div>"
   ]
  },
  {
   "cell_type": "markdown",
   "id": "7f818433-652c-4362-af61-15a0ec41d615",
   "metadata": {},
   "source": [
    "데이터 셋 : \n",
    "- Employee ID 직원 아이디 : The unique ID 유니크 키\n",
    "\n",
    "- Date of Joining 근무시작일\n",
    "- Gender 성별: (Male/Female) 남/녀\n",
    "- Company Type 비즈니스 유형: (Service/Product) 서비스 / 제품(생산)\n",
    "- WFH Setup Available 재택 여부: (Yes/No)\n",
    "- Designation 직급\n",
    "- Resource Allocation 근무시간\n",
    "- Mental Fatigue Score 피로도\n",
    "- Burn Rate 번아웃 수치"
   ]
  },
  {
   "cell_type": "markdown",
   "id": "806ce11f-b215-4554-b0bb-444cc243f113",
   "metadata": {},
   "source": [
    "### **1. Dataset Description** "
   ]
  },
  {
   "cell_type": "code",
   "execution_count": 1,
   "id": "b2245a2c-8403-4e59-a514-de934400f924",
   "metadata": {},
   "outputs": [],
   "source": [
    "import numpy as np\n",
    "import pandas as pd\n",
    "import matplotlib.pyplot as plt\n",
    "import seaborn as sns\n",
    "\n",
    "%matplotlib inline"
   ]
  },
  {
   "cell_type": "code",
   "execution_count": 2,
   "id": "fc197ace-78ab-4791-b0d6-090bc4cf5136",
   "metadata": {},
   "outputs": [],
   "source": [
    "burnout = pd.read_csv('train.csv')"
   ]
  },
  {
   "cell_type": "code",
   "execution_count": 3,
   "id": "20fecc9c-9310-4a09-8aee-d4c9e38d40e8",
   "metadata": {},
   "outputs": [
    {
     "data": {
      "text/html": [
       "<div>\n",
       "<style scoped>\n",
       "    .dataframe tbody tr th:only-of-type {\n",
       "        vertical-align: middle;\n",
       "    }\n",
       "\n",
       "    .dataframe tbody tr th {\n",
       "        vertical-align: top;\n",
       "    }\n",
       "\n",
       "    .dataframe thead th {\n",
       "        text-align: right;\n",
       "    }\n",
       "</style>\n",
       "<table border=\"1\" class=\"dataframe\">\n",
       "  <thead>\n",
       "    <tr style=\"text-align: right;\">\n",
       "      <th></th>\n",
       "      <th>Employee ID</th>\n",
       "      <th>Date of Joining</th>\n",
       "      <th>Gender</th>\n",
       "      <th>Company Type</th>\n",
       "      <th>WFH Setup Available</th>\n",
       "      <th>Designation</th>\n",
       "      <th>Resource Allocation</th>\n",
       "      <th>Mental Fatigue Score</th>\n",
       "      <th>Burn Rate</th>\n",
       "    </tr>\n",
       "  </thead>\n",
       "  <tbody>\n",
       "    <tr>\n",
       "      <th>0</th>\n",
       "      <td>fffe32003000360033003200</td>\n",
       "      <td>2008-09-30</td>\n",
       "      <td>Female</td>\n",
       "      <td>Service</td>\n",
       "      <td>No</td>\n",
       "      <td>2.0</td>\n",
       "      <td>3.0</td>\n",
       "      <td>3.8</td>\n",
       "      <td>0.16</td>\n",
       "    </tr>\n",
       "    <tr>\n",
       "      <th>1</th>\n",
       "      <td>fffe3700360033003500</td>\n",
       "      <td>2008-11-30</td>\n",
       "      <td>Male</td>\n",
       "      <td>Service</td>\n",
       "      <td>Yes</td>\n",
       "      <td>1.0</td>\n",
       "      <td>2.0</td>\n",
       "      <td>5.0</td>\n",
       "      <td>0.36</td>\n",
       "    </tr>\n",
       "    <tr>\n",
       "      <th>2</th>\n",
       "      <td>fffe31003300320037003900</td>\n",
       "      <td>2008-03-10</td>\n",
       "      <td>Female</td>\n",
       "      <td>Product</td>\n",
       "      <td>Yes</td>\n",
       "      <td>2.0</td>\n",
       "      <td>NaN</td>\n",
       "      <td>5.8</td>\n",
       "      <td>0.49</td>\n",
       "    </tr>\n",
       "    <tr>\n",
       "      <th>3</th>\n",
       "      <td>fffe32003400380032003900</td>\n",
       "      <td>2008-11-03</td>\n",
       "      <td>Male</td>\n",
       "      <td>Service</td>\n",
       "      <td>Yes</td>\n",
       "      <td>1.0</td>\n",
       "      <td>1.0</td>\n",
       "      <td>2.6</td>\n",
       "      <td>0.20</td>\n",
       "    </tr>\n",
       "    <tr>\n",
       "      <th>4</th>\n",
       "      <td>fffe31003900340031003600</td>\n",
       "      <td>2008-07-24</td>\n",
       "      <td>Female</td>\n",
       "      <td>Service</td>\n",
       "      <td>No</td>\n",
       "      <td>3.0</td>\n",
       "      <td>7.0</td>\n",
       "      <td>6.9</td>\n",
       "      <td>0.52</td>\n",
       "    </tr>\n",
       "  </tbody>\n",
       "</table>\n",
       "</div>"
      ],
      "text/plain": [
       "                Employee ID Date of Joining  Gender Company Type  \\\n",
       "0  fffe32003000360033003200      2008-09-30  Female      Service   \n",
       "1      fffe3700360033003500      2008-11-30    Male      Service   \n",
       "2  fffe31003300320037003900      2008-03-10  Female      Product   \n",
       "3  fffe32003400380032003900      2008-11-03    Male      Service   \n",
       "4  fffe31003900340031003600      2008-07-24  Female      Service   \n",
       "\n",
       "  WFH Setup Available  Designation  Resource Allocation  Mental Fatigue Score  \\\n",
       "0                  No          2.0                  3.0                   3.8   \n",
       "1                 Yes          1.0                  2.0                   5.0   \n",
       "2                 Yes          2.0                  NaN                   5.8   \n",
       "3                 Yes          1.0                  1.0                   2.6   \n",
       "4                  No          3.0                  7.0                   6.9   \n",
       "\n",
       "   Burn Rate  \n",
       "0       0.16  \n",
       "1       0.36  \n",
       "2       0.49  \n",
       "3       0.20  \n",
       "4       0.52  "
      ]
     },
     "execution_count": 3,
     "metadata": {},
     "output_type": "execute_result"
    }
   ],
   "source": [
    "burnout.head(5)"
   ]
  },
  {
   "cell_type": "code",
   "execution_count": 4,
   "id": "a9b98b33-47a6-42bd-9707-23aefd45ba29",
   "metadata": {},
   "outputs": [
    {
     "name": "stdout",
     "output_type": "stream",
     "text": [
      "<class 'pandas.core.frame.DataFrame'>\n",
      "RangeIndex: 22750 entries, 0 to 22749\n",
      "Data columns (total 9 columns):\n",
      " #   Column                Non-Null Count  Dtype  \n",
      "---  ------                --------------  -----  \n",
      " 0   Employee ID           22750 non-null  object \n",
      " 1   Date of Joining       22750 non-null  object \n",
      " 2   Gender                22750 non-null  object \n",
      " 3   Company Type          22750 non-null  object \n",
      " 4   WFH Setup Available   22750 non-null  object \n",
      " 5   Designation           22750 non-null  float64\n",
      " 6   Resource Allocation   21369 non-null  float64\n",
      " 7   Mental Fatigue Score  20633 non-null  float64\n",
      " 8   Burn Rate             21626 non-null  float64\n",
      "dtypes: float64(4), object(5)\n",
      "memory usage: 1.6+ MB\n"
     ]
    }
   ],
   "source": [
    "burnout.info()"
   ]
  },
  {
   "cell_type": "code",
   "execution_count": 5,
   "id": "ae5c483a-e426-4bac-88b5-fd1691aa44ed",
   "metadata": {},
   "outputs": [
    {
     "name": "stdout",
     "output_type": "stream",
     "text": [
      "nunumeric_cols = ['Designation', 'Resource Allocation', 'Mental Fatigue Score', 'Burn Rate'], \n",
      "category_cols = ['Employee ID', 'Date of Joining', 'Gender', 'Company Type', 'WFH Setup Available']\n"
     ]
    }
   ],
   "source": [
    "numeric_cols=burnout.select_dtypes(include='number').columns.tolist()\n",
    "category_cols = burnout.select_dtypes(exclude=np.number).columns.tolist() \n",
    "print(f'nunumeric_cols = {numeric_cols}, \\ncategory_cols = {category_cols}')"
   ]
  },
  {
   "cell_type": "code",
   "execution_count": 6,
   "id": "833d25a7-f064-4952-b0a2-48218b6a9eb4",
   "metadata": {},
   "outputs": [
    {
     "data": {
      "text/plain": [
       "Employee ID             22750\n",
       "Date of Joining           366\n",
       "Gender                      2\n",
       "Company Type                2\n",
       "WFH Setup Available         2\n",
       "Designation                 6\n",
       "Resource Allocation        10\n",
       "Mental Fatigue Score      101\n",
       "Burn Rate                 101\n",
       "dtype: int64"
      ]
     },
     "execution_count": 6,
     "metadata": {},
     "output_type": "execute_result"
    }
   ],
   "source": [
    "# number of unique values per variable\n",
    "burnout.nunique()"
   ]
  },
  {
   "cell_type": "markdown",
   "id": "fca66dfa-8bf3-49f2-a822-9776e0f8aaca",
   "metadata": {},
   "source": [
    "Gender, Company Type, WFH Setup Available 는 binary category 변수 <br>\n",
    "-> 전처리 단계 : One-Hot Encoding 수행"
   ]
  },
  {
   "cell_type": "code",
   "execution_count": 7,
   "id": "ef3f0b33-7767-4dd8-aa59-e42444cf8995",
   "metadata": {},
   "outputs": [
    {
     "data": {
      "text/plain": [
       "min    2008-01-01\n",
       "max    2008-12-31\n",
       "Name: Date of Joining, dtype: object"
      ]
     },
     "execution_count": 7,
     "metadata": {},
     "output_type": "execute_result"
    }
   ],
   "source": [
    "#'Date of Joining'(근무시작일)의 범위 확인\n",
    "burnout['Date of Joining'].agg(['min', 'max'])"
   ]
  },
  {
   "cell_type": "markdown",
   "id": "4956c620-02ee-412f-aa78-b35e18cc984f",
   "metadata": {},
   "source": [
    "-> This dataset contains information about employees who started working in 2018."
   ]
  },
  {
   "cell_type": "code",
   "execution_count": 8,
   "id": "963c13ca-a618-46a0-9419-c3676e07d508",
   "metadata": {},
   "outputs": [
    {
     "name": "stdout",
     "output_type": "stream",
     "text": [
      "<class 'pandas.core.frame.DataFrame'>\n",
      "RangeIndex: 22750 entries, 0 to 22749\n",
      "Data columns (total 9 columns):\n",
      " #   Column                Non-Null Count  Dtype         \n",
      "---  ------                --------------  -----         \n",
      " 0   Employee ID           22750 non-null  object        \n",
      " 1   Date of Joining       22750 non-null  datetime64[ns]\n",
      " 2   Gender                22750 non-null  object        \n",
      " 3   Company Type          22750 non-null  object        \n",
      " 4   WFH Setup Available   22750 non-null  object        \n",
      " 5   Designation           22750 non-null  float64       \n",
      " 6   Resource Allocation   21369 non-null  float64       \n",
      " 7   Mental Fatigue Score  20633 non-null  float64       \n",
      " 8   Burn Rate             21626 non-null  float64       \n",
      "dtypes: datetime64[ns](1), float64(4), object(4)\n",
      "memory usage: 1.6+ MB\n"
     ]
    }
   ],
   "source": [
    "burnout['Date of Joining'] = pd.to_datetime(burnout['Date of Joining'])\n",
    "burnout.info()"
   ]
  },
  {
   "cell_type": "markdown",
   "id": "ecd15e15-3b54-4992-a479-56fa4bddb494",
   "metadata": {},
   "source": [
    "<br>\n",
    "Let's check <b> the columns with missing values.</b>\n"
   ]
  },
  {
   "cell_type": "code",
   "execution_count": 421,
   "id": "9b49742a-d7c1-4ae8-b4c6-61024086abbe",
   "metadata": {},
   "outputs": [
    {
     "data": {
      "text/plain": [
       "Employee ID                0\n",
       "Date of Joining            0\n",
       "Gender                     0\n",
       "Company Type               0\n",
       "WFH Setup Available        0\n",
       "Designation                0\n",
       "Resource Allocation     1381\n",
       "Mental Fatigue Score    2117\n",
       "Burn Rate               1124\n",
       "dtype: int64"
      ]
     },
     "execution_count": 421,
     "metadata": {},
     "output_type": "execute_result"
    }
   ],
   "source": [
    "burnout.isnull().sum()\n",
    "#실수형 데이터 - 약 5%, 10%, 5%의 결측치 존재 -> 제거 or 치환?"
   ]
  },
  {
   "cell_type": "code",
   "execution_count": 9,
   "id": "5beecebb-5dc1-4774-be4d-1549bfcdf0cd",
   "metadata": {},
   "outputs": [
    {
     "data": {
      "text/plain": [
       "array([0., 1., 2., 3., 4., 5.])"
      ]
     },
     "execution_count": 9,
     "metadata": {},
     "output_type": "execute_result"
    }
   ],
   "source": [
    "#Designation 구간 : 0.0~5.0 / 구간 크기 1.0 씩 / 총 구간 : 6개\n",
    "Desig = burnout['Designation'].unique()\n",
    "np.sort(Desig)"
   ]
  },
  {
   "cell_type": "code",
   "execution_count": 10,
   "id": "76c6e459-9775-48dc-a89b-b27353c25577",
   "metadata": {},
   "outputs": [
    {
     "data": {
      "text/plain": [
       "array([ 1.,  2.,  3.,  4.,  5.,  6.,  7.,  8.,  9., 10., nan])"
      ]
     },
     "execution_count": 10,
     "metadata": {},
     "output_type": "execute_result"
    }
   ],
   "source": [
    "#Resource Allocation 구간 : 1.0~10.0 / 구간 크기 1.0 씩 / 총 구간 : 10개\n",
    "RA = burnout['Resource Allocation'].unique()\n",
    "np.sort(RA)"
   ]
  },
  {
   "cell_type": "code",
   "execution_count": 11,
   "id": "ddf41875-f79a-4565-8cfc-fa3dfe4a43d7",
   "metadata": {},
   "outputs": [
    {
     "name": "stdout",
     "output_type": "stream",
     "text": [
      "102\n"
     ]
    },
    {
     "data": {
      "text/plain": [
       "array([ 0. ,  0.1,  0.2,  0.3,  0.4,  0.5,  0.6,  0.7,  0.8,  0.9,  1. ,\n",
       "        1.1,  1.2,  1.3,  1.4,  1.5,  1.6,  1.7,  1.8,  1.9,  2. ,  2.1,\n",
       "        2.2,  2.3,  2.4,  2.5,  2.6,  2.7,  2.8,  2.9,  3. ,  3.1,  3.2,\n",
       "        3.3,  3.4,  3.5,  3.6,  3.7,  3.8,  3.9,  4. ,  4.1,  4.2,  4.3,\n",
       "        4.4,  4.5,  4.6,  4.7,  4.8,  4.9,  5. ,  5.1,  5.2,  5.3,  5.4,\n",
       "        5.5,  5.6,  5.7,  5.8,  5.9,  6. ,  6.1,  6.2,  6.3,  6.4,  6.5,\n",
       "        6.6,  6.7,  6.8,  6.9,  7. ,  7.1,  7.2,  7.3,  7.4,  7.5,  7.6,\n",
       "        7.7,  7.8,  7.9,  8. ,  8.1,  8.2,  8.3,  8.4,  8.5,  8.6,  8.7,\n",
       "        8.8,  8.9,  9. ,  9.1,  9.2,  9.3,  9.4,  9.5,  9.6,  9.7,  9.8,\n",
       "        9.9, 10. ,  nan])"
      ]
     },
     "execution_count": 11,
     "metadata": {},
     "output_type": "execute_result"
    }
   ],
   "source": [
    "#Mental Fatigue Score 구간 : 0.0~10.0 / 구간 크기 0.1씩  / 총 구간 : 101개 \n",
    "MFS = burnout['Mental Fatigue Score'].unique()\n",
    "print(len(MFS)) #결측값 +1\n",
    "np.sort(MFS)"
   ]
  },
  {
   "cell_type": "code",
   "execution_count": 12,
   "id": "dcf0d8c1-53ed-4b7f-8c39-e278f87eaefa",
   "metadata": {},
   "outputs": [
    {
     "name": "stdout",
     "output_type": "stream",
     "text": [
      "102\n"
     ]
    },
    {
     "data": {
      "text/plain": [
       "array([0.  , 0.01, 0.02, 0.03, 0.04, 0.05, 0.06, 0.07, 0.08, 0.09, 0.1 ,\n",
       "       0.11, 0.12, 0.13, 0.14, 0.15, 0.16, 0.17, 0.18, 0.19, 0.2 , 0.21,\n",
       "       0.22, 0.23, 0.24, 0.25, 0.26, 0.27, 0.28, 0.29, 0.3 , 0.31, 0.32,\n",
       "       0.33, 0.34, 0.35, 0.36, 0.37, 0.38, 0.39, 0.4 , 0.41, 0.42, 0.43,\n",
       "       0.44, 0.45, 0.46, 0.47, 0.48, 0.49, 0.5 , 0.51, 0.52, 0.53, 0.54,\n",
       "       0.55, 0.56, 0.57, 0.58, 0.59, 0.6 , 0.61, 0.62, 0.63, 0.64, 0.65,\n",
       "       0.66, 0.67, 0.68, 0.69, 0.7 , 0.71, 0.72, 0.73, 0.74, 0.75, 0.76,\n",
       "       0.77, 0.78, 0.79, 0.8 , 0.81, 0.82, 0.83, 0.84, 0.85, 0.86, 0.87,\n",
       "       0.88, 0.89, 0.9 , 0.91, 0.92, 0.93, 0.94, 0.95, 0.96, 0.97, 0.98,\n",
       "       0.99, 1.  ,  nan])"
      ]
     },
     "execution_count": 12,
     "metadata": {},
     "output_type": "execute_result"
    }
   ],
   "source": [
    "#Burn Rate 구간 : 0.0~1.0 / 구간 크기 0.01씩 / 총 구간 : 101개\n",
    "BR = burnout['Burn Rate'].unique()\n",
    "print(len(BR)) #결측값 +1\n",
    "np.sort(BR)"
   ]
  },
  {
   "cell_type": "code",
   "execution_count": 13,
   "id": "67a33b83-cb02-46a8-bf21-6ca06e017d85",
   "metadata": {},
   "outputs": [
    {
     "data": {
      "text/html": [
       "<div>\n",
       "<style scoped>\n",
       "    .dataframe tbody tr th:only-of-type {\n",
       "        vertical-align: middle;\n",
       "    }\n",
       "\n",
       "    .dataframe tbody tr th {\n",
       "        vertical-align: top;\n",
       "    }\n",
       "\n",
       "    .dataframe thead th {\n",
       "        text-align: right;\n",
       "    }\n",
       "</style>\n",
       "<table border=\"1\" class=\"dataframe\">\n",
       "  <thead>\n",
       "    <tr style=\"text-align: right;\">\n",
       "      <th></th>\n",
       "      <th>Date of Joining</th>\n",
       "      <th>Designation</th>\n",
       "      <th>Resource Allocation</th>\n",
       "      <th>Mental Fatigue Score</th>\n",
       "      <th>Burn Rate</th>\n",
       "    </tr>\n",
       "  </thead>\n",
       "  <tbody>\n",
       "    <tr>\n",
       "      <th>count</th>\n",
       "      <td>22750</td>\n",
       "      <td>22750.000000</td>\n",
       "      <td>21369.000000</td>\n",
       "      <td>20633.000000</td>\n",
       "      <td>21626.000000</td>\n",
       "    </tr>\n",
       "    <tr>\n",
       "      <th>mean</th>\n",
       "      <td>2008-07-01 09:28:05.274725120</td>\n",
       "      <td>2.178725</td>\n",
       "      <td>4.481398</td>\n",
       "      <td>5.728188</td>\n",
       "      <td>0.452005</td>\n",
       "    </tr>\n",
       "    <tr>\n",
       "      <th>min</th>\n",
       "      <td>2008-01-01 00:00:00</td>\n",
       "      <td>0.000000</td>\n",
       "      <td>1.000000</td>\n",
       "      <td>0.000000</td>\n",
       "      <td>0.000000</td>\n",
       "    </tr>\n",
       "    <tr>\n",
       "      <th>25%</th>\n",
       "      <td>2008-04-01 00:00:00</td>\n",
       "      <td>1.000000</td>\n",
       "      <td>3.000000</td>\n",
       "      <td>4.600000</td>\n",
       "      <td>0.310000</td>\n",
       "    </tr>\n",
       "    <tr>\n",
       "      <th>50%</th>\n",
       "      <td>2008-07-02 00:00:00</td>\n",
       "      <td>2.000000</td>\n",
       "      <td>4.000000</td>\n",
       "      <td>5.900000</td>\n",
       "      <td>0.450000</td>\n",
       "    </tr>\n",
       "    <tr>\n",
       "      <th>75%</th>\n",
       "      <td>2008-09-30 00:00:00</td>\n",
       "      <td>3.000000</td>\n",
       "      <td>6.000000</td>\n",
       "      <td>7.100000</td>\n",
       "      <td>0.590000</td>\n",
       "    </tr>\n",
       "    <tr>\n",
       "      <th>max</th>\n",
       "      <td>2008-12-31 00:00:00</td>\n",
       "      <td>5.000000</td>\n",
       "      <td>10.000000</td>\n",
       "      <td>10.000000</td>\n",
       "      <td>1.000000</td>\n",
       "    </tr>\n",
       "    <tr>\n",
       "      <th>std</th>\n",
       "      <td>NaN</td>\n",
       "      <td>1.135145</td>\n",
       "      <td>2.047211</td>\n",
       "      <td>1.920839</td>\n",
       "      <td>0.198226</td>\n",
       "    </tr>\n",
       "  </tbody>\n",
       "</table>\n",
       "</div>"
      ],
      "text/plain": [
       "                     Date of Joining   Designation  Resource Allocation  \\\n",
       "count                          22750  22750.000000         21369.000000   \n",
       "mean   2008-07-01 09:28:05.274725120      2.178725             4.481398   \n",
       "min              2008-01-01 00:00:00      0.000000             1.000000   \n",
       "25%              2008-04-01 00:00:00      1.000000             3.000000   \n",
       "50%              2008-07-02 00:00:00      2.000000             4.000000   \n",
       "75%              2008-09-30 00:00:00      3.000000             6.000000   \n",
       "max              2008-12-31 00:00:00      5.000000            10.000000   \n",
       "std                              NaN      1.135145             2.047211   \n",
       "\n",
       "       Mental Fatigue Score     Burn Rate  \n",
       "count          20633.000000  21626.000000  \n",
       "mean               5.728188      0.452005  \n",
       "min                0.000000      0.000000  \n",
       "25%                4.600000      0.310000  \n",
       "50%                5.900000      0.450000  \n",
       "75%                7.100000      0.590000  \n",
       "max               10.000000      1.000000  \n",
       "std                1.920839      0.198226  "
      ]
     },
     "execution_count": 13,
     "metadata": {},
     "output_type": "execute_result"
    }
   ],
   "source": [
    "burnout.describe()\n",
    "#실수형 데이터 이지만 구간값이 작고, 스케일이 비슷해서 -> 이상치와 스케일 차이는 신경 x"
   ]
  },
  {
   "cell_type": "markdown",
   "id": "1971ea41-10e6-47b2-9e72-b63688d395a6",
   "metadata": {},
   "source": [
    "### **2. Exploratory Data Analysis (EDA)** "
   ]
  },
  {
   "cell_type": "code",
   "execution_count": 21,
   "id": "45ff1bdd-d240-4982-ad4e-6f68a13cf0b3",
   "metadata": {},
   "outputs": [
    {
     "data": {
      "image/png": "[encoded data removed]",
      "text/plain": [
       "<Figure size 800x500 with 4 Axes>"
      ]
     },
     "metadata": {},
     "output_type": "display_data"
    }
   ],
   "source": [
    "burnout[numeric_cols].hist(bins=10, figsize=(8,5), color='darkgreen');"
   ]
  },
  {
   "cell_type": "code",
   "execution_count": 15,
   "id": "a9d596cb-7881-438a-9482-0bd599333bb0",
   "metadata": {},
   "outputs": [],
   "source": [
    "#종형의 형태"
   ]
  },
  {
   "cell_type": "code",
   "execution_count": 20,
   "id": "0721567a-2ae4-4994-8b54-ebdad3a94750",
   "metadata": {},
   "outputs": [
    {
     "data": {
      "image/png": "[encoded data removed]",
      "text/plain": [
       "<Figure size 700x400 with 1 Axes>"
      ]
     },
     "metadata": {},
     "output_type": "display_data"
    }
   ],
   "source": [
    "burnout['Date of Joining'].hist(bins=12, figsize=(7,4), color='darkgreen');"
   ]
  },
  {
   "cell_type": "code",
   "execution_count": 430,
   "id": "4f5adc41-da1a-4794-9aac-909c19ffe90e",
   "metadata": {},
   "outputs": [],
   "source": [
    "#균등분포의 형태"
   ]
  },
  {
   "cell_type": "code",
   "execution_count": 22,
   "id": "3d9080df-92e5-4910-b35d-3da293c10af3",
   "metadata": {},
   "outputs": [
    {
     "data": {
      "image/png": "[encoded data removed]",
      "text/plain": [
       "<Figure size 700x500 with 2 Axes>"
      ]
     },
     "metadata": {},
     "output_type": "display_data"
    }
   ],
   "source": [
    "plt.figure(figsize=(7,5))\n",
    "corr = burnout[numeric_cols].corr()\n",
    "sns.heatmap(corr, annot=True)\n",
    "\n",
    "plt.show()"
   ]
  },
  {
   "cell_type": "code",
   "execution_count": 23,
   "id": "3c38ca69-09d0-4348-91ad-b55f6d9ad972",
   "metadata": {},
   "outputs": [
    {
     "data": {
      "text/plain": [
       "Designation  Resource Allocation\n",
       "0.0          1.0                    1142\n",
       "             2.0                     262\n",
       "             3.0                      17\n",
       "1.0          3.0                    1682\n",
       "             2.0                    1475\n",
       "             4.0                     735\n",
       "             1.0                     635\n",
       "             5.0                      59\n",
       "2.0          4.0                    2564\n",
       "             5.0                    2009\n",
       "             3.0                    1479\n",
       "             6.0                     652\n",
       "             2.0                     338\n",
       "             7.0                      52\n",
       "             1.0                      14\n",
       "3.0          6.0                    1952\n",
       "             5.0                    1783\n",
       "             7.0                    1056\n",
       "             4.0                     594\n",
       "             8.0                     224\n",
       "             3.0                      14\n",
       "             9.0                       7\n",
       "4.0          7.0                     857\n",
       "             8.0                     757\n",
       "             6.0                     339\n",
       "             9.0                     263\n",
       "             10.0                     25\n",
       "             5.0                      10\n",
       "5.0          9.0                     176\n",
       "             10.0                    134\n",
       "             8.0                      63\n",
       "Name: count, dtype: int64"
      ]
     },
     "execution_count": 23,
     "metadata": {},
     "output_type": "execute_result"
    }
   ],
   "source": [
    "burnout[['Designation', 'Resource Allocation']].groupby('Designation').value_counts()\n",
    "#직급이 높아질수록 근무시간이 높아지는 양상 파악 \n",
    "#근무시간의 결측치 -> 각 직급 그룹별 최빈값 대체 전략 "
   ]
  },
  {
   "cell_type": "code",
   "execution_count": 24,
   "id": "5d36834b-fb3e-4161-a37e-f4389b290805",
   "metadata": {},
   "outputs": [
    {
     "data": {
      "image/png": "[encoded data removed]",
      "text/plain": [
       "<Figure size 640x480 with 1 Axes>"
      ]
     },
     "metadata": {},
     "output_type": "display_data"
    }
   ],
   "source": [
    "sns.barplot(y=burnout['Resource Allocation'], x=burnout['Designation'], palette='plasma', hue=burnout['Resource Allocation'], legend=True)\n",
    "plt.show()"
   ]
  },
  {
   "cell_type": "code",
   "execution_count": 25,
   "id": "2937de56-1976-476f-b66c-e70aad518dd7",
   "metadata": {},
   "outputs": [
    {
     "data": {
      "text/html": [
       "<div>\n",
       "<style scoped>\n",
       "    .dataframe tbody tr th:only-of-type {\n",
       "        vertical-align: middle;\n",
       "    }\n",
       "\n",
       "    .dataframe tbody tr th {\n",
       "        vertical-align: top;\n",
       "    }\n",
       "\n",
       "    .dataframe thead tr th {\n",
       "        text-align: left;\n",
       "    }\n",
       "\n",
       "    .dataframe thead tr:last-of-type th {\n",
       "        text-align: right;\n",
       "    }\n",
       "</style>\n",
       "<table border=\"1\" class=\"dataframe\">\n",
       "  <thead>\n",
       "    <tr>\n",
       "      <th></th>\n",
       "      <th colspan=\"8\" halign=\"left\">Mental Fatigue Score</th>\n",
       "    </tr>\n",
       "    <tr>\n",
       "      <th></th>\n",
       "      <th>count</th>\n",
       "      <th>mean</th>\n",
       "      <th>std</th>\n",
       "      <th>min</th>\n",
       "      <th>25%</th>\n",
       "      <th>50%</th>\n",
       "      <th>75%</th>\n",
       "      <th>max</th>\n",
       "    </tr>\n",
       "    <tr>\n",
       "      <th>Resource Allocation</th>\n",
       "      <th></th>\n",
       "      <th></th>\n",
       "      <th></th>\n",
       "      <th></th>\n",
       "      <th></th>\n",
       "      <th></th>\n",
       "      <th></th>\n",
       "      <th></th>\n",
       "    </tr>\n",
       "  </thead>\n",
       "  <tbody>\n",
       "    <tr>\n",
       "      <th>1.0</th>\n",
       "      <td>1625.0</td>\n",
       "      <td>2.475508</td>\n",
       "      <td>1.446540</td>\n",
       "      <td>0.0</td>\n",
       "      <td>1.3</td>\n",
       "      <td>2.6</td>\n",
       "      <td>3.6</td>\n",
       "      <td>5.6</td>\n",
       "    </tr>\n",
       "    <tr>\n",
       "      <th>2.0</th>\n",
       "      <td>1872.0</td>\n",
       "      <td>3.910363</td>\n",
       "      <td>1.339077</td>\n",
       "      <td>0.0</td>\n",
       "      <td>3.1</td>\n",
       "      <td>4.0</td>\n",
       "      <td>4.8</td>\n",
       "      <td>7.1</td>\n",
       "    </tr>\n",
       "    <tr>\n",
       "      <th>3.0</th>\n",
       "      <td>2903.0</td>\n",
       "      <td>4.817361</td>\n",
       "      <td>1.145745</td>\n",
       "      <td>1.0</td>\n",
       "      <td>4.0</td>\n",
       "      <td>4.9</td>\n",
       "      <td>5.7</td>\n",
       "      <td>7.5</td>\n",
       "    </tr>\n",
       "    <tr>\n",
       "      <th>4.0</th>\n",
       "      <td>3560.0</td>\n",
       "      <td>5.551826</td>\n",
       "      <td>1.118431</td>\n",
       "      <td>1.6</td>\n",
       "      <td>4.8</td>\n",
       "      <td>5.6</td>\n",
       "      <td>6.3</td>\n",
       "      <td>8.7</td>\n",
       "    </tr>\n",
       "    <tr>\n",
       "      <th>5.0</th>\n",
       "      <td>3530.0</td>\n",
       "      <td>6.199150</td>\n",
       "      <td>1.066953</td>\n",
       "      <td>3.2</td>\n",
       "      <td>5.5</td>\n",
       "      <td>6.2</td>\n",
       "      <td>7.0</td>\n",
       "      <td>9.7</td>\n",
       "    </tr>\n",
       "    <tr>\n",
       "      <th>6.0</th>\n",
       "      <td>2692.0</td>\n",
       "      <td>6.907355</td>\n",
       "      <td>1.044113</td>\n",
       "      <td>3.5</td>\n",
       "      <td>6.2</td>\n",
       "      <td>7.0</td>\n",
       "      <td>7.6</td>\n",
       "      <td>10.0</td>\n",
       "    </tr>\n",
       "    <tr>\n",
       "      <th>7.0</th>\n",
       "      <td>1769.0</td>\n",
       "      <td>7.503222</td>\n",
       "      <td>0.942586</td>\n",
       "      <td>5.2</td>\n",
       "      <td>6.8</td>\n",
       "      <td>7.5</td>\n",
       "      <td>8.1</td>\n",
       "      <td>10.0</td>\n",
       "    </tr>\n",
       "    <tr>\n",
       "      <th>8.0</th>\n",
       "      <td>952.0</td>\n",
       "      <td>8.123529</td>\n",
       "      <td>0.939446</td>\n",
       "      <td>5.4</td>\n",
       "      <td>7.5</td>\n",
       "      <td>8.1</td>\n",
       "      <td>8.8</td>\n",
       "      <td>10.0</td>\n",
       "    </tr>\n",
       "    <tr>\n",
       "      <th>9.0</th>\n",
       "      <td>410.0</td>\n",
       "      <td>8.773902</td>\n",
       "      <td>0.799894</td>\n",
       "      <td>7.0</td>\n",
       "      <td>8.2</td>\n",
       "      <td>8.8</td>\n",
       "      <td>9.4</td>\n",
       "      <td>10.0</td>\n",
       "    </tr>\n",
       "    <tr>\n",
       "      <th>10.0</th>\n",
       "      <td>141.0</td>\n",
       "      <td>9.219858</td>\n",
       "      <td>0.812599</td>\n",
       "      <td>7.1</td>\n",
       "      <td>8.7</td>\n",
       "      <td>9.5</td>\n",
       "      <td>10.0</td>\n",
       "      <td>10.0</td>\n",
       "    </tr>\n",
       "  </tbody>\n",
       "</table>\n",
       "</div>"
      ],
      "text/plain": [
       "                    Mental Fatigue Score                                     \\\n",
       "                                   count      mean       std  min  25%  50%   \n",
       "Resource Allocation                                                           \n",
       "1.0                               1625.0  2.475508  1.446540  0.0  1.3  2.6   \n",
       "2.0                               1872.0  3.910363  1.339077  0.0  3.1  4.0   \n",
       "3.0                               2903.0  4.817361  1.145745  1.0  4.0  4.9   \n",
       "4.0                               3560.0  5.551826  1.118431  1.6  4.8  5.6   \n",
       "5.0                               3530.0  6.199150  1.066953  3.2  5.5  6.2   \n",
       "6.0                               2692.0  6.907355  1.044113  3.5  6.2  7.0   \n",
       "7.0                               1769.0  7.503222  0.942586  5.2  6.8  7.5   \n",
       "8.0                                952.0  8.123529  0.939446  5.4  7.5  8.1   \n",
       "9.0                                410.0  8.773902  0.799894  7.0  8.2  8.8   \n",
       "10.0                               141.0  9.219858  0.812599  7.1  8.7  9.5   \n",
       "\n",
       "                                 \n",
       "                      75%   max  \n",
       "Resource Allocation              \n",
       "1.0                   3.6   5.6  \n",
       "2.0                   4.8   7.1  \n",
       "3.0                   5.7   7.5  \n",
       "4.0                   6.3   8.7  \n",
       "5.0                   7.0   9.7  \n",
       "6.0                   7.6  10.0  \n",
       "7.0                   8.1  10.0  \n",
       "8.0                   8.8  10.0  \n",
       "9.0                   9.4  10.0  \n",
       "10.0                 10.0  10.0  "
      ]
     },
     "execution_count": 25,
     "metadata": {},
     "output_type": "execute_result"
    }
   ],
   "source": [
    "#근무시간별 피로도 요약 통계량\n",
    "burnout[['Resource Allocation', 'Mental Fatigue Score']].groupby('Resource Allocation').describe()"
   ]
  },
  {
   "cell_type": "code",
   "execution_count": 306,
   "id": "007f5711-66d3-40b1-bc33-522b144f8e8c",
   "metadata": {},
   "outputs": [
    {
     "data": {
      "image/png": "[encoded data removed]",
      "text/plain": [
       "<Figure size 640x480 with 1 Axes>"
      ]
     },
     "metadata": {},
     "output_type": "display_data"
    }
   ],
   "source": [
    "sns.barplot(y=burnout['Mental Fatigue Score'], x=burnout['Resource Allocation'], palette='plasma', hue=burnout['Resource Allocation'], legend=True)\n",
    "plt.show()"
   ]
  },
  {
   "cell_type": "markdown",
   "id": "48517d6e-95fa-4e40-bd7f-d3c803706dff",
   "metadata": {},
   "source": [
    "#### 결측치 처리 방법 요약 \n",
    "1. 타겟인 'Burn Rate' 삭제 (전체 데이터의 5%정도로 모델 생성에 지장 없을 것으로 판단)\n",
    "   \n",
    "2. 'Designation'는 'Resource Allocation'과 높은 상관관계; 0.88 <br>\n",
    "   직급이 높아질수록 근무시간이 높아지는 양상 파악 <br>\n",
    "   <b> Strategy: 각 직급별 근무시간의 최빈값 대체 </b>\n",
    "   \n",
    "3. 'Mental Fatigue Score'는 타겟을 제외한 'Resource Allocation'과 가장 높은 상관관계; 0.8 <br>\n",
    "   <b> Strategy: 각 근무시간별 근무시간의 최빈값 대체 </b>\n",
    "\n",
    "*** 각 Feature의 결측치를 최빈값으로 대체하는 이유: 연속형 변수이지만 일정한 구간값을 가진 카테고리 속성을 가진 Features임을 고려하여 \n",
    "범주형 결측치 대체 전략인 최빈값을 사용 ***\n",
    "   "
   ]
  },
  {
   "cell_type": "code",
   "execution_count": 26,
   "id": "8e2972cb-317f-463b-b4b9-9de84c8727f6",
   "metadata": {},
   "outputs": [],
   "source": [
    "# 'Burn Rate' 열의 결측값이 있는 행 삭제\n",
    "burnout.dropna(subset=['Burn Rate'], inplace=True)"
   ]
  },
  {
   "cell_type": "code",
   "execution_count": 27,
   "id": "6c115507-493d-45c3-8854-d85d4e253aa8",
   "metadata": {
    "scrolled": true
   },
   "outputs": [
    {
     "name": "stdout",
     "output_type": "stream",
     "text": [
      "<class 'pandas.core.frame.DataFrame'>\n",
      "Index: 21626 entries, 0 to 22749\n",
      "Data columns (total 9 columns):\n",
      " #   Column                Non-Null Count  Dtype         \n",
      "---  ------                --------------  -----         \n",
      " 0   Employee ID           21626 non-null  object        \n",
      " 1   Date of Joining       21626 non-null  datetime64[ns]\n",
      " 2   Gender                21626 non-null  object        \n",
      " 3   Company Type          21626 non-null  object        \n",
      " 4   WFH Setup Available   21626 non-null  object        \n",
      " 5   Designation           21626 non-null  float64       \n",
      " 6   Resource Allocation   20348 non-null  float64       \n",
      " 7   Mental Fatigue Score  19681 non-null  float64       \n",
      " 8   Burn Rate             21626 non-null  float64       \n",
      "dtypes: datetime64[ns](1), float64(4), object(4)\n",
      "memory usage: 1.6+ MB\n"
     ]
    }
   ],
   "source": [
    "burnout.info()"
   ]
  },
  {
   "cell_type": "markdown",
   "id": "44b9e2a7-2407-4a48-a903-799959e6720c",
   "metadata": {},
   "source": [
    "### **3. Feature Engineering**"
   ]
  },
  {
   "cell_type": "markdown",
   "id": "8d7852fb-d4bd-4391-b730-12c5ae36e84d",
   "metadata": {},
   "source": [
    "#### 3-1. Handling Missing Values  파이프라인 결측치 처리 함수  "
   ]
  },
  {
   "cell_type": "code",
   "execution_count": 28,
   "id": "2ae4b031-6ae2-4a69-b1ff-c1988f22dfb7",
   "metadata": {},
   "outputs": [
    {
     "data": {
      "text/plain": [
       "<pandas.core.groupby.generic.SeriesGroupBy object at 0x000002A18777B220>"
      ]
     },
     "execution_count": 28,
     "metadata": {},
     "output_type": "execute_result"
    }
   ],
   "source": [
    "burnout.groupby('Designation')['Resource Allocation']"
   ]
  },
  {
   "cell_type": "code",
   "execution_count": 29,
   "id": "90263cc7-7e5a-46b8-969b-2175c918d006",
   "metadata": {},
   "outputs": [
    {
     "data": {
      "text/plain": [
       "Designation\n",
       "0.0    1.0\n",
       "1.0    3.0\n",
       "2.0    4.0\n",
       "3.0    6.0\n",
       "4.0    7.0\n",
       "5.0    9.0\n",
       "Name: Resource Allocation, dtype: float64"
      ]
     },
     "execution_count": 29,
     "metadata": {},
     "output_type": "execute_result"
    }
   ],
   "source": [
    "burnout.groupby('Designation')['Resource Allocation'].apply(lambda x: x.mode().iloc[0])"
   ]
  },
  {
   "cell_type": "code",
   "execution_count": 30,
   "id": "f997bac2-81f8-4a67-87ec-8e649ec44c19",
   "metadata": {},
   "outputs": [],
   "source": [
    "#전처리 파이프라인 함수 1.그룹별 최빈값 대체 \n",
    "def impute_groupby_mode(df, group, nan_feature):\n",
    "    # 그룹별 결측치 특성의 최빈값 계산\n",
    "    df_copy = df.copy()\n",
    "   \n",
    "    # 그룹별 결측치 특성의 평균 계산\n",
    "    impute_modes = burnout.groupby(group)[nan_feature].apply(lambda x: x.mode().iloc[0])\n",
    "\n",
    "    # nan_feature의 값에 결측치를 group에 따른 nan_feature 최빈값으로 대체\n",
    "    df_copy[nan_feature] = df_copy.apply(\n",
    "        lambda row: impute_modes[row[group]] if pd.isna(row[nan_feature]) else row[nan_feature],\n",
    "        axis=1\n",
    "    )\n",
    "    return df_copy"
   ]
  },
  {
   "cell_type": "code",
   "execution_count": 31,
   "id": "963550fa-e6fd-403d-9837-a788654a8afb",
   "metadata": {},
   "outputs": [
    {
     "data": {
      "text/plain": [
       "Employee ID                0\n",
       "Date of Joining            0\n",
       "Gender                     0\n",
       "Company Type               0\n",
       "WFH Setup Available        0\n",
       "Designation                0\n",
       "Resource Allocation        0\n",
       "Mental Fatigue Score    1945\n",
       "Burn Rate                  0\n",
       "dtype: int64"
      ]
     },
     "execution_count": 31,
     "metadata": {},
     "output_type": "execute_result"
    }
   ],
   "source": [
    "#시뮬레이션\n",
    "burnout_imputed = impute_groupby_mode(burnout, 'Designation', 'Resource Allocation')\n",
    "burnout_imputed.isna().sum()"
   ]
  },
  {
   "cell_type": "code",
   "execution_count": 32,
   "id": "faaa7f06-a47c-421b-9ee9-d09343366f31",
   "metadata": {},
   "outputs": [
    {
     "data": {
      "text/plain": [
       "Employee ID             0\n",
       "Date of Joining         0\n",
       "Gender                  0\n",
       "Company Type            0\n",
       "WFH Setup Available     0\n",
       "Designation             0\n",
       "Resource Allocation     0\n",
       "Mental Fatigue Score    0\n",
       "Burn Rate               0\n",
       "dtype: int64"
      ]
     },
     "execution_count": 32,
     "metadata": {},
     "output_type": "execute_result"
    }
   ],
   "source": [
    "#시뮬레이션\n",
    "burnout_imputed = impute_groupby_mode(burnout_imputed, 'Resource Allocation', 'Mental Fatigue Score')\n",
    "burnout_imputed.isna().sum()"
   ]
  },
  {
   "cell_type": "markdown",
   "id": "7c1d43a1-ffb6-4375-95c4-7fc5e0266d35",
   "metadata": {},
   "source": [
    "#### 3-2. Feature extraction - Date of Joining "
   ]
  },
  {
   "cell_type": "code",
   "execution_count": 443,
   "id": "7993705d-e3e8-4140-89fe-daae739a0e7b",
   "metadata": {},
   "outputs": [],
   "source": [
    "#근무시작일 특성을 현재 날짜를 기준으로 근속일수 피쳐 생성하기"
   ]
  },
  {
   "cell_type": "code",
   "execution_count": 33,
   "id": "edc16e6a-5730-411e-b44b-30707c22a750",
   "metadata": {},
   "outputs": [
    {
     "data": {
      "text/plain": [
       "count    21626.000000\n",
       "mean       183.638444\n",
       "std        105.383088\n",
       "min          1.000000\n",
       "25%         93.000000\n",
       "50%        183.000000\n",
       "75%        276.000000\n",
       "max        366.000000\n",
       "Name: RelativeDaysJoined, dtype: float64"
      ]
     },
     "execution_count": 33,
     "metadata": {},
     "output_type": "execute_result"
    }
   ],
   "source": [
    "#모든 데이터가 2018년도 데이터, 상대적인 일수 크기를 비교로 사용되는 변수이기 때문에 기준일자를 '2009-01-01'로 설정\n",
    "from datetime import datetime\n",
    "\n",
    "reference_date = datetime(2009, 1, 1)\n",
    "burnout['RelativeDaysJoined'] = (reference_date - burnout['Date of Joining']).dt.days\n",
    "burnout['RelativeDaysJoined'].describe()"
   ]
  },
  {
   "cell_type": "code",
   "execution_count": 34,
   "id": "39d69b3f-6c21-4d18-b0e9-bb1cecc39639",
   "metadata": {},
   "outputs": [
    {
     "data": {
      "text/html": [
       "<div>\n",
       "<style scoped>\n",
       "    .dataframe tbody tr th:only-of-type {\n",
       "        vertical-align: middle;\n",
       "    }\n",
       "\n",
       "    .dataframe tbody tr th {\n",
       "        vertical-align: top;\n",
       "    }\n",
       "\n",
       "    .dataframe thead th {\n",
       "        text-align: right;\n",
       "    }\n",
       "</style>\n",
       "<table border=\"1\" class=\"dataframe\">\n",
       "  <thead>\n",
       "    <tr style=\"text-align: right;\">\n",
       "      <th></th>\n",
       "      <th>Employee ID</th>\n",
       "      <th>Date of Joining</th>\n",
       "      <th>Gender</th>\n",
       "      <th>Company Type</th>\n",
       "      <th>WFH Setup Available</th>\n",
       "      <th>Designation</th>\n",
       "      <th>Resource Allocation</th>\n",
       "      <th>Mental Fatigue Score</th>\n",
       "      <th>Burn Rate</th>\n",
       "      <th>RelativeDaysJoined</th>\n",
       "    </tr>\n",
       "  </thead>\n",
       "  <tbody>\n",
       "    <tr>\n",
       "      <th>0</th>\n",
       "      <td>fffe32003000360033003200</td>\n",
       "      <td>2008-09-30</td>\n",
       "      <td>Female</td>\n",
       "      <td>Service</td>\n",
       "      <td>No</td>\n",
       "      <td>2.0</td>\n",
       "      <td>3.0</td>\n",
       "      <td>3.8</td>\n",
       "      <td>0.16</td>\n",
       "      <td>93</td>\n",
       "    </tr>\n",
       "    <tr>\n",
       "      <th>1</th>\n",
       "      <td>fffe3700360033003500</td>\n",
       "      <td>2008-11-30</td>\n",
       "      <td>Male</td>\n",
       "      <td>Service</td>\n",
       "      <td>Yes</td>\n",
       "      <td>1.0</td>\n",
       "      <td>2.0</td>\n",
       "      <td>5.0</td>\n",
       "      <td>0.36</td>\n",
       "      <td>32</td>\n",
       "    </tr>\n",
       "    <tr>\n",
       "      <th>2</th>\n",
       "      <td>fffe31003300320037003900</td>\n",
       "      <td>2008-03-10</td>\n",
       "      <td>Female</td>\n",
       "      <td>Product</td>\n",
       "      <td>Yes</td>\n",
       "      <td>2.0</td>\n",
       "      <td>NaN</td>\n",
       "      <td>5.8</td>\n",
       "      <td>0.49</td>\n",
       "      <td>297</td>\n",
       "    </tr>\n",
       "    <tr>\n",
       "      <th>3</th>\n",
       "      <td>fffe32003400380032003900</td>\n",
       "      <td>2008-11-03</td>\n",
       "      <td>Male</td>\n",
       "      <td>Service</td>\n",
       "      <td>Yes</td>\n",
       "      <td>1.0</td>\n",
       "      <td>1.0</td>\n",
       "      <td>2.6</td>\n",
       "      <td>0.20</td>\n",
       "      <td>59</td>\n",
       "    </tr>\n",
       "    <tr>\n",
       "      <th>4</th>\n",
       "      <td>fffe31003900340031003600</td>\n",
       "      <td>2008-07-24</td>\n",
       "      <td>Female</td>\n",
       "      <td>Service</td>\n",
       "      <td>No</td>\n",
       "      <td>3.0</td>\n",
       "      <td>7.0</td>\n",
       "      <td>6.9</td>\n",
       "      <td>0.52</td>\n",
       "      <td>161</td>\n",
       "    </tr>\n",
       "  </tbody>\n",
       "</table>\n",
       "</div>"
      ],
      "text/plain": [
       "                Employee ID Date of Joining  Gender Company Type  \\\n",
       "0  fffe32003000360033003200      2008-09-30  Female      Service   \n",
       "1      fffe3700360033003500      2008-11-30    Male      Service   \n",
       "2  fffe31003300320037003900      2008-03-10  Female      Product   \n",
       "3  fffe32003400380032003900      2008-11-03    Male      Service   \n",
       "4  fffe31003900340031003600      2008-07-24  Female      Service   \n",
       "\n",
       "  WFH Setup Available  Designation  Resource Allocation  Mental Fatigue Score  \\\n",
       "0                  No          2.0                  3.0                   3.8   \n",
       "1                 Yes          1.0                  2.0                   5.0   \n",
       "2                 Yes          2.0                  NaN                   5.8   \n",
       "3                 Yes          1.0                  1.0                   2.6   \n",
       "4                  No          3.0                  7.0                   6.9   \n",
       "\n",
       "   Burn Rate  RelativeDaysJoined  \n",
       "0       0.16                  93  \n",
       "1       0.36                  32  \n",
       "2       0.49                 297  \n",
       "3       0.20                  59  \n",
       "4       0.52                 161  "
      ]
     },
     "execution_count": 34,
     "metadata": {},
     "output_type": "execute_result"
    }
   ],
   "source": [
    "burnout.head()"
   ]
  },
  {
   "cell_type": "markdown",
   "id": "0fc0c63f-2e61-45fe-9f27-a7ebe451bf3b",
   "metadata": {},
   "source": [
    "#### 3-3. Target Binning \"Burn Rate\""
   ]
  },
  {
   "cell_type": "markdown",
   "id": "fb38713f-19ce-4695-a8fe-076c6c541898",
   "metadata": {},
   "source": [
    "* Burn Rate 생성하는 이유 <br>\n",
    ": *번아울 레벨로 범주화하여 직원의 번아웃 정도를 파악을 수월하고 관리에 편리하도록 <br>*\n",
    "to be 직원들이 번아웃 등급을 매겨 직관적으로 상태를 확인할 수 있다. <br>"
   ]
  },
  {
   "cell_type": "code",
   "execution_count": 258,
   "id": "9892f627-e417-44ec-b91f-b735f796489e",
   "metadata": {},
   "outputs": [
    {
     "name": "stdout",
     "output_type": "stream",
     "text": [
      "101\n"
     ]
    },
    {
     "data": {
      "text/plain": [
       "array([0.  , 0.01, 0.02, 0.03, 0.04, 0.05, 0.06, 0.07, 0.08, 0.09, 0.1 ,\n",
       "       0.11, 0.12, 0.13, 0.14, 0.15, 0.16, 0.17, 0.18, 0.19, 0.2 , 0.21,\n",
       "       0.22, 0.23, 0.24, 0.25, 0.26, 0.27, 0.28, 0.29, 0.3 , 0.31, 0.32,\n",
       "       0.33, 0.34, 0.35, 0.36, 0.37, 0.38, 0.39, 0.4 , 0.41, 0.42, 0.43,\n",
       "       0.44, 0.45, 0.46, 0.47, 0.48, 0.49, 0.5 , 0.51, 0.52, 0.53, 0.54,\n",
       "       0.55, 0.56, 0.57, 0.58, 0.59, 0.6 , 0.61, 0.62, 0.63, 0.64, 0.65,\n",
       "       0.66, 0.67, 0.68, 0.69, 0.7 , 0.71, 0.72, 0.73, 0.74, 0.75, 0.76,\n",
       "       0.77, 0.78, 0.79, 0.8 , 0.81, 0.82, 0.83, 0.84, 0.85, 0.86, 0.87,\n",
       "       0.88, 0.89, 0.9 , 0.91, 0.92, 0.93, 0.94, 0.95, 0.96, 0.97, 0.98,\n",
       "       0.99, 1.  ])"
      ]
     },
     "execution_count": 258,
     "metadata": {},
     "output_type": "execute_result"
    }
   ],
   "source": [
    "#'Burn Rate' 살펴보기\n",
    "\n",
    "#Burn Rate 구간 : 0.0~1.0 / 구간 크기 0.01씩 / 총 구간 : 101개\n",
    "BR = burnout['Burn Rate'].unique()\n",
    "print(len(BR)) \n",
    "np.sort(BR)"
   ]
  },
  {
   "cell_type": "code",
   "execution_count": 36,
   "id": "45f9d74c-817d-42b1-999a-9241a10d2485",
   "metadata": {},
   "outputs": [
    {
     "name": "stdout",
     "output_type": "stream",
     "text": [
      " bins = (11, [0.  0.1 0.2 0.3 0.4 0.5 0.6 0.7 0.8 0.9 1. ]), labels = (10, [ 1  2  3  4  5  6  7  8  9 10])\n"
     ]
    }
   ],
   "source": [
    "#Target(Burn Rate) 0.0~ 1.0까지 0.1씩 구간화 -> 모델 예측할 특성인 Burn Level 특성 생성\n",
    "bins = np.arange(0.0, 1.1, 0.1)\n",
    "labels = np.arange(1, 11, 1)\n",
    "print(f' bins = ({len(bins)}, {bins}), labels = ({len(labels)}, {labels})')"
   ]
  },
  {
   "cell_type": "markdown",
   "id": "13fe09ce-dd25-4392-9f77-553e228a7119",
   "metadata": {},
   "source": [
    "https://scikit-learn.org/stable/modules/generated/sklearn.preprocessing.KBinsDiscretizer.html#sklearn.preprocessing.KBinsDiscretizer"
   ]
  },
  {
   "cell_type": "code",
   "execution_count": 37,
   "id": "b2086acd-8f31-43c2-a97b-bd33455244b2",
   "metadata": {},
   "outputs": [
    {
     "data": {
      "text/plain": [
       "[2, 4, 5, 6, 3, 7, 10, 9, 8, 1]\n",
       "Categories (10, int32): [1 < 2 < 3 < 4 ... 7 < 8 < 9 < 10]"
      ]
     },
     "execution_count": 37,
     "metadata": {},
     "output_type": "execute_result"
    }
   ],
   "source": [
    "#Burn Level\n",
    "burnout['Burn Level'] = pd.cut(burnout['Burn Rate'], bins=bins, labels=labels, include_lowest=True, right=True)\n",
    "burnout['Burn Level'].unique()"
   ]
  },
  {
   "cell_type": "code",
   "execution_count": 39,
   "id": "1fae5837-9f77-4015-b1db-e25693d70dc0",
   "metadata": {},
   "outputs": [
    {
     "data": {
      "text/plain": [
       "0"
      ]
     },
     "execution_count": 39,
     "metadata": {},
     "output_type": "execute_result"
    }
   ],
   "source": [
    "#Burn Level 결측치 확인\n",
    "burnout['Burn Level'].isna().sum()"
   ]
  },
  {
   "cell_type": "markdown",
   "id": "271a1993-8a10-45f4-972c-162f07d5b8e7",
   "metadata": {},
   "source": [
    "### Classification Model - Key features and target variable"
   ]
  },
  {
   "cell_type": "code",
   "execution_count": 40,
   "id": "fe36a9f6-df46-4454-9626-f03b5781e596",
   "metadata": {},
   "outputs": [
    {
     "data": {
      "text/plain": [
       "['RelativeDaysJoined',\n",
       " 'Gender',\n",
       " 'Company Type',\n",
       " 'WFH Setup Available',\n",
       " 'Designation',\n",
       " 'Resource Allocation',\n",
       " 'Mental Fatigue Score']"
      ]
     },
     "execution_count": 40,
     "metadata": {},
     "output_type": "execute_result"
    }
   ],
   "source": [
    "target = 'Burn Level'\n",
    "\n",
    "#고유 식별자 컬럼 Employee ID features 제외\n",
    "# Exclude the Employee ID column, considered as a unique identifier.\n",
    "features = ['RelativeDaysJoined', 'Gender', 'Company Type','WFH Setup Available','Designation', 'Resource Allocation', 'Mental Fatigue Score']\n",
    "features"
   ]
  },
  {
   "cell_type": "markdown",
   "id": "87181a7f-3b66-48e5-9e78-8e3cc923cf1f",
   "metadata": {},
   "source": [
    "## **4. Split train data / vaild data**"
   ]
  },
  {
   "cell_type": "code",
   "execution_count": 46,
   "id": "09530743-fc3e-4d41-bd7a-80626df0cd60",
   "metadata": {},
   "outputs": [],
   "source": [
    "from sklearn.model_selection import train_test_split\n",
    "\n",
    "#레이블을 기준으로 계층적 샘플링. 학습용과 검증용 데이터셋에서 각 레이블의 분포가 유지\n",
    "train_X , valid_X, train_y, valid_y = \\\n",
    "train_test_split(burnout[features], burnout[target], test_size=0.2, random_state=42, stratify=burnout[target])"
   ]
  },
  {
   "cell_type": "code",
   "execution_count": 47,
   "id": "5ff2cafb-c7e1-4605-aae0-779af3ecd2c1",
   "metadata": {},
   "outputs": [
    {
     "name": "stdout",
     "output_type": "stream",
     "text": [
      "train_X = (17300, 7), valid_X =(4326, 7)\n"
     ]
    },
    {
     "data": {
      "text/plain": [
       "pandas.core.frame.DataFrame"
      ]
     },
     "execution_count": 47,
     "metadata": {},
     "output_type": "execute_result"
    }
   ],
   "source": [
    "#X-DataFrame\n",
    "print(f'train_X = {train_X.shape}, valid_X ={valid_X.shape}')\n",
    "type(train_X)"
   ]
  },
  {
   "cell_type": "code",
   "execution_count": 48,
   "id": "1986d654-5f9c-4eb6-8e3d-617ae1a1e9f2",
   "metadata": {},
   "outputs": [
    {
     "name": "stdout",
     "output_type": "stream",
     "text": [
      "train_y = (17300,), valid_y =(4326,)\n"
     ]
    },
    {
     "data": {
      "text/plain": [
       "pandas.core.series.Series"
      ]
     },
     "execution_count": 48,
     "metadata": {},
     "output_type": "execute_result"
    }
   ],
   "source": [
    "#y-Series\n",
    "print(f'train_y = {train_y.shape}, valid_y ={valid_y.shape}')\n",
    "type(train_y)"
   ]
  },
  {
   "cell_type": "markdown",
   "id": "7ffd4903-246a-4adc-9668-3b2206b6000b",
   "metadata": {},
   "source": [
    "#### **클래스(label) 분포 확인** "
   ]
  },
  {
   "cell_type": "code",
   "execution_count": 41,
   "id": "99b95b36-ff7b-4a23-a9fc-f18699fb5f1c",
   "metadata": {},
   "outputs": [
    {
     "data": {
      "text/plain": [
       "Burn Level\n",
       "1      922\n",
       "2     1475\n",
       "3     2692\n",
       "4     3732\n",
       "5     4205\n",
       "6     3791\n",
       "7     2611\n",
       "8     1360\n",
       "9      579\n",
       "10     259\n",
       "Name: count, dtype: int64"
      ]
     },
     "execution_count": 41,
     "metadata": {},
     "output_type": "execute_result"
    }
   ],
   "source": [
    "#전체 데이터셋 클래스 분포\n",
    "burnout['Burn Level'].value_counts().sort_index()"
   ]
  },
  {
   "cell_type": "code",
   "execution_count": 42,
   "id": "889b3b0a-526d-4815-8342-913baa85afda",
   "metadata": {},
   "outputs": [
    {
     "data": {
      "text/plain": [
       "min     259\n",
       "max    4205\n",
       "Name: count, dtype: int64"
      ]
     },
     "execution_count": 42,
     "metadata": {},
     "output_type": "execute_result"
    }
   ],
   "source": [
    "burnout['Burn Level'].value_counts().agg(['min', 'max'])"
   ]
  },
  {
   "cell_type": "markdown",
   "id": "295520b7-f4ff-4ade-940c-caa651d835d9",
   "metadata": {},
   "source": [
    "-> 클래스의 불균형을 가진다."
   ]
  },
  {
   "cell_type": "code",
   "execution_count": 61,
   "id": "ab8539a3-77a6-4008-a304-cff4f353ff84",
   "metadata": {},
   "outputs": [
    {
     "data": {
      "image/png": "[encoded data removed]",
      "text/plain": [
       "<Figure size 700x400 with 1 Axes>"
      ]
     },
     "metadata": {},
     "output_type": "display_data"
    }
   ],
   "source": [
    "#전체 데이터셋(burnout) - 클래스 분포 \n",
    "\n",
    "import seaborn as sns\n",
    "import matplotlib.pyplot as plt\n",
    "\n",
    "plt.figure(figsize=(7,4))\n",
    "sns.countplot(x='Burn Level', data=burnout)  \n",
    "plt.show()"
   ]
  },
  {
   "cell_type": "code",
   "execution_count": 52,
   "id": "a5bcb5c3-38fa-4fd7-a931-4955ea02a605",
   "metadata": {},
   "outputs": [],
   "source": [
    "train_y_df = pd.DataFrame(train_y, columns=['Burn Level'])\n",
    "vaild_y_df = pd.DataFrame(valid_y, columns=['Burn Level'])"
   ]
  },
  {
   "cell_type": "code",
   "execution_count": 66,
   "id": "316b1c64-fde2-4669-bed7-4d9ed2d4ae73",
   "metadata": {},
   "outputs": [
    {
     "data": {
      "image/png": "[encoded data removed]",
      "text/plain": [
       "<Figure size 500x400 with 1 Axes>"
      ]
     },
     "metadata": {},
     "output_type": "display_data"
    }
   ],
   "source": [
    "#훈련 데이터셋(train_y) - 클래스 분포 \n",
    "plt.figure(figsize=(5,4))\n",
    "sns.countplot(data=train_y_df, x='Burn Level')  \n",
    "plt.show()"
   ]
  },
  {
   "cell_type": "code",
   "execution_count": 67,
   "id": "62d58a4e-3e99-4e14-af49-bc52a8c3c712",
   "metadata": {},
   "outputs": [
    {
     "data": {
      "image/png": "[encoded data removed]",
      "text/plain": [
       "<Figure size 500x400 with 1 Axes>"
      ]
     },
     "metadata": {},
     "output_type": "display_data"
    }
   ],
   "source": [
    "#검증 데이터셋(valid_y) - 클래스 분포 \n",
    "\n",
    "plt.figure(figsize=(5,4))\n",
    "sns.countplot(data=vaild_y_df, x='Burn Level')  \n",
    "plt.show()"
   ]
  },
  {
   "cell_type": "markdown",
   "id": "a9fd1bc3-533b-4a35-93f7-67e59de57dbf",
   "metadata": {},
   "source": [
    "## **Class imbalance 클래스 불균형** "
   ]
  },
  {
   "cell_type": "markdown",
   "id": "c8327089-f7f9-45ce-acef-93f8ee43a1b7",
   "metadata": {},
   "source": [
    "<div class=\"alert alert-block alert-info\">\n",
    "<b> Cost Sensitive Learning을 활용한 데이터 불균형 문제 해결하기 <br>\n",
    " </b> \n",
    " <br>\n",
    "데이터 자체를 생성하지 않지만 머신러닝 학습할 때 소수의 클래스에 대한 cost값에 가중치를 더 많이 주어 균형 잡힌 학습이 가능하게 하는 방법 <br>\n",
    "Weight balancing 라고도 하며,Class 수가 2:8로 이루어져있다면, loss에 대해 Weight 가중치를 8:2로 설정하여 학습하는 방법이다.\r\n",
    "\n",
    "    \n",
    "</div>"
   ]
  },
  {
   "cell_type": "code",
   "execution_count": 226,
   "id": "f1559e2a-a7a8-422c-a6e7-393b91e96f00",
   "metadata": {},
   "outputs": [],
   "source": [
    "def print_class_count_ratio(labels):\n",
    "    \"\"\"\n",
    "    데이터셋에서 클래스 갯수와 비율을 출력하는 함수 \n",
    "\n",
    "    Parameters:\n",
    "    - labels: 클래스 레이블이 담긴 배열\n",
    "    \n",
    "    Returns:\n",
    "    - None (출력만 수행)\n",
    "\n",
    "    \"\"\"\n",
    "    unique_classes, class_counts = np.unique(labels, return_counts=True)\n",
    "    total_samples = len(labels)\n",
    "\n",
    "    print(\"클래스\\t갯수\\t비중\")\n",
    "    for class_label, count in zip(unique_classes, class_counts):\n",
    "        class_weight = count / total_samples\n",
    "        print(f\"{class_label}\\t{count}\\t{class_weight:.2f}\")\n"
   ]
  },
  {
   "cell_type": "code",
   "execution_count": 227,
   "id": "131e5eaf-5bbf-4c31-8db2-064894618acc",
   "metadata": {},
   "outputs": [
    {
     "name": "stdout",
     "output_type": "stream",
     "text": [
      "클래스\t갯수\t비중\n",
      "0\t738\t0.04\n",
      "1\t1180\t0.07\n",
      "2\t2153\t0.12\n",
      "3\t2985\t0.17\n",
      "4\t3364\t0.19\n",
      "5\t3033\t0.18\n",
      "6\t2089\t0.12\n",
      "7\t1088\t0.06\n",
      "8\t463\t0.03\n",
      "9\t207\t0.01\n"
     ]
    }
   ],
   "source": [
    "print_class_count_ratio(train_y)"
   ]
  },
  {
   "cell_type": "code",
   "execution_count": 228,
   "id": "49d6ebdc-6e44-454c-81c1-6cf484a95aa1",
   "metadata": {},
   "outputs": [
    {
     "name": "stdout",
     "output_type": "stream",
     "text": [
      "클래스\t갯수\t비중\n",
      "0\t184\t0.04\n",
      "1\t295\t0.07\n",
      "2\t539\t0.12\n",
      "3\t747\t0.17\n",
      "4\t841\t0.19\n",
      "5\t758\t0.18\n",
      "6\t522\t0.12\n",
      "7\t272\t0.06\n",
      "8\t116\t0.03\n",
      "9\t52\t0.01\n"
     ]
    }
   ],
   "source": [
    "print_class_count_ratio(valid_y)"
   ]
  },
  {
   "cell_type": "code",
   "execution_count": 222,
   "id": "653ec968-66b7-40fb-86cf-4b9449e861cc",
   "metadata": {},
   "outputs": [],
   "source": [
    "def calculate_class_weights(labels):\n",
    "    \"\"\"\n",
    "    데이터셋에서 클래스 가중치를 계산하는 함수 \n",
    "    \n",
    "    Parameters:\n",
    "    - labels: 클래스 레이블이 담긴 배열\n",
    "\n",
    "    Returns:\n",
    "    - class_weights: 각 클래스에 대한 가중치 딕셔너리\n",
    "    \"\"\"\n",
    "    total_samples = len(labels)\n",
    "    #각 클래스와 클래스의 갯수\n",
    "    unique_classes, class_counts = np.unique(labels, return_counts=True)\n",
    "\n",
    "    class_weights = {}\n",
    "    for class_label, count in zip(unique_classes, class_counts):\n",
    "        class_weights[class_label] = total_samples / (len(unique_classes) * count)\n",
    "\n",
    "    return class_weights"
   ]
  },
  {
   "cell_type": "code",
   "execution_count": 237,
   "id": "084dd549-bb11-4a55-9ed4-98eac9323873",
   "metadata": {},
   "outputs": [
    {
     "data": {
      "text/plain": [
       "{0: 2.3441734417344176,\n",
       " 1: 1.4661016949152543,\n",
       " 2: 0.8035299581978634,\n",
       " 3: 0.5795644891122278,\n",
       " 4: 0.514268727705113,\n",
       " 5: 0.5703923508077811,\n",
       " 6: 0.8281474389660124,\n",
       " 7: 1.5900735294117647,\n",
       " 8: 3.736501079913607,\n",
       " 9: 8.357487922705314}"
      ]
     },
     "execution_count": 237,
     "metadata": {},
     "output_type": "execute_result"
    }
   ],
   "source": [
    "#모델 학습시 사용할 클래스 가중치 \n",
    "weights = calculate_class_weights(train_y)\n",
    "weights"
   ]
  },
  {
   "cell_type": "markdown",
   "id": "442d016e-08b6-45c0-b40d-7923b23396c5",
   "metadata": {},
   "source": [
    "#### 랜덤 포레스트 모델 적용"
   ]
  },
  {
   "cell_type": "code",
   "execution_count": 250,
   "id": "86c1ccdb-6c97-487c-8733-9cd4adb455c8",
   "metadata": {},
   "outputs": [],
   "source": [
    "#최적의 파라미터 - best model \n",
    "#특성 1개 제거 \n",
    "\n",
    "#best params = {'model__max_depth': 7, 'model__min_samples_leaf': 15, 'model__min_samples_split': 12, 'model__n_estimators': 81}\n",
    "\n",
    "RFCmodel_pipeline_weights = Pipeline([\n",
    "    ('imputer_na', impute_NA_pipeline),\n",
    "    ('preprocessing', preprocessor),\n",
    "    ('model', RandomForestClassifier(max_depth=7, min_samples_leaf=15, min_samples_split=12, n_estimators=81, random_state=42, class_weight=weights))\n",
    "])"
   ]
  },
  {
   "cell_type": "code",
   "execution_count": 251,
   "id": "a1611994-f7b2-4ec6-af30-b73328f07026",
   "metadata": {},
   "outputs": [
    {
     "data": {
      "text/html": [
       "<style>#sk-container-id-21 {color: black;}#sk-container-id-21 pre{padding: 0;}#sk-container-id-21 div.sk-toggleable {background-color: white;}#sk-container-id-21 label.sk-toggleable__label {cursor: pointer;display: block;width: 100%;margin-bottom: 0;padding: 0.3em;box-sizing: border-box;text-align: center;}#sk-container-id-21 label.sk-toggleable__label-arrow:before {content: \"▸\";float: left;margin-right: 0.25em;color: #696969;}#sk-container-id-21 label.sk-toggleable__label-arrow:hover:before {color: black;}#sk-container-id-21 div.sk-estimator:hover label.sk-toggleable__label-arrow:before {color: black;}#sk-container-id-21 div.sk-toggleable__content {max-height: 0;max-width: 0;overflow: hidden;text-align: left;background-color: #f0f8ff;}#sk-container-id-21 div.sk-toggleable__content pre {margin: 0.2em;color: black;border-radius: 0.25em;background-color: #f0f8ff;}#sk-container-id-21 input.sk-toggleable__control:checked~div.sk-toggleable__content {max-height: 200px;max-width: 100%;overflow: auto;}#sk-container-id-21 input.sk-toggleable__control:checked~label.sk-toggleable__label-arrow:before {content: \"▾\";}#sk-container-id-21 div.sk-estimator input.sk-toggleable__control:checked~label.sk-toggleable__label {background-color: #d4ebff;}#sk-container-id-21 div.sk-label input.sk-toggleable__control:checked~label.sk-toggleable__label {background-color: #d4ebff;}#sk-container-id-21 input.sk-hidden--visually {border: 0;clip: rect(1px 1px 1px 1px);clip: rect(1px, 1px, 1px, 1px);height: 1px;margin: -1px;overflow: hidden;padding: 0;position: absolute;width: 1px;}#sk-container-id-21 div.sk-estimator {font-family: monospace;background-color: #f0f8ff;border: 1px dotted black;border-radius: 0.25em;box-sizing: border-box;margin-bottom: 0.5em;}#sk-container-id-21 div.sk-estimator:hover {background-color: #d4ebff;}#sk-container-id-21 div.sk-parallel-item::after {content: \"\";width: 100%;border-bottom: 1px solid gray;flex-grow: 1;}#sk-container-id-21 div.sk-label:hover label.sk-toggleable__label {background-color: #d4ebff;}#sk-container-id-21 div.sk-serial::before {content: \"\";position: absolute;border-left: 1px solid gray;box-sizing: border-box;top: 0;bottom: 0;left: 50%;z-index: 0;}#sk-container-id-21 div.sk-serial {display: flex;flex-direction: column;align-items: center;background-color: white;padding-right: 0.2em;padding-left: 0.2em;position: relative;}#sk-container-id-21 div.sk-item {position: relative;z-index: 1;}#sk-container-id-21 div.sk-parallel {display: flex;align-items: stretch;justify-content: center;background-color: white;position: relative;}#sk-container-id-21 div.sk-item::before, #sk-container-id-21 div.sk-parallel-item::before {content: \"\";position: absolute;border-left: 1px solid gray;box-sizing: border-box;top: 0;bottom: 0;left: 50%;z-index: -1;}#sk-container-id-21 div.sk-parallel-item {display: flex;flex-direction: column;z-index: 1;position: relative;background-color: white;}#sk-container-id-21 div.sk-parallel-item:first-child::after {align-self: flex-end;width: 50%;}#sk-container-id-21 div.sk-parallel-item:last-child::after {align-self: flex-start;width: 50%;}#sk-container-id-21 div.sk-parallel-item:only-child::after {width: 0;}#sk-container-id-21 div.sk-dashed-wrapped {border: 1px dashed gray;margin: 0 0.4em 0.5em 0.4em;box-sizing: border-box;padding-bottom: 0.4em;background-color: white;}#sk-container-id-21 div.sk-label label {font-family: monospace;font-weight: bold;display: inline-block;line-height: 1.2em;}#sk-container-id-21 div.sk-label-container {text-align: center;}#sk-container-id-21 div.sk-container {/* jupyter's `normalize.less` sets `[hidden] { display: none; }` but bootstrap.min.css set `[hidden] { display: none !important; }` so we also need the `!important` here to be able to override the default hidden behavior on the sphinx rendered scikit-learn.org. See: https://github.com/scikit-learn/scikit-learn/issues/21755 */display: inline-block !important;position: relative;}#sk-container-id-21 div.sk-text-repr-fallback {display: none;}</style><div id=\"sk-container-id-21\" class=\"sk-top-container\"><div class=\"sk-text-repr-fallback\"><pre>Pipeline(steps=[(&#x27;imputer_na&#x27;,\n",
       "                 Pipeline(steps=[(&#x27;impute_RA&#x27;,\n",
       "                                  ImputeGroupbyMode(group=&#x27;Designation&#x27;,\n",
       "                                                    nan_feature=&#x27;Resource &#x27;\n",
       "                                                                &#x27;Allocation&#x27;)),\n",
       "                                 (&#x27;impute_MF&#x27;,\n",
       "                                  ImputeGroupbyMode(group=&#x27;Resource Allocation&#x27;,\n",
       "                                                    nan_feature=&#x27;Mental &#x27;\n",
       "                                                                &#x27;Fatigue &#x27;\n",
       "                                                                &#x27;Score&#x27;))])),\n",
       "                (&#x27;preprocessing&#x27;,\n",
       "                 ColumnTransformer(transformers=[(&#x27;num&#x27;, StandardScaler(),\n",
       "                                                  [&#x27;RelativeDaysJoined&#x27;,\n",
       "                                                   &#x27;Designation&#x27;,\n",
       "                                                   &#x27;Mental...\n",
       "                                                   &#x27;WFH Setup Available&#x27;])])),\n",
       "                (&#x27;model&#x27;,\n",
       "                 RandomForestClassifier(class_weight={0: 2.3441734417344176,\n",
       "                                                      1: 1.4661016949152543,\n",
       "                                                      2: 0.8035299581978634,\n",
       "                                                      3: 0.5795644891122278,\n",
       "                                                      4: 0.514268727705113,\n",
       "                                                      5: 0.5703923508077811,\n",
       "                                                      6: 0.8281474389660124,\n",
       "                                                      7: 1.5900735294117647,\n",
       "                                                      8: 3.736501079913607,\n",
       "                                                      9: 8.357487922705314},\n",
       "                                        max_depth=7, min_samples_leaf=15,\n",
       "                                        min_samples_split=12, n_estimators=81,\n",
       "                                        random_state=42))])</pre><b>In a Jupyter environment, please rerun this cell to show the HTML representation or trust the notebook. <br />On GitHub, the HTML representation is unable to render, please try loading this page with nbviewer.org.</b></div><div class=\"sk-container\" hidden><div class=\"sk-item sk-dashed-wrapped\"><div class=\"sk-label-container\"><div class=\"sk-label sk-toggleable\"><input class=\"sk-toggleable__control sk-hidden--visually\" id=\"sk-estimator-id-160\" type=\"checkbox\" ><label for=\"sk-estimator-id-160\" class=\"sk-toggleable__label sk-toggleable__label-arrow\">Pipeline</label><div class=\"sk-toggleable__content\"><pre>Pipeline(steps=[(&#x27;imputer_na&#x27;,\n",
       "                 Pipeline(steps=[(&#x27;impute_RA&#x27;,\n",
       "                                  ImputeGroupbyMode(group=&#x27;Designation&#x27;,\n",
       "                                                    nan_feature=&#x27;Resource &#x27;\n",
       "                                                                &#x27;Allocation&#x27;)),\n",
       "                                 (&#x27;impute_MF&#x27;,\n",
       "                                  ImputeGroupbyMode(group=&#x27;Resource Allocation&#x27;,\n",
       "                                                    nan_feature=&#x27;Mental &#x27;\n",
       "                                                                &#x27;Fatigue &#x27;\n",
       "                                                                &#x27;Score&#x27;))])),\n",
       "                (&#x27;preprocessing&#x27;,\n",
       "                 ColumnTransformer(transformers=[(&#x27;num&#x27;, StandardScaler(),\n",
       "                                                  [&#x27;RelativeDaysJoined&#x27;,\n",
       "                                                   &#x27;Designation&#x27;,\n",
       "                                                   &#x27;Mental...\n",
       "                                                   &#x27;WFH Setup Available&#x27;])])),\n",
       "                (&#x27;model&#x27;,\n",
       "                 RandomForestClassifier(class_weight={0: 2.3441734417344176,\n",
       "                                                      1: 1.4661016949152543,\n",
       "                                                      2: 0.8035299581978634,\n",
       "                                                      3: 0.5795644891122278,\n",
       "                                                      4: 0.514268727705113,\n",
       "                                                      5: 0.5703923508077811,\n",
       "                                                      6: 0.8281474389660124,\n",
       "                                                      7: 1.5900735294117647,\n",
       "                                                      8: 3.736501079913607,\n",
       "                                                      9: 8.357487922705314},\n",
       "                                        max_depth=7, min_samples_leaf=15,\n",
       "                                        min_samples_split=12, n_estimators=81,\n",
       "                                        random_state=42))])</pre></div></div></div><div class=\"sk-serial\"><div class=\"sk-item\"><div class=\"sk-label-container\"><div class=\"sk-label sk-toggleable\"><input class=\"sk-toggleable__control sk-hidden--visually\" id=\"sk-estimator-id-161\" type=\"checkbox\" ><label for=\"sk-estimator-id-161\" class=\"sk-toggleable__label sk-toggleable__label-arrow\">imputer_na: Pipeline</label><div class=\"sk-toggleable__content\"><pre>Pipeline(steps=[(&#x27;impute_RA&#x27;,\n",
       "                 ImputeGroupbyMode(group=&#x27;Designation&#x27;,\n",
       "                                   nan_feature=&#x27;Resource Allocation&#x27;)),\n",
       "                (&#x27;impute_MF&#x27;,\n",
       "                 ImputeGroupbyMode(group=&#x27;Resource Allocation&#x27;,\n",
       "                                   nan_feature=&#x27;Mental Fatigue Score&#x27;))])</pre></div></div></div><div class=\"sk-serial\"><div class=\"sk-item\"><div class=\"sk-estimator sk-toggleable\"><input class=\"sk-toggleable__control sk-hidden--visually\" id=\"sk-estimator-id-162\" type=\"checkbox\" ><label for=\"sk-estimator-id-162\" class=\"sk-toggleable__label sk-toggleable__label-arrow\">ImputeGroupbyMode</label><div class=\"sk-toggleable__content\"><pre>ImputeGroupbyMode(group=&#x27;Designation&#x27;, nan_feature=&#x27;Resource Allocation&#x27;)</pre></div></div></div><div class=\"sk-item\"><div class=\"sk-estimator sk-toggleable\"><input class=\"sk-toggleable__control sk-hidden--visually\" id=\"sk-estimator-id-163\" type=\"checkbox\" ><label for=\"sk-estimator-id-163\" class=\"sk-toggleable__label sk-toggleable__label-arrow\">ImputeGroupbyMode</label><div class=\"sk-toggleable__content\"><pre>ImputeGroupbyMode(group=&#x27;Resource Allocation&#x27;,\n",
       "                  nan_feature=&#x27;Mental Fatigue Score&#x27;)</pre></div></div></div></div></div><div class=\"sk-item sk-dashed-wrapped\"><div class=\"sk-label-container\"><div class=\"sk-label sk-toggleable\"><input class=\"sk-toggleable__control sk-hidden--visually\" id=\"sk-estimator-id-164\" type=\"checkbox\" ><label for=\"sk-estimator-id-164\" class=\"sk-toggleable__label sk-toggleable__label-arrow\">preprocessing: ColumnTransformer</label><div class=\"sk-toggleable__content\"><pre>ColumnTransformer(transformers=[(&#x27;num&#x27;, StandardScaler(),\n",
       "                                 [&#x27;RelativeDaysJoined&#x27;, &#x27;Designation&#x27;,\n",
       "                                  &#x27;Mental Fatigue Score&#x27;]),\n",
       "                                (&#x27;cat&#x27;, OneHotEncoder(),\n",
       "                                 [&#x27;Gender&#x27;, &#x27;Company Type&#x27;,\n",
       "                                  &#x27;WFH Setup Available&#x27;])])</pre></div></div></div><div class=\"sk-parallel\"><div class=\"sk-parallel-item\"><div class=\"sk-item\"><div class=\"sk-label-container\"><div class=\"sk-label sk-toggleable\"><input class=\"sk-toggleable__control sk-hidden--visually\" id=\"sk-estimator-id-165\" type=\"checkbox\" ><label for=\"sk-estimator-id-165\" class=\"sk-toggleable__label sk-toggleable__label-arrow\">num</label><div class=\"sk-toggleable__content\"><pre>[&#x27;RelativeDaysJoined&#x27;, &#x27;Designation&#x27;, &#x27;Mental Fatigue Score&#x27;]</pre></div></div></div><div class=\"sk-serial\"><div class=\"sk-item\"><div class=\"sk-estimator sk-toggleable\"><input class=\"sk-toggleable__control sk-hidden--visually\" id=\"sk-estimator-id-166\" type=\"checkbox\" ><label for=\"sk-estimator-id-166\" class=\"sk-toggleable__label sk-toggleable__label-arrow\">StandardScaler</label><div class=\"sk-toggleable__content\"><pre>StandardScaler()</pre></div></div></div></div></div></div><div class=\"sk-parallel-item\"><div class=\"sk-item\"><div class=\"sk-label-container\"><div class=\"sk-label sk-toggleable\"><input class=\"sk-toggleable__control sk-hidden--visually\" id=\"sk-estimator-id-167\" type=\"checkbox\" ><label for=\"sk-estimator-id-167\" class=\"sk-toggleable__label sk-toggleable__label-arrow\">cat</label><div class=\"sk-toggleable__content\"><pre>[&#x27;Gender&#x27;, &#x27;Company Type&#x27;, &#x27;WFH Setup Available&#x27;]</pre></div></div></div><div class=\"sk-serial\"><div class=\"sk-item\"><div class=\"sk-estimator sk-toggleable\"><input class=\"sk-toggleable__control sk-hidden--visually\" id=\"sk-estimator-id-168\" type=\"checkbox\" ><label for=\"sk-estimator-id-168\" class=\"sk-toggleable__label sk-toggleable__label-arrow\">OneHotEncoder</label><div class=\"sk-toggleable__content\"><pre>OneHotEncoder()</pre></div></div></div></div></div></div></div></div><div class=\"sk-item\"><div class=\"sk-estimator sk-toggleable\"><input class=\"sk-toggleable__control sk-hidden--visually\" id=\"sk-estimator-id-169\" type=\"checkbox\" ><label for=\"sk-estimator-id-169\" class=\"sk-toggleable__label sk-toggleable__label-arrow\">RandomForestClassifier</label><div class=\"sk-toggleable__content\"><pre>RandomForestClassifier(class_weight={0: 2.3441734417344176,\n",
       "                                     1: 1.4661016949152543,\n",
       "                                     2: 0.8035299581978634,\n",
       "                                     3: 0.5795644891122278,\n",
       "                                     4: 0.514268727705113,\n",
       "                                     5: 0.5703923508077811,\n",
       "                                     6: 0.8281474389660124,\n",
       "                                     7: 1.5900735294117647,\n",
       "                                     8: 3.736501079913607,\n",
       "                                     9: 8.357487922705314},\n",
       "                       max_depth=7, min_samples_leaf=15, min_samples_split=12,\n",
       "                       n_estimators=81, random_state=42)</pre></div></div></div></div></div></div></div>"
      ],
      "text/plain": [
       "Pipeline(steps=[('imputer_na',\n",
       "                 Pipeline(steps=[('impute_RA',\n",
       "                                  ImputeGroupbyMode(group='Designation',\n",
       "                                                    nan_feature='Resource '\n",
       "                                                                'Allocation')),\n",
       "                                 ('impute_MF',\n",
       "                                  ImputeGroupbyMode(group='Resource Allocation',\n",
       "                                                    nan_feature='Mental '\n",
       "                                                                'Fatigue '\n",
       "                                                                'Score'))])),\n",
       "                ('preprocessing',\n",
       "                 ColumnTransformer(transformers=[('num', StandardScaler(),\n",
       "                                                  ['RelativeDaysJoined',\n",
       "                                                   'Designation',\n",
       "                                                   'Mental...\n",
       "                                                   'WFH Setup Available'])])),\n",
       "                ('model',\n",
       "                 RandomForestClassifier(class_weight={0: 2.3441734417344176,\n",
       "                                                      1: 1.4661016949152543,\n",
       "                                                      2: 0.8035299581978634,\n",
       "                                                      3: 0.5795644891122278,\n",
       "                                                      4: 0.514268727705113,\n",
       "                                                      5: 0.5703923508077811,\n",
       "                                                      6: 0.8281474389660124,\n",
       "                                                      7: 1.5900735294117647,\n",
       "                                                      8: 3.736501079913607,\n",
       "                                                      9: 8.357487922705314},\n",
       "                                        max_depth=7, min_samples_leaf=15,\n",
       "                                        min_samples_split=12, n_estimators=81,\n",
       "                                        random_state=42))])"
      ]
     },
     "execution_count": 251,
     "metadata": {},
     "output_type": "execute_result"
    }
   ],
   "source": [
    "RFCmodel_pipeline_weights.fit(train_X, train_y)"
   ]
  },
  {
   "cell_type": "code",
   "execution_count": 252,
   "id": "2abbc5f3-7da4-4f23-a9da-61a2b2b34c67",
   "metadata": {},
   "outputs": [
    {
     "data": {
      "text/plain": [
       "0.536878612716763"
      ]
     },
     "execution_count": 252,
     "metadata": {},
     "output_type": "execute_result"
    }
   ],
   "source": [
    "RFCmodel_pipeline_weights.score(train_X, train_y)"
   ]
  },
  {
   "cell_type": "code",
   "execution_count": 253,
   "id": "ed177631-b1a5-4e92-bb20-ce8c2d302cb0",
   "metadata": {},
   "outputs": [
    {
     "data": {
      "text/plain": [
       "0.49167822468793343"
      ]
     },
     "execution_count": 253,
     "metadata": {},
     "output_type": "execute_result"
    }
   ],
   "source": [
    "RFCmodel_pipeline_weights.score(valid_X, valid_y)"
   ]
  },
  {
   "cell_type": "code",
   "execution_count": 254,
   "id": "826b13fd-884e-457c-96b1-35212f988624",
   "metadata": {},
   "outputs": [
    {
     "name": "stdout",
     "output_type": "stream",
     "text": [
      "Accuracy: 0.5369\n",
      "Precision: 0.5392\n",
      "Recall: 0.5369\n",
      "F1 Score: 0.5357\n",
      "Log Loss: 1.1539\n",
      "Confusion Matrix:\n",
      "[[ 619  101   13    5    0    0    0    0    0    0]\n",
      " [ 145  747  263   24    1    0    0    0    0    0]\n",
      " [  32  336 1323  413   47    2    0    0    0    0]\n",
      " [   0    8  713 1378  701  172   13    0    0    0]\n",
      " [   0    0   63  730 1885  635   49    2    0    0]\n",
      " [   0    0    1   75  526 1605  613  208    5    0]\n",
      " [   0    0    0    9  151  455  817  540  117    0]\n",
      " [   0    0    0    1    6   47  207  513  262   52]\n",
      " [   0    0    0    0    0    2   10   84  227  140]\n",
      " [   0    0    0    0    0    0    1    3   29  174]]\n",
      "Classification Report:\n",
      "              precision    recall  f1-score   support\n",
      "\n",
      "           0       0.78      0.84      0.81       738\n",
      "           1       0.63      0.63      0.63      1180\n",
      "           2       0.56      0.61      0.58      2153\n",
      "           3       0.52      0.46      0.49      2985\n",
      "           4       0.57      0.56      0.56      3364\n",
      "           5       0.55      0.53      0.54      3033\n",
      "           6       0.48      0.39      0.43      2089\n",
      "           7       0.38      0.47      0.42      1088\n",
      "           8       0.35      0.49      0.41       463\n",
      "           9       0.48      0.84      0.61       207\n",
      "\n",
      "    accuracy                           0.54     17300\n",
      "   macro avg       0.53      0.58      0.55     17300\n",
      "weighted avg       0.54      0.54      0.54     17300\n",
      "\n"
     ]
    }
   ],
   "source": [
    "train_pred = RFCmodel_pipeline_weights.predict(train_X)\n",
    "train_pred_proba = RFCmodel_pipeline_weights.predict_proba(train_X)\n",
    "evaluate_multiclass_model(train_y, train_pred_proba, train_pred)"
   ]
  },
  {
   "cell_type": "markdown",
   "id": "785a01b5-7362-49ea-a226-10edf234b12d",
   "metadata": {},
   "source": [
    "## **5. Preprocessing and Model Fitting Pipeline**"
   ]
  },
  {
   "cell_type": "code",
   "execution_count": 73,
   "id": "2a04f779-6b05-4fdd-82d1-28c0586f02c5",
   "metadata": {},
   "outputs": [],
   "source": [
    "from sklearn.compose import ColumnTransformer, make_column_transformer\n",
    "from sklearn.preprocessing import OneHotEncoder\n",
    "from sklearn.pipeline import Pipeline\n",
    "from sklearn.preprocessing import StandardScaler"
   ]
  },
  {
   "cell_type": "markdown",
   "id": "50a1c265-ef26-4e12-ad66-44e4f4450398",
   "metadata": {},
   "source": [
    "#### **5-1. preprocessing**"
   ]
  },
  {
   "cell_type": "code",
   "execution_count": 456,
   "id": "a1613cc2-4149-4176-a72f-6b766ac57f03",
   "metadata": {},
   "outputs": [],
   "source": [
    "#전처리 파이프라인 \n",
    "#1. 연속형 변수 -> 결측치 대체(각 상관관계 그룹별 최빈값), 정규화\n",
    "#2. 카테고리 변수 -> 원핫 인코딩 "
   ]
  },
  {
   "cell_type": "code",
   "execution_count": 69,
   "id": "6a9a3ab6-4ba9-4218-aa27-e499bb7b1e58",
   "metadata": {},
   "outputs": [
    {
     "name": "stdout",
     "output_type": "stream",
     "text": [
      "numeric_features: \n",
      "['RelativeDaysJoined', 'Designation', 'Resource Allocation', 'Mental Fatigue Score']\n",
      "categorical_features: \n",
      "['Gender', 'Company Type', 'WFH Setup Available']\n"
     ]
    }
   ],
   "source": [
    "numeric_features = burnout[features].select_dtypes(include='number').columns.tolist()\n",
    "categorical_features = burnout[features].select_dtypes(exclude='number').columns.tolist()\n",
    "print('numeric_features: ', numeric_features,\n",
    "      'categorical_features: ',categorical_features, sep='\\n')"
   ]
  },
  {
   "cell_type": "code",
   "execution_count": 70,
   "id": "dec3890d-e6fe-446e-859f-d66f6de9cc0c",
   "metadata": {},
   "outputs": [],
   "source": [
    "from sklearn.base import BaseEstimator, TransformerMixin\n",
    "\n",
    "class ImputeGroupbyMode(BaseEstimator, TransformerMixin):\n",
    "    def __init__(self, group, nan_feature):\n",
    "        self.group = group\n",
    "        self.nan_feature = nan_feature\n",
    "\n",
    "    def fit(self, X, y=None):\n",
    "        return self\n",
    "\n",
    "    def transform(self, X):\n",
    "        # 그룹별 결측치 특성의 최빈값 계산\n",
    "        impute_modes = X.groupby(self.group)[self.nan_feature].apply(lambda x: x.mode().iloc[0])\n",
    "\n",
    "        # nan_feature의 값에 결측치를 group에 따른 nan_feature 최빈값으로 대체\n",
    "        X[self.nan_feature] = X.apply(\n",
    "            lambda row: impute_modes[row[self.group]] if pd.isna(row[self.nan_feature]) else row[self.nan_feature],\n",
    "            axis=1\n",
    "        )\n",
    "\n",
    "        return X"
   ]
  },
  {
   "cell_type": "code",
   "execution_count": 393,
   "id": "92607489-04aa-4bc0-8429-02418136a0c0",
   "metadata": {},
   "outputs": [],
   "source": [
    "copy_df2 = burnout.copy()\n",
    "a = ImputeGroupbyMode(group='Designation', nan_feature='Resource Allocation')"
   ]
  },
  {
   "cell_type": "code",
   "execution_count": 394,
   "id": "cd8c2918-46be-418d-8eac-d6bae4d701be",
   "metadata": {},
   "outputs": [
    {
     "data": {
      "text/plain": [
       "Employee ID                0\n",
       "Date of Joining            0\n",
       "Gender                     0\n",
       "Company Type               0\n",
       "WFH Setup Available        0\n",
       "Designation                0\n",
       "Resource Allocation     1278\n",
       "Mental Fatigue Score    1945\n",
       "Burn Rate                  0\n",
       "RelativeDaysJoined         0\n",
       "Burn Level                 0\n",
       "dtype: int64"
      ]
     },
     "execution_count": 394,
     "metadata": {},
     "output_type": "execute_result"
    }
   ],
   "source": [
    "burnout.isna().sum()"
   ]
  },
  {
   "cell_type": "code",
   "execution_count": 395,
   "id": "b35b65b5-b367-4a12-80b4-c643bff2f919",
   "metadata": {},
   "outputs": [
    {
     "data": {
      "text/html": [
       "<style>#sk-container-id-45 {color: black;}#sk-container-id-45 pre{padding: 0;}#sk-container-id-45 div.sk-toggleable {background-color: white;}#sk-container-id-45 label.sk-toggleable__label {cursor: pointer;display: block;width: 100%;margin-bottom: 0;padding: 0.3em;box-sizing: border-box;text-align: center;}#sk-container-id-45 label.sk-toggleable__label-arrow:before {content: \"▸\";float: left;margin-right: 0.25em;color: #696969;}#sk-container-id-45 label.sk-toggleable__label-arrow:hover:before {color: black;}#sk-container-id-45 div.sk-estimator:hover label.sk-toggleable__label-arrow:before {color: black;}#sk-container-id-45 div.sk-toggleable__content {max-height: 0;max-width: 0;overflow: hidden;text-align: left;background-color: #f0f8ff;}#sk-container-id-45 div.sk-toggleable__content pre {margin: 0.2em;color: black;border-radius: 0.25em;background-color: #f0f8ff;}#sk-container-id-45 input.sk-toggleable__control:checked~div.sk-toggleable__content {max-height: 200px;max-width: 100%;overflow: auto;}#sk-container-id-45 input.sk-toggleable__control:checked~label.sk-toggleable__label-arrow:before {content: \"▾\";}#sk-container-id-45 div.sk-estimator input.sk-toggleable__control:checked~label.sk-toggleable__label {background-color: #d4ebff;}#sk-container-id-45 div.sk-label input.sk-toggleable__control:checked~label.sk-toggleable__label {background-color: #d4ebff;}#sk-container-id-45 input.sk-hidden--visually {border: 0;clip: rect(1px 1px 1px 1px);clip: rect(1px, 1px, 1px, 1px);height: 1px;margin: -1px;overflow: hidden;padding: 0;position: absolute;width: 1px;}#sk-container-id-45 div.sk-estimator {font-family: monospace;background-color: #f0f8ff;border: 1px dotted black;border-radius: 0.25em;box-sizing: border-box;margin-bottom: 0.5em;}#sk-container-id-45 div.sk-estimator:hover {background-color: #d4ebff;}#sk-container-id-45 div.sk-parallel-item::after {content: \"\";width: 100%;border-bottom: 1px solid gray;flex-grow: 1;}#sk-container-id-45 div.sk-label:hover label.sk-toggleable__label {background-color: #d4ebff;}#sk-container-id-45 div.sk-serial::before {content: \"\";position: absolute;border-left: 1px solid gray;box-sizing: border-box;top: 0;bottom: 0;left: 50%;z-index: 0;}#sk-container-id-45 div.sk-serial {display: flex;flex-direction: column;align-items: center;background-color: white;padding-right: 0.2em;padding-left: 0.2em;position: relative;}#sk-container-id-45 div.sk-item {position: relative;z-index: 1;}#sk-container-id-45 div.sk-parallel {display: flex;align-items: stretch;justify-content: center;background-color: white;position: relative;}#sk-container-id-45 div.sk-item::before, #sk-container-id-45 div.sk-parallel-item::before {content: \"\";position: absolute;border-left: 1px solid gray;box-sizing: border-box;top: 0;bottom: 0;left: 50%;z-index: -1;}#sk-container-id-45 div.sk-parallel-item {display: flex;flex-direction: column;z-index: 1;position: relative;background-color: white;}#sk-container-id-45 div.sk-parallel-item:first-child::after {align-self: flex-end;width: 50%;}#sk-container-id-45 div.sk-parallel-item:last-child::after {align-self: flex-start;width: 50%;}#sk-container-id-45 div.sk-parallel-item:only-child::after {width: 0;}#sk-container-id-45 div.sk-dashed-wrapped {border: 1px dashed gray;margin: 0 0.4em 0.5em 0.4em;box-sizing: border-box;padding-bottom: 0.4em;background-color: white;}#sk-container-id-45 div.sk-label label {font-family: monospace;font-weight: bold;display: inline-block;line-height: 1.2em;}#sk-container-id-45 div.sk-label-container {text-align: center;}#sk-container-id-45 div.sk-container {/* jupyter's `normalize.less` sets `[hidden] { display: none; }` but bootstrap.min.css set `[hidden] { display: none !important; }` so we also need the `!important` here to be able to override the default hidden behavior on the sphinx rendered scikit-learn.org. See: https://github.com/scikit-learn/scikit-learn/issues/21755 */display: inline-block !important;position: relative;}#sk-container-id-45 div.sk-text-repr-fallback {display: none;}</style><div id=\"sk-container-id-45\" class=\"sk-top-container\"><div class=\"sk-text-repr-fallback\"><pre>ImputeGroupbyMode(group=&#x27;Designation&#x27;, nan_feature=&#x27;Resource Allocation&#x27;)</pre><b>In a Jupyter environment, please rerun this cell to show the HTML representation or trust the notebook. <br />On GitHub, the HTML representation is unable to render, please try loading this page with nbviewer.org.</b></div><div class=\"sk-container\" hidden><div class=\"sk-item\"><div class=\"sk-estimator sk-toggleable\"><input class=\"sk-toggleable__control sk-hidden--visually\" id=\"sk-estimator-id-381\" type=\"checkbox\" checked><label for=\"sk-estimator-id-381\" class=\"sk-toggleable__label sk-toggleable__label-arrow\">ImputeGroupbyMode</label><div class=\"sk-toggleable__content\"><pre>ImputeGroupbyMode(group=&#x27;Designation&#x27;, nan_feature=&#x27;Resource Allocation&#x27;)</pre></div></div></div></div></div>"
      ],
      "text/plain": [
       "ImputeGroupbyMode(group='Designation', nan_feature='Resource Allocation')"
      ]
     },
     "execution_count": 395,
     "metadata": {},
     "output_type": "execute_result"
    }
   ],
   "source": [
    "a.fit(copy_df2)"
   ]
  },
  {
   "cell_type": "code",
   "execution_count": 396,
   "id": "64fb354c-ae6c-4ce0-8792-8c9242b8e4ce",
   "metadata": {},
   "outputs": [
    {
     "data": {
      "text/plain": [
       "Employee ID                0\n",
       "Date of Joining            0\n",
       "Gender                     0\n",
       "Company Type               0\n",
       "WFH Setup Available        0\n",
       "Designation                0\n",
       "Resource Allocation     1278\n",
       "Mental Fatigue Score    1945\n",
       "Burn Rate                  0\n",
       "RelativeDaysJoined         0\n",
       "Burn Level                 0\n",
       "dtype: int64"
      ]
     },
     "execution_count": 396,
     "metadata": {},
     "output_type": "execute_result"
    }
   ],
   "source": [
    "copy_df2.isna().sum()"
   ]
  },
  {
   "cell_type": "code",
   "execution_count": 397,
   "id": "130a49a7-cd06-457e-8703-60dfd69e46e8",
   "metadata": {},
   "outputs": [
    {
     "data": {
      "text/html": [
       "<div>\n",
       "<style scoped>\n",
       "    .dataframe tbody tr th:only-of-type {\n",
       "        vertical-align: middle;\n",
       "    }\n",
       "\n",
       "    .dataframe tbody tr th {\n",
       "        vertical-align: top;\n",
       "    }\n",
       "\n",
       "    .dataframe thead th {\n",
       "        text-align: right;\n",
       "    }\n",
       "</style>\n",
       "<table border=\"1\" class=\"dataframe\">\n",
       "  <thead>\n",
       "    <tr style=\"text-align: right;\">\n",
       "      <th></th>\n",
       "      <th>Employee ID</th>\n",
       "      <th>Date of Joining</th>\n",
       "      <th>Gender</th>\n",
       "      <th>Company Type</th>\n",
       "      <th>WFH Setup Available</th>\n",
       "      <th>Designation</th>\n",
       "      <th>Resource Allocation</th>\n",
       "      <th>Mental Fatigue Score</th>\n",
       "      <th>Burn Rate</th>\n",
       "      <th>RelativeDaysJoined</th>\n",
       "      <th>Burn Level</th>\n",
       "    </tr>\n",
       "  </thead>\n",
       "  <tbody>\n",
       "    <tr>\n",
       "      <th>0</th>\n",
       "      <td>fffe32003000360033003200</td>\n",
       "      <td>2008-09-30</td>\n",
       "      <td>Female</td>\n",
       "      <td>Service</td>\n",
       "      <td>No</td>\n",
       "      <td>2.0</td>\n",
       "      <td>3.0</td>\n",
       "      <td>3.8</td>\n",
       "      <td>0.16</td>\n",
       "      <td>93</td>\n",
       "      <td>2</td>\n",
       "    </tr>\n",
       "    <tr>\n",
       "      <th>1</th>\n",
       "      <td>fffe3700360033003500</td>\n",
       "      <td>2008-11-30</td>\n",
       "      <td>Male</td>\n",
       "      <td>Service</td>\n",
       "      <td>Yes</td>\n",
       "      <td>1.0</td>\n",
       "      <td>2.0</td>\n",
       "      <td>5.0</td>\n",
       "      <td>0.36</td>\n",
       "      <td>32</td>\n",
       "      <td>4</td>\n",
       "    </tr>\n",
       "    <tr>\n",
       "      <th>2</th>\n",
       "      <td>fffe31003300320037003900</td>\n",
       "      <td>2008-03-10</td>\n",
       "      <td>Female</td>\n",
       "      <td>Product</td>\n",
       "      <td>Yes</td>\n",
       "      <td>2.0</td>\n",
       "      <td>4.0</td>\n",
       "      <td>5.8</td>\n",
       "      <td>0.49</td>\n",
       "      <td>297</td>\n",
       "      <td>5</td>\n",
       "    </tr>\n",
       "    <tr>\n",
       "      <th>3</th>\n",
       "      <td>fffe32003400380032003900</td>\n",
       "      <td>2008-11-03</td>\n",
       "      <td>Male</td>\n",
       "      <td>Service</td>\n",
       "      <td>Yes</td>\n",
       "      <td>1.0</td>\n",
       "      <td>1.0</td>\n",
       "      <td>2.6</td>\n",
       "      <td>0.20</td>\n",
       "      <td>59</td>\n",
       "      <td>2</td>\n",
       "    </tr>\n",
       "    <tr>\n",
       "      <th>4</th>\n",
       "      <td>fffe31003900340031003600</td>\n",
       "      <td>2008-07-24</td>\n",
       "      <td>Female</td>\n",
       "      <td>Service</td>\n",
       "      <td>No</td>\n",
       "      <td>3.0</td>\n",
       "      <td>7.0</td>\n",
       "      <td>6.9</td>\n",
       "      <td>0.52</td>\n",
       "      <td>161</td>\n",
       "      <td>6</td>\n",
       "    </tr>\n",
       "    <tr>\n",
       "      <th>...</th>\n",
       "      <td>...</td>\n",
       "      <td>...</td>\n",
       "      <td>...</td>\n",
       "      <td>...</td>\n",
       "      <td>...</td>\n",
       "      <td>...</td>\n",
       "      <td>...</td>\n",
       "      <td>...</td>\n",
       "      <td>...</td>\n",
       "      <td>...</td>\n",
       "      <td>...</td>\n",
       "    </tr>\n",
       "    <tr>\n",
       "      <th>22745</th>\n",
       "      <td>fffe31003500370039003100</td>\n",
       "      <td>2008-12-30</td>\n",
       "      <td>Female</td>\n",
       "      <td>Service</td>\n",
       "      <td>No</td>\n",
       "      <td>1.0</td>\n",
       "      <td>3.0</td>\n",
       "      <td>NaN</td>\n",
       "      <td>0.41</td>\n",
       "      <td>2</td>\n",
       "      <td>5</td>\n",
       "    </tr>\n",
       "    <tr>\n",
       "      <th>22746</th>\n",
       "      <td>fffe33003000350031003800</td>\n",
       "      <td>2008-01-19</td>\n",
       "      <td>Female</td>\n",
       "      <td>Product</td>\n",
       "      <td>Yes</td>\n",
       "      <td>3.0</td>\n",
       "      <td>6.0</td>\n",
       "      <td>6.7</td>\n",
       "      <td>0.59</td>\n",
       "      <td>348</td>\n",
       "      <td>6</td>\n",
       "    </tr>\n",
       "    <tr>\n",
       "      <th>22747</th>\n",
       "      <td>fffe390032003000</td>\n",
       "      <td>2008-11-05</td>\n",
       "      <td>Male</td>\n",
       "      <td>Service</td>\n",
       "      <td>Yes</td>\n",
       "      <td>3.0</td>\n",
       "      <td>7.0</td>\n",
       "      <td>NaN</td>\n",
       "      <td>0.72</td>\n",
       "      <td>57</td>\n",
       "      <td>8</td>\n",
       "    </tr>\n",
       "    <tr>\n",
       "      <th>22748</th>\n",
       "      <td>fffe33003300320036003900</td>\n",
       "      <td>2008-01-10</td>\n",
       "      <td>Female</td>\n",
       "      <td>Service</td>\n",
       "      <td>No</td>\n",
       "      <td>2.0</td>\n",
       "      <td>5.0</td>\n",
       "      <td>5.9</td>\n",
       "      <td>0.52</td>\n",
       "      <td>357</td>\n",
       "      <td>6</td>\n",
       "    </tr>\n",
       "    <tr>\n",
       "      <th>22749</th>\n",
       "      <td>fffe3400350031003800</td>\n",
       "      <td>2008-01-06</td>\n",
       "      <td>Male</td>\n",
       "      <td>Product</td>\n",
       "      <td>No</td>\n",
       "      <td>3.0</td>\n",
       "      <td>6.0</td>\n",
       "      <td>7.8</td>\n",
       "      <td>0.61</td>\n",
       "      <td>361</td>\n",
       "      <td>7</td>\n",
       "    </tr>\n",
       "  </tbody>\n",
       "</table>\n",
       "<p>21626 rows × 11 columns</p>\n",
       "</div>"
      ],
      "text/plain": [
       "                    Employee ID Date of Joining  Gender Company Type  \\\n",
       "0      fffe32003000360033003200      2008-09-30  Female      Service   \n",
       "1          fffe3700360033003500      2008-11-30    Male      Service   \n",
       "2      fffe31003300320037003900      2008-03-10  Female      Product   \n",
       "3      fffe32003400380032003900      2008-11-03    Male      Service   \n",
       "4      fffe31003900340031003600      2008-07-24  Female      Service   \n",
       "...                         ...             ...     ...          ...   \n",
       "22745  fffe31003500370039003100      2008-12-30  Female      Service   \n",
       "22746  fffe33003000350031003800      2008-01-19  Female      Product   \n",
       "22747          fffe390032003000      2008-11-05    Male      Service   \n",
       "22748  fffe33003300320036003900      2008-01-10  Female      Service   \n",
       "22749      fffe3400350031003800      2008-01-06    Male      Product   \n",
       "\n",
       "      WFH Setup Available  Designation  Resource Allocation  \\\n",
       "0                      No          2.0                  3.0   \n",
       "1                     Yes          1.0                  2.0   \n",
       "2                     Yes          2.0                  4.0   \n",
       "3                     Yes          1.0                  1.0   \n",
       "4                      No          3.0                  7.0   \n",
       "...                   ...          ...                  ...   \n",
       "22745                  No          1.0                  3.0   \n",
       "22746                 Yes          3.0                  6.0   \n",
       "22747                 Yes          3.0                  7.0   \n",
       "22748                  No          2.0                  5.0   \n",
       "22749                  No          3.0                  6.0   \n",
       "\n",
       "       Mental Fatigue Score  Burn Rate  RelativeDaysJoined Burn Level  \n",
       "0                       3.8       0.16                  93          2  \n",
       "1                       5.0       0.36                  32          4  \n",
       "2                       5.8       0.49                 297          5  \n",
       "3                       2.6       0.20                  59          2  \n",
       "4                       6.9       0.52                 161          6  \n",
       "...                     ...        ...                 ...        ...  \n",
       "22745                   NaN       0.41                   2          5  \n",
       "22746                   6.7       0.59                 348          6  \n",
       "22747                   NaN       0.72                  57          8  \n",
       "22748                   5.9       0.52                 357          6  \n",
       "22749                   7.8       0.61                 361          7  \n",
       "\n",
       "[21626 rows x 11 columns]"
      ]
     },
     "execution_count": 397,
     "metadata": {},
     "output_type": "execute_result"
    }
   ],
   "source": [
    "a.fit_transform(copy_df2)"
   ]
  },
  {
   "cell_type": "code",
   "execution_count": 398,
   "id": "09373d2e-9897-4221-b53b-7fe383fb41ed",
   "metadata": {},
   "outputs": [
    {
     "data": {
      "text/plain": [
       "Employee ID                0\n",
       "Date of Joining            0\n",
       "Gender                     0\n",
       "Company Type               0\n",
       "WFH Setup Available        0\n",
       "Designation                0\n",
       "Resource Allocation        0\n",
       "Mental Fatigue Score    1945\n",
       "Burn Rate                  0\n",
       "RelativeDaysJoined         0\n",
       "Burn Level                 0\n",
       "dtype: int64"
      ]
     },
     "execution_count": 398,
     "metadata": {},
     "output_type": "execute_result"
    }
   ],
   "source": [
    "copy_df2.isna().sum()"
   ]
  },
  {
   "cell_type": "markdown",
   "id": "6e6b4acb-fc88-4976-a638-c788b4c0ab7e",
   "metadata": {},
   "source": [
    "#### **5-2 pipeline design**"
   ]
  },
  {
   "cell_type": "code",
   "execution_count": 285,
   "id": "8317a8d6-1d15-41b4-9aeb-597046ccc1a4",
   "metadata": {},
   "outputs": [],
   "source": [
    "#1. 결측치 그룹별 대체 파이프라인 \n",
    "\n",
    "impute_NA_pipeline = Pipeline([\n",
    "    ('impute_RA', ImputeGroupbyMode(group='Designation', nan_feature='Resource Allocation')),\n",
    "    ('impute_MF', ImputeGroupbyMode(group='Resource Allocation', nan_feature='Mental Fatigue Score'))\n",
    "])"
   ]
  },
  {
   "cell_type": "code",
   "execution_count": 286,
   "id": "fb825fe3-562d-481a-bd73-c2f4dcdb7348",
   "metadata": {},
   "outputs": [
    {
     "data": {
      "text/html": [
       "<style>#sk-container-id-25 {color: black;}#sk-container-id-25 pre{padding: 0;}#sk-container-id-25 div.sk-toggleable {background-color: white;}#sk-container-id-25 label.sk-toggleable__label {cursor: pointer;display: block;width: 100%;margin-bottom: 0;padding: 0.3em;box-sizing: border-box;text-align: center;}#sk-container-id-25 label.sk-toggleable__label-arrow:before {content: \"▸\";float: left;margin-right: 0.25em;color: #696969;}#sk-container-id-25 label.sk-toggleable__label-arrow:hover:before {color: black;}#sk-container-id-25 div.sk-estimator:hover label.sk-toggleable__label-arrow:before {color: black;}#sk-container-id-25 div.sk-toggleable__content {max-height: 0;max-width: 0;overflow: hidden;text-align: left;background-color: #f0f8ff;}#sk-container-id-25 div.sk-toggleable__content pre {margin: 0.2em;color: black;border-radius: 0.25em;background-color: #f0f8ff;}#sk-container-id-25 input.sk-toggleable__control:checked~div.sk-toggleable__content {max-height: 200px;max-width: 100%;overflow: auto;}#sk-container-id-25 input.sk-toggleable__control:checked~label.sk-toggleable__label-arrow:before {content: \"▾\";}#sk-container-id-25 div.sk-estimator input.sk-toggleable__control:checked~label.sk-toggleable__label {background-color: #d4ebff;}#sk-container-id-25 div.sk-label input.sk-toggleable__control:checked~label.sk-toggleable__label {background-color: #d4ebff;}#sk-container-id-25 input.sk-hidden--visually {border: 0;clip: rect(1px 1px 1px 1px);clip: rect(1px, 1px, 1px, 1px);height: 1px;margin: -1px;overflow: hidden;padding: 0;position: absolute;width: 1px;}#sk-container-id-25 div.sk-estimator {font-family: monospace;background-color: #f0f8ff;border: 1px dotted black;border-radius: 0.25em;box-sizing: border-box;margin-bottom: 0.5em;}#sk-container-id-25 div.sk-estimator:hover {background-color: #d4ebff;}#sk-container-id-25 div.sk-parallel-item::after {content: \"\";width: 100%;border-bottom: 1px solid gray;flex-grow: 1;}#sk-container-id-25 div.sk-label:hover label.sk-toggleable__label {background-color: #d4ebff;}#sk-container-id-25 div.sk-serial::before {content: \"\";position: absolute;border-left: 1px solid gray;box-sizing: border-box;top: 0;bottom: 0;left: 50%;z-index: 0;}#sk-container-id-25 div.sk-serial {display: flex;flex-direction: column;align-items: center;background-color: white;padding-right: 0.2em;padding-left: 0.2em;position: relative;}#sk-container-id-25 div.sk-item {position: relative;z-index: 1;}#sk-container-id-25 div.sk-parallel {display: flex;align-items: stretch;justify-content: center;background-color: white;position: relative;}#sk-container-id-25 div.sk-item::before, #sk-container-id-25 div.sk-parallel-item::before {content: \"\";position: absolute;border-left: 1px solid gray;box-sizing: border-box;top: 0;bottom: 0;left: 50%;z-index: -1;}#sk-container-id-25 div.sk-parallel-item {display: flex;flex-direction: column;z-index: 1;position: relative;background-color: white;}#sk-container-id-25 div.sk-parallel-item:first-child::after {align-self: flex-end;width: 50%;}#sk-container-id-25 div.sk-parallel-item:last-child::after {align-self: flex-start;width: 50%;}#sk-container-id-25 div.sk-parallel-item:only-child::after {width: 0;}#sk-container-id-25 div.sk-dashed-wrapped {border: 1px dashed gray;margin: 0 0.4em 0.5em 0.4em;box-sizing: border-box;padding-bottom: 0.4em;background-color: white;}#sk-container-id-25 div.sk-label label {font-family: monospace;font-weight: bold;display: inline-block;line-height: 1.2em;}#sk-container-id-25 div.sk-label-container {text-align: center;}#sk-container-id-25 div.sk-container {/* jupyter's `normalize.less` sets `[hidden] { display: none; }` but bootstrap.min.css set `[hidden] { display: none !important; }` so we also need the `!important` here to be able to override the default hidden behavior on the sphinx rendered scikit-learn.org. See: https://github.com/scikit-learn/scikit-learn/issues/21755 */display: inline-block !important;position: relative;}#sk-container-id-25 div.sk-text-repr-fallback {display: none;}</style><div id=\"sk-container-id-25\" class=\"sk-top-container\"><div class=\"sk-text-repr-fallback\"><pre>Pipeline(steps=[(&#x27;impute_RA&#x27;,\n",
       "                 ImputeGroupbyMode(group=&#x27;Designation&#x27;,\n",
       "                                   nan_feature=&#x27;Resource Allocation&#x27;)),\n",
       "                (&#x27;impute_MF&#x27;,\n",
       "                 ImputeGroupbyMode(group=&#x27;Resource Allocation&#x27;,\n",
       "                                   nan_feature=&#x27;Mental Fatigue Score&#x27;))])</pre><b>In a Jupyter environment, please rerun this cell to show the HTML representation or trust the notebook. <br />On GitHub, the HTML representation is unable to render, please try loading this page with nbviewer.org.</b></div><div class=\"sk-container\" hidden><div class=\"sk-item sk-dashed-wrapped\"><div class=\"sk-label-container\"><div class=\"sk-label sk-toggleable\"><input class=\"sk-toggleable__control sk-hidden--visually\" id=\"sk-estimator-id-200\" type=\"checkbox\" ><label for=\"sk-estimator-id-200\" class=\"sk-toggleable__label sk-toggleable__label-arrow\">Pipeline</label><div class=\"sk-toggleable__content\"><pre>Pipeline(steps=[(&#x27;impute_RA&#x27;,\n",
       "                 ImputeGroupbyMode(group=&#x27;Designation&#x27;,\n",
       "                                   nan_feature=&#x27;Resource Allocation&#x27;)),\n",
       "                (&#x27;impute_MF&#x27;,\n",
       "                 ImputeGroupbyMode(group=&#x27;Resource Allocation&#x27;,\n",
       "                                   nan_feature=&#x27;Mental Fatigue Score&#x27;))])</pre></div></div></div><div class=\"sk-serial\"><div class=\"sk-item\"><div class=\"sk-estimator sk-toggleable\"><input class=\"sk-toggleable__control sk-hidden--visually\" id=\"sk-estimator-id-201\" type=\"checkbox\" ><label for=\"sk-estimator-id-201\" class=\"sk-toggleable__label sk-toggleable__label-arrow\">ImputeGroupbyMode</label><div class=\"sk-toggleable__content\"><pre>ImputeGroupbyMode(group=&#x27;Designation&#x27;, nan_feature=&#x27;Resource Allocation&#x27;)</pre></div></div></div><div class=\"sk-item\"><div class=\"sk-estimator sk-toggleable\"><input class=\"sk-toggleable__control sk-hidden--visually\" id=\"sk-estimator-id-202\" type=\"checkbox\" ><label for=\"sk-estimator-id-202\" class=\"sk-toggleable__label sk-toggleable__label-arrow\">ImputeGroupbyMode</label><div class=\"sk-toggleable__content\"><pre>ImputeGroupbyMode(group=&#x27;Resource Allocation&#x27;,\n",
       "                  nan_feature=&#x27;Mental Fatigue Score&#x27;)</pre></div></div></div></div></div></div></div>"
      ],
      "text/plain": [
       "Pipeline(steps=[('impute_RA',\n",
       "                 ImputeGroupbyMode(group='Designation',\n",
       "                                   nan_feature='Resource Allocation')),\n",
       "                ('impute_MF',\n",
       "                 ImputeGroupbyMode(group='Resource Allocation',\n",
       "                                   nan_feature='Mental Fatigue Score'))])"
      ]
     },
     "execution_count": 286,
     "metadata": {},
     "output_type": "execute_result"
    }
   ],
   "source": [
    "impute_NA_pipeline"
   ]
  },
  {
   "cell_type": "code",
   "execution_count": 287,
   "id": "a80da6fd-61a8-4db2-aef0-ff1f67f04ae9",
   "metadata": {},
   "outputs": [
    {
     "data": {
      "text/html": [
       "<div>\n",
       "<style scoped>\n",
       "    .dataframe tbody tr th:only-of-type {\n",
       "        vertical-align: middle;\n",
       "    }\n",
       "\n",
       "    .dataframe tbody tr th {\n",
       "        vertical-align: top;\n",
       "    }\n",
       "\n",
       "    .dataframe thead th {\n",
       "        text-align: right;\n",
       "    }\n",
       "</style>\n",
       "<table border=\"1\" class=\"dataframe\">\n",
       "  <thead>\n",
       "    <tr style=\"text-align: right;\">\n",
       "      <th></th>\n",
       "      <th>RelativeDaysJoined</th>\n",
       "      <th>Gender</th>\n",
       "      <th>Company Type</th>\n",
       "      <th>WFH Setup Available</th>\n",
       "      <th>Designation</th>\n",
       "      <th>Resource Allocation</th>\n",
       "      <th>Mental Fatigue Score</th>\n",
       "    </tr>\n",
       "  </thead>\n",
       "  <tbody>\n",
       "    <tr>\n",
       "      <th>14761</th>\n",
       "      <td>326</td>\n",
       "      <td>Male</td>\n",
       "      <td>Product</td>\n",
       "      <td>No</td>\n",
       "      <td>4.0</td>\n",
       "      <td>8.0</td>\n",
       "      <td>8.6</td>\n",
       "    </tr>\n",
       "    <tr>\n",
       "      <th>12006</th>\n",
       "      <td>165</td>\n",
       "      <td>Male</td>\n",
       "      <td>Service</td>\n",
       "      <td>No</td>\n",
       "      <td>2.0</td>\n",
       "      <td>6.0</td>\n",
       "      <td>7.6</td>\n",
       "    </tr>\n",
       "    <tr>\n",
       "      <th>6922</th>\n",
       "      <td>62</td>\n",
       "      <td>Female</td>\n",
       "      <td>Product</td>\n",
       "      <td>Yes</td>\n",
       "      <td>1.0</td>\n",
       "      <td>4.0</td>\n",
       "      <td>7.0</td>\n",
       "    </tr>\n",
       "    <tr>\n",
       "      <th>10185</th>\n",
       "      <td>90</td>\n",
       "      <td>Male</td>\n",
       "      <td>Service</td>\n",
       "      <td>No</td>\n",
       "      <td>4.0</td>\n",
       "      <td>7.0</td>\n",
       "      <td>6.7</td>\n",
       "    </tr>\n",
       "    <tr>\n",
       "      <th>6013</th>\n",
       "      <td>71</td>\n",
       "      <td>Female</td>\n",
       "      <td>Service</td>\n",
       "      <td>No</td>\n",
       "      <td>1.0</td>\n",
       "      <td>3.0</td>\n",
       "      <td>3.9</td>\n",
       "    </tr>\n",
       "    <tr>\n",
       "      <th>...</th>\n",
       "      <td>...</td>\n",
       "      <td>...</td>\n",
       "      <td>...</td>\n",
       "      <td>...</td>\n",
       "      <td>...</td>\n",
       "      <td>...</td>\n",
       "      <td>...</td>\n",
       "    </tr>\n",
       "    <tr>\n",
       "      <th>9667</th>\n",
       "      <td>273</td>\n",
       "      <td>Male</td>\n",
       "      <td>Service</td>\n",
       "      <td>Yes</td>\n",
       "      <td>3.0</td>\n",
       "      <td>7.0</td>\n",
       "      <td>6.3</td>\n",
       "    </tr>\n",
       "    <tr>\n",
       "      <th>14842</th>\n",
       "      <td>128</td>\n",
       "      <td>Male</td>\n",
       "      <td>Product</td>\n",
       "      <td>No</td>\n",
       "      <td>2.0</td>\n",
       "      <td>4.0</td>\n",
       "      <td>6.2</td>\n",
       "    </tr>\n",
       "    <tr>\n",
       "      <th>7185</th>\n",
       "      <td>14</td>\n",
       "      <td>Male</td>\n",
       "      <td>Service</td>\n",
       "      <td>Yes</td>\n",
       "      <td>2.0</td>\n",
       "      <td>5.0</td>\n",
       "      <td>4.4</td>\n",
       "    </tr>\n",
       "    <tr>\n",
       "      <th>19702</th>\n",
       "      <td>82</td>\n",
       "      <td>Male</td>\n",
       "      <td>Service</td>\n",
       "      <td>Yes</td>\n",
       "      <td>1.0</td>\n",
       "      <td>4.0</td>\n",
       "      <td>6.2</td>\n",
       "    </tr>\n",
       "    <tr>\n",
       "      <th>18118</th>\n",
       "      <td>118</td>\n",
       "      <td>Female</td>\n",
       "      <td>Service</td>\n",
       "      <td>No</td>\n",
       "      <td>3.0</td>\n",
       "      <td>6.0</td>\n",
       "      <td>6.2</td>\n",
       "    </tr>\n",
       "  </tbody>\n",
       "</table>\n",
       "<p>17300 rows × 7 columns</p>\n",
       "</div>"
      ],
      "text/plain": [
       "       RelativeDaysJoined  Gender Company Type WFH Setup Available  \\\n",
       "14761                 326    Male      Product                  No   \n",
       "12006                 165    Male      Service                  No   \n",
       "6922                   62  Female      Product                 Yes   \n",
       "10185                  90    Male      Service                  No   \n",
       "6013                   71  Female      Service                  No   \n",
       "...                   ...     ...          ...                 ...   \n",
       "9667                  273    Male      Service                 Yes   \n",
       "14842                 128    Male      Product                  No   \n",
       "7185                   14    Male      Service                 Yes   \n",
       "19702                  82    Male      Service                 Yes   \n",
       "18118                 118  Female      Service                  No   \n",
       "\n",
       "       Designation  Resource Allocation  Mental Fatigue Score  \n",
       "14761          4.0                  8.0                   8.6  \n",
       "12006          2.0                  6.0                   7.6  \n",
       "6922           1.0                  4.0                   7.0  \n",
       "10185          4.0                  7.0                   6.7  \n",
       "6013           1.0                  3.0                   3.9  \n",
       "...            ...                  ...                   ...  \n",
       "9667           3.0                  7.0                   6.3  \n",
       "14842          2.0                  4.0                   6.2  \n",
       "7185           2.0                  5.0                   4.4  \n",
       "19702          1.0                  4.0                   6.2  \n",
       "18118          3.0                  6.0                   6.2  \n",
       "\n",
       "[17300 rows x 7 columns]"
      ]
     },
     "execution_count": 287,
     "metadata": {},
     "output_type": "execute_result"
    }
   ],
   "source": [
    "impute_NA_pipeline.fit_transform(train_X)"
   ]
  },
  {
   "cell_type": "code",
   "execution_count": 288,
   "id": "64d68f2c-8822-419f-b692-7fe12c69d255",
   "metadata": {},
   "outputs": [
    {
     "data": {
      "text/plain": [
       "RelativeDaysJoined      0\n",
       "Gender                  0\n",
       "Company Type            0\n",
       "WFH Setup Available     0\n",
       "Designation             0\n",
       "Resource Allocation     0\n",
       "Mental Fatigue Score    0\n",
       "dtype: int64"
      ]
     },
     "execution_count": 288,
     "metadata": {},
     "output_type": "execute_result"
    }
   ],
   "source": [
    "#결과 확인\n",
    "train_X.isna().sum()"
   ]
  },
  {
   "cell_type": "code",
   "execution_count": 289,
   "id": "521cb2e0-9855-42f8-af18-ba69c7336ee2",
   "metadata": {},
   "outputs": [],
   "source": [
    "# 특성 제거전 \n",
    "# 2. 나머지 전처리 과정 파이프라인 - preprocessor \n",
    "# ColumnTransformer에 적용\n",
    "\n",
    "preprocessor_PRE = ColumnTransformer(\n",
    "    transformers=[\n",
    "        ('num', StandardScaler(), numeric_features),  # 연속형 변수에 대한 스케일링\n",
    "        ('cat', OneHotEncoder(), categorical_features)], # 카테고리 변수에 대한 원핫인코딩  \n",
    "        \n",
    "         remainder='drop'  \n",
    ")"
   ]
  },
  {
   "cell_type": "code",
   "execution_count": 290,
   "id": "336783da-9f1b-41e5-91b3-26015eb9da27",
   "metadata": {},
   "outputs": [],
   "source": [
    "# 2. 나머지 전처리 과정 파이프라인 - preprocessor \n",
    "# ColumnTransformer에 적용\n",
    "# 독립변수간 상관관계가 큰 값 Resource Allocation 삭제\n",
    "\n",
    "preprocessor = ColumnTransformer(\n",
    "    transformers=[\n",
    "        ('num', StandardScaler(), [col for col in numeric_features if col != 'Resource Allocation']),  # 연속형 변수에 대한 스케일링\n",
    "        ('cat', OneHotEncoder(), categorical_features)], # 카테고리 변수에 대한 원핫인코딩  \n",
    "        \n",
    "         remainder='drop'  # 나머지 열은 드랍; 'Resource Allocation' 제거됨\n",
    ")"
   ]
  },
  {
   "cell_type": "markdown",
   "id": "db0b9e17-83ac-47b5-a451-09163b7504b6",
   "metadata": {},
   "source": [
    "## **6. Training the Models**"
   ]
  },
  {
   "cell_type": "markdown",
   "id": "f7cbca8d-09ed-4f55-8645-20d815b0586a",
   "metadata": {},
   "source": [
    "### 6-1 **Full pipeline - RandomForestClassifier**"
   ]
  },
  {
   "cell_type": "code",
   "execution_count": 291,
   "id": "6b342d3f-e2f9-4f6d-8a6e-a89af771e702",
   "metadata": {},
   "outputs": [],
   "source": [
    "from sklearn.ensemble import RandomForestClassifier\n",
    "\n",
    "# '전처리-모델학습'의 full pipeline - 랜덤포레스트 파이프라인 정의\n",
    "RFCmodel_pipeline = Pipeline([\n",
    "    ('imputer_na', impute_NA_pipeline),\n",
    "    ('preprocessing', preprocessor),\n",
    "    ('model', RandomForestClassifier(random_state=42))\n",
    "])"
   ]
  },
  {
   "cell_type": "code",
   "execution_count": 292,
   "id": "88a15a8a-44ac-4801-b62a-94e90574874f",
   "metadata": {},
   "outputs": [
    {
     "data": {
      "text/html": [
       "<style>#sk-container-id-26 {color: black;}#sk-container-id-26 pre{padding: 0;}#sk-container-id-26 div.sk-toggleable {background-color: white;}#sk-container-id-26 label.sk-toggleable__label {cursor: pointer;display: block;width: 100%;margin-bottom: 0;padding: 0.3em;box-sizing: border-box;text-align: center;}#sk-container-id-26 label.sk-toggleable__label-arrow:before {content: \"▸\";float: left;margin-right: 0.25em;color: #696969;}#sk-container-id-26 label.sk-toggleable__label-arrow:hover:before {color: black;}#sk-container-id-26 div.sk-estimator:hover label.sk-toggleable__label-arrow:before {color: black;}#sk-container-id-26 div.sk-toggleable__content {max-height: 0;max-width: 0;overflow: hidden;text-align: left;background-color: #f0f8ff;}#sk-container-id-26 div.sk-toggleable__content pre {margin: 0.2em;color: black;border-radius: 0.25em;background-color: #f0f8ff;}#sk-container-id-26 input.sk-toggleable__control:checked~div.sk-toggleable__content {max-height: 200px;max-width: 100%;overflow: auto;}#sk-container-id-26 input.sk-toggleable__control:checked~label.sk-toggleable__label-arrow:before {content: \"▾\";}#sk-container-id-26 div.sk-estimator input.sk-toggleable__control:checked~label.sk-toggleable__label {background-color: #d4ebff;}#sk-container-id-26 div.sk-label input.sk-toggleable__control:checked~label.sk-toggleable__label {background-color: #d4ebff;}#sk-container-id-26 input.sk-hidden--visually {border: 0;clip: rect(1px 1px 1px 1px);clip: rect(1px, 1px, 1px, 1px);height: 1px;margin: -1px;overflow: hidden;padding: 0;position: absolute;width: 1px;}#sk-container-id-26 div.sk-estimator {font-family: monospace;background-color: #f0f8ff;border: 1px dotted black;border-radius: 0.25em;box-sizing: border-box;margin-bottom: 0.5em;}#sk-container-id-26 div.sk-estimator:hover {background-color: #d4ebff;}#sk-container-id-26 div.sk-parallel-item::after {content: \"\";width: 100%;border-bottom: 1px solid gray;flex-grow: 1;}#sk-container-id-26 div.sk-label:hover label.sk-toggleable__label {background-color: #d4ebff;}#sk-container-id-26 div.sk-serial::before {content: \"\";position: absolute;border-left: 1px solid gray;box-sizing: border-box;top: 0;bottom: 0;left: 50%;z-index: 0;}#sk-container-id-26 div.sk-serial {display: flex;flex-direction: column;align-items: center;background-color: white;padding-right: 0.2em;padding-left: 0.2em;position: relative;}#sk-container-id-26 div.sk-item {position: relative;z-index: 1;}#sk-container-id-26 div.sk-parallel {display: flex;align-items: stretch;justify-content: center;background-color: white;position: relative;}#sk-container-id-26 div.sk-item::before, #sk-container-id-26 div.sk-parallel-item::before {content: \"\";position: absolute;border-left: 1px solid gray;box-sizing: border-box;top: 0;bottom: 0;left: 50%;z-index: -1;}#sk-container-id-26 div.sk-parallel-item {display: flex;flex-direction: column;z-index: 1;position: relative;background-color: white;}#sk-container-id-26 div.sk-parallel-item:first-child::after {align-self: flex-end;width: 50%;}#sk-container-id-26 div.sk-parallel-item:last-child::after {align-self: flex-start;width: 50%;}#sk-container-id-26 div.sk-parallel-item:only-child::after {width: 0;}#sk-container-id-26 div.sk-dashed-wrapped {border: 1px dashed gray;margin: 0 0.4em 0.5em 0.4em;box-sizing: border-box;padding-bottom: 0.4em;background-color: white;}#sk-container-id-26 div.sk-label label {font-family: monospace;font-weight: bold;display: inline-block;line-height: 1.2em;}#sk-container-id-26 div.sk-label-container {text-align: center;}#sk-container-id-26 div.sk-container {/* jupyter's `normalize.less` sets `[hidden] { display: none; }` but bootstrap.min.css set `[hidden] { display: none !important; }` so we also need the `!important` here to be able to override the default hidden behavior on the sphinx rendered scikit-learn.org. See: https://github.com/scikit-learn/scikit-learn/issues/21755 */display: inline-block !important;position: relative;}#sk-container-id-26 div.sk-text-repr-fallback {display: none;}</style><div id=\"sk-container-id-26\" class=\"sk-top-container\"><div class=\"sk-text-repr-fallback\"><pre>Pipeline(steps=[(&#x27;imputer_na&#x27;,\n",
       "                 Pipeline(steps=[(&#x27;impute_RA&#x27;,\n",
       "                                  ImputeGroupbyMode(group=&#x27;Designation&#x27;,\n",
       "                                                    nan_feature=&#x27;Resource &#x27;\n",
       "                                                                &#x27;Allocation&#x27;)),\n",
       "                                 (&#x27;impute_MF&#x27;,\n",
       "                                  ImputeGroupbyMode(group=&#x27;Resource Allocation&#x27;,\n",
       "                                                    nan_feature=&#x27;Mental &#x27;\n",
       "                                                                &#x27;Fatigue &#x27;\n",
       "                                                                &#x27;Score&#x27;))])),\n",
       "                (&#x27;preprocessing&#x27;,\n",
       "                 ColumnTransformer(transformers=[(&#x27;num&#x27;, StandardScaler(),\n",
       "                                                  [&#x27;RelativeDaysJoined&#x27;,\n",
       "                                                   &#x27;Designation&#x27;,\n",
       "                                                   &#x27;Mental Fatigue Score&#x27;]),\n",
       "                                                 (&#x27;cat&#x27;, OneHotEncoder(),\n",
       "                                                  [&#x27;Gender&#x27;, &#x27;Company Type&#x27;,\n",
       "                                                   &#x27;WFH Setup Available&#x27;])])),\n",
       "                (&#x27;model&#x27;, RandomForestClassifier(random_state=42))])</pre><b>In a Jupyter environment, please rerun this cell to show the HTML representation or trust the notebook. <br />On GitHub, the HTML representation is unable to render, please try loading this page with nbviewer.org.</b></div><div class=\"sk-container\" hidden><div class=\"sk-item sk-dashed-wrapped\"><div class=\"sk-label-container\"><div class=\"sk-label sk-toggleable\"><input class=\"sk-toggleable__control sk-hidden--visually\" id=\"sk-estimator-id-203\" type=\"checkbox\" ><label for=\"sk-estimator-id-203\" class=\"sk-toggleable__label sk-toggleable__label-arrow\">Pipeline</label><div class=\"sk-toggleable__content\"><pre>Pipeline(steps=[(&#x27;imputer_na&#x27;,\n",
       "                 Pipeline(steps=[(&#x27;impute_RA&#x27;,\n",
       "                                  ImputeGroupbyMode(group=&#x27;Designation&#x27;,\n",
       "                                                    nan_feature=&#x27;Resource &#x27;\n",
       "                                                                &#x27;Allocation&#x27;)),\n",
       "                                 (&#x27;impute_MF&#x27;,\n",
       "                                  ImputeGroupbyMode(group=&#x27;Resource Allocation&#x27;,\n",
       "                                                    nan_feature=&#x27;Mental &#x27;\n",
       "                                                                &#x27;Fatigue &#x27;\n",
       "                                                                &#x27;Score&#x27;))])),\n",
       "                (&#x27;preprocessing&#x27;,\n",
       "                 ColumnTransformer(transformers=[(&#x27;num&#x27;, StandardScaler(),\n",
       "                                                  [&#x27;RelativeDaysJoined&#x27;,\n",
       "                                                   &#x27;Designation&#x27;,\n",
       "                                                   &#x27;Mental Fatigue Score&#x27;]),\n",
       "                                                 (&#x27;cat&#x27;, OneHotEncoder(),\n",
       "                                                  [&#x27;Gender&#x27;, &#x27;Company Type&#x27;,\n",
       "                                                   &#x27;WFH Setup Available&#x27;])])),\n",
       "                (&#x27;model&#x27;, RandomForestClassifier(random_state=42))])</pre></div></div></div><div class=\"sk-serial\"><div class=\"sk-item\"><div class=\"sk-label-container\"><div class=\"sk-label sk-toggleable\"><input class=\"sk-toggleable__control sk-hidden--visually\" id=\"sk-estimator-id-204\" type=\"checkbox\" ><label for=\"sk-estimator-id-204\" class=\"sk-toggleable__label sk-toggleable__label-arrow\">imputer_na: Pipeline</label><div class=\"sk-toggleable__content\"><pre>Pipeline(steps=[(&#x27;impute_RA&#x27;,\n",
       "                 ImputeGroupbyMode(group=&#x27;Designation&#x27;,\n",
       "                                   nan_feature=&#x27;Resource Allocation&#x27;)),\n",
       "                (&#x27;impute_MF&#x27;,\n",
       "                 ImputeGroupbyMode(group=&#x27;Resource Allocation&#x27;,\n",
       "                                   nan_feature=&#x27;Mental Fatigue Score&#x27;))])</pre></div></div></div><div class=\"sk-serial\"><div class=\"sk-item\"><div class=\"sk-estimator sk-toggleable\"><input class=\"sk-toggleable__control sk-hidden--visually\" id=\"sk-estimator-id-205\" type=\"checkbox\" ><label for=\"sk-estimator-id-205\" class=\"sk-toggleable__label sk-toggleable__label-arrow\">ImputeGroupbyMode</label><div class=\"sk-toggleable__content\"><pre>ImputeGroupbyMode(group=&#x27;Designation&#x27;, nan_feature=&#x27;Resource Allocation&#x27;)</pre></div></div></div><div class=\"sk-item\"><div class=\"sk-estimator sk-toggleable\"><input class=\"sk-toggleable__control sk-hidden--visually\" id=\"sk-estimator-id-206\" type=\"checkbox\" ><label for=\"sk-estimator-id-206\" class=\"sk-toggleable__label sk-toggleable__label-arrow\">ImputeGroupbyMode</label><div class=\"sk-toggleable__content\"><pre>ImputeGroupbyMode(group=&#x27;Resource Allocation&#x27;,\n",
       "                  nan_feature=&#x27;Mental Fatigue Score&#x27;)</pre></div></div></div></div></div><div class=\"sk-item sk-dashed-wrapped\"><div class=\"sk-label-container\"><div class=\"sk-label sk-toggleable\"><input class=\"sk-toggleable__control sk-hidden--visually\" id=\"sk-estimator-id-207\" type=\"checkbox\" ><label for=\"sk-estimator-id-207\" class=\"sk-toggleable__label sk-toggleable__label-arrow\">preprocessing: ColumnTransformer</label><div class=\"sk-toggleable__content\"><pre>ColumnTransformer(transformers=[(&#x27;num&#x27;, StandardScaler(),\n",
       "                                 [&#x27;RelativeDaysJoined&#x27;, &#x27;Designation&#x27;,\n",
       "                                  &#x27;Mental Fatigue Score&#x27;]),\n",
       "                                (&#x27;cat&#x27;, OneHotEncoder(),\n",
       "                                 [&#x27;Gender&#x27;, &#x27;Company Type&#x27;,\n",
       "                                  &#x27;WFH Setup Available&#x27;])])</pre></div></div></div><div class=\"sk-parallel\"><div class=\"sk-parallel-item\"><div class=\"sk-item\"><div class=\"sk-label-container\"><div class=\"sk-label sk-toggleable\"><input class=\"sk-toggleable__control sk-hidden--visually\" id=\"sk-estimator-id-208\" type=\"checkbox\" ><label for=\"sk-estimator-id-208\" class=\"sk-toggleable__label sk-toggleable__label-arrow\">num</label><div class=\"sk-toggleable__content\"><pre>[&#x27;RelativeDaysJoined&#x27;, &#x27;Designation&#x27;, &#x27;Mental Fatigue Score&#x27;]</pre></div></div></div><div class=\"sk-serial\"><div class=\"sk-item\"><div class=\"sk-estimator sk-toggleable\"><input class=\"sk-toggleable__control sk-hidden--visually\" id=\"sk-estimator-id-209\" type=\"checkbox\" ><label for=\"sk-estimator-id-209\" class=\"sk-toggleable__label sk-toggleable__label-arrow\">StandardScaler</label><div class=\"sk-toggleable__content\"><pre>StandardScaler()</pre></div></div></div></div></div></div><div class=\"sk-parallel-item\"><div class=\"sk-item\"><div class=\"sk-label-container\"><div class=\"sk-label sk-toggleable\"><input class=\"sk-toggleable__control sk-hidden--visually\" id=\"sk-estimator-id-210\" type=\"checkbox\" ><label for=\"sk-estimator-id-210\" class=\"sk-toggleable__label sk-toggleable__label-arrow\">cat</label><div class=\"sk-toggleable__content\"><pre>[&#x27;Gender&#x27;, &#x27;Company Type&#x27;, &#x27;WFH Setup Available&#x27;]</pre></div></div></div><div class=\"sk-serial\"><div class=\"sk-item\"><div class=\"sk-estimator sk-toggleable\"><input class=\"sk-toggleable__control sk-hidden--visually\" id=\"sk-estimator-id-211\" type=\"checkbox\" ><label for=\"sk-estimator-id-211\" class=\"sk-toggleable__label sk-toggleable__label-arrow\">OneHotEncoder</label><div class=\"sk-toggleable__content\"><pre>OneHotEncoder()</pre></div></div></div></div></div></div></div></div><div class=\"sk-item\"><div class=\"sk-estimator sk-toggleable\"><input class=\"sk-toggleable__control sk-hidden--visually\" id=\"sk-estimator-id-212\" type=\"checkbox\" ><label for=\"sk-estimator-id-212\" class=\"sk-toggleable__label sk-toggleable__label-arrow\">RandomForestClassifier</label><div class=\"sk-toggleable__content\"><pre>RandomForestClassifier(random_state=42)</pre></div></div></div></div></div></div></div>"
      ],
      "text/plain": [
       "Pipeline(steps=[('imputer_na',\n",
       "                 Pipeline(steps=[('impute_RA',\n",
       "                                  ImputeGroupbyMode(group='Designation',\n",
       "                                                    nan_feature='Resource '\n",
       "                                                                'Allocation')),\n",
       "                                 ('impute_MF',\n",
       "                                  ImputeGroupbyMode(group='Resource Allocation',\n",
       "                                                    nan_feature='Mental '\n",
       "                                                                'Fatigue '\n",
       "                                                                'Score'))])),\n",
       "                ('preprocessing',\n",
       "                 ColumnTransformer(transformers=[('num', StandardScaler(),\n",
       "                                                  ['RelativeDaysJoined',\n",
       "                                                   'Designation',\n",
       "                                                   'Mental Fatigue Score']),\n",
       "                                                 ('cat', OneHotEncoder(),\n",
       "                                                  ['Gender', 'Company Type',\n",
       "                                                   'WFH Setup Available'])])),\n",
       "                ('model', RandomForestClassifier(random_state=42))])"
      ]
     },
     "execution_count": 292,
     "metadata": {},
     "output_type": "execute_result"
    }
   ],
   "source": [
    "RFCmodel_pipeline"
   ]
  },
  {
   "cell_type": "code",
   "execution_count": 293,
   "id": "b8c91e7d-0b01-4e21-bb26-1a82ab2d792f",
   "metadata": {
    "scrolled": true
   },
   "outputs": [
    {
     "data": {
      "text/html": [
       "<style>#sk-container-id-27 {color: black;}#sk-container-id-27 pre{padding: 0;}#sk-container-id-27 div.sk-toggleable {background-color: white;}#sk-container-id-27 label.sk-toggleable__label {cursor: pointer;display: block;width: 100%;margin-bottom: 0;padding: 0.3em;box-sizing: border-box;text-align: center;}#sk-container-id-27 label.sk-toggleable__label-arrow:before {content: \"▸\";float: left;margin-right: 0.25em;color: #696969;}#sk-container-id-27 label.sk-toggleable__label-arrow:hover:before {color: black;}#sk-container-id-27 div.sk-estimator:hover label.sk-toggleable__label-arrow:before {color: black;}#sk-container-id-27 div.sk-toggleable__content {max-height: 0;max-width: 0;overflow: hidden;text-align: left;background-color: #f0f8ff;}#sk-container-id-27 div.sk-toggleable__content pre {margin: 0.2em;color: black;border-radius: 0.25em;background-color: #f0f8ff;}#sk-container-id-27 input.sk-toggleable__control:checked~div.sk-toggleable__content {max-height: 200px;max-width: 100%;overflow: auto;}#sk-container-id-27 input.sk-toggleable__control:checked~label.sk-toggleable__label-arrow:before {content: \"▾\";}#sk-container-id-27 div.sk-estimator input.sk-toggleable__control:checked~label.sk-toggleable__label {background-color: #d4ebff;}#sk-container-id-27 div.sk-label input.sk-toggleable__control:checked~label.sk-toggleable__label {background-color: #d4ebff;}#sk-container-id-27 input.sk-hidden--visually {border: 0;clip: rect(1px 1px 1px 1px);clip: rect(1px, 1px, 1px, 1px);height: 1px;margin: -1px;overflow: hidden;padding: 0;position: absolute;width: 1px;}#sk-container-id-27 div.sk-estimator {font-family: monospace;background-color: #f0f8ff;border: 1px dotted black;border-radius: 0.25em;box-sizing: border-box;margin-bottom: 0.5em;}#sk-container-id-27 div.sk-estimator:hover {background-color: #d4ebff;}#sk-container-id-27 div.sk-parallel-item::after {content: \"\";width: 100%;border-bottom: 1px solid gray;flex-grow: 1;}#sk-container-id-27 div.sk-label:hover label.sk-toggleable__label {background-color: #d4ebff;}#sk-container-id-27 div.sk-serial::before {content: \"\";position: absolute;border-left: 1px solid gray;box-sizing: border-box;top: 0;bottom: 0;left: 50%;z-index: 0;}#sk-container-id-27 div.sk-serial {display: flex;flex-direction: column;align-items: center;background-color: white;padding-right: 0.2em;padding-left: 0.2em;position: relative;}#sk-container-id-27 div.sk-item {position: relative;z-index: 1;}#sk-container-id-27 div.sk-parallel {display: flex;align-items: stretch;justify-content: center;background-color: white;position: relative;}#sk-container-id-27 div.sk-item::before, #sk-container-id-27 div.sk-parallel-item::before {content: \"\";position: absolute;border-left: 1px solid gray;box-sizing: border-box;top: 0;bottom: 0;left: 50%;z-index: -1;}#sk-container-id-27 div.sk-parallel-item {display: flex;flex-direction: column;z-index: 1;position: relative;background-color: white;}#sk-container-id-27 div.sk-parallel-item:first-child::after {align-self: flex-end;width: 50%;}#sk-container-id-27 div.sk-parallel-item:last-child::after {align-self: flex-start;width: 50%;}#sk-container-id-27 div.sk-parallel-item:only-child::after {width: 0;}#sk-container-id-27 div.sk-dashed-wrapped {border: 1px dashed gray;margin: 0 0.4em 0.5em 0.4em;box-sizing: border-box;padding-bottom: 0.4em;background-color: white;}#sk-container-id-27 div.sk-label label {font-family: monospace;font-weight: bold;display: inline-block;line-height: 1.2em;}#sk-container-id-27 div.sk-label-container {text-align: center;}#sk-container-id-27 div.sk-container {/* jupyter's `normalize.less` sets `[hidden] { display: none; }` but bootstrap.min.css set `[hidden] { display: none !important; }` so we also need the `!important` here to be able to override the default hidden behavior on the sphinx rendered scikit-learn.org. See: https://github.com/scikit-learn/scikit-learn/issues/21755 */display: inline-block !important;position: relative;}#sk-container-id-27 div.sk-text-repr-fallback {display: none;}</style><div id=\"sk-container-id-27\" class=\"sk-top-container\"><div class=\"sk-text-repr-fallback\"><pre>Pipeline(steps=[(&#x27;imputer_na&#x27;,\n",
       "                 Pipeline(steps=[(&#x27;impute_RA&#x27;,\n",
       "                                  ImputeGroupbyMode(group=&#x27;Designation&#x27;,\n",
       "                                                    nan_feature=&#x27;Resource &#x27;\n",
       "                                                                &#x27;Allocation&#x27;)),\n",
       "                                 (&#x27;impute_MF&#x27;,\n",
       "                                  ImputeGroupbyMode(group=&#x27;Resource Allocation&#x27;,\n",
       "                                                    nan_feature=&#x27;Mental &#x27;\n",
       "                                                                &#x27;Fatigue &#x27;\n",
       "                                                                &#x27;Score&#x27;))])),\n",
       "                (&#x27;preprocessing&#x27;,\n",
       "                 ColumnTransformer(transformers=[(&#x27;num&#x27;, StandardScaler(),\n",
       "                                                  [&#x27;RelativeDaysJoined&#x27;,\n",
       "                                                   &#x27;Designation&#x27;,\n",
       "                                                   &#x27;Mental Fatigue Score&#x27;]),\n",
       "                                                 (&#x27;cat&#x27;, OneHotEncoder(),\n",
       "                                                  [&#x27;Gender&#x27;, &#x27;Company Type&#x27;,\n",
       "                                                   &#x27;WFH Setup Available&#x27;])])),\n",
       "                (&#x27;model&#x27;, RandomForestClassifier(random_state=42))])</pre><b>In a Jupyter environment, please rerun this cell to show the HTML representation or trust the notebook. <br />On GitHub, the HTML representation is unable to render, please try loading this page with nbviewer.org.</b></div><div class=\"sk-container\" hidden><div class=\"sk-item sk-dashed-wrapped\"><div class=\"sk-label-container\"><div class=\"sk-label sk-toggleable\"><input class=\"sk-toggleable__control sk-hidden--visually\" id=\"sk-estimator-id-213\" type=\"checkbox\" ><label for=\"sk-estimator-id-213\" class=\"sk-toggleable__label sk-toggleable__label-arrow\">Pipeline</label><div class=\"sk-toggleable__content\"><pre>Pipeline(steps=[(&#x27;imputer_na&#x27;,\n",
       "                 Pipeline(steps=[(&#x27;impute_RA&#x27;,\n",
       "                                  ImputeGroupbyMode(group=&#x27;Designation&#x27;,\n",
       "                                                    nan_feature=&#x27;Resource &#x27;\n",
       "                                                                &#x27;Allocation&#x27;)),\n",
       "                                 (&#x27;impute_MF&#x27;,\n",
       "                                  ImputeGroupbyMode(group=&#x27;Resource Allocation&#x27;,\n",
       "                                                    nan_feature=&#x27;Mental &#x27;\n",
       "                                                                &#x27;Fatigue &#x27;\n",
       "                                                                &#x27;Score&#x27;))])),\n",
       "                (&#x27;preprocessing&#x27;,\n",
       "                 ColumnTransformer(transformers=[(&#x27;num&#x27;, StandardScaler(),\n",
       "                                                  [&#x27;RelativeDaysJoined&#x27;,\n",
       "                                                   &#x27;Designation&#x27;,\n",
       "                                                   &#x27;Mental Fatigue Score&#x27;]),\n",
       "                                                 (&#x27;cat&#x27;, OneHotEncoder(),\n",
       "                                                  [&#x27;Gender&#x27;, &#x27;Company Type&#x27;,\n",
       "                                                   &#x27;WFH Setup Available&#x27;])])),\n",
       "                (&#x27;model&#x27;, RandomForestClassifier(random_state=42))])</pre></div></div></div><div class=\"sk-serial\"><div class=\"sk-item\"><div class=\"sk-label-container\"><div class=\"sk-label sk-toggleable\"><input class=\"sk-toggleable__control sk-hidden--visually\" id=\"sk-estimator-id-214\" type=\"checkbox\" ><label for=\"sk-estimator-id-214\" class=\"sk-toggleable__label sk-toggleable__label-arrow\">imputer_na: Pipeline</label><div class=\"sk-toggleable__content\"><pre>Pipeline(steps=[(&#x27;impute_RA&#x27;,\n",
       "                 ImputeGroupbyMode(group=&#x27;Designation&#x27;,\n",
       "                                   nan_feature=&#x27;Resource Allocation&#x27;)),\n",
       "                (&#x27;impute_MF&#x27;,\n",
       "                 ImputeGroupbyMode(group=&#x27;Resource Allocation&#x27;,\n",
       "                                   nan_feature=&#x27;Mental Fatigue Score&#x27;))])</pre></div></div></div><div class=\"sk-serial\"><div class=\"sk-item\"><div class=\"sk-estimator sk-toggleable\"><input class=\"sk-toggleable__control sk-hidden--visually\" id=\"sk-estimator-id-215\" type=\"checkbox\" ><label for=\"sk-estimator-id-215\" class=\"sk-toggleable__label sk-toggleable__label-arrow\">ImputeGroupbyMode</label><div class=\"sk-toggleable__content\"><pre>ImputeGroupbyMode(group=&#x27;Designation&#x27;, nan_feature=&#x27;Resource Allocation&#x27;)</pre></div></div></div><div class=\"sk-item\"><div class=\"sk-estimator sk-toggleable\"><input class=\"sk-toggleable__control sk-hidden--visually\" id=\"sk-estimator-id-216\" type=\"checkbox\" ><label for=\"sk-estimator-id-216\" class=\"sk-toggleable__label sk-toggleable__label-arrow\">ImputeGroupbyMode</label><div class=\"sk-toggleable__content\"><pre>ImputeGroupbyMode(group=&#x27;Resource Allocation&#x27;,\n",
       "                  nan_feature=&#x27;Mental Fatigue Score&#x27;)</pre></div></div></div></div></div><div class=\"sk-item sk-dashed-wrapped\"><div class=\"sk-label-container\"><div class=\"sk-label sk-toggleable\"><input class=\"sk-toggleable__control sk-hidden--visually\" id=\"sk-estimator-id-217\" type=\"checkbox\" ><label for=\"sk-estimator-id-217\" class=\"sk-toggleable__label sk-toggleable__label-arrow\">preprocessing: ColumnTransformer</label><div class=\"sk-toggleable__content\"><pre>ColumnTransformer(transformers=[(&#x27;num&#x27;, StandardScaler(),\n",
       "                                 [&#x27;RelativeDaysJoined&#x27;, &#x27;Designation&#x27;,\n",
       "                                  &#x27;Mental Fatigue Score&#x27;]),\n",
       "                                (&#x27;cat&#x27;, OneHotEncoder(),\n",
       "                                 [&#x27;Gender&#x27;, &#x27;Company Type&#x27;,\n",
       "                                  &#x27;WFH Setup Available&#x27;])])</pre></div></div></div><div class=\"sk-parallel\"><div class=\"sk-parallel-item\"><div class=\"sk-item\"><div class=\"sk-label-container\"><div class=\"sk-label sk-toggleable\"><input class=\"sk-toggleable__control sk-hidden--visually\" id=\"sk-estimator-id-218\" type=\"checkbox\" ><label for=\"sk-estimator-id-218\" class=\"sk-toggleable__label sk-toggleable__label-arrow\">num</label><div class=\"sk-toggleable__content\"><pre>[&#x27;RelativeDaysJoined&#x27;, &#x27;Designation&#x27;, &#x27;Mental Fatigue Score&#x27;]</pre></div></div></div><div class=\"sk-serial\"><div class=\"sk-item\"><div class=\"sk-estimator sk-toggleable\"><input class=\"sk-toggleable__control sk-hidden--visually\" id=\"sk-estimator-id-219\" type=\"checkbox\" ><label for=\"sk-estimator-id-219\" class=\"sk-toggleable__label sk-toggleable__label-arrow\">StandardScaler</label><div class=\"sk-toggleable__content\"><pre>StandardScaler()</pre></div></div></div></div></div></div><div class=\"sk-parallel-item\"><div class=\"sk-item\"><div class=\"sk-label-container\"><div class=\"sk-label sk-toggleable\"><input class=\"sk-toggleable__control sk-hidden--visually\" id=\"sk-estimator-id-220\" type=\"checkbox\" ><label for=\"sk-estimator-id-220\" class=\"sk-toggleable__label sk-toggleable__label-arrow\">cat</label><div class=\"sk-toggleable__content\"><pre>[&#x27;Gender&#x27;, &#x27;Company Type&#x27;, &#x27;WFH Setup Available&#x27;]</pre></div></div></div><div class=\"sk-serial\"><div class=\"sk-item\"><div class=\"sk-estimator sk-toggleable\"><input class=\"sk-toggleable__control sk-hidden--visually\" id=\"sk-estimator-id-221\" type=\"checkbox\" ><label for=\"sk-estimator-id-221\" class=\"sk-toggleable__label sk-toggleable__label-arrow\">OneHotEncoder</label><div class=\"sk-toggleable__content\"><pre>OneHotEncoder()</pre></div></div></div></div></div></div></div></div><div class=\"sk-item\"><div class=\"sk-estimator sk-toggleable\"><input class=\"sk-toggleable__control sk-hidden--visually\" id=\"sk-estimator-id-222\" type=\"checkbox\" ><label for=\"sk-estimator-id-222\" class=\"sk-toggleable__label sk-toggleable__label-arrow\">RandomForestClassifier</label><div class=\"sk-toggleable__content\"><pre>RandomForestClassifier(random_state=42)</pre></div></div></div></div></div></div></div>"
      ],
      "text/plain": [
       "Pipeline(steps=[('imputer_na',\n",
       "                 Pipeline(steps=[('impute_RA',\n",
       "                                  ImputeGroupbyMode(group='Designation',\n",
       "                                                    nan_feature='Resource '\n",
       "                                                                'Allocation')),\n",
       "                                 ('impute_MF',\n",
       "                                  ImputeGroupbyMode(group='Resource Allocation',\n",
       "                                                    nan_feature='Mental '\n",
       "                                                                'Fatigue '\n",
       "                                                                'Score'))])),\n",
       "                ('preprocessing',\n",
       "                 ColumnTransformer(transformers=[('num', StandardScaler(),\n",
       "                                                  ['RelativeDaysJoined',\n",
       "                                                   'Designation',\n",
       "                                                   'Mental Fatigue Score']),\n",
       "                                                 ('cat', OneHotEncoder(),\n",
       "                                                  ['Gender', 'Company Type',\n",
       "                                                   'WFH Setup Available'])])),\n",
       "                ('model', RandomForestClassifier(random_state=42))])"
      ]
     },
     "execution_count": 293,
     "metadata": {},
     "output_type": "execute_result"
    }
   ],
   "source": [
    "RFCmodel_pipeline.fit(train_X, train_y)"
   ]
  },
  {
   "cell_type": "code",
   "execution_count": 295,
   "id": "9befb5b8-90e9-4163-b4fa-d171302347da",
   "metadata": {},
   "outputs": [
    {
     "data": {
      "text/plain": [
       "array(['num__RelativeDaysJoined', 'num__Designation',\n",
       "       'num__Mental Fatigue Score', 'cat__Gender_Female',\n",
       "       'cat__Gender_Male', 'cat__Company Type_Product',\n",
       "       'cat__Company Type_Service', 'cat__WFH Setup Available_No',\n",
       "       'cat__WFH Setup Available_Yes'], dtype=object)"
      ]
     },
     "execution_count": 295,
     "metadata": {},
     "output_type": "execute_result"
    }
   ],
   "source": [
    "#전처리된 Features 확인 \n",
    "preprocessor.fit_transform(train_X)\n",
    "preprocessor.get_feature_names_out()"
   ]
  },
  {
   "cell_type": "markdown",
   "id": "7adfac09-2c86-45aa-b087-1080826d1651",
   "metadata": {},
   "source": [
    "연속형 변수 3개(1개 제외), 범주형 3개 one-hot * 2 = 총 6개 <br>\n",
    "9개의 features "
   ]
  },
  {
   "cell_type": "code",
   "execution_count": 296,
   "id": "4e45730b-1fe2-4232-a54f-bbe4e3c682db",
   "metadata": {},
   "outputs": [
    {
     "data": {
      "text/html": [
       "<div>\n",
       "<style scoped>\n",
       "    .dataframe tbody tr th:only-of-type {\n",
       "        vertical-align: middle;\n",
       "    }\n",
       "\n",
       "    .dataframe tbody tr th {\n",
       "        vertical-align: top;\n",
       "    }\n",
       "\n",
       "    .dataframe thead th {\n",
       "        text-align: right;\n",
       "    }\n",
       "</style>\n",
       "<table border=\"1\" class=\"dataframe\">\n",
       "  <thead>\n",
       "    <tr style=\"text-align: right;\">\n",
       "      <th></th>\n",
       "      <th>0</th>\n",
       "      <th>1</th>\n",
       "      <th>2</th>\n",
       "      <th>3</th>\n",
       "      <th>4</th>\n",
       "      <th>5</th>\n",
       "      <th>6</th>\n",
       "      <th>7</th>\n",
       "      <th>8</th>\n",
       "    </tr>\n",
       "  </thead>\n",
       "  <tbody>\n",
       "    <tr>\n",
       "      <th>0</th>\n",
       "      <td>1.354130</td>\n",
       "      <td>1.606280</td>\n",
       "      <td>1.484932</td>\n",
       "      <td>0.0</td>\n",
       "      <td>1.0</td>\n",
       "      <td>1.0</td>\n",
       "      <td>0.0</td>\n",
       "      <td>1.0</td>\n",
       "      <td>0.0</td>\n",
       "    </tr>\n",
       "    <tr>\n",
       "      <th>1</th>\n",
       "      <td>-0.172011</td>\n",
       "      <td>-0.159311</td>\n",
       "      <td>0.969197</td>\n",
       "      <td>0.0</td>\n",
       "      <td>1.0</td>\n",
       "      <td>0.0</td>\n",
       "      <td>1.0</td>\n",
       "      <td>1.0</td>\n",
       "      <td>0.0</td>\n",
       "    </tr>\n",
       "    <tr>\n",
       "      <th>2</th>\n",
       "      <td>-1.148363</td>\n",
       "      <td>-1.042107</td>\n",
       "      <td>0.659756</td>\n",
       "      <td>1.0</td>\n",
       "      <td>0.0</td>\n",
       "      <td>1.0</td>\n",
       "      <td>0.0</td>\n",
       "      <td>0.0</td>\n",
       "      <td>1.0</td>\n",
       "    </tr>\n",
       "    <tr>\n",
       "      <th>3</th>\n",
       "      <td>-0.882947</td>\n",
       "      <td>1.606280</td>\n",
       "      <td>0.505036</td>\n",
       "      <td>0.0</td>\n",
       "      <td>1.0</td>\n",
       "      <td>0.0</td>\n",
       "      <td>1.0</td>\n",
       "      <td>1.0</td>\n",
       "      <td>0.0</td>\n",
       "    </tr>\n",
       "    <tr>\n",
       "      <th>4</th>\n",
       "      <td>-1.063050</td>\n",
       "      <td>-1.042107</td>\n",
       "      <td>-0.939022</td>\n",
       "      <td>1.0</td>\n",
       "      <td>0.0</td>\n",
       "      <td>0.0</td>\n",
       "      <td>1.0</td>\n",
       "      <td>1.0</td>\n",
       "      <td>0.0</td>\n",
       "    </tr>\n",
       "    <tr>\n",
       "      <th>...</th>\n",
       "      <td>...</td>\n",
       "      <td>...</td>\n",
       "      <td>...</td>\n",
       "      <td>...</td>\n",
       "      <td>...</td>\n",
       "      <td>...</td>\n",
       "      <td>...</td>\n",
       "      <td>...</td>\n",
       "      <td>...</td>\n",
       "    </tr>\n",
       "    <tr>\n",
       "      <th>17295</th>\n",
       "      <td>0.851736</td>\n",
       "      <td>0.723484</td>\n",
       "      <td>0.298742</td>\n",
       "      <td>0.0</td>\n",
       "      <td>1.0</td>\n",
       "      <td>0.0</td>\n",
       "      <td>1.0</td>\n",
       "      <td>0.0</td>\n",
       "      <td>1.0</td>\n",
       "    </tr>\n",
       "    <tr>\n",
       "      <th>17296</th>\n",
       "      <td>-0.522739</td>\n",
       "      <td>-0.159311</td>\n",
       "      <td>0.247168</td>\n",
       "      <td>0.0</td>\n",
       "      <td>1.0</td>\n",
       "      <td>1.0</td>\n",
       "      <td>0.0</td>\n",
       "      <td>1.0</td>\n",
       "      <td>0.0</td>\n",
       "    </tr>\n",
       "    <tr>\n",
       "      <th>17297</th>\n",
       "      <td>-1.603361</td>\n",
       "      <td>-0.159311</td>\n",
       "      <td>-0.681155</td>\n",
       "      <td>0.0</td>\n",
       "      <td>1.0</td>\n",
       "      <td>0.0</td>\n",
       "      <td>1.0</td>\n",
       "      <td>0.0</td>\n",
       "      <td>1.0</td>\n",
       "    </tr>\n",
       "    <tr>\n",
       "      <th>17298</th>\n",
       "      <td>-0.958780</td>\n",
       "      <td>-1.042107</td>\n",
       "      <td>0.247168</td>\n",
       "      <td>0.0</td>\n",
       "      <td>1.0</td>\n",
       "      <td>0.0</td>\n",
       "      <td>1.0</td>\n",
       "      <td>0.0</td>\n",
       "      <td>1.0</td>\n",
       "    </tr>\n",
       "    <tr>\n",
       "      <th>17299</th>\n",
       "      <td>-0.617531</td>\n",
       "      <td>0.723484</td>\n",
       "      <td>0.247168</td>\n",
       "      <td>1.0</td>\n",
       "      <td>0.0</td>\n",
       "      <td>0.0</td>\n",
       "      <td>1.0</td>\n",
       "      <td>1.0</td>\n",
       "      <td>0.0</td>\n",
       "    </tr>\n",
       "  </tbody>\n",
       "</table>\n",
       "<p>17300 rows × 9 columns</p>\n",
       "</div>"
      ],
      "text/plain": [
       "              0         1         2    3    4    5    6    7    8\n",
       "0      1.354130  1.606280  1.484932  0.0  1.0  1.0  0.0  1.0  0.0\n",
       "1     -0.172011 -0.159311  0.969197  0.0  1.0  0.0  1.0  1.0  0.0\n",
       "2     -1.148363 -1.042107  0.659756  1.0  0.0  1.0  0.0  0.0  1.0\n",
       "3     -0.882947  1.606280  0.505036  0.0  1.0  0.0  1.0  1.0  0.0\n",
       "4     -1.063050 -1.042107 -0.939022  1.0  0.0  0.0  1.0  1.0  0.0\n",
       "...         ...       ...       ...  ...  ...  ...  ...  ...  ...\n",
       "17295  0.851736  0.723484  0.298742  0.0  1.0  0.0  1.0  0.0  1.0\n",
       "17296 -0.522739 -0.159311  0.247168  0.0  1.0  1.0  0.0  1.0  0.0\n",
       "17297 -1.603361 -0.159311 -0.681155  0.0  1.0  0.0  1.0  0.0  1.0\n",
       "17298 -0.958780 -1.042107  0.247168  0.0  1.0  0.0  1.0  0.0  1.0\n",
       "17299 -0.617531  0.723484  0.247168  1.0  0.0  0.0  1.0  1.0  0.0\n",
       "\n",
       "[17300 rows x 9 columns]"
      ]
     },
     "execution_count": 296,
     "metadata": {},
     "output_type": "execute_result"
    }
   ],
   "source": [
    "#파이프라인 전처리 잘 됬는지 확인\n",
    "\n",
    "transformed_data = RFCmodel_pipeline.named_steps['preprocessing'].fit_transform(train_X)\n",
    "transformed_X_df = pd.DataFrame(transformed_data)\n",
    "transformed_X_df"
   ]
  },
  {
   "cell_type": "markdown",
   "id": "33387e8b-3367-420d-b82e-fe934ab0d2f1",
   "metadata": {},
   "source": [
    "#### 6-1-1 rfc model scoring"
   ]
  },
  {
   "cell_type": "code",
   "execution_count": 92,
   "id": "d9250b33-2da9-4a5c-a8b9-d3ec2618ecd6",
   "metadata": {},
   "outputs": [
    {
     "data": {
      "text/plain": [
       "array([5, 8, 7, ..., 7, 5, 5])"
      ]
     },
     "execution_count": 92,
     "metadata": {},
     "output_type": "execute_result"
    }
   ],
   "source": [
    "burnout_predictions = RFCmodel_pipeline.predict(valid_X)\n",
    "burnout_predictions"
   ]
  },
  {
   "cell_type": "code",
   "execution_count": 154,
   "id": "dd0c824a-82ff-425f-bc9c-eb6251ef5983",
   "metadata": {},
   "outputs": [
    {
     "name": "stdout",
     "output_type": "stream",
     "text": [
      "accuracy = 0.9898843930635838\n"
     ]
    }
   ],
   "source": [
    "# 모델을 훈련 데이터에 맞추기\n",
    "RFCmodel_pipeline.fit(train_X, train_y)\n",
    "\n",
    "# 훈련 데이터에 대한 예측 수행\n",
    "train_pred = RFCmodel_pipeline.predict(train_X)\n",
    "\n",
    "# 정확도 계산\n",
    "accuracy = accuracy_score(train_y, train_pred)\n",
    "print(f'accuracy = {accuracy}')"
   ]
  },
  {
   "cell_type": "code",
   "execution_count": 156,
   "id": "8ac34b20-55fd-4541-bd30-332bda1be55f",
   "metadata": {},
   "outputs": [
    {
     "name": "stdout",
     "output_type": "stream",
     "text": [
      "accuracy = 0.9965325936199723\n"
     ]
    }
   ],
   "source": [
    "# 모델을 훈련 데이터에 맞추기\n",
    "RFCmodel_pipeline.fit(valid_X, valid_y)\n",
    "\n",
    "# 훈련 데이터에 대한 예측 수행\n",
    "valid_pred = RFCmodel_pipeline.predict(valid_X)\n",
    "\n",
    "# 정확도 계산\n",
    "accuracy = accuracy_score(valid_y, valid_pred)\n",
    "print(f'accuracy = {accuracy}')"
   ]
  },
  {
   "cell_type": "code",
   "execution_count": 157,
   "id": "27d0c0ae-3b85-4f42-8359-4d0be11fa8e7",
   "metadata": {},
   "outputs": [
    {
     "data": {
      "text/plain": [
       "0.9965325936199723"
      ]
     },
     "execution_count": 157,
     "metadata": {},
     "output_type": "execute_result"
    }
   ],
   "source": [
    "RFCmodel_pipeline.score(valid_X, valid_y)"
   ]
  },
  {
   "cell_type": "markdown",
   "id": "212e5400-ec14-47ac-8739-80495e830566",
   "metadata": {},
   "source": [
    "-> 과적합"
   ]
  },
  {
   "cell_type": "code",
   "execution_count": 132,
   "id": "f63cb0c1-e263-4e61-9d91-67d5a7140da2",
   "metadata": {},
   "outputs": [
    {
     "name": "stdout",
     "output_type": "stream",
     "text": [
      "RelativeDaysJoined: 0.45074777726128734\n",
      "Gender: 0.07766328126532504\n",
      "Company Type: 0.42844088359108257\n",
      "WFH Setup Available: 0.005265952020765522\n",
      "Designation: 0.00465963992220419\n",
      "Resource Allocation: 0.005219847593253596\n",
      "Mental Fatigue Score: 0.005203651741660852\n"
     ]
    }
   ],
   "source": [
    "# RFCmodel_pipeline에서 랜덤 포레스트 분류기 객체 얻기\n",
    "rfc= RFCmodel_pipeline.named_steps['model']\n",
    "\n",
    "# 피쳐 중요도 확인\n",
    "feature_importance = rfc.feature_importances_\n",
    "\n",
    "# 각 피쳐의 중요도 출력\n",
    "for feature, importance in zip(features, feature_importance):\n",
    "    print(f\"{feature}: {importance}\")"
   ]
  },
  {
   "cell_type": "markdown",
   "id": "65ebb586-2dd9-45c5-a506-2f49b2e92543",
   "metadata": {},
   "source": [
    "--------\n",
    "원인 찾기 1. 독립 변수들 간의 상관관계 확인 <br>\n",
    " <b> 1. 제거할 불필요한 features  </b>"
   ]
  },
  {
   "cell_type": "markdown",
   "id": "789ee36c-6c8c-4e14-a1fe-999876a64baf",
   "metadata": {
    "jp-MarkdownHeadingCollapsed": true
   },
   "source": [
    "##### 특성 제거전"
   ]
  },
  {
   "cell_type": "code",
   "execution_count": 299,
   "id": "5cff2e7a-2917-4b39-abd8-68d1509bcd65",
   "metadata": {},
   "outputs": [],
   "source": [
    "from sklearn.ensemble import RandomForestClassifier\n",
    "#특성 제거전\n",
    "# '전처리-모델학습'의 full pipeline - 랜덤포레스트 파이프라인 정의\n",
    "RFCmodel_pipeline_PRE = Pipeline([\n",
    "    ('imputer_na', impute_NA_pipeline),\n",
    "    ('preprocessing', preprocessor_PRE),\n",
    "    ('model', RandomForestClassifier(random_state=42))\n",
    "])"
   ]
  },
  {
   "cell_type": "code",
   "execution_count": 300,
   "id": "cff6c6f2-6546-4928-bbec-f0b62a7efd05",
   "metadata": {},
   "outputs": [
    {
     "data": {
      "text/html": [
       "<style>#sk-container-id-28 {color: black;}#sk-container-id-28 pre{padding: 0;}#sk-container-id-28 div.sk-toggleable {background-color: white;}#sk-container-id-28 label.sk-toggleable__label {cursor: pointer;display: block;width: 100%;margin-bottom: 0;padding: 0.3em;box-sizing: border-box;text-align: center;}#sk-container-id-28 label.sk-toggleable__label-arrow:before {content: \"▸\";float: left;margin-right: 0.25em;color: #696969;}#sk-container-id-28 label.sk-toggleable__label-arrow:hover:before {color: black;}#sk-container-id-28 div.sk-estimator:hover label.sk-toggleable__label-arrow:before {color: black;}#sk-container-id-28 div.sk-toggleable__content {max-height: 0;max-width: 0;overflow: hidden;text-align: left;background-color: #f0f8ff;}#sk-container-id-28 div.sk-toggleable__content pre {margin: 0.2em;color: black;border-radius: 0.25em;background-color: #f0f8ff;}#sk-container-id-28 input.sk-toggleable__control:checked~div.sk-toggleable__content {max-height: 200px;max-width: 100%;overflow: auto;}#sk-container-id-28 input.sk-toggleable__control:checked~label.sk-toggleable__label-arrow:before {content: \"▾\";}#sk-container-id-28 div.sk-estimator input.sk-toggleable__control:checked~label.sk-toggleable__label {background-color: #d4ebff;}#sk-container-id-28 div.sk-label input.sk-toggleable__control:checked~label.sk-toggleable__label {background-color: #d4ebff;}#sk-container-id-28 input.sk-hidden--visually {border: 0;clip: rect(1px 1px 1px 1px);clip: rect(1px, 1px, 1px, 1px);height: 1px;margin: -1px;overflow: hidden;padding: 0;position: absolute;width: 1px;}#sk-container-id-28 div.sk-estimator {font-family: monospace;background-color: #f0f8ff;border: 1px dotted black;border-radius: 0.25em;box-sizing: border-box;margin-bottom: 0.5em;}#sk-container-id-28 div.sk-estimator:hover {background-color: #d4ebff;}#sk-container-id-28 div.sk-parallel-item::after {content: \"\";width: 100%;border-bottom: 1px solid gray;flex-grow: 1;}#sk-container-id-28 div.sk-label:hover label.sk-toggleable__label {background-color: #d4ebff;}#sk-container-id-28 div.sk-serial::before {content: \"\";position: absolute;border-left: 1px solid gray;box-sizing: border-box;top: 0;bottom: 0;left: 50%;z-index: 0;}#sk-container-id-28 div.sk-serial {display: flex;flex-direction: column;align-items: center;background-color: white;padding-right: 0.2em;padding-left: 0.2em;position: relative;}#sk-container-id-28 div.sk-item {position: relative;z-index: 1;}#sk-container-id-28 div.sk-parallel {display: flex;align-items: stretch;justify-content: center;background-color: white;position: relative;}#sk-container-id-28 div.sk-item::before, #sk-container-id-28 div.sk-parallel-item::before {content: \"\";position: absolute;border-left: 1px solid gray;box-sizing: border-box;top: 0;bottom: 0;left: 50%;z-index: -1;}#sk-container-id-28 div.sk-parallel-item {display: flex;flex-direction: column;z-index: 1;position: relative;background-color: white;}#sk-container-id-28 div.sk-parallel-item:first-child::after {align-self: flex-end;width: 50%;}#sk-container-id-28 div.sk-parallel-item:last-child::after {align-self: flex-start;width: 50%;}#sk-container-id-28 div.sk-parallel-item:only-child::after {width: 0;}#sk-container-id-28 div.sk-dashed-wrapped {border: 1px dashed gray;margin: 0 0.4em 0.5em 0.4em;box-sizing: border-box;padding-bottom: 0.4em;background-color: white;}#sk-container-id-28 div.sk-label label {font-family: monospace;font-weight: bold;display: inline-block;line-height: 1.2em;}#sk-container-id-28 div.sk-label-container {text-align: center;}#sk-container-id-28 div.sk-container {/* jupyter's `normalize.less` sets `[hidden] { display: none; }` but bootstrap.min.css set `[hidden] { display: none !important; }` so we also need the `!important` here to be able to override the default hidden behavior on the sphinx rendered scikit-learn.org. See: https://github.com/scikit-learn/scikit-learn/issues/21755 */display: inline-block !important;position: relative;}#sk-container-id-28 div.sk-text-repr-fallback {display: none;}</style><div id=\"sk-container-id-28\" class=\"sk-top-container\"><div class=\"sk-text-repr-fallback\"><pre>Pipeline(steps=[(&#x27;imputer_na&#x27;,\n",
       "                 Pipeline(steps=[(&#x27;impute_RA&#x27;,\n",
       "                                  ImputeGroupbyMode(group=&#x27;Designation&#x27;,\n",
       "                                                    nan_feature=&#x27;Resource &#x27;\n",
       "                                                                &#x27;Allocation&#x27;)),\n",
       "                                 (&#x27;impute_MF&#x27;,\n",
       "                                  ImputeGroupbyMode(group=&#x27;Resource Allocation&#x27;,\n",
       "                                                    nan_feature=&#x27;Mental &#x27;\n",
       "                                                                &#x27;Fatigue &#x27;\n",
       "                                                                &#x27;Score&#x27;))])),\n",
       "                (&#x27;preprocessing&#x27;,\n",
       "                 ColumnTransformer(transformers=[(&#x27;num&#x27;, StandardScaler(),\n",
       "                                                  [&#x27;RelativeDaysJoined&#x27;,\n",
       "                                                   &#x27;Designation&#x27;,\n",
       "                                                   &#x27;Resource Allocation&#x27;,\n",
       "                                                   &#x27;Mental Fatigue Score&#x27;]),\n",
       "                                                 (&#x27;cat&#x27;, OneHotEncoder(),\n",
       "                                                  [&#x27;Gender&#x27;, &#x27;Company Type&#x27;,\n",
       "                                                   &#x27;WFH Setup Available&#x27;])])),\n",
       "                (&#x27;model&#x27;, RandomForestClassifier(random_state=42))])</pre><b>In a Jupyter environment, please rerun this cell to show the HTML representation or trust the notebook. <br />On GitHub, the HTML representation is unable to render, please try loading this page with nbviewer.org.</b></div><div class=\"sk-container\" hidden><div class=\"sk-item sk-dashed-wrapped\"><div class=\"sk-label-container\"><div class=\"sk-label sk-toggleable\"><input class=\"sk-toggleable__control sk-hidden--visually\" id=\"sk-estimator-id-223\" type=\"checkbox\" ><label for=\"sk-estimator-id-223\" class=\"sk-toggleable__label sk-toggleable__label-arrow\">Pipeline</label><div class=\"sk-toggleable__content\"><pre>Pipeline(steps=[(&#x27;imputer_na&#x27;,\n",
       "                 Pipeline(steps=[(&#x27;impute_RA&#x27;,\n",
       "                                  ImputeGroupbyMode(group=&#x27;Designation&#x27;,\n",
       "                                                    nan_feature=&#x27;Resource &#x27;\n",
       "                                                                &#x27;Allocation&#x27;)),\n",
       "                                 (&#x27;impute_MF&#x27;,\n",
       "                                  ImputeGroupbyMode(group=&#x27;Resource Allocation&#x27;,\n",
       "                                                    nan_feature=&#x27;Mental &#x27;\n",
       "                                                                &#x27;Fatigue &#x27;\n",
       "                                                                &#x27;Score&#x27;))])),\n",
       "                (&#x27;preprocessing&#x27;,\n",
       "                 ColumnTransformer(transformers=[(&#x27;num&#x27;, StandardScaler(),\n",
       "                                                  [&#x27;RelativeDaysJoined&#x27;,\n",
       "                                                   &#x27;Designation&#x27;,\n",
       "                                                   &#x27;Resource Allocation&#x27;,\n",
       "                                                   &#x27;Mental Fatigue Score&#x27;]),\n",
       "                                                 (&#x27;cat&#x27;, OneHotEncoder(),\n",
       "                                                  [&#x27;Gender&#x27;, &#x27;Company Type&#x27;,\n",
       "                                                   &#x27;WFH Setup Available&#x27;])])),\n",
       "                (&#x27;model&#x27;, RandomForestClassifier(random_state=42))])</pre></div></div></div><div class=\"sk-serial\"><div class=\"sk-item\"><div class=\"sk-label-container\"><div class=\"sk-label sk-toggleable\"><input class=\"sk-toggleable__control sk-hidden--visually\" id=\"sk-estimator-id-224\" type=\"checkbox\" ><label for=\"sk-estimator-id-224\" class=\"sk-toggleable__label sk-toggleable__label-arrow\">imputer_na: Pipeline</label><div class=\"sk-toggleable__content\"><pre>Pipeline(steps=[(&#x27;impute_RA&#x27;,\n",
       "                 ImputeGroupbyMode(group=&#x27;Designation&#x27;,\n",
       "                                   nan_feature=&#x27;Resource Allocation&#x27;)),\n",
       "                (&#x27;impute_MF&#x27;,\n",
       "                 ImputeGroupbyMode(group=&#x27;Resource Allocation&#x27;,\n",
       "                                   nan_feature=&#x27;Mental Fatigue Score&#x27;))])</pre></div></div></div><div class=\"sk-serial\"><div class=\"sk-item\"><div class=\"sk-estimator sk-toggleable\"><input class=\"sk-toggleable__control sk-hidden--visually\" id=\"sk-estimator-id-225\" type=\"checkbox\" ><label for=\"sk-estimator-id-225\" class=\"sk-toggleable__label sk-toggleable__label-arrow\">ImputeGroupbyMode</label><div class=\"sk-toggleable__content\"><pre>ImputeGroupbyMode(group=&#x27;Designation&#x27;, nan_feature=&#x27;Resource Allocation&#x27;)</pre></div></div></div><div class=\"sk-item\"><div class=\"sk-estimator sk-toggleable\"><input class=\"sk-toggleable__control sk-hidden--visually\" id=\"sk-estimator-id-226\" type=\"checkbox\" ><label for=\"sk-estimator-id-226\" class=\"sk-toggleable__label sk-toggleable__label-arrow\">ImputeGroupbyMode</label><div class=\"sk-toggleable__content\"><pre>ImputeGroupbyMode(group=&#x27;Resource Allocation&#x27;,\n",
       "                  nan_feature=&#x27;Mental Fatigue Score&#x27;)</pre></div></div></div></div></div><div class=\"sk-item sk-dashed-wrapped\"><div class=\"sk-label-container\"><div class=\"sk-label sk-toggleable\"><input class=\"sk-toggleable__control sk-hidden--visually\" id=\"sk-estimator-id-227\" type=\"checkbox\" ><label for=\"sk-estimator-id-227\" class=\"sk-toggleable__label sk-toggleable__label-arrow\">preprocessing: ColumnTransformer</label><div class=\"sk-toggleable__content\"><pre>ColumnTransformer(transformers=[(&#x27;num&#x27;, StandardScaler(),\n",
       "                                 [&#x27;RelativeDaysJoined&#x27;, &#x27;Designation&#x27;,\n",
       "                                  &#x27;Resource Allocation&#x27;,\n",
       "                                  &#x27;Mental Fatigue Score&#x27;]),\n",
       "                                (&#x27;cat&#x27;, OneHotEncoder(),\n",
       "                                 [&#x27;Gender&#x27;, &#x27;Company Type&#x27;,\n",
       "                                  &#x27;WFH Setup Available&#x27;])])</pre></div></div></div><div class=\"sk-parallel\"><div class=\"sk-parallel-item\"><div class=\"sk-item\"><div class=\"sk-label-container\"><div class=\"sk-label sk-toggleable\"><input class=\"sk-toggleable__control sk-hidden--visually\" id=\"sk-estimator-id-228\" type=\"checkbox\" ><label for=\"sk-estimator-id-228\" class=\"sk-toggleable__label sk-toggleable__label-arrow\">num</label><div class=\"sk-toggleable__content\"><pre>[&#x27;RelativeDaysJoined&#x27;, &#x27;Designation&#x27;, &#x27;Resource Allocation&#x27;, &#x27;Mental Fatigue Score&#x27;]</pre></div></div></div><div class=\"sk-serial\"><div class=\"sk-item\"><div class=\"sk-estimator sk-toggleable\"><input class=\"sk-toggleable__control sk-hidden--visually\" id=\"sk-estimator-id-229\" type=\"checkbox\" ><label for=\"sk-estimator-id-229\" class=\"sk-toggleable__label sk-toggleable__label-arrow\">StandardScaler</label><div class=\"sk-toggleable__content\"><pre>StandardScaler()</pre></div></div></div></div></div></div><div class=\"sk-parallel-item\"><div class=\"sk-item\"><div class=\"sk-label-container\"><div class=\"sk-label sk-toggleable\"><input class=\"sk-toggleable__control sk-hidden--visually\" id=\"sk-estimator-id-230\" type=\"checkbox\" ><label for=\"sk-estimator-id-230\" class=\"sk-toggleable__label sk-toggleable__label-arrow\">cat</label><div class=\"sk-toggleable__content\"><pre>[&#x27;Gender&#x27;, &#x27;Company Type&#x27;, &#x27;WFH Setup Available&#x27;]</pre></div></div></div><div class=\"sk-serial\"><div class=\"sk-item\"><div class=\"sk-estimator sk-toggleable\"><input class=\"sk-toggleable__control sk-hidden--visually\" id=\"sk-estimator-id-231\" type=\"checkbox\" ><label for=\"sk-estimator-id-231\" class=\"sk-toggleable__label sk-toggleable__label-arrow\">OneHotEncoder</label><div class=\"sk-toggleable__content\"><pre>OneHotEncoder()</pre></div></div></div></div></div></div></div></div><div class=\"sk-item\"><div class=\"sk-estimator sk-toggleable\"><input class=\"sk-toggleable__control sk-hidden--visually\" id=\"sk-estimator-id-232\" type=\"checkbox\" ><label for=\"sk-estimator-id-232\" class=\"sk-toggleable__label sk-toggleable__label-arrow\">RandomForestClassifier</label><div class=\"sk-toggleable__content\"><pre>RandomForestClassifier(random_state=42)</pre></div></div></div></div></div></div></div>"
      ],
      "text/plain": [
       "Pipeline(steps=[('imputer_na',\n",
       "                 Pipeline(steps=[('impute_RA',\n",
       "                                  ImputeGroupbyMode(group='Designation',\n",
       "                                                    nan_feature='Resource '\n",
       "                                                                'Allocation')),\n",
       "                                 ('impute_MF',\n",
       "                                  ImputeGroupbyMode(group='Resource Allocation',\n",
       "                                                    nan_feature='Mental '\n",
       "                                                                'Fatigue '\n",
       "                                                                'Score'))])),\n",
       "                ('preprocessing',\n",
       "                 ColumnTransformer(transformers=[('num', StandardScaler(),\n",
       "                                                  ['RelativeDaysJoined',\n",
       "                                                   'Designation',\n",
       "                                                   'Resource Allocation',\n",
       "                                                   'Mental Fatigue Score']),\n",
       "                                                 ('cat', OneHotEncoder(),\n",
       "                                                  ['Gender', 'Company Type',\n",
       "                                                   'WFH Setup Available'])])),\n",
       "                ('model', RandomForestClassifier(random_state=42))])"
      ]
     },
     "execution_count": 300,
     "metadata": {},
     "output_type": "execute_result"
    }
   ],
   "source": [
    "RFCmodel_pipeline_PRE.fit(train_X, train_y)"
   ]
  },
  {
   "cell_type": "code",
   "execution_count": 301,
   "id": "27179791-bac4-44ea-9c2f-bcd26384c313",
   "metadata": {},
   "outputs": [
    {
     "data": {
      "text/plain": [
       "array(['num__RelativeDaysJoined', 'num__Designation',\n",
       "       'num__Resource Allocation', 'num__Mental Fatigue Score',\n",
       "       'cat__Gender_Female', 'cat__Gender_Male',\n",
       "       'cat__Company Type_Product', 'cat__Company Type_Service',\n",
       "       'cat__WFH Setup Available_No', 'cat__WFH Setup Available_Yes'],\n",
       "      dtype=object)"
      ]
     },
     "execution_count": 301,
     "metadata": {},
     "output_type": "execute_result"
    }
   ],
   "source": [
    "#전처리된 Features 확인 - 10개\n",
    "preprocessor_PRE.fit_transform(train_X)\n",
    "preprocessor_PRE.get_feature_names_out()"
   ]
  },
  {
   "cell_type": "code",
   "execution_count": 302,
   "id": "65411af9-2136-432d-98b2-7698f01c16ae",
   "metadata": {
    "scrolled": true
   },
   "outputs": [
    {
     "data": {
      "text/html": [
       "<div>\n",
       "<style scoped>\n",
       "    .dataframe tbody tr th:only-of-type {\n",
       "        vertical-align: middle;\n",
       "    }\n",
       "\n",
       "    .dataframe tbody tr th {\n",
       "        vertical-align: top;\n",
       "    }\n",
       "\n",
       "    .dataframe thead th {\n",
       "        text-align: right;\n",
       "    }\n",
       "</style>\n",
       "<table border=\"1\" class=\"dataframe\">\n",
       "  <thead>\n",
       "    <tr style=\"text-align: right;\">\n",
       "      <th></th>\n",
       "      <th>0</th>\n",
       "      <th>1</th>\n",
       "      <th>2</th>\n",
       "      <th>3</th>\n",
       "      <th>4</th>\n",
       "      <th>5</th>\n",
       "      <th>6</th>\n",
       "      <th>7</th>\n",
       "      <th>8</th>\n",
       "      <th>9</th>\n",
       "    </tr>\n",
       "  </thead>\n",
       "  <tbody>\n",
       "    <tr>\n",
       "      <th>0</th>\n",
       "      <td>1.354130</td>\n",
       "      <td>1.606280</td>\n",
       "      <td>1.731039</td>\n",
       "      <td>1.484932</td>\n",
       "      <td>0.0</td>\n",
       "      <td>1.0</td>\n",
       "      <td>1.0</td>\n",
       "      <td>0.0</td>\n",
       "      <td>1.0</td>\n",
       "      <td>0.0</td>\n",
       "    </tr>\n",
       "    <tr>\n",
       "      <th>1</th>\n",
       "      <td>-0.172011</td>\n",
       "      <td>-0.159311</td>\n",
       "      <td>0.746022</td>\n",
       "      <td>0.969197</td>\n",
       "      <td>0.0</td>\n",
       "      <td>1.0</td>\n",
       "      <td>0.0</td>\n",
       "      <td>1.0</td>\n",
       "      <td>1.0</td>\n",
       "      <td>0.0</td>\n",
       "    </tr>\n",
       "    <tr>\n",
       "      <th>2</th>\n",
       "      <td>-1.148363</td>\n",
       "      <td>-1.042107</td>\n",
       "      <td>-0.238995</td>\n",
       "      <td>0.659756</td>\n",
       "      <td>1.0</td>\n",
       "      <td>0.0</td>\n",
       "      <td>1.0</td>\n",
       "      <td>0.0</td>\n",
       "      <td>0.0</td>\n",
       "      <td>1.0</td>\n",
       "    </tr>\n",
       "    <tr>\n",
       "      <th>3</th>\n",
       "      <td>-0.882947</td>\n",
       "      <td>1.606280</td>\n",
       "      <td>1.238530</td>\n",
       "      <td>0.505036</td>\n",
       "      <td>0.0</td>\n",
       "      <td>1.0</td>\n",
       "      <td>0.0</td>\n",
       "      <td>1.0</td>\n",
       "      <td>1.0</td>\n",
       "      <td>0.0</td>\n",
       "    </tr>\n",
       "    <tr>\n",
       "      <th>4</th>\n",
       "      <td>-1.063050</td>\n",
       "      <td>-1.042107</td>\n",
       "      <td>-0.731503</td>\n",
       "      <td>-0.939022</td>\n",
       "      <td>1.0</td>\n",
       "      <td>0.0</td>\n",
       "      <td>0.0</td>\n",
       "      <td>1.0</td>\n",
       "      <td>1.0</td>\n",
       "      <td>0.0</td>\n",
       "    </tr>\n",
       "    <tr>\n",
       "      <th>...</th>\n",
       "      <td>...</td>\n",
       "      <td>...</td>\n",
       "      <td>...</td>\n",
       "      <td>...</td>\n",
       "      <td>...</td>\n",
       "      <td>...</td>\n",
       "      <td>...</td>\n",
       "      <td>...</td>\n",
       "      <td>...</td>\n",
       "      <td>...</td>\n",
       "    </tr>\n",
       "    <tr>\n",
       "      <th>17295</th>\n",
       "      <td>0.851736</td>\n",
       "      <td>0.723484</td>\n",
       "      <td>1.238530</td>\n",
       "      <td>0.298742</td>\n",
       "      <td>0.0</td>\n",
       "      <td>1.0</td>\n",
       "      <td>0.0</td>\n",
       "      <td>1.0</td>\n",
       "      <td>0.0</td>\n",
       "      <td>1.0</td>\n",
       "    </tr>\n",
       "    <tr>\n",
       "      <th>17296</th>\n",
       "      <td>-0.522739</td>\n",
       "      <td>-0.159311</td>\n",
       "      <td>-0.238995</td>\n",
       "      <td>0.247168</td>\n",
       "      <td>0.0</td>\n",
       "      <td>1.0</td>\n",
       "      <td>1.0</td>\n",
       "      <td>0.0</td>\n",
       "      <td>1.0</td>\n",
       "      <td>0.0</td>\n",
       "    </tr>\n",
       "    <tr>\n",
       "      <th>17297</th>\n",
       "      <td>-1.603361</td>\n",
       "      <td>-0.159311</td>\n",
       "      <td>0.253514</td>\n",
       "      <td>-0.681155</td>\n",
       "      <td>0.0</td>\n",
       "      <td>1.0</td>\n",
       "      <td>0.0</td>\n",
       "      <td>1.0</td>\n",
       "      <td>0.0</td>\n",
       "      <td>1.0</td>\n",
       "    </tr>\n",
       "    <tr>\n",
       "      <th>17298</th>\n",
       "      <td>-0.958780</td>\n",
       "      <td>-1.042107</td>\n",
       "      <td>-0.238995</td>\n",
       "      <td>0.247168</td>\n",
       "      <td>0.0</td>\n",
       "      <td>1.0</td>\n",
       "      <td>0.0</td>\n",
       "      <td>1.0</td>\n",
       "      <td>0.0</td>\n",
       "      <td>1.0</td>\n",
       "    </tr>\n",
       "    <tr>\n",
       "      <th>17299</th>\n",
       "      <td>-0.617531</td>\n",
       "      <td>0.723484</td>\n",
       "      <td>0.746022</td>\n",
       "      <td>0.247168</td>\n",
       "      <td>1.0</td>\n",
       "      <td>0.0</td>\n",
       "      <td>0.0</td>\n",
       "      <td>1.0</td>\n",
       "      <td>1.0</td>\n",
       "      <td>0.0</td>\n",
       "    </tr>\n",
       "  </tbody>\n",
       "</table>\n",
       "<p>17300 rows × 10 columns</p>\n",
       "</div>"
      ],
      "text/plain": [
       "              0         1         2         3    4    5    6    7    8    9\n",
       "0      1.354130  1.606280  1.731039  1.484932  0.0  1.0  1.0  0.0  1.0  0.0\n",
       "1     -0.172011 -0.159311  0.746022  0.969197  0.0  1.0  0.0  1.0  1.0  0.0\n",
       "2     -1.148363 -1.042107 -0.238995  0.659756  1.0  0.0  1.0  0.0  0.0  1.0\n",
       "3     -0.882947  1.606280  1.238530  0.505036  0.0  1.0  0.0  1.0  1.0  0.0\n",
       "4     -1.063050 -1.042107 -0.731503 -0.939022  1.0  0.0  0.0  1.0  1.0  0.0\n",
       "...         ...       ...       ...       ...  ...  ...  ...  ...  ...  ...\n",
       "17295  0.851736  0.723484  1.238530  0.298742  0.0  1.0  0.0  1.0  0.0  1.0\n",
       "17296 -0.522739 -0.159311 -0.238995  0.247168  0.0  1.0  1.0  0.0  1.0  0.0\n",
       "17297 -1.603361 -0.159311  0.253514 -0.681155  0.0  1.0  0.0  1.0  0.0  1.0\n",
       "17298 -0.958780 -1.042107 -0.238995  0.247168  0.0  1.0  0.0  1.0  0.0  1.0\n",
       "17299 -0.617531  0.723484  0.746022  0.247168  1.0  0.0  0.0  1.0  1.0  0.0\n",
       "\n",
       "[17300 rows x 10 columns]"
      ]
     },
     "execution_count": 302,
     "metadata": {},
     "output_type": "execute_result"
    }
   ],
   "source": [
    "#파이프라인 전처리 잘 됬는지 확인\n",
    "\n",
    "transformed_PRE_data = RFCmodel_pipeline_PRE.named_steps['preprocessing'].fit_transform(train_X)\n",
    "transformed_X_df_PRE = pd.DataFrame(transformed_PRE_data)\n",
    "transformed_X_df_PRE"
   ]
  },
  {
   "cell_type": "code",
   "execution_count": 303,
   "id": "1e892d1d-d1b7-4c0f-a2a1-0878f1474319",
   "metadata": {},
   "outputs": [
    {
     "data": {
      "text/plain": [
       "0.9959537572254336"
      ]
     },
     "execution_count": 303,
     "metadata": {},
     "output_type": "execute_result"
    }
   ],
   "source": [
    "RFCmodel_pipeline_PRE.score(train_X, train_y)"
   ]
  },
  {
   "cell_type": "code",
   "execution_count": 304,
   "id": "a0caa537-b484-41a2-b141-a344a91f4e7f",
   "metadata": {},
   "outputs": [
    {
     "data": {
      "text/plain": [
       "0.53166897827092"
      ]
     },
     "execution_count": 304,
     "metadata": {},
     "output_type": "execute_result"
    }
   ],
   "source": [
    "RFCmodel_pipeline_PRE.score(valid_X, valid_y)"
   ]
  },
  {
   "cell_type": "code",
   "execution_count": 119,
   "id": "d98e2edf-08d4-4fd8-b4e2-57efee4c1c91",
   "metadata": {},
   "outputs": [],
   "source": [
    "# 2. 나머지 전처리 과정 파이프라인 - preprocessor \n",
    "# ColumnTransformer에 적용\n",
    "# 독립변수간 상관관계가 큰 값 Resource Allocation 삭제\n",
    "\n",
    "preprocessor_2 = ColumnTransformer(\n",
    "    transformers=[\n",
    "        ('num', StandardScaler(), [col for col in numeric_features if col not in ['Resource Allocation', 'Designation']]),  # 연속형 변수에 대한 스케일링\n",
    "        ('cat', OneHotEncoder(), categorical_features)], # 카테고리 변수에 대한 원핫인코딩  \n",
    "        \n",
    "         remainder='drop'\n",
    ")# 나머지 열은 드랍; 'Resource Allocation' 제거됨"
   ]
  },
  {
   "cell_type": "code",
   "execution_count": 121,
   "id": "c1e77628-ec1b-497b-afe1-06d68b738d5b",
   "metadata": {},
   "outputs": [],
   "source": [
    "from sklearn.ensemble import RandomForestClassifier\n",
    "\n",
    "# '전처리-모델학습'의 full pipeline - 랜덤포레스트 파이프라인 정의\n",
    "RFCmodel_pipeline2 = Pipeline([\n",
    "    ('imputer_na', impute_NA_pipeline),\n",
    "    ('preprocessing', preprocessor_2),\n",
    "    ('model', RandomForestClassifier(random_state=42))\n",
    "])"
   ]
  },
  {
   "cell_type": "code",
   "execution_count": 122,
   "id": "6c672ee0-26bd-49a0-85a7-7be023e7808b",
   "metadata": {},
   "outputs": [
    {
     "data": {
      "text/html": [
       "<style>#sk-container-id-6 {color: black;}#sk-container-id-6 pre{padding: 0;}#sk-container-id-6 div.sk-toggleable {background-color: white;}#sk-container-id-6 label.sk-toggleable__label {cursor: pointer;display: block;width: 100%;margin-bottom: 0;padding: 0.3em;box-sizing: border-box;text-align: center;}#sk-container-id-6 label.sk-toggleable__label-arrow:before {content: \"▸\";float: left;margin-right: 0.25em;color: #696969;}#sk-container-id-6 label.sk-toggleable__label-arrow:hover:before {color: black;}#sk-container-id-6 div.sk-estimator:hover label.sk-toggleable__label-arrow:before {color: black;}#sk-container-id-6 div.sk-toggleable__content {max-height: 0;max-width: 0;overflow: hidden;text-align: left;background-color: #f0f8ff;}#sk-container-id-6 div.sk-toggleable__content pre {margin: 0.2em;color: black;border-radius: 0.25em;background-color: #f0f8ff;}#sk-container-id-6 input.sk-toggleable__control:checked~div.sk-toggleable__content {max-height: 200px;max-width: 100%;overflow: auto;}#sk-container-id-6 input.sk-toggleable__control:checked~label.sk-toggleable__label-arrow:before {content: \"▾\";}#sk-container-id-6 div.sk-estimator input.sk-toggleable__control:checked~label.sk-toggleable__label {background-color: #d4ebff;}#sk-container-id-6 div.sk-label input.sk-toggleable__control:checked~label.sk-toggleable__label {background-color: #d4ebff;}#sk-container-id-6 input.sk-hidden--visually {border: 0;clip: rect(1px 1px 1px 1px);clip: rect(1px, 1px, 1px, 1px);height: 1px;margin: -1px;overflow: hidden;padding: 0;position: absolute;width: 1px;}#sk-container-id-6 div.sk-estimator {font-family: monospace;background-color: #f0f8ff;border: 1px dotted black;border-radius: 0.25em;box-sizing: border-box;margin-bottom: 0.5em;}#sk-container-id-6 div.sk-estimator:hover {background-color: #d4ebff;}#sk-container-id-6 div.sk-parallel-item::after {content: \"\";width: 100%;border-bottom: 1px solid gray;flex-grow: 1;}#sk-container-id-6 div.sk-label:hover label.sk-toggleable__label {background-color: #d4ebff;}#sk-container-id-6 div.sk-serial::before {content: \"\";position: absolute;border-left: 1px solid gray;box-sizing: border-box;top: 0;bottom: 0;left: 50%;z-index: 0;}#sk-container-id-6 div.sk-serial {display: flex;flex-direction: column;align-items: center;background-color: white;padding-right: 0.2em;padding-left: 0.2em;position: relative;}#sk-container-id-6 div.sk-item {position: relative;z-index: 1;}#sk-container-id-6 div.sk-parallel {display: flex;align-items: stretch;justify-content: center;background-color: white;position: relative;}#sk-container-id-6 div.sk-item::before, #sk-container-id-6 div.sk-parallel-item::before {content: \"\";position: absolute;border-left: 1px solid gray;box-sizing: border-box;top: 0;bottom: 0;left: 50%;z-index: -1;}#sk-container-id-6 div.sk-parallel-item {display: flex;flex-direction: column;z-index: 1;position: relative;background-color: white;}#sk-container-id-6 div.sk-parallel-item:first-child::after {align-self: flex-end;width: 50%;}#sk-container-id-6 div.sk-parallel-item:last-child::after {align-self: flex-start;width: 50%;}#sk-container-id-6 div.sk-parallel-item:only-child::after {width: 0;}#sk-container-id-6 div.sk-dashed-wrapped {border: 1px dashed gray;margin: 0 0.4em 0.5em 0.4em;box-sizing: border-box;padding-bottom: 0.4em;background-color: white;}#sk-container-id-6 div.sk-label label {font-family: monospace;font-weight: bold;display: inline-block;line-height: 1.2em;}#sk-container-id-6 div.sk-label-container {text-align: center;}#sk-container-id-6 div.sk-container {/* jupyter's `normalize.less` sets `[hidden] { display: none; }` but bootstrap.min.css set `[hidden] { display: none !important; }` so we also need the `!important` here to be able to override the default hidden behavior on the sphinx rendered scikit-learn.org. See: https://github.com/scikit-learn/scikit-learn/issues/21755 */display: inline-block !important;position: relative;}#sk-container-id-6 div.sk-text-repr-fallback {display: none;}</style><div id=\"sk-container-id-6\" class=\"sk-top-container\"><div class=\"sk-text-repr-fallback\"><pre>Pipeline(steps=[(&#x27;imputer_na&#x27;,\n",
       "                 Pipeline(steps=[(&#x27;impute_RA&#x27;,\n",
       "                                  ImputeGroupbyMode(group=&#x27;Designation&#x27;,\n",
       "                                                    nan_feature=&#x27;Resource &#x27;\n",
       "                                                                &#x27;Allocation&#x27;)),\n",
       "                                 (&#x27;impute_MF&#x27;,\n",
       "                                  ImputeGroupbyMode(group=&#x27;Resource Allocation&#x27;,\n",
       "                                                    nan_feature=&#x27;Mental &#x27;\n",
       "                                                                &#x27;Fatigue &#x27;\n",
       "                                                                &#x27;Score&#x27;))])),\n",
       "                (&#x27;preprocessing&#x27;,\n",
       "                 ColumnTransformer(transformers=[(&#x27;num&#x27;, StandardScaler(),\n",
       "                                                  [&#x27;RelativeDaysJoined&#x27;,\n",
       "                                                   &#x27;Mental Fatigue Score&#x27;]),\n",
       "                                                 (&#x27;cat&#x27;, OneHotEncoder(),\n",
       "                                                  [&#x27;Gender&#x27;, &#x27;Company Type&#x27;,\n",
       "                                                   &#x27;WFH Setup Available&#x27;])])),\n",
       "                (&#x27;model&#x27;, RandomForestClassifier(random_state=42))])</pre><b>In a Jupyter environment, please rerun this cell to show the HTML representation or trust the notebook. <br />On GitHub, the HTML representation is unable to render, please try loading this page with nbviewer.org.</b></div><div class=\"sk-container\" hidden><div class=\"sk-item sk-dashed-wrapped\"><div class=\"sk-label-container\"><div class=\"sk-label sk-toggleable\"><input class=\"sk-toggleable__control sk-hidden--visually\" id=\"sk-estimator-id-37\" type=\"checkbox\" ><label for=\"sk-estimator-id-37\" class=\"sk-toggleable__label sk-toggleable__label-arrow\">Pipeline</label><div class=\"sk-toggleable__content\"><pre>Pipeline(steps=[(&#x27;imputer_na&#x27;,\n",
       "                 Pipeline(steps=[(&#x27;impute_RA&#x27;,\n",
       "                                  ImputeGroupbyMode(group=&#x27;Designation&#x27;,\n",
       "                                                    nan_feature=&#x27;Resource &#x27;\n",
       "                                                                &#x27;Allocation&#x27;)),\n",
       "                                 (&#x27;impute_MF&#x27;,\n",
       "                                  ImputeGroupbyMode(group=&#x27;Resource Allocation&#x27;,\n",
       "                                                    nan_feature=&#x27;Mental &#x27;\n",
       "                                                                &#x27;Fatigue &#x27;\n",
       "                                                                &#x27;Score&#x27;))])),\n",
       "                (&#x27;preprocessing&#x27;,\n",
       "                 ColumnTransformer(transformers=[(&#x27;num&#x27;, StandardScaler(),\n",
       "                                                  [&#x27;RelativeDaysJoined&#x27;,\n",
       "                                                   &#x27;Mental Fatigue Score&#x27;]),\n",
       "                                                 (&#x27;cat&#x27;, OneHotEncoder(),\n",
       "                                                  [&#x27;Gender&#x27;, &#x27;Company Type&#x27;,\n",
       "                                                   &#x27;WFH Setup Available&#x27;])])),\n",
       "                (&#x27;model&#x27;, RandomForestClassifier(random_state=42))])</pre></div></div></div><div class=\"sk-serial\"><div class=\"sk-item\"><div class=\"sk-label-container\"><div class=\"sk-label sk-toggleable\"><input class=\"sk-toggleable__control sk-hidden--visually\" id=\"sk-estimator-id-38\" type=\"checkbox\" ><label for=\"sk-estimator-id-38\" class=\"sk-toggleable__label sk-toggleable__label-arrow\">imputer_na: Pipeline</label><div class=\"sk-toggleable__content\"><pre>Pipeline(steps=[(&#x27;impute_RA&#x27;,\n",
       "                 ImputeGroupbyMode(group=&#x27;Designation&#x27;,\n",
       "                                   nan_feature=&#x27;Resource Allocation&#x27;)),\n",
       "                (&#x27;impute_MF&#x27;,\n",
       "                 ImputeGroupbyMode(group=&#x27;Resource Allocation&#x27;,\n",
       "                                   nan_feature=&#x27;Mental Fatigue Score&#x27;))])</pre></div></div></div><div class=\"sk-serial\"><div class=\"sk-item\"><div class=\"sk-estimator sk-toggleable\"><input class=\"sk-toggleable__control sk-hidden--visually\" id=\"sk-estimator-id-39\" type=\"checkbox\" ><label for=\"sk-estimator-id-39\" class=\"sk-toggleable__label sk-toggleable__label-arrow\">ImputeGroupbyMode</label><div class=\"sk-toggleable__content\"><pre>ImputeGroupbyMode(group=&#x27;Designation&#x27;, nan_feature=&#x27;Resource Allocation&#x27;)</pre></div></div></div><div class=\"sk-item\"><div class=\"sk-estimator sk-toggleable\"><input class=\"sk-toggleable__control sk-hidden--visually\" id=\"sk-estimator-id-40\" type=\"checkbox\" ><label for=\"sk-estimator-id-40\" class=\"sk-toggleable__label sk-toggleable__label-arrow\">ImputeGroupbyMode</label><div class=\"sk-toggleable__content\"><pre>ImputeGroupbyMode(group=&#x27;Resource Allocation&#x27;,\n",
       "                  nan_feature=&#x27;Mental Fatigue Score&#x27;)</pre></div></div></div></div></div><div class=\"sk-item sk-dashed-wrapped\"><div class=\"sk-label-container\"><div class=\"sk-label sk-toggleable\"><input class=\"sk-toggleable__control sk-hidden--visually\" id=\"sk-estimator-id-41\" type=\"checkbox\" ><label for=\"sk-estimator-id-41\" class=\"sk-toggleable__label sk-toggleable__label-arrow\">preprocessing: ColumnTransformer</label><div class=\"sk-toggleable__content\"><pre>ColumnTransformer(transformers=[(&#x27;num&#x27;, StandardScaler(),\n",
       "                                 [&#x27;RelativeDaysJoined&#x27;,\n",
       "                                  &#x27;Mental Fatigue Score&#x27;]),\n",
       "                                (&#x27;cat&#x27;, OneHotEncoder(),\n",
       "                                 [&#x27;Gender&#x27;, &#x27;Company Type&#x27;,\n",
       "                                  &#x27;WFH Setup Available&#x27;])])</pre></div></div></div><div class=\"sk-parallel\"><div class=\"sk-parallel-item\"><div class=\"sk-item\"><div class=\"sk-label-container\"><div class=\"sk-label sk-toggleable\"><input class=\"sk-toggleable__control sk-hidden--visually\" id=\"sk-estimator-id-42\" type=\"checkbox\" ><label for=\"sk-estimator-id-42\" class=\"sk-toggleable__label sk-toggleable__label-arrow\">num</label><div class=\"sk-toggleable__content\"><pre>[&#x27;RelativeDaysJoined&#x27;, &#x27;Mental Fatigue Score&#x27;]</pre></div></div></div><div class=\"sk-serial\"><div class=\"sk-item\"><div class=\"sk-estimator sk-toggleable\"><input class=\"sk-toggleable__control sk-hidden--visually\" id=\"sk-estimator-id-43\" type=\"checkbox\" ><label for=\"sk-estimator-id-43\" class=\"sk-toggleable__label sk-toggleable__label-arrow\">StandardScaler</label><div class=\"sk-toggleable__content\"><pre>StandardScaler()</pre></div></div></div></div></div></div><div class=\"sk-parallel-item\"><div class=\"sk-item\"><div class=\"sk-label-container\"><div class=\"sk-label sk-toggleable\"><input class=\"sk-toggleable__control sk-hidden--visually\" id=\"sk-estimator-id-44\" type=\"checkbox\" ><label for=\"sk-estimator-id-44\" class=\"sk-toggleable__label sk-toggleable__label-arrow\">cat</label><div class=\"sk-toggleable__content\"><pre>[&#x27;Gender&#x27;, &#x27;Company Type&#x27;, &#x27;WFH Setup Available&#x27;]</pre></div></div></div><div class=\"sk-serial\"><div class=\"sk-item\"><div class=\"sk-estimator sk-toggleable\"><input class=\"sk-toggleable__control sk-hidden--visually\" id=\"sk-estimator-id-45\" type=\"checkbox\" ><label for=\"sk-estimator-id-45\" class=\"sk-toggleable__label sk-toggleable__label-arrow\">OneHotEncoder</label><div class=\"sk-toggleable__content\"><pre>OneHotEncoder()</pre></div></div></div></div></div></div></div></div><div class=\"sk-item\"><div class=\"sk-estimator sk-toggleable\"><input class=\"sk-toggleable__control sk-hidden--visually\" id=\"sk-estimator-id-46\" type=\"checkbox\" ><label for=\"sk-estimator-id-46\" class=\"sk-toggleable__label sk-toggleable__label-arrow\">RandomForestClassifier</label><div class=\"sk-toggleable__content\"><pre>RandomForestClassifier(random_state=42)</pre></div></div></div></div></div></div></div>"
      ],
      "text/plain": [
       "Pipeline(steps=[('imputer_na',\n",
       "                 Pipeline(steps=[('impute_RA',\n",
       "                                  ImputeGroupbyMode(group='Designation',\n",
       "                                                    nan_feature='Resource '\n",
       "                                                                'Allocation')),\n",
       "                                 ('impute_MF',\n",
       "                                  ImputeGroupbyMode(group='Resource Allocation',\n",
       "                                                    nan_feature='Mental '\n",
       "                                                                'Fatigue '\n",
       "                                                                'Score'))])),\n",
       "                ('preprocessing',\n",
       "                 ColumnTransformer(transformers=[('num', StandardScaler(),\n",
       "                                                  ['RelativeDaysJoined',\n",
       "                                                   'Mental Fatigue Score']),\n",
       "                                                 ('cat', OneHotEncoder(),\n",
       "                                                  ['Gender', 'Company Type',\n",
       "                                                   'WFH Setup Available'])])),\n",
       "                ('model', RandomForestClassifier(random_state=42))])"
      ]
     },
     "execution_count": 122,
     "metadata": {},
     "output_type": "execute_result"
    }
   ],
   "source": [
    "RFCmodel_pipeline2.fit(train_X, train_y)"
   ]
  },
  {
   "cell_type": "code",
   "execution_count": 126,
   "id": "a051dc78-70e6-4fc6-9bea-58f7b9b04cd1",
   "metadata": {},
   "outputs": [
    {
     "data": {
      "text/plain": [
       "array(['num__RelativeDaysJoined', 'num__Mental Fatigue Score',\n",
       "       'cat__Gender_Female', 'cat__Gender_Male',\n",
       "       'cat__Company Type_Product', 'cat__Company Type_Service',\n",
       "       'cat__WFH Setup Available_No', 'cat__WFH Setup Available_Yes'],\n",
       "      dtype=object)"
      ]
     },
     "execution_count": 126,
     "metadata": {},
     "output_type": "execute_result"
    }
   ],
   "source": [
    "preprocessor_2.fit_transform(train_X)\n",
    "preprocessor_2.get_feature_names_out()"
   ]
  },
  {
   "cell_type": "code",
   "execution_count": 297,
   "id": "afa035ce-3cb2-4ed0-b250-3cfcb652a565",
   "metadata": {},
   "outputs": [
    {
     "data": {
      "text/plain": [
       "0.012023121387283236"
      ]
     },
     "execution_count": 297,
     "metadata": {},
     "output_type": "execute_result"
    }
   ],
   "source": [
    "RFCmodel_pipeline2.score(train_X, train_y)\n"
   ]
  },
  {
   "cell_type": "code",
   "execution_count": 298,
   "id": "cb1306e5-2a17-4ad0-bfbe-c345aae34fc8",
   "metadata": {},
   "outputs": [
    {
     "data": {
      "text/plain": [
       "0.23185390661118815"
      ]
     },
     "execution_count": 298,
     "metadata": {},
     "output_type": "execute_result"
    }
   ],
   "source": [
    "RFCmodel_pipeline2.score(valid_X, valid_y)"
   ]
  },
  {
   "cell_type": "code",
   "execution_count": 110,
   "id": "f85764d4-e875-42b7-97b3-21ed67e57b11",
   "metadata": {},
   "outputs": [
    {
     "data": {
      "image/png": "[encoded data removed]",
      "text/plain": [
       "<Figure size 800x700 with 2 Axes>"
      ]
     },
     "metadata": {},
     "output_type": "display_data"
    }
   ],
   "source": [
    "# 독립 변수들 간의 상관관계 행렬 계산\n",
    "corr_matrix = transformed_X_df_PRE.corr()\n",
    "\n",
    "# 히트맵 그리기\n",
    "plt.figure(figsize=(8, 7))\n",
    "sns.heatmap(corr_matrix, annot=True, cmap='coolwarm', fmt=\".2f\", linewidths=.5,  xticklabels=preprocessor_PRE.get_feature_names_out(), yticklabels=preprocessor_PRE.get_feature_names_out())\n",
    "plt.title('Correlation Heatmap')\n",
    "plt.show()"
   ]
  },
  {
   "cell_type": "markdown",
   "id": "09977550-2fd3-4ff9-8dd8-e677b672f7a5",
   "metadata": {},
   "source": [
    "-> 0.7이상으로 독립 변수간 상관계수가 높은 변수들 <br>\n",
    "\n",
    "* Resource Allocation <-> Designation : 0.88\n",
    "* Resource Allocation <-> Mental Fatigue Score : 0.8\n",
    "* Designation <-> Mental Fatigue Score : 0.7\n",
    "\n",
    "- **Resource Allocation  제거 결정**\n",
    "- Designation 제거 고민"
   ]
  },
  {
   "cell_type": "markdown",
   "id": "419cb475-46f3-432d-9a63-cfbcce5c88e0",
   "metadata": {},
   "source": [
    "-------\n",
    "#### 6-1-2. rfc 최적의 하이퍼 파라미터 찾기 - Random search"
   ]
  },
  {
   "cell_type": "code",
   "execution_count": 230,
   "id": "7a48a451-ad30-4961-87ca-0b59d3bf98a6",
   "metadata": {},
   "outputs": [
    {
     "name": "stdout",
     "output_type": "stream",
     "text": [
      "최적의 하이퍼파라미터: {'model__max_depth': 7, 'model__min_samples_leaf': 15, 'model__min_samples_split': 12, 'model__n_estimators': 81}\n",
      "Score:  0.5495375722543353\n"
     ]
    }
   ],
   "source": [
    "from sklearn.model_selection import RandomizedSearchCV\n",
    "from scipy.stats import randint\n",
    "from sklearn.model_selection import StratifiedKFold\n",
    "\n",
    "# 교차 검증을 위한 StratifiedKFold 사용 \n",
    "cv = StratifiedKFold(n_splits=5, shuffle=True, random_state=42)\n",
    "\n",
    "# 탐색할 하이퍼파라미터 설정\n",
    "param_dist = {\n",
    "    'model__n_estimators': randint(low=10, high=200),\n",
    "    'model__max_depth': randint(low=1, high=20),\n",
    "    'model__min_samples_split': randint(low=2, high=20),\n",
    "    'model__min_samples_leaf': randint(low=1, high=20),\n",
    "}\n",
    "\n",
    "# 랜덤 서치를 사용하여 최적의 하이퍼파라미터 찾기 (n_jobs=-1로 병렬 처리 활성화)\n",
    "random_search = RandomizedSearchCV(\n",
    "    RFCmodel_pipeline, param_distributions=param_dist, n_iter=10, cv=cv, scoring='accuracy', n_jobs=-1, random_state=42\n",
    ")\n",
    "\n",
    "random_search.fit(train_X, train_y)\n",
    "\n",
    "# 최적의 하이퍼파라미터 출력\n",
    "print(\"최적의 하이퍼파라미터:\", random_search.best_params_)\n",
    "print('Score: ', random_search.best_score_)"
   ]
  },
  {
   "cell_type": "code",
   "execution_count": 231,
   "id": "6e77c3f6-6cca-4e80-a632-ddcd21472e4e",
   "metadata": {},
   "outputs": [],
   "source": [
    "rfc_final_model = random_search.best_estimator_"
   ]
  },
  {
   "cell_type": "code",
   "execution_count": 232,
   "id": "ca4f3b2a-faf8-474d-893c-2a72ee30c39f",
   "metadata": {},
   "outputs": [
    {
     "data": {
      "text/plain": [
       "{'model__max_depth': 7,\n",
       " 'model__min_samples_leaf': 15,\n",
       " 'model__min_samples_split': 12,\n",
       " 'model__n_estimators': 81}"
      ]
     },
     "execution_count": 232,
     "metadata": {},
     "output_type": "execute_result"
    }
   ],
   "source": [
    "random_search.best_params_"
   ]
  },
  {
   "cell_type": "code",
   "execution_count": 233,
   "id": "b80e7304-dc7b-4f07-b4e3-734fb5980657",
   "metadata": {},
   "outputs": [
    {
     "data": {
      "text/html": [
       "<style>#sk-container-id-17 {color: black;}#sk-container-id-17 pre{padding: 0;}#sk-container-id-17 div.sk-toggleable {background-color: white;}#sk-container-id-17 label.sk-toggleable__label {cursor: pointer;display: block;width: 100%;margin-bottom: 0;padding: 0.3em;box-sizing: border-box;text-align: center;}#sk-container-id-17 label.sk-toggleable__label-arrow:before {content: \"▸\";float: left;margin-right: 0.25em;color: #696969;}#sk-container-id-17 label.sk-toggleable__label-arrow:hover:before {color: black;}#sk-container-id-17 div.sk-estimator:hover label.sk-toggleable__label-arrow:before {color: black;}#sk-container-id-17 div.sk-toggleable__content {max-height: 0;max-width: 0;overflow: hidden;text-align: left;background-color: #f0f8ff;}#sk-container-id-17 div.sk-toggleable__content pre {margin: 0.2em;color: black;border-radius: 0.25em;background-color: #f0f8ff;}#sk-container-id-17 input.sk-toggleable__control:checked~div.sk-toggleable__content {max-height: 200px;max-width: 100%;overflow: auto;}#sk-container-id-17 input.sk-toggleable__control:checked~label.sk-toggleable__label-arrow:before {content: \"▾\";}#sk-container-id-17 div.sk-estimator input.sk-toggleable__control:checked~label.sk-toggleable__label {background-color: #d4ebff;}#sk-container-id-17 div.sk-label input.sk-toggleable__control:checked~label.sk-toggleable__label {background-color: #d4ebff;}#sk-container-id-17 input.sk-hidden--visually {border: 0;clip: rect(1px 1px 1px 1px);clip: rect(1px, 1px, 1px, 1px);height: 1px;margin: -1px;overflow: hidden;padding: 0;position: absolute;width: 1px;}#sk-container-id-17 div.sk-estimator {font-family: monospace;background-color: #f0f8ff;border: 1px dotted black;border-radius: 0.25em;box-sizing: border-box;margin-bottom: 0.5em;}#sk-container-id-17 div.sk-estimator:hover {background-color: #d4ebff;}#sk-container-id-17 div.sk-parallel-item::after {content: \"\";width: 100%;border-bottom: 1px solid gray;flex-grow: 1;}#sk-container-id-17 div.sk-label:hover label.sk-toggleable__label {background-color: #d4ebff;}#sk-container-id-17 div.sk-serial::before {content: \"\";position: absolute;border-left: 1px solid gray;box-sizing: border-box;top: 0;bottom: 0;left: 50%;z-index: 0;}#sk-container-id-17 div.sk-serial {display: flex;flex-direction: column;align-items: center;background-color: white;padding-right: 0.2em;padding-left: 0.2em;position: relative;}#sk-container-id-17 div.sk-item {position: relative;z-index: 1;}#sk-container-id-17 div.sk-parallel {display: flex;align-items: stretch;justify-content: center;background-color: white;position: relative;}#sk-container-id-17 div.sk-item::before, #sk-container-id-17 div.sk-parallel-item::before {content: \"\";position: absolute;border-left: 1px solid gray;box-sizing: border-box;top: 0;bottom: 0;left: 50%;z-index: -1;}#sk-container-id-17 div.sk-parallel-item {display: flex;flex-direction: column;z-index: 1;position: relative;background-color: white;}#sk-container-id-17 div.sk-parallel-item:first-child::after {align-self: flex-end;width: 50%;}#sk-container-id-17 div.sk-parallel-item:last-child::after {align-self: flex-start;width: 50%;}#sk-container-id-17 div.sk-parallel-item:only-child::after {width: 0;}#sk-container-id-17 div.sk-dashed-wrapped {border: 1px dashed gray;margin: 0 0.4em 0.5em 0.4em;box-sizing: border-box;padding-bottom: 0.4em;background-color: white;}#sk-container-id-17 div.sk-label label {font-family: monospace;font-weight: bold;display: inline-block;line-height: 1.2em;}#sk-container-id-17 div.sk-label-container {text-align: center;}#sk-container-id-17 div.sk-container {/* jupyter's `normalize.less` sets `[hidden] { display: none; }` but bootstrap.min.css set `[hidden] { display: none !important; }` so we also need the `!important` here to be able to override the default hidden behavior on the sphinx rendered scikit-learn.org. See: https://github.com/scikit-learn/scikit-learn/issues/21755 */display: inline-block !important;position: relative;}#sk-container-id-17 div.sk-text-repr-fallback {display: none;}</style><div id=\"sk-container-id-17\" class=\"sk-top-container\"><div class=\"sk-text-repr-fallback\"><pre>Pipeline(steps=[(&#x27;imputer_na&#x27;,\n",
       "                 Pipeline(steps=[(&#x27;impute_RA&#x27;,\n",
       "                                  ImputeGroupbyMode(group=&#x27;Designation&#x27;,\n",
       "                                                    nan_feature=&#x27;Resource &#x27;\n",
       "                                                                &#x27;Allocation&#x27;)),\n",
       "                                 (&#x27;impute_MF&#x27;,\n",
       "                                  ImputeGroupbyMode(group=&#x27;Resource Allocation&#x27;,\n",
       "                                                    nan_feature=&#x27;Mental &#x27;\n",
       "                                                                &#x27;Fatigue &#x27;\n",
       "                                                                &#x27;Score&#x27;))])),\n",
       "                (&#x27;preprocessing&#x27;,\n",
       "                 ColumnTransformer(transformers=[(&#x27;num&#x27;, StandardScaler(),\n",
       "                                                  [&#x27;RelativeDaysJoined&#x27;,\n",
       "                                                   &#x27;Designation&#x27;,\n",
       "                                                   &#x27;Mental Fatigue Score&#x27;]),\n",
       "                                                 (&#x27;cat&#x27;, OneHotEncoder(),\n",
       "                                                  [&#x27;Gender&#x27;, &#x27;Company Type&#x27;,\n",
       "                                                   &#x27;WFH Setup Available&#x27;])])),\n",
       "                (&#x27;model&#x27;,\n",
       "                 RandomForestClassifier(max_depth=7, min_samples_leaf=15,\n",
       "                                        min_samples_split=12, n_estimators=81,\n",
       "                                        random_state=42))])</pre><b>In a Jupyter environment, please rerun this cell to show the HTML representation or trust the notebook. <br />On GitHub, the HTML representation is unable to render, please try loading this page with nbviewer.org.</b></div><div class=\"sk-container\" hidden><div class=\"sk-item sk-dashed-wrapped\"><div class=\"sk-label-container\"><div class=\"sk-label sk-toggleable\"><input class=\"sk-toggleable__control sk-hidden--visually\" id=\"sk-estimator-id-129\" type=\"checkbox\" ><label for=\"sk-estimator-id-129\" class=\"sk-toggleable__label sk-toggleable__label-arrow\">Pipeline</label><div class=\"sk-toggleable__content\"><pre>Pipeline(steps=[(&#x27;imputer_na&#x27;,\n",
       "                 Pipeline(steps=[(&#x27;impute_RA&#x27;,\n",
       "                                  ImputeGroupbyMode(group=&#x27;Designation&#x27;,\n",
       "                                                    nan_feature=&#x27;Resource &#x27;\n",
       "                                                                &#x27;Allocation&#x27;)),\n",
       "                                 (&#x27;impute_MF&#x27;,\n",
       "                                  ImputeGroupbyMode(group=&#x27;Resource Allocation&#x27;,\n",
       "                                                    nan_feature=&#x27;Mental &#x27;\n",
       "                                                                &#x27;Fatigue &#x27;\n",
       "                                                                &#x27;Score&#x27;))])),\n",
       "                (&#x27;preprocessing&#x27;,\n",
       "                 ColumnTransformer(transformers=[(&#x27;num&#x27;, StandardScaler(),\n",
       "                                                  [&#x27;RelativeDaysJoined&#x27;,\n",
       "                                                   &#x27;Designation&#x27;,\n",
       "                                                   &#x27;Mental Fatigue Score&#x27;]),\n",
       "                                                 (&#x27;cat&#x27;, OneHotEncoder(),\n",
       "                                                  [&#x27;Gender&#x27;, &#x27;Company Type&#x27;,\n",
       "                                                   &#x27;WFH Setup Available&#x27;])])),\n",
       "                (&#x27;model&#x27;,\n",
       "                 RandomForestClassifier(max_depth=7, min_samples_leaf=15,\n",
       "                                        min_samples_split=12, n_estimators=81,\n",
       "                                        random_state=42))])</pre></div></div></div><div class=\"sk-serial\"><div class=\"sk-item\"><div class=\"sk-label-container\"><div class=\"sk-label sk-toggleable\"><input class=\"sk-toggleable__control sk-hidden--visually\" id=\"sk-estimator-id-130\" type=\"checkbox\" ><label for=\"sk-estimator-id-130\" class=\"sk-toggleable__label sk-toggleable__label-arrow\">imputer_na: Pipeline</label><div class=\"sk-toggleable__content\"><pre>Pipeline(steps=[(&#x27;impute_RA&#x27;,\n",
       "                 ImputeGroupbyMode(group=&#x27;Designation&#x27;,\n",
       "                                   nan_feature=&#x27;Resource Allocation&#x27;)),\n",
       "                (&#x27;impute_MF&#x27;,\n",
       "                 ImputeGroupbyMode(group=&#x27;Resource Allocation&#x27;,\n",
       "                                   nan_feature=&#x27;Mental Fatigue Score&#x27;))])</pre></div></div></div><div class=\"sk-serial\"><div class=\"sk-item\"><div class=\"sk-estimator sk-toggleable\"><input class=\"sk-toggleable__control sk-hidden--visually\" id=\"sk-estimator-id-131\" type=\"checkbox\" ><label for=\"sk-estimator-id-131\" class=\"sk-toggleable__label sk-toggleable__label-arrow\">ImputeGroupbyMode</label><div class=\"sk-toggleable__content\"><pre>ImputeGroupbyMode(group=&#x27;Designation&#x27;, nan_feature=&#x27;Resource Allocation&#x27;)</pre></div></div></div><div class=\"sk-item\"><div class=\"sk-estimator sk-toggleable\"><input class=\"sk-toggleable__control sk-hidden--visually\" id=\"sk-estimator-id-132\" type=\"checkbox\" ><label for=\"sk-estimator-id-132\" class=\"sk-toggleable__label sk-toggleable__label-arrow\">ImputeGroupbyMode</label><div class=\"sk-toggleable__content\"><pre>ImputeGroupbyMode(group=&#x27;Resource Allocation&#x27;,\n",
       "                  nan_feature=&#x27;Mental Fatigue Score&#x27;)</pre></div></div></div></div></div><div class=\"sk-item sk-dashed-wrapped\"><div class=\"sk-label-container\"><div class=\"sk-label sk-toggleable\"><input class=\"sk-toggleable__control sk-hidden--visually\" id=\"sk-estimator-id-133\" type=\"checkbox\" ><label for=\"sk-estimator-id-133\" class=\"sk-toggleable__label sk-toggleable__label-arrow\">preprocessing: ColumnTransformer</label><div class=\"sk-toggleable__content\"><pre>ColumnTransformer(transformers=[(&#x27;num&#x27;, StandardScaler(),\n",
       "                                 [&#x27;RelativeDaysJoined&#x27;, &#x27;Designation&#x27;,\n",
       "                                  &#x27;Mental Fatigue Score&#x27;]),\n",
       "                                (&#x27;cat&#x27;, OneHotEncoder(),\n",
       "                                 [&#x27;Gender&#x27;, &#x27;Company Type&#x27;,\n",
       "                                  &#x27;WFH Setup Available&#x27;])])</pre></div></div></div><div class=\"sk-parallel\"><div class=\"sk-parallel-item\"><div class=\"sk-item\"><div class=\"sk-label-container\"><div class=\"sk-label sk-toggleable\"><input class=\"sk-toggleable__control sk-hidden--visually\" id=\"sk-estimator-id-134\" type=\"checkbox\" ><label for=\"sk-estimator-id-134\" class=\"sk-toggleable__label sk-toggleable__label-arrow\">num</label><div class=\"sk-toggleable__content\"><pre>[&#x27;RelativeDaysJoined&#x27;, &#x27;Designation&#x27;, &#x27;Mental Fatigue Score&#x27;]</pre></div></div></div><div class=\"sk-serial\"><div class=\"sk-item\"><div class=\"sk-estimator sk-toggleable\"><input class=\"sk-toggleable__control sk-hidden--visually\" id=\"sk-estimator-id-135\" type=\"checkbox\" ><label for=\"sk-estimator-id-135\" class=\"sk-toggleable__label sk-toggleable__label-arrow\">StandardScaler</label><div class=\"sk-toggleable__content\"><pre>StandardScaler()</pre></div></div></div></div></div></div><div class=\"sk-parallel-item\"><div class=\"sk-item\"><div class=\"sk-label-container\"><div class=\"sk-label sk-toggleable\"><input class=\"sk-toggleable__control sk-hidden--visually\" id=\"sk-estimator-id-136\" type=\"checkbox\" ><label for=\"sk-estimator-id-136\" class=\"sk-toggleable__label sk-toggleable__label-arrow\">cat</label><div class=\"sk-toggleable__content\"><pre>[&#x27;Gender&#x27;, &#x27;Company Type&#x27;, &#x27;WFH Setup Available&#x27;]</pre></div></div></div><div class=\"sk-serial\"><div class=\"sk-item\"><div class=\"sk-estimator sk-toggleable\"><input class=\"sk-toggleable__control sk-hidden--visually\" id=\"sk-estimator-id-137\" type=\"checkbox\" ><label for=\"sk-estimator-id-137\" class=\"sk-toggleable__label sk-toggleable__label-arrow\">OneHotEncoder</label><div class=\"sk-toggleable__content\"><pre>OneHotEncoder()</pre></div></div></div></div></div></div></div></div><div class=\"sk-item\"><div class=\"sk-estimator sk-toggleable\"><input class=\"sk-toggleable__control sk-hidden--visually\" id=\"sk-estimator-id-138\" type=\"checkbox\" ><label for=\"sk-estimator-id-138\" class=\"sk-toggleable__label sk-toggleable__label-arrow\">RandomForestClassifier</label><div class=\"sk-toggleable__content\"><pre>RandomForestClassifier(max_depth=7, min_samples_leaf=15, min_samples_split=12,\n",
       "                       n_estimators=81, random_state=42)</pre></div></div></div></div></div></div></div>"
      ],
      "text/plain": [
       "Pipeline(steps=[('imputer_na',\n",
       "                 Pipeline(steps=[('impute_RA',\n",
       "                                  ImputeGroupbyMode(group='Designation',\n",
       "                                                    nan_feature='Resource '\n",
       "                                                                'Allocation')),\n",
       "                                 ('impute_MF',\n",
       "                                  ImputeGroupbyMode(group='Resource Allocation',\n",
       "                                                    nan_feature='Mental '\n",
       "                                                                'Fatigue '\n",
       "                                                                'Score'))])),\n",
       "                ('preprocessing',\n",
       "                 ColumnTransformer(transformers=[('num', StandardScaler(),\n",
       "                                                  ['RelativeDaysJoined',\n",
       "                                                   'Designation',\n",
       "                                                   'Mental Fatigue Score']),\n",
       "                                                 ('cat', OneHotEncoder(),\n",
       "                                                  ['Gender', 'Company Type',\n",
       "                                                   'WFH Setup Available'])])),\n",
       "                ('model',\n",
       "                 RandomForestClassifier(max_depth=7, min_samples_leaf=15,\n",
       "                                        min_samples_split=12, n_estimators=81,\n",
       "                                        random_state=42))])"
      ]
     },
     "execution_count": 233,
     "metadata": {},
     "output_type": "execute_result"
    }
   ],
   "source": [
    "rfc_final_model.fit(train_X, train_y)"
   ]
  },
  {
   "cell_type": "code",
   "execution_count": 234,
   "id": "44bd9d4f-f9b3-4c63-b1f4-3e53fab29a2d",
   "metadata": {},
   "outputs": [
    {
     "data": {
      "text/html": [
       "<style>#sk-container-id-18 {color: black;}#sk-container-id-18 pre{padding: 0;}#sk-container-id-18 div.sk-toggleable {background-color: white;}#sk-container-id-18 label.sk-toggleable__label {cursor: pointer;display: block;width: 100%;margin-bottom: 0;padding: 0.3em;box-sizing: border-box;text-align: center;}#sk-container-id-18 label.sk-toggleable__label-arrow:before {content: \"▸\";float: left;margin-right: 0.25em;color: #696969;}#sk-container-id-18 label.sk-toggleable__label-arrow:hover:before {color: black;}#sk-container-id-18 div.sk-estimator:hover label.sk-toggleable__label-arrow:before {color: black;}#sk-container-id-18 div.sk-toggleable__content {max-height: 0;max-width: 0;overflow: hidden;text-align: left;background-color: #f0f8ff;}#sk-container-id-18 div.sk-toggleable__content pre {margin: 0.2em;color: black;border-radius: 0.25em;background-color: #f0f8ff;}#sk-container-id-18 input.sk-toggleable__control:checked~div.sk-toggleable__content {max-height: 200px;max-width: 100%;overflow: auto;}#sk-container-id-18 input.sk-toggleable__control:checked~label.sk-toggleable__label-arrow:before {content: \"▾\";}#sk-container-id-18 div.sk-estimator input.sk-toggleable__control:checked~label.sk-toggleable__label {background-color: #d4ebff;}#sk-container-id-18 div.sk-label input.sk-toggleable__control:checked~label.sk-toggleable__label {background-color: #d4ebff;}#sk-container-id-18 input.sk-hidden--visually {border: 0;clip: rect(1px 1px 1px 1px);clip: rect(1px, 1px, 1px, 1px);height: 1px;margin: -1px;overflow: hidden;padding: 0;position: absolute;width: 1px;}#sk-container-id-18 div.sk-estimator {font-family: monospace;background-color: #f0f8ff;border: 1px dotted black;border-radius: 0.25em;box-sizing: border-box;margin-bottom: 0.5em;}#sk-container-id-18 div.sk-estimator:hover {background-color: #d4ebff;}#sk-container-id-18 div.sk-parallel-item::after {content: \"\";width: 100%;border-bottom: 1px solid gray;flex-grow: 1;}#sk-container-id-18 div.sk-label:hover label.sk-toggleable__label {background-color: #d4ebff;}#sk-container-id-18 div.sk-serial::before {content: \"\";position: absolute;border-left: 1px solid gray;box-sizing: border-box;top: 0;bottom: 0;left: 50%;z-index: 0;}#sk-container-id-18 div.sk-serial {display: flex;flex-direction: column;align-items: center;background-color: white;padding-right: 0.2em;padding-left: 0.2em;position: relative;}#sk-container-id-18 div.sk-item {position: relative;z-index: 1;}#sk-container-id-18 div.sk-parallel {display: flex;align-items: stretch;justify-content: center;background-color: white;position: relative;}#sk-container-id-18 div.sk-item::before, #sk-container-id-18 div.sk-parallel-item::before {content: \"\";position: absolute;border-left: 1px solid gray;box-sizing: border-box;top: 0;bottom: 0;left: 50%;z-index: -1;}#sk-container-id-18 div.sk-parallel-item {display: flex;flex-direction: column;z-index: 1;position: relative;background-color: white;}#sk-container-id-18 div.sk-parallel-item:first-child::after {align-self: flex-end;width: 50%;}#sk-container-id-18 div.sk-parallel-item:last-child::after {align-self: flex-start;width: 50%;}#sk-container-id-18 div.sk-parallel-item:only-child::after {width: 0;}#sk-container-id-18 div.sk-dashed-wrapped {border: 1px dashed gray;margin: 0 0.4em 0.5em 0.4em;box-sizing: border-box;padding-bottom: 0.4em;background-color: white;}#sk-container-id-18 div.sk-label label {font-family: monospace;font-weight: bold;display: inline-block;line-height: 1.2em;}#sk-container-id-18 div.sk-label-container {text-align: center;}#sk-container-id-18 div.sk-container {/* jupyter's `normalize.less` sets `[hidden] { display: none; }` but bootstrap.min.css set `[hidden] { display: none !important; }` so we also need the `!important` here to be able to override the default hidden behavior on the sphinx rendered scikit-learn.org. See: https://github.com/scikit-learn/scikit-learn/issues/21755 */display: inline-block !important;position: relative;}#sk-container-id-18 div.sk-text-repr-fallback {display: none;}</style><div id=\"sk-container-id-18\" class=\"sk-top-container\"><div class=\"sk-text-repr-fallback\"><pre>RandomForestClassifier(max_depth=7, min_samples_leaf=15, min_samples_split=12,\n",
       "                       n_estimators=81, random_state=42)</pre><b>In a Jupyter environment, please rerun this cell to show the HTML representation or trust the notebook. <br />On GitHub, the HTML representation is unable to render, please try loading this page with nbviewer.org.</b></div><div class=\"sk-container\" hidden><div class=\"sk-item\"><div class=\"sk-estimator sk-toggleable\"><input class=\"sk-toggleable__control sk-hidden--visually\" id=\"sk-estimator-id-139\" type=\"checkbox\" checked><label for=\"sk-estimator-id-139\" class=\"sk-toggleable__label sk-toggleable__label-arrow\">RandomForestClassifier</label><div class=\"sk-toggleable__content\"><pre>RandomForestClassifier(max_depth=7, min_samples_leaf=15, min_samples_split=12,\n",
       "                       n_estimators=81, random_state=42)</pre></div></div></div></div></div>"
      ],
      "text/plain": [
       "RandomForestClassifier(max_depth=7, min_samples_leaf=15, min_samples_split=12,\n",
       "                       n_estimators=81, random_state=42)"
      ]
     },
     "execution_count": 234,
     "metadata": {},
     "output_type": "execute_result"
    }
   ],
   "source": [
    "rfc_final_model[2]"
   ]
  },
  {
   "cell_type": "markdown",
   "id": "49a9f8ed-b65a-4560-8de9-0975a0c94ccf",
   "metadata": {},
   "source": [
    "##### 6.4 rfc-best model evaluating "
   ]
  },
  {
   "cell_type": "code",
   "execution_count": 235,
   "id": "3264dbf8-cc1d-41d5-9555-efdee8fe4db4",
   "metadata": {},
   "outputs": [],
   "source": [
    "from sklearn.metrics import accuracy_score, precision_score, recall_score, f1_score, log_loss\n",
    "from sklearn.metrics import confusion_matrix, classification_report\n",
    "\n",
    "def evaluate_multiclass_model(y_true, y_pred_proba, y_pred):\n",
    "    \"\"\"\n",
    "    평가 지표를 계산하여 출력하는 함수\n",
    "\n",
    "    Parameters:\n",
    "    - y_true: 실제 클래스 레이블\n",
    "    - y_pred_proba: 모델의 클래스별 예측 확률\n",
    "    - y_pred: 모델의 예측 클래스\n",
    "\n",
    "    Returns:\n",
    "    - None\n",
    "    \"\"\"\n",
    "    # 정확도 (Accuracy)\n",
    "    accuracy = accuracy_score(y_true, y_pred)\n",
    "    print(f\"Accuracy: {accuracy:.4f}\")\n",
    "\n",
    "    # 정밀도 (Precision), 재현율 (Recall), F1 스코어 (F1 Score)\n",
    "    precision = precision_score(y_true, y_pred, average='weighted')\n",
    "    recall = recall_score(y_true, y_pred, average='weighted')\n",
    "    f1 = f1_score(y_true, y_pred, average='weighted')\n",
    "\n",
    "    print(f\"Precision: {precision:.4f}\")\n",
    "    print(f\"Recall: {recall:.4f}\")\n",
    "    print(f\"F1 Score: {f1:.4f}\")\n",
    "\n",
    "    # 다중 클래스 로그 손실 (Log Loss)\n",
    "    logloss = log_loss(y_true, y_pred_proba)\n",
    "    print(f\"Log Loss: {logloss:.4f}\")\n",
    "\n",
    "    # 혼동 행렬 (Confusion Matrix)\n",
    "    cm = confusion_matrix(y_true, y_pred)\n",
    "    print(\"Confusion Matrix:\")\n",
    "    print(cm)\n",
    "\n",
    "    # 클래스별 정밀도, 재현율, F1 스코어\n",
    "    class_report = classification_report(y_true, y_pred)\n",
    "    print(\"Classification Report:\")\n",
    "    print(class_report)"
   ]
  },
  {
   "cell_type": "code",
   "execution_count": 236,
   "id": "03c3405e-24f4-4789-9463-779554dbc4bc",
   "metadata": {},
   "outputs": [
    {
     "name": "stdout",
     "output_type": "stream",
     "text": [
      "Accuracy: 0.5735\n",
      "Precision: 0.5789\n",
      "Recall: 0.5735\n",
      "F1 Score: 0.5704\n",
      "Log Loss: 1.0560\n",
      "Confusion Matrix:\n",
      "[[ 569  149   14    6    0    0    0    0    0    0]\n",
      " [  86  628  429   30    7    0    0    0    0    0]\n",
      " [  32  118 1320  614   69    0    0    0    0    0]\n",
      " [   0    1  406 1608  819  151    0    0    0    0]\n",
      " [   0    0    8  673 2099  580    4    0    0    0]\n",
      " [   0    0    0   68  558 2022  380    5    0    0]\n",
      " [   0    0    0    7  138  790 1073   81    0    0]\n",
      " [   0    0    0    1    6  152  511  391   21    6]\n",
      " [   0    0    0    0    0   10  101  191  150   11]\n",
      " [   0    0    0    0    0    1    6   71   67   62]]\n",
      "Classification Report:\n",
      "              precision    recall  f1-score   support\n",
      "\n",
      "           0       0.83      0.77      0.80       738\n",
      "           1       0.70      0.53      0.61      1180\n",
      "           2       0.61      0.61      0.61      2153\n",
      "           3       0.53      0.54      0.54      2985\n",
      "           4       0.57      0.62      0.59      3364\n",
      "           5       0.55      0.67      0.60      3033\n",
      "           6       0.52      0.51      0.52      2089\n",
      "           7       0.53      0.36      0.43      1088\n",
      "           8       0.63      0.32      0.43       463\n",
      "           9       0.78      0.30      0.43       207\n",
      "\n",
      "    accuracy                           0.57     17300\n",
      "   macro avg       0.62      0.52      0.55     17300\n",
      "weighted avg       0.58      0.57      0.57     17300\n",
      "\n"
     ]
    }
   ],
   "source": [
    "train_pred = rfc_final_model.predict(train_X)\n",
    "train_pred_proba = rfc_final_model.predict_proba(train_X)\n",
    "evaluate_multiclass_model(train_y, train_pred_proba, train_pred)"
   ]
  },
  {
   "cell_type": "markdown",
   "id": "ba7d17e3-e44c-467d-b26f-ef4f6545b37d",
   "metadata": {},
   "source": [
    "### 6-2 **XGBoost**"
   ]
  },
  {
   "cell_type": "code",
   "execution_count": 158,
   "id": "9622c70a-a7e6-46a7-a571-6b547a925283",
   "metadata": {
    "scrolled": true
   },
   "outputs": [],
   "source": [
    "# pip install xgboost"
   ]
  },
  {
   "cell_type": "code",
   "execution_count": 159,
   "id": "8ef63e4d-a189-4110-bf9d-836f7d8b175a",
   "metadata": {},
   "outputs": [],
   "source": [
    "from xgboost import XGBClassifier"
   ]
  },
  {
   "cell_type": "code",
   "execution_count": 160,
   "id": "76dc7afb-4bec-4fd2-8667-92f2098e4b7c",
   "metadata": {},
   "outputs": [],
   "source": [
    "# 전처리-모델학습'랜덤포레스트 파이프라인 정의\n",
    "XGBmodel_pipeline = Pipeline([\n",
    "    ('imputer_na', impute_NA_pipeline),\n",
    "    ('preprocessing', preprocessor),\n",
    "    ('model', XGBClassifier(objective='multi:softmax', num_class=10, seed=42))\n",
    "])"
   ]
  },
  {
   "cell_type": "code",
   "execution_count": 161,
   "id": "1bac5926-5c49-482f-81d3-d7f3668a57ac",
   "metadata": {},
   "outputs": [
    {
     "data": {
      "text/html": [
       "<style>#sk-container-id-11 {color: black;}#sk-container-id-11 pre{padding: 0;}#sk-container-id-11 div.sk-toggleable {background-color: white;}#sk-container-id-11 label.sk-toggleable__label {cursor: pointer;display: block;width: 100%;margin-bottom: 0;padding: 0.3em;box-sizing: border-box;text-align: center;}#sk-container-id-11 label.sk-toggleable__label-arrow:before {content: \"▸\";float: left;margin-right: 0.25em;color: #696969;}#sk-container-id-11 label.sk-toggleable__label-arrow:hover:before {color: black;}#sk-container-id-11 div.sk-estimator:hover label.sk-toggleable__label-arrow:before {color: black;}#sk-container-id-11 div.sk-toggleable__content {max-height: 0;max-width: 0;overflow: hidden;text-align: left;background-color: #f0f8ff;}#sk-container-id-11 div.sk-toggleable__content pre {margin: 0.2em;color: black;border-radius: 0.25em;background-color: #f0f8ff;}#sk-container-id-11 input.sk-toggleable__control:checked~div.sk-toggleable__content {max-height: 200px;max-width: 100%;overflow: auto;}#sk-container-id-11 input.sk-toggleable__control:checked~label.sk-toggleable__label-arrow:before {content: \"▾\";}#sk-container-id-11 div.sk-estimator input.sk-toggleable__control:checked~label.sk-toggleable__label {background-color: #d4ebff;}#sk-container-id-11 div.sk-label input.sk-toggleable__control:checked~label.sk-toggleable__label {background-color: #d4ebff;}#sk-container-id-11 input.sk-hidden--visually {border: 0;clip: rect(1px 1px 1px 1px);clip: rect(1px, 1px, 1px, 1px);height: 1px;margin: -1px;overflow: hidden;padding: 0;position: absolute;width: 1px;}#sk-container-id-11 div.sk-estimator {font-family: monospace;background-color: #f0f8ff;border: 1px dotted black;border-radius: 0.25em;box-sizing: border-box;margin-bottom: 0.5em;}#sk-container-id-11 div.sk-estimator:hover {background-color: #d4ebff;}#sk-container-id-11 div.sk-parallel-item::after {content: \"\";width: 100%;border-bottom: 1px solid gray;flex-grow: 1;}#sk-container-id-11 div.sk-label:hover label.sk-toggleable__label {background-color: #d4ebff;}#sk-container-id-11 div.sk-serial::before {content: \"\";position: absolute;border-left: 1px solid gray;box-sizing: border-box;top: 0;bottom: 0;left: 50%;z-index: 0;}#sk-container-id-11 div.sk-serial {display: flex;flex-direction: column;align-items: center;background-color: white;padding-right: 0.2em;padding-left: 0.2em;position: relative;}#sk-container-id-11 div.sk-item {position: relative;z-index: 1;}#sk-container-id-11 div.sk-parallel {display: flex;align-items: stretch;justify-content: center;background-color: white;position: relative;}#sk-container-id-11 div.sk-item::before, #sk-container-id-11 div.sk-parallel-item::before {content: \"\";position: absolute;border-left: 1px solid gray;box-sizing: border-box;top: 0;bottom: 0;left: 50%;z-index: -1;}#sk-container-id-11 div.sk-parallel-item {display: flex;flex-direction: column;z-index: 1;position: relative;background-color: white;}#sk-container-id-11 div.sk-parallel-item:first-child::after {align-self: flex-end;width: 50%;}#sk-container-id-11 div.sk-parallel-item:last-child::after {align-self: flex-start;width: 50%;}#sk-container-id-11 div.sk-parallel-item:only-child::after {width: 0;}#sk-container-id-11 div.sk-dashed-wrapped {border: 1px dashed gray;margin: 0 0.4em 0.5em 0.4em;box-sizing: border-box;padding-bottom: 0.4em;background-color: white;}#sk-container-id-11 div.sk-label label {font-family: monospace;font-weight: bold;display: inline-block;line-height: 1.2em;}#sk-container-id-11 div.sk-label-container {text-align: center;}#sk-container-id-11 div.sk-container {/* jupyter's `normalize.less` sets `[hidden] { display: none; }` but bootstrap.min.css set `[hidden] { display: none !important; }` so we also need the `!important` here to be able to override the default hidden behavior on the sphinx rendered scikit-learn.org. See: https://github.com/scikit-learn/scikit-learn/issues/21755 */display: inline-block !important;position: relative;}#sk-container-id-11 div.sk-text-repr-fallback {display: none;}</style><div id=\"sk-container-id-11\" class=\"sk-top-container\"><div class=\"sk-text-repr-fallback\"><pre>Pipeline(steps=[(&#x27;imputer_na&#x27;,\n",
       "                 Pipeline(steps=[(&#x27;impute_RA&#x27;,\n",
       "                                  ImputeGroupbyMode(group=&#x27;Designation&#x27;,\n",
       "                                                    nan_feature=&#x27;Resource &#x27;\n",
       "                                                                &#x27;Allocation&#x27;)),\n",
       "                                 (&#x27;impute_MF&#x27;,\n",
       "                                  ImputeGroupbyMode(group=&#x27;Resource Allocation&#x27;,\n",
       "                                                    nan_feature=&#x27;Mental &#x27;\n",
       "                                                                &#x27;Fatigue &#x27;\n",
       "                                                                &#x27;Score&#x27;))])),\n",
       "                (&#x27;preprocessing&#x27;,\n",
       "                 ColumnTransformer(transformers=[(&#x27;num&#x27;, StandardScaler(),\n",
       "                                                  [&#x27;RelativeDaysJoined&#x27;,\n",
       "                                                   &#x27;Designation&#x27;,\n",
       "                                                   &#x27;Mental...\n",
       "                               feature_types=None, gamma=None, grow_policy=None,\n",
       "                               importance_type=None,\n",
       "                               interaction_constraints=None, learning_rate=None,\n",
       "                               max_bin=None, max_cat_threshold=None,\n",
       "                               max_cat_to_onehot=None, max_delta_step=None,\n",
       "                               max_depth=None, max_leaves=None,\n",
       "                               min_child_weight=None, missing=nan,\n",
       "                               monotone_constraints=None, multi_strategy=None,\n",
       "                               n_estimators=None, n_jobs=None, num_class=10,\n",
       "                               num_parallel_tree=None, ...))])</pre><b>In a Jupyter environment, please rerun this cell to show the HTML representation or trust the notebook. <br />On GitHub, the HTML representation is unable to render, please try loading this page with nbviewer.org.</b></div><div class=\"sk-container\" hidden><div class=\"sk-item sk-dashed-wrapped\"><div class=\"sk-label-container\"><div class=\"sk-label sk-toggleable\"><input class=\"sk-toggleable__control sk-hidden--visually\" id=\"sk-estimator-id-69\" type=\"checkbox\" ><label for=\"sk-estimator-id-69\" class=\"sk-toggleable__label sk-toggleable__label-arrow\">Pipeline</label><div class=\"sk-toggleable__content\"><pre>Pipeline(steps=[(&#x27;imputer_na&#x27;,\n",
       "                 Pipeline(steps=[(&#x27;impute_RA&#x27;,\n",
       "                                  ImputeGroupbyMode(group=&#x27;Designation&#x27;,\n",
       "                                                    nan_feature=&#x27;Resource &#x27;\n",
       "                                                                &#x27;Allocation&#x27;)),\n",
       "                                 (&#x27;impute_MF&#x27;,\n",
       "                                  ImputeGroupbyMode(group=&#x27;Resource Allocation&#x27;,\n",
       "                                                    nan_feature=&#x27;Mental &#x27;\n",
       "                                                                &#x27;Fatigue &#x27;\n",
       "                                                                &#x27;Score&#x27;))])),\n",
       "                (&#x27;preprocessing&#x27;,\n",
       "                 ColumnTransformer(transformers=[(&#x27;num&#x27;, StandardScaler(),\n",
       "                                                  [&#x27;RelativeDaysJoined&#x27;,\n",
       "                                                   &#x27;Designation&#x27;,\n",
       "                                                   &#x27;Mental...\n",
       "                               feature_types=None, gamma=None, grow_policy=None,\n",
       "                               importance_type=None,\n",
       "                               interaction_constraints=None, learning_rate=None,\n",
       "                               max_bin=None, max_cat_threshold=None,\n",
       "                               max_cat_to_onehot=None, max_delta_step=None,\n",
       "                               max_depth=None, max_leaves=None,\n",
       "                               min_child_weight=None, missing=nan,\n",
       "                               monotone_constraints=None, multi_strategy=None,\n",
       "                               n_estimators=None, n_jobs=None, num_class=10,\n",
       "                               num_parallel_tree=None, ...))])</pre></div></div></div><div class=\"sk-serial\"><div class=\"sk-item\"><div class=\"sk-label-container\"><div class=\"sk-label sk-toggleable\"><input class=\"sk-toggleable__control sk-hidden--visually\" id=\"sk-estimator-id-70\" type=\"checkbox\" ><label for=\"sk-estimator-id-70\" class=\"sk-toggleable__label sk-toggleable__label-arrow\">imputer_na: Pipeline</label><div class=\"sk-toggleable__content\"><pre>Pipeline(steps=[(&#x27;impute_RA&#x27;,\n",
       "                 ImputeGroupbyMode(group=&#x27;Designation&#x27;,\n",
       "                                   nan_feature=&#x27;Resource Allocation&#x27;)),\n",
       "                (&#x27;impute_MF&#x27;,\n",
       "                 ImputeGroupbyMode(group=&#x27;Resource Allocation&#x27;,\n",
       "                                   nan_feature=&#x27;Mental Fatigue Score&#x27;))])</pre></div></div></div><div class=\"sk-serial\"><div class=\"sk-item\"><div class=\"sk-estimator sk-toggleable\"><input class=\"sk-toggleable__control sk-hidden--visually\" id=\"sk-estimator-id-71\" type=\"checkbox\" ><label for=\"sk-estimator-id-71\" class=\"sk-toggleable__label sk-toggleable__label-arrow\">ImputeGroupbyMode</label><div class=\"sk-toggleable__content\"><pre>ImputeGroupbyMode(group=&#x27;Designation&#x27;, nan_feature=&#x27;Resource Allocation&#x27;)</pre></div></div></div><div class=\"sk-item\"><div class=\"sk-estimator sk-toggleable\"><input class=\"sk-toggleable__control sk-hidden--visually\" id=\"sk-estimator-id-72\" type=\"checkbox\" ><label for=\"sk-estimator-id-72\" class=\"sk-toggleable__label sk-toggleable__label-arrow\">ImputeGroupbyMode</label><div class=\"sk-toggleable__content\"><pre>ImputeGroupbyMode(group=&#x27;Resource Allocation&#x27;,\n",
       "                  nan_feature=&#x27;Mental Fatigue Score&#x27;)</pre></div></div></div></div></div><div class=\"sk-item sk-dashed-wrapped\"><div class=\"sk-label-container\"><div class=\"sk-label sk-toggleable\"><input class=\"sk-toggleable__control sk-hidden--visually\" id=\"sk-estimator-id-73\" type=\"checkbox\" ><label for=\"sk-estimator-id-73\" class=\"sk-toggleable__label sk-toggleable__label-arrow\">preprocessing: ColumnTransformer</label><div class=\"sk-toggleable__content\"><pre>ColumnTransformer(transformers=[(&#x27;num&#x27;, StandardScaler(),\n",
       "                                 [&#x27;RelativeDaysJoined&#x27;, &#x27;Designation&#x27;,\n",
       "                                  &#x27;Mental Fatigue Score&#x27;]),\n",
       "                                (&#x27;cat&#x27;, OneHotEncoder(),\n",
       "                                 [&#x27;Gender&#x27;, &#x27;Company Type&#x27;,\n",
       "                                  &#x27;WFH Setup Available&#x27;])])</pre></div></div></div><div class=\"sk-parallel\"><div class=\"sk-parallel-item\"><div class=\"sk-item\"><div class=\"sk-label-container\"><div class=\"sk-label sk-toggleable\"><input class=\"sk-toggleable__control sk-hidden--visually\" id=\"sk-estimator-id-74\" type=\"checkbox\" ><label for=\"sk-estimator-id-74\" class=\"sk-toggleable__label sk-toggleable__label-arrow\">num</label><div class=\"sk-toggleable__content\"><pre>[&#x27;RelativeDaysJoined&#x27;, &#x27;Designation&#x27;, &#x27;Mental Fatigue Score&#x27;]</pre></div></div></div><div class=\"sk-serial\"><div class=\"sk-item\"><div class=\"sk-estimator sk-toggleable\"><input class=\"sk-toggleable__control sk-hidden--visually\" id=\"sk-estimator-id-75\" type=\"checkbox\" ><label for=\"sk-estimator-id-75\" class=\"sk-toggleable__label sk-toggleable__label-arrow\">StandardScaler</label><div class=\"sk-toggleable__content\"><pre>StandardScaler()</pre></div></div></div></div></div></div><div class=\"sk-parallel-item\"><div class=\"sk-item\"><div class=\"sk-label-container\"><div class=\"sk-label sk-toggleable\"><input class=\"sk-toggleable__control sk-hidden--visually\" id=\"sk-estimator-id-76\" type=\"checkbox\" ><label for=\"sk-estimator-id-76\" class=\"sk-toggleable__label sk-toggleable__label-arrow\">cat</label><div class=\"sk-toggleable__content\"><pre>[&#x27;Gender&#x27;, &#x27;Company Type&#x27;, &#x27;WFH Setup Available&#x27;]</pre></div></div></div><div class=\"sk-serial\"><div class=\"sk-item\"><div class=\"sk-estimator sk-toggleable\"><input class=\"sk-toggleable__control sk-hidden--visually\" id=\"sk-estimator-id-77\" type=\"checkbox\" ><label for=\"sk-estimator-id-77\" class=\"sk-toggleable__label sk-toggleable__label-arrow\">OneHotEncoder</label><div class=\"sk-toggleable__content\"><pre>OneHotEncoder()</pre></div></div></div></div></div></div></div></div><div class=\"sk-item\"><div class=\"sk-estimator sk-toggleable\"><input class=\"sk-toggleable__control sk-hidden--visually\" id=\"sk-estimator-id-78\" type=\"checkbox\" ><label for=\"sk-estimator-id-78\" class=\"sk-toggleable__label sk-toggleable__label-arrow\">XGBClassifier</label><div class=\"sk-toggleable__content\"><pre>XGBClassifier(base_score=None, booster=None, callbacks=None,\n",
       "              colsample_bylevel=None, colsample_bynode=None,\n",
       "              colsample_bytree=None, device=None, early_stopping_rounds=None,\n",
       "              enable_categorical=False, eval_metric=None, feature_types=None,\n",
       "              gamma=None, grow_policy=None, importance_type=None,\n",
       "              interaction_constraints=None, learning_rate=None, max_bin=None,\n",
       "              max_cat_threshold=None, max_cat_to_onehot=None,\n",
       "              max_delta_step=None, max_depth=None, max_leaves=None,\n",
       "              min_child_weight=None, missing=nan, monotone_constraints=None,\n",
       "              multi_strategy=None, n_estimators=None, n_jobs=None, num_class=10,\n",
       "              num_parallel_tree=None, ...)</pre></div></div></div></div></div></div></div>"
      ],
      "text/plain": [
       "Pipeline(steps=[('imputer_na',\n",
       "                 Pipeline(steps=[('impute_RA',\n",
       "                                  ImputeGroupbyMode(group='Designation',\n",
       "                                                    nan_feature='Resource '\n",
       "                                                                'Allocation')),\n",
       "                                 ('impute_MF',\n",
       "                                  ImputeGroupbyMode(group='Resource Allocation',\n",
       "                                                    nan_feature='Mental '\n",
       "                                                                'Fatigue '\n",
       "                                                                'Score'))])),\n",
       "                ('preprocessing',\n",
       "                 ColumnTransformer(transformers=[('num', StandardScaler(),\n",
       "                                                  ['RelativeDaysJoined',\n",
       "                                                   'Designation',\n",
       "                                                   'Mental...\n",
       "                               feature_types=None, gamma=None, grow_policy=None,\n",
       "                               importance_type=None,\n",
       "                               interaction_constraints=None, learning_rate=None,\n",
       "                               max_bin=None, max_cat_threshold=None,\n",
       "                               max_cat_to_onehot=None, max_delta_step=None,\n",
       "                               max_depth=None, max_leaves=None,\n",
       "                               min_child_weight=None, missing=nan,\n",
       "                               monotone_constraints=None, multi_strategy=None,\n",
       "                               n_estimators=None, n_jobs=None, num_class=10,\n",
       "                               num_parallel_tree=None, ...))])"
      ]
     },
     "execution_count": 161,
     "metadata": {},
     "output_type": "execute_result"
    }
   ],
   "source": [
    "XGBmodel_pipeline"
   ]
  },
  {
   "cell_type": "code",
   "execution_count": 164,
   "id": "72a3117e-4a8e-47f1-9e67-0e2eabf0e80c",
   "metadata": {},
   "outputs": [],
   "source": [
    "from sklearn.preprocessing import LabelEncoder\n",
    "\n",
    "label_encoder = LabelEncoder()\n",
    "train_y = label_encoder.fit_transform(train_y)\n",
    "\n",
    "train_y_adjusted = train_y - 1"
   ]
  },
  {
   "cell_type": "code",
   "execution_count": 175,
   "id": "4e9f8a8b-f509-4303-b25a-00d6e7c63568",
   "metadata": {
    "scrolled": true
   },
   "outputs": [
    {
     "data": {
      "text/html": [
       "<style>#sk-container-id-13 {color: black;}#sk-container-id-13 pre{padding: 0;}#sk-container-id-13 div.sk-toggleable {background-color: white;}#sk-container-id-13 label.sk-toggleable__label {cursor: pointer;display: block;width: 100%;margin-bottom: 0;padding: 0.3em;box-sizing: border-box;text-align: center;}#sk-container-id-13 label.sk-toggleable__label-arrow:before {content: \"▸\";float: left;margin-right: 0.25em;color: #696969;}#sk-container-id-13 label.sk-toggleable__label-arrow:hover:before {color: black;}#sk-container-id-13 div.sk-estimator:hover label.sk-toggleable__label-arrow:before {color: black;}#sk-container-id-13 div.sk-toggleable__content {max-height: 0;max-width: 0;overflow: hidden;text-align: left;background-color: #f0f8ff;}#sk-container-id-13 div.sk-toggleable__content pre {margin: 0.2em;color: black;border-radius: 0.25em;background-color: #f0f8ff;}#sk-container-id-13 input.sk-toggleable__control:checked~div.sk-toggleable__content {max-height: 200px;max-width: 100%;overflow: auto;}#sk-container-id-13 input.sk-toggleable__control:checked~label.sk-toggleable__label-arrow:before {content: \"▾\";}#sk-container-id-13 div.sk-estimator input.sk-toggleable__control:checked~label.sk-toggleable__label {background-color: #d4ebff;}#sk-container-id-13 div.sk-label input.sk-toggleable__control:checked~label.sk-toggleable__label {background-color: #d4ebff;}#sk-container-id-13 input.sk-hidden--visually {border: 0;clip: rect(1px 1px 1px 1px);clip: rect(1px, 1px, 1px, 1px);height: 1px;margin: -1px;overflow: hidden;padding: 0;position: absolute;width: 1px;}#sk-container-id-13 div.sk-estimator {font-family: monospace;background-color: #f0f8ff;border: 1px dotted black;border-radius: 0.25em;box-sizing: border-box;margin-bottom: 0.5em;}#sk-container-id-13 div.sk-estimator:hover {background-color: #d4ebff;}#sk-container-id-13 div.sk-parallel-item::after {content: \"\";width: 100%;border-bottom: 1px solid gray;flex-grow: 1;}#sk-container-id-13 div.sk-label:hover label.sk-toggleable__label {background-color: #d4ebff;}#sk-container-id-13 div.sk-serial::before {content: \"\";position: absolute;border-left: 1px solid gray;box-sizing: border-box;top: 0;bottom: 0;left: 50%;z-index: 0;}#sk-container-id-13 div.sk-serial {display: flex;flex-direction: column;align-items: center;background-color: white;padding-right: 0.2em;padding-left: 0.2em;position: relative;}#sk-container-id-13 div.sk-item {position: relative;z-index: 1;}#sk-container-id-13 div.sk-parallel {display: flex;align-items: stretch;justify-content: center;background-color: white;position: relative;}#sk-container-id-13 div.sk-item::before, #sk-container-id-13 div.sk-parallel-item::before {content: \"\";position: absolute;border-left: 1px solid gray;box-sizing: border-box;top: 0;bottom: 0;left: 50%;z-index: -1;}#sk-container-id-13 div.sk-parallel-item {display: flex;flex-direction: column;z-index: 1;position: relative;background-color: white;}#sk-container-id-13 div.sk-parallel-item:first-child::after {align-self: flex-end;width: 50%;}#sk-container-id-13 div.sk-parallel-item:last-child::after {align-self: flex-start;width: 50%;}#sk-container-id-13 div.sk-parallel-item:only-child::after {width: 0;}#sk-container-id-13 div.sk-dashed-wrapped {border: 1px dashed gray;margin: 0 0.4em 0.5em 0.4em;box-sizing: border-box;padding-bottom: 0.4em;background-color: white;}#sk-container-id-13 div.sk-label label {font-family: monospace;font-weight: bold;display: inline-block;line-height: 1.2em;}#sk-container-id-13 div.sk-label-container {text-align: center;}#sk-container-id-13 div.sk-container {/* jupyter's `normalize.less` sets `[hidden] { display: none; }` but bootstrap.min.css set `[hidden] { display: none !important; }` so we also need the `!important` here to be able to override the default hidden behavior on the sphinx rendered scikit-learn.org. See: https://github.com/scikit-learn/scikit-learn/issues/21755 */display: inline-block !important;position: relative;}#sk-container-id-13 div.sk-text-repr-fallback {display: none;}</style><div id=\"sk-container-id-13\" class=\"sk-top-container\"><div class=\"sk-text-repr-fallback\"><pre>Pipeline(steps=[(&#x27;imputer_na&#x27;,\n",
       "                 Pipeline(steps=[(&#x27;impute_RA&#x27;,\n",
       "                                  ImputeGroupbyMode(group=&#x27;Designation&#x27;,\n",
       "                                                    nan_feature=&#x27;Resource &#x27;\n",
       "                                                                &#x27;Allocation&#x27;)),\n",
       "                                 (&#x27;impute_MF&#x27;,\n",
       "                                  ImputeGroupbyMode(group=&#x27;Resource Allocation&#x27;,\n",
       "                                                    nan_feature=&#x27;Mental &#x27;\n",
       "                                                                &#x27;Fatigue &#x27;\n",
       "                                                                &#x27;Score&#x27;))])),\n",
       "                (&#x27;preprocessing&#x27;,\n",
       "                 ColumnTransformer(transformers=[(&#x27;num&#x27;, StandardScaler(),\n",
       "                                                  [&#x27;RelativeDaysJoined&#x27;,\n",
       "                                                   &#x27;Designation&#x27;,\n",
       "                                                   &#x27;Mental...\n",
       "                               feature_types=None, gamma=None, grow_policy=None,\n",
       "                               importance_type=None,\n",
       "                               interaction_constraints=None, learning_rate=None,\n",
       "                               max_bin=None, max_cat_threshold=None,\n",
       "                               max_cat_to_onehot=None, max_delta_step=None,\n",
       "                               max_depth=None, max_leaves=None,\n",
       "                               min_child_weight=None, missing=nan,\n",
       "                               monotone_constraints=None, multi_strategy=None,\n",
       "                               n_estimators=None, n_jobs=None, num_class=10,\n",
       "                               num_parallel_tree=None, ...))])</pre><b>In a Jupyter environment, please rerun this cell to show the HTML representation or trust the notebook. <br />On GitHub, the HTML representation is unable to render, please try loading this page with nbviewer.org.</b></div><div class=\"sk-container\" hidden><div class=\"sk-item sk-dashed-wrapped\"><div class=\"sk-label-container\"><div class=\"sk-label sk-toggleable\"><input class=\"sk-toggleable__control sk-hidden--visually\" id=\"sk-estimator-id-89\" type=\"checkbox\" ><label for=\"sk-estimator-id-89\" class=\"sk-toggleable__label sk-toggleable__label-arrow\">Pipeline</label><div class=\"sk-toggleable__content\"><pre>Pipeline(steps=[(&#x27;imputer_na&#x27;,\n",
       "                 Pipeline(steps=[(&#x27;impute_RA&#x27;,\n",
       "                                  ImputeGroupbyMode(group=&#x27;Designation&#x27;,\n",
       "                                                    nan_feature=&#x27;Resource &#x27;\n",
       "                                                                &#x27;Allocation&#x27;)),\n",
       "                                 (&#x27;impute_MF&#x27;,\n",
       "                                  ImputeGroupbyMode(group=&#x27;Resource Allocation&#x27;,\n",
       "                                                    nan_feature=&#x27;Mental &#x27;\n",
       "                                                                &#x27;Fatigue &#x27;\n",
       "                                                                &#x27;Score&#x27;))])),\n",
       "                (&#x27;preprocessing&#x27;,\n",
       "                 ColumnTransformer(transformers=[(&#x27;num&#x27;, StandardScaler(),\n",
       "                                                  [&#x27;RelativeDaysJoined&#x27;,\n",
       "                                                   &#x27;Designation&#x27;,\n",
       "                                                   &#x27;Mental...\n",
       "                               feature_types=None, gamma=None, grow_policy=None,\n",
       "                               importance_type=None,\n",
       "                               interaction_constraints=None, learning_rate=None,\n",
       "                               max_bin=None, max_cat_threshold=None,\n",
       "                               max_cat_to_onehot=None, max_delta_step=None,\n",
       "                               max_depth=None, max_leaves=None,\n",
       "                               min_child_weight=None, missing=nan,\n",
       "                               monotone_constraints=None, multi_strategy=None,\n",
       "                               n_estimators=None, n_jobs=None, num_class=10,\n",
       "                               num_parallel_tree=None, ...))])</pre></div></div></div><div class=\"sk-serial\"><div class=\"sk-item\"><div class=\"sk-label-container\"><div class=\"sk-label sk-toggleable\"><input class=\"sk-toggleable__control sk-hidden--visually\" id=\"sk-estimator-id-90\" type=\"checkbox\" ><label for=\"sk-estimator-id-90\" class=\"sk-toggleable__label sk-toggleable__label-arrow\">imputer_na: Pipeline</label><div class=\"sk-toggleable__content\"><pre>Pipeline(steps=[(&#x27;impute_RA&#x27;,\n",
       "                 ImputeGroupbyMode(group=&#x27;Designation&#x27;,\n",
       "                                   nan_feature=&#x27;Resource Allocation&#x27;)),\n",
       "                (&#x27;impute_MF&#x27;,\n",
       "                 ImputeGroupbyMode(group=&#x27;Resource Allocation&#x27;,\n",
       "                                   nan_feature=&#x27;Mental Fatigue Score&#x27;))])</pre></div></div></div><div class=\"sk-serial\"><div class=\"sk-item\"><div class=\"sk-estimator sk-toggleable\"><input class=\"sk-toggleable__control sk-hidden--visually\" id=\"sk-estimator-id-91\" type=\"checkbox\" ><label for=\"sk-estimator-id-91\" class=\"sk-toggleable__label sk-toggleable__label-arrow\">ImputeGroupbyMode</label><div class=\"sk-toggleable__content\"><pre>ImputeGroupbyMode(group=&#x27;Designation&#x27;, nan_feature=&#x27;Resource Allocation&#x27;)</pre></div></div></div><div class=\"sk-item\"><div class=\"sk-estimator sk-toggleable\"><input class=\"sk-toggleable__control sk-hidden--visually\" id=\"sk-estimator-id-92\" type=\"checkbox\" ><label for=\"sk-estimator-id-92\" class=\"sk-toggleable__label sk-toggleable__label-arrow\">ImputeGroupbyMode</label><div class=\"sk-toggleable__content\"><pre>ImputeGroupbyMode(group=&#x27;Resource Allocation&#x27;,\n",
       "                  nan_feature=&#x27;Mental Fatigue Score&#x27;)</pre></div></div></div></div></div><div class=\"sk-item sk-dashed-wrapped\"><div class=\"sk-label-container\"><div class=\"sk-label sk-toggleable\"><input class=\"sk-toggleable__control sk-hidden--visually\" id=\"sk-estimator-id-93\" type=\"checkbox\" ><label for=\"sk-estimator-id-93\" class=\"sk-toggleable__label sk-toggleable__label-arrow\">preprocessing: ColumnTransformer</label><div class=\"sk-toggleable__content\"><pre>ColumnTransformer(transformers=[(&#x27;num&#x27;, StandardScaler(),\n",
       "                                 [&#x27;RelativeDaysJoined&#x27;, &#x27;Designation&#x27;,\n",
       "                                  &#x27;Mental Fatigue Score&#x27;]),\n",
       "                                (&#x27;cat&#x27;, OneHotEncoder(),\n",
       "                                 [&#x27;Gender&#x27;, &#x27;Company Type&#x27;,\n",
       "                                  &#x27;WFH Setup Available&#x27;])])</pre></div></div></div><div class=\"sk-parallel\"><div class=\"sk-parallel-item\"><div class=\"sk-item\"><div class=\"sk-label-container\"><div class=\"sk-label sk-toggleable\"><input class=\"sk-toggleable__control sk-hidden--visually\" id=\"sk-estimator-id-94\" type=\"checkbox\" ><label for=\"sk-estimator-id-94\" class=\"sk-toggleable__label sk-toggleable__label-arrow\">num</label><div class=\"sk-toggleable__content\"><pre>[&#x27;RelativeDaysJoined&#x27;, &#x27;Designation&#x27;, &#x27;Mental Fatigue Score&#x27;]</pre></div></div></div><div class=\"sk-serial\"><div class=\"sk-item\"><div class=\"sk-estimator sk-toggleable\"><input class=\"sk-toggleable__control sk-hidden--visually\" id=\"sk-estimator-id-95\" type=\"checkbox\" ><label for=\"sk-estimator-id-95\" class=\"sk-toggleable__label sk-toggleable__label-arrow\">StandardScaler</label><div class=\"sk-toggleable__content\"><pre>StandardScaler()</pre></div></div></div></div></div></div><div class=\"sk-parallel-item\"><div class=\"sk-item\"><div class=\"sk-label-container\"><div class=\"sk-label sk-toggleable\"><input class=\"sk-toggleable__control sk-hidden--visually\" id=\"sk-estimator-id-96\" type=\"checkbox\" ><label for=\"sk-estimator-id-96\" class=\"sk-toggleable__label sk-toggleable__label-arrow\">cat</label><div class=\"sk-toggleable__content\"><pre>[&#x27;Gender&#x27;, &#x27;Company Type&#x27;, &#x27;WFH Setup Available&#x27;]</pre></div></div></div><div class=\"sk-serial\"><div class=\"sk-item\"><div class=\"sk-estimator sk-toggleable\"><input class=\"sk-toggleable__control sk-hidden--visually\" id=\"sk-estimator-id-97\" type=\"checkbox\" ><label for=\"sk-estimator-id-97\" class=\"sk-toggleable__label sk-toggleable__label-arrow\">OneHotEncoder</label><div class=\"sk-toggleable__content\"><pre>OneHotEncoder()</pre></div></div></div></div></div></div></div></div><div class=\"sk-item\"><div class=\"sk-estimator sk-toggleable\"><input class=\"sk-toggleable__control sk-hidden--visually\" id=\"sk-estimator-id-98\" type=\"checkbox\" ><label for=\"sk-estimator-id-98\" class=\"sk-toggleable__label sk-toggleable__label-arrow\">XGBClassifier</label><div class=\"sk-toggleable__content\"><pre>XGBClassifier(base_score=None, booster=None, callbacks=None,\n",
       "              colsample_bylevel=None, colsample_bynode=None,\n",
       "              colsample_bytree=None, device=None, early_stopping_rounds=None,\n",
       "              enable_categorical=False, eval_metric=None, feature_types=None,\n",
       "              gamma=None, grow_policy=None, importance_type=None,\n",
       "              interaction_constraints=None, learning_rate=None, max_bin=None,\n",
       "              max_cat_threshold=None, max_cat_to_onehot=None,\n",
       "              max_delta_step=None, max_depth=None, max_leaves=None,\n",
       "              min_child_weight=None, missing=nan, monotone_constraints=None,\n",
       "              multi_strategy=None, n_estimators=None, n_jobs=None, num_class=10,\n",
       "              num_parallel_tree=None, ...)</pre></div></div></div></div></div></div></div>"
      ],
      "text/plain": [
       "Pipeline(steps=[('imputer_na',\n",
       "                 Pipeline(steps=[('impute_RA',\n",
       "                                  ImputeGroupbyMode(group='Designation',\n",
       "                                                    nan_feature='Resource '\n",
       "                                                                'Allocation')),\n",
       "                                 ('impute_MF',\n",
       "                                  ImputeGroupbyMode(group='Resource Allocation',\n",
       "                                                    nan_feature='Mental '\n",
       "                                                                'Fatigue '\n",
       "                                                                'Score'))])),\n",
       "                ('preprocessing',\n",
       "                 ColumnTransformer(transformers=[('num', StandardScaler(),\n",
       "                                                  ['RelativeDaysJoined',\n",
       "                                                   'Designation',\n",
       "                                                   'Mental...\n",
       "                               feature_types=None, gamma=None, grow_policy=None,\n",
       "                               importance_type=None,\n",
       "                               interaction_constraints=None, learning_rate=None,\n",
       "                               max_bin=None, max_cat_threshold=None,\n",
       "                               max_cat_to_onehot=None, max_delta_step=None,\n",
       "                               max_depth=None, max_leaves=None,\n",
       "                               min_child_weight=None, missing=nan,\n",
       "                               monotone_constraints=None, multi_strategy=None,\n",
       "                               n_estimators=None, n_jobs=None, num_class=10,\n",
       "                               num_parallel_tree=None, ...))])"
      ]
     },
     "execution_count": 175,
     "metadata": {},
     "output_type": "execute_result"
    }
   ],
   "source": [
    "XGBmodel_pipeline.fit(train_X, train_y)"
   ]
  },
  {
   "cell_type": "markdown",
   "id": "7150347e-34aa-4ce8-a0f8-bdd5f005c338",
   "metadata": {},
   "source": [
    "#### 6-2-2 xgb-scoring"
   ]
  },
  {
   "cell_type": "code",
   "execution_count": 167,
   "id": "957eaf90-44d1-4bdf-b663-c92f0ea278f1",
   "metadata": {},
   "outputs": [
    {
     "data": {
      "text/plain": [
       "array([7, 5, 4, ..., 3, 4, 5])"
      ]
     },
     "execution_count": 167,
     "metadata": {},
     "output_type": "execute_result"
    }
   ],
   "source": [
    "burnout_predictions = XGBmodel_pipeline.predict(train_X)\n",
    "burnout_predictions"
   ]
  },
  {
   "cell_type": "code",
   "execution_count": 168,
   "id": "69f2f7de-0c6d-4f06-b0e8-71764c2c0fbb",
   "metadata": {},
   "outputs": [
    {
     "data": {
      "text/plain": [
       "0.727514450867052"
      ]
     },
     "execution_count": 168,
     "metadata": {},
     "output_type": "execute_result"
    }
   ],
   "source": [
    "XGBmodel_pipeline.score(train_X, train_y)"
   ]
  },
  {
   "cell_type": "code",
   "execution_count": 181,
   "id": "2374e842-18a5-4075-b4d2-8ee488fda7bf",
   "metadata": {},
   "outputs": [
    {
     "data": {
      "text/plain": [
       "0.9091539528432733"
      ]
     },
     "execution_count": 181,
     "metadata": {},
     "output_type": "execute_result"
    }
   ],
   "source": [
    "XGBmodel_pipeline.score(valid_X, valid_y)"
   ]
  },
  {
   "cell_type": "code",
   "execution_count": 177,
   "id": "c75944ca-0ed1-41d8-8dba-8d3e67165dbe",
   "metadata": {},
   "outputs": [
    {
     "name": "stdout",
     "output_type": "stream",
     "text": [
      "accuracy = 0.727514450867052\n"
     ]
    }
   ],
   "source": [
    "# 모델을 훈련 데이터에 맞추기\n",
    "XGBmodel_pipeline.fit(train_X, train_y)\n",
    "\n",
    "# 훈련 데이터에 대한 예측 수행\n",
    "train_pred = XGBmodel_pipeline.predict(train_X)\n",
    "\n",
    "# 정확도 계산\n",
    "accuracy = accuracy_score(train_y, train_pred)\n",
    "print(f'accuracy = {accuracy}')"
   ]
  },
  {
   "cell_type": "code",
   "execution_count": 179,
   "id": "b8c2504b-3946-457a-ac18-ab008214d995",
   "metadata": {},
   "outputs": [],
   "source": [
    "label_encoder = LabelEncoder()\n",
    "valid_y = label_encoder.fit_transform(valid_y)\n",
    "\n",
    "valid_y_adjusted = valid_y - 1"
   ]
  },
  {
   "cell_type": "code",
   "execution_count": 180,
   "id": "1230dcb6-a699-4b67-b942-5f56d8d5e7d3",
   "metadata": {},
   "outputs": [
    {
     "name": "stdout",
     "output_type": "stream",
     "text": [
      "accuracy = 0.9091539528432733\n"
     ]
    }
   ],
   "source": [
    "# 모델을 훈련 데이터에 맞추기\n",
    "XGBmodel_pipeline.fit(valid_X, valid_y)\n",
    "\n",
    "# 훈련 데이터에 대한 예측 수행\n",
    "valid_pred = XGBmodel_pipeline.predict(valid_X)\n",
    "\n",
    "# 정확도 계산\n",
    "accuracy = accuracy_score(valid_y, valid_pred)\n",
    "print(f'accuracy = {accuracy}')"
   ]
  },
  {
   "cell_type": "markdown",
   "id": "a599e9a8-4e52-4f6f-a8df-5ecfd77e5a79",
   "metadata": {},
   "source": [
    "#### 6-2-3 xgb-최적의 파라미터 찾기 Random search"
   ]
  },
  {
   "cell_type": "code",
   "execution_count": 259,
   "id": "db55b07f-c2f8-45ac-b483-cba682123147",
   "metadata": {},
   "outputs": [
    {
     "name": "stdout",
     "output_type": "stream",
     "text": [
      "최적의 하이퍼파라미터: {'model__colsample_bytree': 0.9439761626945282, 'model__learning_rate': 0.2140922615763339, 'model__max_depth': 3, 'model__n_estimators': 67, 'model__subsample': 0.9795542149013333}\n",
      "Score:  0.5530635838150288\n"
     ]
    }
   ],
   "source": [
    "from scipy.stats import uniform, randint\n",
    "\n",
    "xgb_param_dist = {\n",
    "    'model__learning_rate': uniform(0.01, 0.3),  # 학습률\n",
    "    'model__n_estimators': randint(50, 200),  # 트리의 개수\n",
    "    'model__max_depth': randint(3, 10),  # 트리의 최대 깊이\n",
    "    'model__subsample': uniform(0.6, 0.4),  # 각 트리에서 사용되는 데이터 샘플의 비율\n",
    "    'model__colsample_bytree': uniform(0.6, 0.4)  # 각 트리에서 사용되는 특성의 비율\n",
    "}\n",
    "\n",
    "# 랜덤 서치 객체 생성\n",
    "random_search = RandomizedSearchCV(\n",
    "    XGBmodel_pipeline, param_distributions=xgb_param_dist, n_iter=10, cv=5, scoring='accuracy', random_state=42, n_jobs=-1\n",
    ")\n",
    "\n",
    "# 랜덤 서치 수행\n",
    "label_encoder = LabelEncoder()\n",
    "train_y = label_encoder.fit_transform(train_y)\n",
    "train_y_adjusted = train_y - 1\n",
    "\n",
    "random_search.fit(train_X, train_y)\n",
    "\n",
    "# 최적의 하이퍼파라미터 출력\n",
    "print(\"최적의 하이퍼파라미터:\", random_search.best_params_)\n",
    "print('Score: ', random_search.best_score_)"
   ]
  },
  {
   "cell_type": "code",
   "execution_count": 260,
   "id": "5b21aeed-6ce9-458f-8b2a-eae7f951da38",
   "metadata": {},
   "outputs": [],
   "source": [
    "xgb_final_model = random_search.best_estimator_"
   ]
  },
  {
   "cell_type": "code",
   "execution_count": 261,
   "id": "c16fe7f2-3845-481a-b24e-d0e1ea8d98c1",
   "metadata": {},
   "outputs": [
    {
     "data": {
      "text/plain": [
       "{'model__colsample_bytree': 0.9439761626945282,\n",
       " 'model__learning_rate': 0.2140922615763339,\n",
       " 'model__max_depth': 3,\n",
       " 'model__n_estimators': 67,\n",
       " 'model__subsample': 0.9795542149013333}"
      ]
     },
     "execution_count": 261,
     "metadata": {},
     "output_type": "execute_result"
    }
   ],
   "source": [
    "random_search.best_params_"
   ]
  },
  {
   "cell_type": "code",
   "execution_count": 262,
   "id": "730618c7-f773-4a05-a96f-0f89a255c611",
   "metadata": {},
   "outputs": [
    {
     "data": {
      "text/html": [
       "<style>#sk-container-id-22 {color: black;}#sk-container-id-22 pre{padding: 0;}#sk-container-id-22 div.sk-toggleable {background-color: white;}#sk-container-id-22 label.sk-toggleable__label {cursor: pointer;display: block;width: 100%;margin-bottom: 0;padding: 0.3em;box-sizing: border-box;text-align: center;}#sk-container-id-22 label.sk-toggleable__label-arrow:before {content: \"▸\";float: left;margin-right: 0.25em;color: #696969;}#sk-container-id-22 label.sk-toggleable__label-arrow:hover:before {color: black;}#sk-container-id-22 div.sk-estimator:hover label.sk-toggleable__label-arrow:before {color: black;}#sk-container-id-22 div.sk-toggleable__content {max-height: 0;max-width: 0;overflow: hidden;text-align: left;background-color: #f0f8ff;}#sk-container-id-22 div.sk-toggleable__content pre {margin: 0.2em;color: black;border-radius: 0.25em;background-color: #f0f8ff;}#sk-container-id-22 input.sk-toggleable__control:checked~div.sk-toggleable__content {max-height: 200px;max-width: 100%;overflow: auto;}#sk-container-id-22 input.sk-toggleable__control:checked~label.sk-toggleable__label-arrow:before {content: \"▾\";}#sk-container-id-22 div.sk-estimator input.sk-toggleable__control:checked~label.sk-toggleable__label {background-color: #d4ebff;}#sk-container-id-22 div.sk-label input.sk-toggleable__control:checked~label.sk-toggleable__label {background-color: #d4ebff;}#sk-container-id-22 input.sk-hidden--visually {border: 0;clip: rect(1px 1px 1px 1px);clip: rect(1px, 1px, 1px, 1px);height: 1px;margin: -1px;overflow: hidden;padding: 0;position: absolute;width: 1px;}#sk-container-id-22 div.sk-estimator {font-family: monospace;background-color: #f0f8ff;border: 1px dotted black;border-radius: 0.25em;box-sizing: border-box;margin-bottom: 0.5em;}#sk-container-id-22 div.sk-estimator:hover {background-color: #d4ebff;}#sk-container-id-22 div.sk-parallel-item::after {content: \"\";width: 100%;border-bottom: 1px solid gray;flex-grow: 1;}#sk-container-id-22 div.sk-label:hover label.sk-toggleable__label {background-color: #d4ebff;}#sk-container-id-22 div.sk-serial::before {content: \"\";position: absolute;border-left: 1px solid gray;box-sizing: border-box;top: 0;bottom: 0;left: 50%;z-index: 0;}#sk-container-id-22 div.sk-serial {display: flex;flex-direction: column;align-items: center;background-color: white;padding-right: 0.2em;padding-left: 0.2em;position: relative;}#sk-container-id-22 div.sk-item {position: relative;z-index: 1;}#sk-container-id-22 div.sk-parallel {display: flex;align-items: stretch;justify-content: center;background-color: white;position: relative;}#sk-container-id-22 div.sk-item::before, #sk-container-id-22 div.sk-parallel-item::before {content: \"\";position: absolute;border-left: 1px solid gray;box-sizing: border-box;top: 0;bottom: 0;left: 50%;z-index: -1;}#sk-container-id-22 div.sk-parallel-item {display: flex;flex-direction: column;z-index: 1;position: relative;background-color: white;}#sk-container-id-22 div.sk-parallel-item:first-child::after {align-self: flex-end;width: 50%;}#sk-container-id-22 div.sk-parallel-item:last-child::after {align-self: flex-start;width: 50%;}#sk-container-id-22 div.sk-parallel-item:only-child::after {width: 0;}#sk-container-id-22 div.sk-dashed-wrapped {border: 1px dashed gray;margin: 0 0.4em 0.5em 0.4em;box-sizing: border-box;padding-bottom: 0.4em;background-color: white;}#sk-container-id-22 div.sk-label label {font-family: monospace;font-weight: bold;display: inline-block;line-height: 1.2em;}#sk-container-id-22 div.sk-label-container {text-align: center;}#sk-container-id-22 div.sk-container {/* jupyter's `normalize.less` sets `[hidden] { display: none; }` but bootstrap.min.css set `[hidden] { display: none !important; }` so we also need the `!important` here to be able to override the default hidden behavior on the sphinx rendered scikit-learn.org. See: https://github.com/scikit-learn/scikit-learn/issues/21755 */display: inline-block !important;position: relative;}#sk-container-id-22 div.sk-text-repr-fallback {display: none;}</style><div id=\"sk-container-id-22\" class=\"sk-top-container\"><div class=\"sk-text-repr-fallback\"><pre>Pipeline(steps=[(&#x27;imputer_na&#x27;,\n",
       "                 Pipeline(steps=[(&#x27;impute_RA&#x27;,\n",
       "                                  ImputeGroupbyMode(group=&#x27;Designation&#x27;,\n",
       "                                                    nan_feature=&#x27;Resource &#x27;\n",
       "                                                                &#x27;Allocation&#x27;)),\n",
       "                                 (&#x27;impute_MF&#x27;,\n",
       "                                  ImputeGroupbyMode(group=&#x27;Resource Allocation&#x27;,\n",
       "                                                    nan_feature=&#x27;Mental &#x27;\n",
       "                                                                &#x27;Fatigue &#x27;\n",
       "                                                                &#x27;Score&#x27;))])),\n",
       "                (&#x27;preprocessing&#x27;,\n",
       "                 ColumnTransformer(transformers=[(&#x27;num&#x27;, StandardScaler(),\n",
       "                                                  [&#x27;RelativeDaysJoined&#x27;,\n",
       "                                                   &#x27;Designation&#x27;,\n",
       "                                                   &#x27;Mental...\n",
       "                               feature_types=None, gamma=None, grow_policy=None,\n",
       "                               importance_type=None,\n",
       "                               interaction_constraints=None,\n",
       "                               learning_rate=0.2140922615763339, max_bin=None,\n",
       "                               max_cat_threshold=None, max_cat_to_onehot=None,\n",
       "                               max_delta_step=None, max_depth=3,\n",
       "                               max_leaves=None, min_child_weight=None,\n",
       "                               missing=nan, monotone_constraints=None,\n",
       "                               multi_strategy=None, n_estimators=67,\n",
       "                               n_jobs=None, num_class=10,\n",
       "                               num_parallel_tree=None, ...))])</pre><b>In a Jupyter environment, please rerun this cell to show the HTML representation or trust the notebook. <br />On GitHub, the HTML representation is unable to render, please try loading this page with nbviewer.org.</b></div><div class=\"sk-container\" hidden><div class=\"sk-item sk-dashed-wrapped\"><div class=\"sk-label-container\"><div class=\"sk-label sk-toggleable\"><input class=\"sk-toggleable__control sk-hidden--visually\" id=\"sk-estimator-id-170\" type=\"checkbox\" ><label for=\"sk-estimator-id-170\" class=\"sk-toggleable__label sk-toggleable__label-arrow\">Pipeline</label><div class=\"sk-toggleable__content\"><pre>Pipeline(steps=[(&#x27;imputer_na&#x27;,\n",
       "                 Pipeline(steps=[(&#x27;impute_RA&#x27;,\n",
       "                                  ImputeGroupbyMode(group=&#x27;Designation&#x27;,\n",
       "                                                    nan_feature=&#x27;Resource &#x27;\n",
       "                                                                &#x27;Allocation&#x27;)),\n",
       "                                 (&#x27;impute_MF&#x27;,\n",
       "                                  ImputeGroupbyMode(group=&#x27;Resource Allocation&#x27;,\n",
       "                                                    nan_feature=&#x27;Mental &#x27;\n",
       "                                                                &#x27;Fatigue &#x27;\n",
       "                                                                &#x27;Score&#x27;))])),\n",
       "                (&#x27;preprocessing&#x27;,\n",
       "                 ColumnTransformer(transformers=[(&#x27;num&#x27;, StandardScaler(),\n",
       "                                                  [&#x27;RelativeDaysJoined&#x27;,\n",
       "                                                   &#x27;Designation&#x27;,\n",
       "                                                   &#x27;Mental...\n",
       "                               feature_types=None, gamma=None, grow_policy=None,\n",
       "                               importance_type=None,\n",
       "                               interaction_constraints=None,\n",
       "                               learning_rate=0.2140922615763339, max_bin=None,\n",
       "                               max_cat_threshold=None, max_cat_to_onehot=None,\n",
       "                               max_delta_step=None, max_depth=3,\n",
       "                               max_leaves=None, min_child_weight=None,\n",
       "                               missing=nan, monotone_constraints=None,\n",
       "                               multi_strategy=None, n_estimators=67,\n",
       "                               n_jobs=None, num_class=10,\n",
       "                               num_parallel_tree=None, ...))])</pre></div></div></div><div class=\"sk-serial\"><div class=\"sk-item\"><div class=\"sk-label-container\"><div class=\"sk-label sk-toggleable\"><input class=\"sk-toggleable__control sk-hidden--visually\" id=\"sk-estimator-id-171\" type=\"checkbox\" ><label for=\"sk-estimator-id-171\" class=\"sk-toggleable__label sk-toggleable__label-arrow\">imputer_na: Pipeline</label><div class=\"sk-toggleable__content\"><pre>Pipeline(steps=[(&#x27;impute_RA&#x27;,\n",
       "                 ImputeGroupbyMode(group=&#x27;Designation&#x27;,\n",
       "                                   nan_feature=&#x27;Resource Allocation&#x27;)),\n",
       "                (&#x27;impute_MF&#x27;,\n",
       "                 ImputeGroupbyMode(group=&#x27;Resource Allocation&#x27;,\n",
       "                                   nan_feature=&#x27;Mental Fatigue Score&#x27;))])</pre></div></div></div><div class=\"sk-serial\"><div class=\"sk-item\"><div class=\"sk-estimator sk-toggleable\"><input class=\"sk-toggleable__control sk-hidden--visually\" id=\"sk-estimator-id-172\" type=\"checkbox\" ><label for=\"sk-estimator-id-172\" class=\"sk-toggleable__label sk-toggleable__label-arrow\">ImputeGroupbyMode</label><div class=\"sk-toggleable__content\"><pre>ImputeGroupbyMode(group=&#x27;Designation&#x27;, nan_feature=&#x27;Resource Allocation&#x27;)</pre></div></div></div><div class=\"sk-item\"><div class=\"sk-estimator sk-toggleable\"><input class=\"sk-toggleable__control sk-hidden--visually\" id=\"sk-estimator-id-173\" type=\"checkbox\" ><label for=\"sk-estimator-id-173\" class=\"sk-toggleable__label sk-toggleable__label-arrow\">ImputeGroupbyMode</label><div class=\"sk-toggleable__content\"><pre>ImputeGroupbyMode(group=&#x27;Resource Allocation&#x27;,\n",
       "                  nan_feature=&#x27;Mental Fatigue Score&#x27;)</pre></div></div></div></div></div><div class=\"sk-item sk-dashed-wrapped\"><div class=\"sk-label-container\"><div class=\"sk-label sk-toggleable\"><input class=\"sk-toggleable__control sk-hidden--visually\" id=\"sk-estimator-id-174\" type=\"checkbox\" ><label for=\"sk-estimator-id-174\" class=\"sk-toggleable__label sk-toggleable__label-arrow\">preprocessing: ColumnTransformer</label><div class=\"sk-toggleable__content\"><pre>ColumnTransformer(transformers=[(&#x27;num&#x27;, StandardScaler(),\n",
       "                                 [&#x27;RelativeDaysJoined&#x27;, &#x27;Designation&#x27;,\n",
       "                                  &#x27;Mental Fatigue Score&#x27;]),\n",
       "                                (&#x27;cat&#x27;, OneHotEncoder(),\n",
       "                                 [&#x27;Gender&#x27;, &#x27;Company Type&#x27;,\n",
       "                                  &#x27;WFH Setup Available&#x27;])])</pre></div></div></div><div class=\"sk-parallel\"><div class=\"sk-parallel-item\"><div class=\"sk-item\"><div class=\"sk-label-container\"><div class=\"sk-label sk-toggleable\"><input class=\"sk-toggleable__control sk-hidden--visually\" id=\"sk-estimator-id-175\" type=\"checkbox\" ><label for=\"sk-estimator-id-175\" class=\"sk-toggleable__label sk-toggleable__label-arrow\">num</label><div class=\"sk-toggleable__content\"><pre>[&#x27;RelativeDaysJoined&#x27;, &#x27;Designation&#x27;, &#x27;Mental Fatigue Score&#x27;]</pre></div></div></div><div class=\"sk-serial\"><div class=\"sk-item\"><div class=\"sk-estimator sk-toggleable\"><input class=\"sk-toggleable__control sk-hidden--visually\" id=\"sk-estimator-id-176\" type=\"checkbox\" ><label for=\"sk-estimator-id-176\" class=\"sk-toggleable__label sk-toggleable__label-arrow\">StandardScaler</label><div class=\"sk-toggleable__content\"><pre>StandardScaler()</pre></div></div></div></div></div></div><div class=\"sk-parallel-item\"><div class=\"sk-item\"><div class=\"sk-label-container\"><div class=\"sk-label sk-toggleable\"><input class=\"sk-toggleable__control sk-hidden--visually\" id=\"sk-estimator-id-177\" type=\"checkbox\" ><label for=\"sk-estimator-id-177\" class=\"sk-toggleable__label sk-toggleable__label-arrow\">cat</label><div class=\"sk-toggleable__content\"><pre>[&#x27;Gender&#x27;, &#x27;Company Type&#x27;, &#x27;WFH Setup Available&#x27;]</pre></div></div></div><div class=\"sk-serial\"><div class=\"sk-item\"><div class=\"sk-estimator sk-toggleable\"><input class=\"sk-toggleable__control sk-hidden--visually\" id=\"sk-estimator-id-178\" type=\"checkbox\" ><label for=\"sk-estimator-id-178\" class=\"sk-toggleable__label sk-toggleable__label-arrow\">OneHotEncoder</label><div class=\"sk-toggleable__content\"><pre>OneHotEncoder()</pre></div></div></div></div></div></div></div></div><div class=\"sk-item\"><div class=\"sk-estimator sk-toggleable\"><input class=\"sk-toggleable__control sk-hidden--visually\" id=\"sk-estimator-id-179\" type=\"checkbox\" ><label for=\"sk-estimator-id-179\" class=\"sk-toggleable__label sk-toggleable__label-arrow\">XGBClassifier</label><div class=\"sk-toggleable__content\"><pre>XGBClassifier(base_score=None, booster=None, callbacks=None,\n",
       "              colsample_bylevel=None, colsample_bynode=None,\n",
       "              colsample_bytree=0.9439761626945282, device=None,\n",
       "              early_stopping_rounds=None, enable_categorical=False,\n",
       "              eval_metric=None, feature_types=None, gamma=None,\n",
       "              grow_policy=None, importance_type=None,\n",
       "              interaction_constraints=None, learning_rate=0.2140922615763339,\n",
       "              max_bin=None, max_cat_threshold=None, max_cat_to_onehot=None,\n",
       "              max_delta_step=None, max_depth=3, max_leaves=None,\n",
       "              min_child_weight=None, missing=nan, monotone_constraints=None,\n",
       "              multi_strategy=None, n_estimators=67, n_jobs=None, num_class=10,\n",
       "              num_parallel_tree=None, ...)</pre></div></div></div></div></div></div></div>"
      ],
      "text/plain": [
       "Pipeline(steps=[('imputer_na',\n",
       "                 Pipeline(steps=[('impute_RA',\n",
       "                                  ImputeGroupbyMode(group='Designation',\n",
       "                                                    nan_feature='Resource '\n",
       "                                                                'Allocation')),\n",
       "                                 ('impute_MF',\n",
       "                                  ImputeGroupbyMode(group='Resource Allocation',\n",
       "                                                    nan_feature='Mental '\n",
       "                                                                'Fatigue '\n",
       "                                                                'Score'))])),\n",
       "                ('preprocessing',\n",
       "                 ColumnTransformer(transformers=[('num', StandardScaler(),\n",
       "                                                  ['RelativeDaysJoined',\n",
       "                                                   'Designation',\n",
       "                                                   'Mental...\n",
       "                               feature_types=None, gamma=None, grow_policy=None,\n",
       "                               importance_type=None,\n",
       "                               interaction_constraints=None,\n",
       "                               learning_rate=0.2140922615763339, max_bin=None,\n",
       "                               max_cat_threshold=None, max_cat_to_onehot=None,\n",
       "                               max_delta_step=None, max_depth=3,\n",
       "                               max_leaves=None, min_child_weight=None,\n",
       "                               missing=nan, monotone_constraints=None,\n",
       "                               multi_strategy=None, n_estimators=67,\n",
       "                               n_jobs=None, num_class=10,\n",
       "                               num_parallel_tree=None, ...))])"
      ]
     },
     "execution_count": 262,
     "metadata": {},
     "output_type": "execute_result"
    }
   ],
   "source": [
    "xgb_final_model.fit(train_X, train_y)"
   ]
  },
  {
   "cell_type": "code",
   "execution_count": 263,
   "id": "fc7ad1ad-6f42-4bc5-833c-4abb7ac82974",
   "metadata": {},
   "outputs": [
    {
     "data": {
      "text/plain": [
       "0.5698265895953757"
      ]
     },
     "execution_count": 263,
     "metadata": {},
     "output_type": "execute_result"
    }
   ],
   "source": [
    "xgb_final_model.score(train_X, train_y)"
   ]
  },
  {
   "cell_type": "code",
   "execution_count": 264,
   "id": "a91c35f9-b6fd-4e3b-8b63-7b679bb47f3b",
   "metadata": {},
   "outputs": [
    {
     "name": "stdout",
     "output_type": "stream",
     "text": [
      "Accuracy: 0.5698\n",
      "Precision: 0.5745\n",
      "Recall: 0.5698\n",
      "F1 Score: 0.5672\n",
      "Log Loss: 0.9224\n",
      "Confusion Matrix:\n",
      "[[ 561  158    9   10    0    0    0    0    0    0]\n",
      " [  91  591  460   32    6    0    0    0    0    0]\n",
      " [  32  119 1301  630   71    0    0    0    0    0]\n",
      " [   0    0  412 1570  858  145    0    0    0    0]\n",
      " [   0    0    5  667 2092  593    7    0    0    0]\n",
      " [   0    0    0   68  535 2057  365    8    0    0]\n",
      " [   0    0    0    7  133  830 1004  115    0    0]\n",
      " [   0    0    0    1    6  185  434  404   48   10]\n",
      " [   0    0    0    0    0   13   81  166  183   20]\n",
      " [   0    0    0    0    0    1    1   40   70   95]]\n",
      "Classification Report:\n",
      "              precision    recall  f1-score   support\n",
      "\n",
      "           0       0.82      0.76      0.79       738\n",
      "           1       0.68      0.50      0.58      1180\n",
      "           2       0.59      0.60      0.60      2153\n",
      "           3       0.53      0.53      0.53      2985\n",
      "           4       0.57      0.62      0.59      3364\n",
      "           5       0.54      0.68      0.60      3033\n",
      "           6       0.53      0.48      0.50      2089\n",
      "           7       0.55      0.37      0.44      1088\n",
      "           8       0.61      0.40      0.48       463\n",
      "           9       0.76      0.46      0.57       207\n",
      "\n",
      "    accuracy                           0.57     17300\n",
      "   macro avg       0.62      0.54      0.57     17300\n",
      "weighted avg       0.57      0.57      0.57     17300\n",
      "\n"
     ]
    }
   ],
   "source": [
    "#종합적인 성능 평가 \n",
    "\n",
    "train_pred = xgb_final_model.predict(train_X)\n",
    "train_pred_proba = xgb_final_model.predict_proba(train_X)\n",
    "evaluate_multiclass_model(train_y, train_pred_proba, train_pred)"
   ]
  },
  {
   "cell_type": "markdown",
   "id": "ea89d698-e990-437d-984b-d8b1fa25aa8c",
   "metadata": {},
   "source": [
    "#### 6-3. **Gradient Boosting**"
   ]
  },
  {
   "cell_type": "code",
   "execution_count": 195,
   "id": "f895b7be-c0b4-424a-ac81-4b6566f5f89e",
   "metadata": {},
   "outputs": [],
   "source": [
    "from sklearn.ensemble import GradientBoostingClassifier\n",
    "\n",
    "# Gradient Boosting 모델을 사용한 파이프라인 정의\n",
    "GBTmodel_pipeline = Pipeline([\n",
    "    ('imputer_na', impute_NA_pipeline),\n",
    "    ('preprocessing', preprocessor),\n",
    "    ('model', GradientBoostingClassifier(random_state=42))\n",
    "])"
   ]
  },
  {
   "cell_type": "code",
   "execution_count": 197,
   "id": "12c5355f-67e3-4411-8235-3a968957b6ec",
   "metadata": {},
   "outputs": [
    {
     "data": {
      "text/html": [
       "<style>#sk-container-id-15 {color: black;}#sk-container-id-15 pre{padding: 0;}#sk-container-id-15 div.sk-toggleable {background-color: white;}#sk-container-id-15 label.sk-toggleable__label {cursor: pointer;display: block;width: 100%;margin-bottom: 0;padding: 0.3em;box-sizing: border-box;text-align: center;}#sk-container-id-15 label.sk-toggleable__label-arrow:before {content: \"▸\";float: left;margin-right: 0.25em;color: #696969;}#sk-container-id-15 label.sk-toggleable__label-arrow:hover:before {color: black;}#sk-container-id-15 div.sk-estimator:hover label.sk-toggleable__label-arrow:before {color: black;}#sk-container-id-15 div.sk-toggleable__content {max-height: 0;max-width: 0;overflow: hidden;text-align: left;background-color: #f0f8ff;}#sk-container-id-15 div.sk-toggleable__content pre {margin: 0.2em;color: black;border-radius: 0.25em;background-color: #f0f8ff;}#sk-container-id-15 input.sk-toggleable__control:checked~div.sk-toggleable__content {max-height: 200px;max-width: 100%;overflow: auto;}#sk-container-id-15 input.sk-toggleable__control:checked~label.sk-toggleable__label-arrow:before {content: \"▾\";}#sk-container-id-15 div.sk-estimator input.sk-toggleable__control:checked~label.sk-toggleable__label {background-color: #d4ebff;}#sk-container-id-15 div.sk-label input.sk-toggleable__control:checked~label.sk-toggleable__label {background-color: #d4ebff;}#sk-container-id-15 input.sk-hidden--visually {border: 0;clip: rect(1px 1px 1px 1px);clip: rect(1px, 1px, 1px, 1px);height: 1px;margin: -1px;overflow: hidden;padding: 0;position: absolute;width: 1px;}#sk-container-id-15 div.sk-estimator {font-family: monospace;background-color: #f0f8ff;border: 1px dotted black;border-radius: 0.25em;box-sizing: border-box;margin-bottom: 0.5em;}#sk-container-id-15 div.sk-estimator:hover {background-color: #d4ebff;}#sk-container-id-15 div.sk-parallel-item::after {content: \"\";width: 100%;border-bottom: 1px solid gray;flex-grow: 1;}#sk-container-id-15 div.sk-label:hover label.sk-toggleable__label {background-color: #d4ebff;}#sk-container-id-15 div.sk-serial::before {content: \"\";position: absolute;border-left: 1px solid gray;box-sizing: border-box;top: 0;bottom: 0;left: 50%;z-index: 0;}#sk-container-id-15 div.sk-serial {display: flex;flex-direction: column;align-items: center;background-color: white;padding-right: 0.2em;padding-left: 0.2em;position: relative;}#sk-container-id-15 div.sk-item {position: relative;z-index: 1;}#sk-container-id-15 div.sk-parallel {display: flex;align-items: stretch;justify-content: center;background-color: white;position: relative;}#sk-container-id-15 div.sk-item::before, #sk-container-id-15 div.sk-parallel-item::before {content: \"\";position: absolute;border-left: 1px solid gray;box-sizing: border-box;top: 0;bottom: 0;left: 50%;z-index: -1;}#sk-container-id-15 div.sk-parallel-item {display: flex;flex-direction: column;z-index: 1;position: relative;background-color: white;}#sk-container-id-15 div.sk-parallel-item:first-child::after {align-self: flex-end;width: 50%;}#sk-container-id-15 div.sk-parallel-item:last-child::after {align-self: flex-start;width: 50%;}#sk-container-id-15 div.sk-parallel-item:only-child::after {width: 0;}#sk-container-id-15 div.sk-dashed-wrapped {border: 1px dashed gray;margin: 0 0.4em 0.5em 0.4em;box-sizing: border-box;padding-bottom: 0.4em;background-color: white;}#sk-container-id-15 div.sk-label label {font-family: monospace;font-weight: bold;display: inline-block;line-height: 1.2em;}#sk-container-id-15 div.sk-label-container {text-align: center;}#sk-container-id-15 div.sk-container {/* jupyter's `normalize.less` sets `[hidden] { display: none; }` but bootstrap.min.css set `[hidden] { display: none !important; }` so we also need the `!important` here to be able to override the default hidden behavior on the sphinx rendered scikit-learn.org. See: https://github.com/scikit-learn/scikit-learn/issues/21755 */display: inline-block !important;position: relative;}#sk-container-id-15 div.sk-text-repr-fallback {display: none;}</style><div id=\"sk-container-id-15\" class=\"sk-top-container\"><div class=\"sk-text-repr-fallback\"><pre>Pipeline(steps=[(&#x27;imputer_na&#x27;,\n",
       "                 Pipeline(steps=[(&#x27;impute_RA&#x27;,\n",
       "                                  ImputeGroupbyMode(group=&#x27;Designation&#x27;,\n",
       "                                                    nan_feature=&#x27;Resource &#x27;\n",
       "                                                                &#x27;Allocation&#x27;)),\n",
       "                                 (&#x27;impute_MF&#x27;,\n",
       "                                  ImputeGroupbyMode(group=&#x27;Resource Allocation&#x27;,\n",
       "                                                    nan_feature=&#x27;Mental &#x27;\n",
       "                                                                &#x27;Fatigue &#x27;\n",
       "                                                                &#x27;Score&#x27;))])),\n",
       "                (&#x27;preprocessing&#x27;,\n",
       "                 ColumnTransformer(transformers=[(&#x27;num&#x27;, StandardScaler(),\n",
       "                                                  [&#x27;RelativeDaysJoined&#x27;,\n",
       "                                                   &#x27;Designation&#x27;,\n",
       "                                                   &#x27;Mental Fatigue Score&#x27;]),\n",
       "                                                 (&#x27;cat&#x27;, OneHotEncoder(),\n",
       "                                                  [&#x27;Gender&#x27;, &#x27;Company Type&#x27;,\n",
       "                                                   &#x27;WFH Setup Available&#x27;])])),\n",
       "                (&#x27;model&#x27;, GradientBoostingClassifier(random_state=42))])</pre><b>In a Jupyter environment, please rerun this cell to show the HTML representation or trust the notebook. <br />On GitHub, the HTML representation is unable to render, please try loading this page with nbviewer.org.</b></div><div class=\"sk-container\" hidden><div class=\"sk-item sk-dashed-wrapped\"><div class=\"sk-label-container\"><div class=\"sk-label sk-toggleable\"><input class=\"sk-toggleable__control sk-hidden--visually\" id=\"sk-estimator-id-109\" type=\"checkbox\" ><label for=\"sk-estimator-id-109\" class=\"sk-toggleable__label sk-toggleable__label-arrow\">Pipeline</label><div class=\"sk-toggleable__content\"><pre>Pipeline(steps=[(&#x27;imputer_na&#x27;,\n",
       "                 Pipeline(steps=[(&#x27;impute_RA&#x27;,\n",
       "                                  ImputeGroupbyMode(group=&#x27;Designation&#x27;,\n",
       "                                                    nan_feature=&#x27;Resource &#x27;\n",
       "                                                                &#x27;Allocation&#x27;)),\n",
       "                                 (&#x27;impute_MF&#x27;,\n",
       "                                  ImputeGroupbyMode(group=&#x27;Resource Allocation&#x27;,\n",
       "                                                    nan_feature=&#x27;Mental &#x27;\n",
       "                                                                &#x27;Fatigue &#x27;\n",
       "                                                                &#x27;Score&#x27;))])),\n",
       "                (&#x27;preprocessing&#x27;,\n",
       "                 ColumnTransformer(transformers=[(&#x27;num&#x27;, StandardScaler(),\n",
       "                                                  [&#x27;RelativeDaysJoined&#x27;,\n",
       "                                                   &#x27;Designation&#x27;,\n",
       "                                                   &#x27;Mental Fatigue Score&#x27;]),\n",
       "                                                 (&#x27;cat&#x27;, OneHotEncoder(),\n",
       "                                                  [&#x27;Gender&#x27;, &#x27;Company Type&#x27;,\n",
       "                                                   &#x27;WFH Setup Available&#x27;])])),\n",
       "                (&#x27;model&#x27;, GradientBoostingClassifier(random_state=42))])</pre></div></div></div><div class=\"sk-serial\"><div class=\"sk-item\"><div class=\"sk-label-container\"><div class=\"sk-label sk-toggleable\"><input class=\"sk-toggleable__control sk-hidden--visually\" id=\"sk-estimator-id-110\" type=\"checkbox\" ><label for=\"sk-estimator-id-110\" class=\"sk-toggleable__label sk-toggleable__label-arrow\">imputer_na: Pipeline</label><div class=\"sk-toggleable__content\"><pre>Pipeline(steps=[(&#x27;impute_RA&#x27;,\n",
       "                 ImputeGroupbyMode(group=&#x27;Designation&#x27;,\n",
       "                                   nan_feature=&#x27;Resource Allocation&#x27;)),\n",
       "                (&#x27;impute_MF&#x27;,\n",
       "                 ImputeGroupbyMode(group=&#x27;Resource Allocation&#x27;,\n",
       "                                   nan_feature=&#x27;Mental Fatigue Score&#x27;))])</pre></div></div></div><div class=\"sk-serial\"><div class=\"sk-item\"><div class=\"sk-estimator sk-toggleable\"><input class=\"sk-toggleable__control sk-hidden--visually\" id=\"sk-estimator-id-111\" type=\"checkbox\" ><label for=\"sk-estimator-id-111\" class=\"sk-toggleable__label sk-toggleable__label-arrow\">ImputeGroupbyMode</label><div class=\"sk-toggleable__content\"><pre>ImputeGroupbyMode(group=&#x27;Designation&#x27;, nan_feature=&#x27;Resource Allocation&#x27;)</pre></div></div></div><div class=\"sk-item\"><div class=\"sk-estimator sk-toggleable\"><input class=\"sk-toggleable__control sk-hidden--visually\" id=\"sk-estimator-id-112\" type=\"checkbox\" ><label for=\"sk-estimator-id-112\" class=\"sk-toggleable__label sk-toggleable__label-arrow\">ImputeGroupbyMode</label><div class=\"sk-toggleable__content\"><pre>ImputeGroupbyMode(group=&#x27;Resource Allocation&#x27;,\n",
       "                  nan_feature=&#x27;Mental Fatigue Score&#x27;)</pre></div></div></div></div></div><div class=\"sk-item sk-dashed-wrapped\"><div class=\"sk-label-container\"><div class=\"sk-label sk-toggleable\"><input class=\"sk-toggleable__control sk-hidden--visually\" id=\"sk-estimator-id-113\" type=\"checkbox\" ><label for=\"sk-estimator-id-113\" class=\"sk-toggleable__label sk-toggleable__label-arrow\">preprocessing: ColumnTransformer</label><div class=\"sk-toggleable__content\"><pre>ColumnTransformer(transformers=[(&#x27;num&#x27;, StandardScaler(),\n",
       "                                 [&#x27;RelativeDaysJoined&#x27;, &#x27;Designation&#x27;,\n",
       "                                  &#x27;Mental Fatigue Score&#x27;]),\n",
       "                                (&#x27;cat&#x27;, OneHotEncoder(),\n",
       "                                 [&#x27;Gender&#x27;, &#x27;Company Type&#x27;,\n",
       "                                  &#x27;WFH Setup Available&#x27;])])</pre></div></div></div><div class=\"sk-parallel\"><div class=\"sk-parallel-item\"><div class=\"sk-item\"><div class=\"sk-label-container\"><div class=\"sk-label sk-toggleable\"><input class=\"sk-toggleable__control sk-hidden--visually\" id=\"sk-estimator-id-114\" type=\"checkbox\" ><label for=\"sk-estimator-id-114\" class=\"sk-toggleable__label sk-toggleable__label-arrow\">num</label><div class=\"sk-toggleable__content\"><pre>[&#x27;RelativeDaysJoined&#x27;, &#x27;Designation&#x27;, &#x27;Mental Fatigue Score&#x27;]</pre></div></div></div><div class=\"sk-serial\"><div class=\"sk-item\"><div class=\"sk-estimator sk-toggleable\"><input class=\"sk-toggleable__control sk-hidden--visually\" id=\"sk-estimator-id-115\" type=\"checkbox\" ><label for=\"sk-estimator-id-115\" class=\"sk-toggleable__label sk-toggleable__label-arrow\">StandardScaler</label><div class=\"sk-toggleable__content\"><pre>StandardScaler()</pre></div></div></div></div></div></div><div class=\"sk-parallel-item\"><div class=\"sk-item\"><div class=\"sk-label-container\"><div class=\"sk-label sk-toggleable\"><input class=\"sk-toggleable__control sk-hidden--visually\" id=\"sk-estimator-id-116\" type=\"checkbox\" ><label for=\"sk-estimator-id-116\" class=\"sk-toggleable__label sk-toggleable__label-arrow\">cat</label><div class=\"sk-toggleable__content\"><pre>[&#x27;Gender&#x27;, &#x27;Company Type&#x27;, &#x27;WFH Setup Available&#x27;]</pre></div></div></div><div class=\"sk-serial\"><div class=\"sk-item\"><div class=\"sk-estimator sk-toggleable\"><input class=\"sk-toggleable__control sk-hidden--visually\" id=\"sk-estimator-id-117\" type=\"checkbox\" ><label for=\"sk-estimator-id-117\" class=\"sk-toggleable__label sk-toggleable__label-arrow\">OneHotEncoder</label><div class=\"sk-toggleable__content\"><pre>OneHotEncoder()</pre></div></div></div></div></div></div></div></div><div class=\"sk-item\"><div class=\"sk-estimator sk-toggleable\"><input class=\"sk-toggleable__control sk-hidden--visually\" id=\"sk-estimator-id-118\" type=\"checkbox\" ><label for=\"sk-estimator-id-118\" class=\"sk-toggleable__label sk-toggleable__label-arrow\">GradientBoostingClassifier</label><div class=\"sk-toggleable__content\"><pre>GradientBoostingClassifier(random_state=42)</pre></div></div></div></div></div></div></div>"
      ],
      "text/plain": [
       "Pipeline(steps=[('imputer_na',\n",
       "                 Pipeline(steps=[('impute_RA',\n",
       "                                  ImputeGroupbyMode(group='Designation',\n",
       "                                                    nan_feature='Resource '\n",
       "                                                                'Allocation')),\n",
       "                                 ('impute_MF',\n",
       "                                  ImputeGroupbyMode(group='Resource Allocation',\n",
       "                                                    nan_feature='Mental '\n",
       "                                                                'Fatigue '\n",
       "                                                                'Score'))])),\n",
       "                ('preprocessing',\n",
       "                 ColumnTransformer(transformers=[('num', StandardScaler(),\n",
       "                                                  ['RelativeDaysJoined',\n",
       "                                                   'Designation',\n",
       "                                                   'Mental Fatigue Score']),\n",
       "                                                 ('cat', OneHotEncoder(),\n",
       "                                                  ['Gender', 'Company Type',\n",
       "                                                   'WFH Setup Available'])])),\n",
       "                ('model', GradientBoostingClassifier(random_state=42))])"
      ]
     },
     "execution_count": 197,
     "metadata": {},
     "output_type": "execute_result"
    }
   ],
   "source": [
    "GBTmodel_pipeline.fit(train_X, train_y)"
   ]
  },
  {
   "cell_type": "markdown",
   "id": "340aaa9c-b765-417a-8e58-69a01aa1ba5a",
   "metadata": {},
   "source": [
    "#### 6-3-2 GBT-scoring"
   ]
  },
  {
   "cell_type": "code",
   "execution_count": 198,
   "id": "1766706a-6e7f-4fc8-824e-281352837673",
   "metadata": {},
   "outputs": [
    {
     "data": {
      "text/plain": [
       "array([7, 5, 4, ..., 3, 4, 5], dtype=int64)"
      ]
     },
     "execution_count": 198,
     "metadata": {},
     "output_type": "execute_result"
    }
   ],
   "source": [
    "burnout_predictions = GBTmodel_pipeline.predict(train_X)\n",
    "burnout_predictions"
   ]
  },
  {
   "cell_type": "code",
   "execution_count": 199,
   "id": "f6d95b96-5e25-4fce-9470-1b7e6170f001",
   "metadata": {},
   "outputs": [
    {
     "data": {
      "text/plain": [
       "0.5882080924855492"
      ]
     },
     "execution_count": 199,
     "metadata": {},
     "output_type": "execute_result"
    }
   ],
   "source": [
    "GBTmodel_pipeline.score(train_X, train_y)"
   ]
  },
  {
   "cell_type": "code",
   "execution_count": 203,
   "id": "f6ef2085-2b33-4032-aded-9e1ddb1a2178",
   "metadata": {},
   "outputs": [
    {
     "data": {
      "text/plain": [
       "0.6560332871012483"
      ]
     },
     "execution_count": 203,
     "metadata": {},
     "output_type": "execute_result"
    }
   ],
   "source": [
    "GBTmodel_pipeline.score(valid_X, valid_y)"
   ]
  },
  {
   "cell_type": "code",
   "execution_count": 201,
   "id": "a285392c-094b-4795-8187-ac77d59e02cd",
   "metadata": {},
   "outputs": [
    {
     "name": "stdout",
     "output_type": "stream",
     "text": [
      "accuracy = 0.5882080924855492\n"
     ]
    }
   ],
   "source": [
    "# 모델을 훈련 데이터에 맞추기\n",
    "GBTmodel_pipeline.fit(train_X, train_y)\n",
    "\n",
    "# 훈련 데이터에 대한 예측 수행\n",
    "train_pred = GBTmodel_pipeline.predict(train_X)\n",
    "\n",
    "# 정확도 계산\n",
    "accuracy = accuracy_score(train_y, train_pred)\n",
    "print(f'accuracy = {accuracy}')"
   ]
  },
  {
   "cell_type": "code",
   "execution_count": 202,
   "id": "394a6533-efb5-411e-b2ae-9de27c5b77dc",
   "metadata": {},
   "outputs": [
    {
     "name": "stdout",
     "output_type": "stream",
     "text": [
      "accuracy = 0.6560332871012483\n"
     ]
    }
   ],
   "source": [
    "# 모델을 훈련 데이터에 맞추기\n",
    "GBTmodel_pipeline.fit(valid_X, valid_y)\n",
    "\n",
    "# 훈련 데이터에 대한 예측 수행\n",
    "valid_pred = GBTmodel_pipeline.predict(valid_X)\n",
    "\n",
    "# 정확도 계산\n",
    "accuracy = accuracy_score(valid_y, valid_pred)\n",
    "print(f'accuracy = {accuracy}')"
   ]
  },
  {
   "cell_type": "markdown",
   "id": "89d93ec4-3d83-4c9c-b104-272629b9a2ce",
   "metadata": {},
   "source": [
    "#### 6-3-3 gbt-최적의 파라미터 찾기 Random search"
   ]
  },
  {
   "cell_type": "code",
   "execution_count": 255,
   "id": "01a6e7ef-a75f-4958-abd1-3719a321a8cb",
   "metadata": {},
   "outputs": [
    {
     "name": "stdout",
     "output_type": "stream",
     "text": [
      "최적의 하이퍼파라미터: {'model__subsample': 0.9, 'model__n_estimators': 50, 'model__min_samples_split': 5, 'model__min_samples_leaf': 1, 'model__max_depth': 5, 'model__learning_rate': 0.01}\n",
      "Score:  0.5333526011560694\n"
     ]
    }
   ],
   "source": [
    "from scipy.stats import uniform, randint\n",
    "\n",
    "# 랜덤 서치를 위한 하이퍼파라미터 범위 정의\n",
    "param_dist = {\n",
    "    'model__n_estimators': [50, 100, 150, 200],\n",
    "    'model__learning_rate': [0.01, 0.1, 0.2, 0.3],\n",
    "    'model__max_depth': [3, 5, 7, 9],\n",
    "    'model__subsample': [0.8, 0.9, 1.0],\n",
    "    'model__min_samples_split': [2, 5, 10],\n",
    "    'model__min_samples_leaf': [1, 2, 4],\n",
    "}\n",
    "\n",
    "# 랜덤 서치 객체 생성\n",
    "random_search = RandomizedSearchCV(\n",
    "    GBTmodel_pipeline,\n",
    "    param_distributions=param_dist,\n",
    "    n_iter=10,\n",
    "    cv=5,\n",
    "    scoring='accuracy',\n",
    "    random_state=42,\n",
    "    n_jobs=-1\n",
    ")\n",
    "\n",
    "\n",
    "random_search.fit(train_X, train_y)\n",
    "\n",
    "# 최적의 하이퍼파라미터 출력\n",
    "print(\"최적의 하이퍼파라미터:\", random_search.best_params_)\n",
    "print('Score: ', random_search.best_score_)"
   ]
  },
  {
   "cell_type": "code",
   "execution_count": 271,
   "id": "d18cc9be-94da-4e86-b269-966624867507",
   "metadata": {},
   "outputs": [],
   "source": [
    "gbt_final_model = random_search.best_estimator_"
   ]
  },
  {
   "cell_type": "code",
   "execution_count": 272,
   "id": "e1e3ea35-4c90-4a3b-9360-536b6ec4402c",
   "metadata": {},
   "outputs": [
    {
     "data": {
      "text/plain": [
       "{'model__colsample_bytree': 0.9439761626945282,\n",
       " 'model__learning_rate': 0.2140922615763339,\n",
       " 'model__max_depth': 3,\n",
       " 'model__n_estimators': 67,\n",
       " 'model__subsample': 0.9795542149013333}"
      ]
     },
     "execution_count": 272,
     "metadata": {},
     "output_type": "execute_result"
    }
   ],
   "source": [
    "random_search.best_params_"
   ]
  },
  {
   "cell_type": "code",
   "execution_count": 273,
   "id": "b27a1c08-f739-4aa2-82b7-ccd7a2f50cf7",
   "metadata": {},
   "outputs": [
    {
     "data": {
      "text/html": [
       "<style>#sk-container-id-24 {color: black;}#sk-container-id-24 pre{padding: 0;}#sk-container-id-24 div.sk-toggleable {background-color: white;}#sk-container-id-24 label.sk-toggleable__label {cursor: pointer;display: block;width: 100%;margin-bottom: 0;padding: 0.3em;box-sizing: border-box;text-align: center;}#sk-container-id-24 label.sk-toggleable__label-arrow:before {content: \"▸\";float: left;margin-right: 0.25em;color: #696969;}#sk-container-id-24 label.sk-toggleable__label-arrow:hover:before {color: black;}#sk-container-id-24 div.sk-estimator:hover label.sk-toggleable__label-arrow:before {color: black;}#sk-container-id-24 div.sk-toggleable__content {max-height: 0;max-width: 0;overflow: hidden;text-align: left;background-color: #f0f8ff;}#sk-container-id-24 div.sk-toggleable__content pre {margin: 0.2em;color: black;border-radius: 0.25em;background-color: #f0f8ff;}#sk-container-id-24 input.sk-toggleable__control:checked~div.sk-toggleable__content {max-height: 200px;max-width: 100%;overflow: auto;}#sk-container-id-24 input.sk-toggleable__control:checked~label.sk-toggleable__label-arrow:before {content: \"▾\";}#sk-container-id-24 div.sk-estimator input.sk-toggleable__control:checked~label.sk-toggleable__label {background-color: #d4ebff;}#sk-container-id-24 div.sk-label input.sk-toggleable__control:checked~label.sk-toggleable__label {background-color: #d4ebff;}#sk-container-id-24 input.sk-hidden--visually {border: 0;clip: rect(1px 1px 1px 1px);clip: rect(1px, 1px, 1px, 1px);height: 1px;margin: -1px;overflow: hidden;padding: 0;position: absolute;width: 1px;}#sk-container-id-24 div.sk-estimator {font-family: monospace;background-color: #f0f8ff;border: 1px dotted black;border-radius: 0.25em;box-sizing: border-box;margin-bottom: 0.5em;}#sk-container-id-24 div.sk-estimator:hover {background-color: #d4ebff;}#sk-container-id-24 div.sk-parallel-item::after {content: \"\";width: 100%;border-bottom: 1px solid gray;flex-grow: 1;}#sk-container-id-24 div.sk-label:hover label.sk-toggleable__label {background-color: #d4ebff;}#sk-container-id-24 div.sk-serial::before {content: \"\";position: absolute;border-left: 1px solid gray;box-sizing: border-box;top: 0;bottom: 0;left: 50%;z-index: 0;}#sk-container-id-24 div.sk-serial {display: flex;flex-direction: column;align-items: center;background-color: white;padding-right: 0.2em;padding-left: 0.2em;position: relative;}#sk-container-id-24 div.sk-item {position: relative;z-index: 1;}#sk-container-id-24 div.sk-parallel {display: flex;align-items: stretch;justify-content: center;background-color: white;position: relative;}#sk-container-id-24 div.sk-item::before, #sk-container-id-24 div.sk-parallel-item::before {content: \"\";position: absolute;border-left: 1px solid gray;box-sizing: border-box;top: 0;bottom: 0;left: 50%;z-index: -1;}#sk-container-id-24 div.sk-parallel-item {display: flex;flex-direction: column;z-index: 1;position: relative;background-color: white;}#sk-container-id-24 div.sk-parallel-item:first-child::after {align-self: flex-end;width: 50%;}#sk-container-id-24 div.sk-parallel-item:last-child::after {align-self: flex-start;width: 50%;}#sk-container-id-24 div.sk-parallel-item:only-child::after {width: 0;}#sk-container-id-24 div.sk-dashed-wrapped {border: 1px dashed gray;margin: 0 0.4em 0.5em 0.4em;box-sizing: border-box;padding-bottom: 0.4em;background-color: white;}#sk-container-id-24 div.sk-label label {font-family: monospace;font-weight: bold;display: inline-block;line-height: 1.2em;}#sk-container-id-24 div.sk-label-container {text-align: center;}#sk-container-id-24 div.sk-container {/* jupyter's `normalize.less` sets `[hidden] { display: none; }` but bootstrap.min.css set `[hidden] { display: none !important; }` so we also need the `!important` here to be able to override the default hidden behavior on the sphinx rendered scikit-learn.org. See: https://github.com/scikit-learn/scikit-learn/issues/21755 */display: inline-block !important;position: relative;}#sk-container-id-24 div.sk-text-repr-fallback {display: none;}</style><div id=\"sk-container-id-24\" class=\"sk-top-container\"><div class=\"sk-text-repr-fallback\"><pre>Pipeline(steps=[(&#x27;imputer_na&#x27;,\n",
       "                 Pipeline(steps=[(&#x27;impute_RA&#x27;,\n",
       "                                  ImputeGroupbyMode(group=&#x27;Designation&#x27;,\n",
       "                                                    nan_feature=&#x27;Resource &#x27;\n",
       "                                                                &#x27;Allocation&#x27;)),\n",
       "                                 (&#x27;impute_MF&#x27;,\n",
       "                                  ImputeGroupbyMode(group=&#x27;Resource Allocation&#x27;,\n",
       "                                                    nan_feature=&#x27;Mental &#x27;\n",
       "                                                                &#x27;Fatigue &#x27;\n",
       "                                                                &#x27;Score&#x27;))])),\n",
       "                (&#x27;preprocessing&#x27;,\n",
       "                 ColumnTransformer(transformers=[(&#x27;num&#x27;, StandardScaler(),\n",
       "                                                  [&#x27;RelativeDaysJoined&#x27;,\n",
       "                                                   &#x27;Designation&#x27;,\n",
       "                                                   &#x27;Mental...\n",
       "                               feature_types=None, gamma=None, grow_policy=None,\n",
       "                               importance_type=None,\n",
       "                               interaction_constraints=None,\n",
       "                               learning_rate=0.2140922615763339, max_bin=None,\n",
       "                               max_cat_threshold=None, max_cat_to_onehot=None,\n",
       "                               max_delta_step=None, max_depth=3,\n",
       "                               max_leaves=None, min_child_weight=None,\n",
       "                               missing=nan, monotone_constraints=None,\n",
       "                               multi_strategy=None, n_estimators=67,\n",
       "                               n_jobs=None, num_class=10,\n",
       "                               num_parallel_tree=None, ...))])</pre><b>In a Jupyter environment, please rerun this cell to show the HTML representation or trust the notebook. <br />On GitHub, the HTML representation is unable to render, please try loading this page with nbviewer.org.</b></div><div class=\"sk-container\" hidden><div class=\"sk-item sk-dashed-wrapped\"><div class=\"sk-label-container\"><div class=\"sk-label sk-toggleable\"><input class=\"sk-toggleable__control sk-hidden--visually\" id=\"sk-estimator-id-190\" type=\"checkbox\" ><label for=\"sk-estimator-id-190\" class=\"sk-toggleable__label sk-toggleable__label-arrow\">Pipeline</label><div class=\"sk-toggleable__content\"><pre>Pipeline(steps=[(&#x27;imputer_na&#x27;,\n",
       "                 Pipeline(steps=[(&#x27;impute_RA&#x27;,\n",
       "                                  ImputeGroupbyMode(group=&#x27;Designation&#x27;,\n",
       "                                                    nan_feature=&#x27;Resource &#x27;\n",
       "                                                                &#x27;Allocation&#x27;)),\n",
       "                                 (&#x27;impute_MF&#x27;,\n",
       "                                  ImputeGroupbyMode(group=&#x27;Resource Allocation&#x27;,\n",
       "                                                    nan_feature=&#x27;Mental &#x27;\n",
       "                                                                &#x27;Fatigue &#x27;\n",
       "                                                                &#x27;Score&#x27;))])),\n",
       "                (&#x27;preprocessing&#x27;,\n",
       "                 ColumnTransformer(transformers=[(&#x27;num&#x27;, StandardScaler(),\n",
       "                                                  [&#x27;RelativeDaysJoined&#x27;,\n",
       "                                                   &#x27;Designation&#x27;,\n",
       "                                                   &#x27;Mental...\n",
       "                               feature_types=None, gamma=None, grow_policy=None,\n",
       "                               importance_type=None,\n",
       "                               interaction_constraints=None,\n",
       "                               learning_rate=0.2140922615763339, max_bin=None,\n",
       "                               max_cat_threshold=None, max_cat_to_onehot=None,\n",
       "                               max_delta_step=None, max_depth=3,\n",
       "                               max_leaves=None, min_child_weight=None,\n",
       "                               missing=nan, monotone_constraints=None,\n",
       "                               multi_strategy=None, n_estimators=67,\n",
       "                               n_jobs=None, num_class=10,\n",
       "                               num_parallel_tree=None, ...))])</pre></div></div></div><div class=\"sk-serial\"><div class=\"sk-item\"><div class=\"sk-label-container\"><div class=\"sk-label sk-toggleable\"><input class=\"sk-toggleable__control sk-hidden--visually\" id=\"sk-estimator-id-191\" type=\"checkbox\" ><label for=\"sk-estimator-id-191\" class=\"sk-toggleable__label sk-toggleable__label-arrow\">imputer_na: Pipeline</label><div class=\"sk-toggleable__content\"><pre>Pipeline(steps=[(&#x27;impute_RA&#x27;,\n",
       "                 ImputeGroupbyMode(group=&#x27;Designation&#x27;,\n",
       "                                   nan_feature=&#x27;Resource Allocation&#x27;)),\n",
       "                (&#x27;impute_MF&#x27;,\n",
       "                 ImputeGroupbyMode(group=&#x27;Resource Allocation&#x27;,\n",
       "                                   nan_feature=&#x27;Mental Fatigue Score&#x27;))])</pre></div></div></div><div class=\"sk-serial\"><div class=\"sk-item\"><div class=\"sk-estimator sk-toggleable\"><input class=\"sk-toggleable__control sk-hidden--visually\" id=\"sk-estimator-id-192\" type=\"checkbox\" ><label for=\"sk-estimator-id-192\" class=\"sk-toggleable__label sk-toggleable__label-arrow\">ImputeGroupbyMode</label><div class=\"sk-toggleable__content\"><pre>ImputeGroupbyMode(group=&#x27;Designation&#x27;, nan_feature=&#x27;Resource Allocation&#x27;)</pre></div></div></div><div class=\"sk-item\"><div class=\"sk-estimator sk-toggleable\"><input class=\"sk-toggleable__control sk-hidden--visually\" id=\"sk-estimator-id-193\" type=\"checkbox\" ><label for=\"sk-estimator-id-193\" class=\"sk-toggleable__label sk-toggleable__label-arrow\">ImputeGroupbyMode</label><div class=\"sk-toggleable__content\"><pre>ImputeGroupbyMode(group=&#x27;Resource Allocation&#x27;,\n",
       "                  nan_feature=&#x27;Mental Fatigue Score&#x27;)</pre></div></div></div></div></div><div class=\"sk-item sk-dashed-wrapped\"><div class=\"sk-label-container\"><div class=\"sk-label sk-toggleable\"><input class=\"sk-toggleable__control sk-hidden--visually\" id=\"sk-estimator-id-194\" type=\"checkbox\" ><label for=\"sk-estimator-id-194\" class=\"sk-toggleable__label sk-toggleable__label-arrow\">preprocessing: ColumnTransformer</label><div class=\"sk-toggleable__content\"><pre>ColumnTransformer(transformers=[(&#x27;num&#x27;, StandardScaler(),\n",
       "                                 [&#x27;RelativeDaysJoined&#x27;, &#x27;Designation&#x27;,\n",
       "                                  &#x27;Mental Fatigue Score&#x27;]),\n",
       "                                (&#x27;cat&#x27;, OneHotEncoder(),\n",
       "                                 [&#x27;Gender&#x27;, &#x27;Company Type&#x27;,\n",
       "                                  &#x27;WFH Setup Available&#x27;])])</pre></div></div></div><div class=\"sk-parallel\"><div class=\"sk-parallel-item\"><div class=\"sk-item\"><div class=\"sk-label-container\"><div class=\"sk-label sk-toggleable\"><input class=\"sk-toggleable__control sk-hidden--visually\" id=\"sk-estimator-id-195\" type=\"checkbox\" ><label for=\"sk-estimator-id-195\" class=\"sk-toggleable__label sk-toggleable__label-arrow\">num</label><div class=\"sk-toggleable__content\"><pre>[&#x27;RelativeDaysJoined&#x27;, &#x27;Designation&#x27;, &#x27;Mental Fatigue Score&#x27;]</pre></div></div></div><div class=\"sk-serial\"><div class=\"sk-item\"><div class=\"sk-estimator sk-toggleable\"><input class=\"sk-toggleable__control sk-hidden--visually\" id=\"sk-estimator-id-196\" type=\"checkbox\" ><label for=\"sk-estimator-id-196\" class=\"sk-toggleable__label sk-toggleable__label-arrow\">StandardScaler</label><div class=\"sk-toggleable__content\"><pre>StandardScaler()</pre></div></div></div></div></div></div><div class=\"sk-parallel-item\"><div class=\"sk-item\"><div class=\"sk-label-container\"><div class=\"sk-label sk-toggleable\"><input class=\"sk-toggleable__control sk-hidden--visually\" id=\"sk-estimator-id-197\" type=\"checkbox\" ><label for=\"sk-estimator-id-197\" class=\"sk-toggleable__label sk-toggleable__label-arrow\">cat</label><div class=\"sk-toggleable__content\"><pre>[&#x27;Gender&#x27;, &#x27;Company Type&#x27;, &#x27;WFH Setup Available&#x27;]</pre></div></div></div><div class=\"sk-serial\"><div class=\"sk-item\"><div class=\"sk-estimator sk-toggleable\"><input class=\"sk-toggleable__control sk-hidden--visually\" id=\"sk-estimator-id-198\" type=\"checkbox\" ><label for=\"sk-estimator-id-198\" class=\"sk-toggleable__label sk-toggleable__label-arrow\">OneHotEncoder</label><div class=\"sk-toggleable__content\"><pre>OneHotEncoder()</pre></div></div></div></div></div></div></div></div><div class=\"sk-item\"><div class=\"sk-estimator sk-toggleable\"><input class=\"sk-toggleable__control sk-hidden--visually\" id=\"sk-estimator-id-199\" type=\"checkbox\" ><label for=\"sk-estimator-id-199\" class=\"sk-toggleable__label sk-toggleable__label-arrow\">XGBClassifier</label><div class=\"sk-toggleable__content\"><pre>XGBClassifier(base_score=None, booster=None, callbacks=None,\n",
       "              colsample_bylevel=None, colsample_bynode=None,\n",
       "              colsample_bytree=0.9439761626945282, device=None,\n",
       "              early_stopping_rounds=None, enable_categorical=False,\n",
       "              eval_metric=None, feature_types=None, gamma=None,\n",
       "              grow_policy=None, importance_type=None,\n",
       "              interaction_constraints=None, learning_rate=0.2140922615763339,\n",
       "              max_bin=None, max_cat_threshold=None, max_cat_to_onehot=None,\n",
       "              max_delta_step=None, max_depth=3, max_leaves=None,\n",
       "              min_child_weight=None, missing=nan, monotone_constraints=None,\n",
       "              multi_strategy=None, n_estimators=67, n_jobs=None, num_class=10,\n",
       "              num_parallel_tree=None, ...)</pre></div></div></div></div></div></div></div>"
      ],
      "text/plain": [
       "Pipeline(steps=[('imputer_na',\n",
       "                 Pipeline(steps=[('impute_RA',\n",
       "                                  ImputeGroupbyMode(group='Designation',\n",
       "                                                    nan_feature='Resource '\n",
       "                                                                'Allocation')),\n",
       "                                 ('impute_MF',\n",
       "                                  ImputeGroupbyMode(group='Resource Allocation',\n",
       "                                                    nan_feature='Mental '\n",
       "                                                                'Fatigue '\n",
       "                                                                'Score'))])),\n",
       "                ('preprocessing',\n",
       "                 ColumnTransformer(transformers=[('num', StandardScaler(),\n",
       "                                                  ['RelativeDaysJoined',\n",
       "                                                   'Designation',\n",
       "                                                   'Mental...\n",
       "                               feature_types=None, gamma=None, grow_policy=None,\n",
       "                               importance_type=None,\n",
       "                               interaction_constraints=None,\n",
       "                               learning_rate=0.2140922615763339, max_bin=None,\n",
       "                               max_cat_threshold=None, max_cat_to_onehot=None,\n",
       "                               max_delta_step=None, max_depth=3,\n",
       "                               max_leaves=None, min_child_weight=None,\n",
       "                               missing=nan, monotone_constraints=None,\n",
       "                               multi_strategy=None, n_estimators=67,\n",
       "                               n_jobs=None, num_class=10,\n",
       "                               num_parallel_tree=None, ...))])"
      ]
     },
     "execution_count": 273,
     "metadata": {},
     "output_type": "execute_result"
    }
   ],
   "source": [
    "gbt_final_model.fit(train_X, train_y)"
   ]
  },
  {
   "cell_type": "code",
   "execution_count": 274,
   "id": "2d00e1ab-559d-4aba-bc49-54c9ddd0b82b",
   "metadata": {},
   "outputs": [
    {
     "data": {
      "text/plain": [
       "0.5698265895953757"
      ]
     },
     "execution_count": 274,
     "metadata": {},
     "output_type": "execute_result"
    }
   ],
   "source": [
    "gbt_final_model.score(train_X, train_y)"
   ]
  },
  {
   "cell_type": "code",
   "execution_count": 275,
   "id": "1fdd4e52-3570-4910-bd4e-173b767cc8f8",
   "metadata": {},
   "outputs": [
    {
     "name": "stdout",
     "output_type": "stream",
     "text": [
      "Accuracy: 0.5698\n",
      "Precision: 0.5745\n",
      "Recall: 0.5698\n",
      "F1 Score: 0.5672\n",
      "Log Loss: 0.9224\n",
      "Confusion Matrix:\n",
      "[[ 561  158    9   10    0    0    0    0    0    0]\n",
      " [  91  591  460   32    6    0    0    0    0    0]\n",
      " [  32  119 1301  630   71    0    0    0    0    0]\n",
      " [   0    0  412 1570  858  145    0    0    0    0]\n",
      " [   0    0    5  667 2092  593    7    0    0    0]\n",
      " [   0    0    0   68  535 2057  365    8    0    0]\n",
      " [   0    0    0    7  133  830 1004  115    0    0]\n",
      " [   0    0    0    1    6  185  434  404   48   10]\n",
      " [   0    0    0    0    0   13   81  166  183   20]\n",
      " [   0    0    0    0    0    1    1   40   70   95]]\n",
      "Classification Report:\n",
      "              precision    recall  f1-score   support\n",
      "\n",
      "           0       0.82      0.76      0.79       738\n",
      "           1       0.68      0.50      0.58      1180\n",
      "           2       0.59      0.60      0.60      2153\n",
      "           3       0.53      0.53      0.53      2985\n",
      "           4       0.57      0.62      0.59      3364\n",
      "           5       0.54      0.68      0.60      3033\n",
      "           6       0.53      0.48      0.50      2089\n",
      "           7       0.55      0.37      0.44      1088\n",
      "           8       0.61      0.40      0.48       463\n",
      "           9       0.76      0.46      0.57       207\n",
      "\n",
      "    accuracy                           0.57     17300\n",
      "   macro avg       0.62      0.54      0.57     17300\n",
      "weighted avg       0.57      0.57      0.57     17300\n",
      "\n"
     ]
    }
   ],
   "source": [
    "#종합적인 성능 평가 \n",
    "\n",
    "train_pred = gbt_final_model.predict(train_X)\n",
    "train_pred_proba = gbt_final_model.predict_proba(train_X)\n",
    "evaluate_multiclass_model(train_y, train_pred_proba, train_pred)"
   ]
  },
  {
   "cell_type": "markdown",
   "id": "220aee36-5680-40c0-b623-74ac3801f065",
   "metadata": {},
   "source": [
    "## **Presentation of model results** 모델 결과 정리"
   ]
  },
  {
   "cell_type": "markdown",
   "id": "ea824737-0fff-4664-8827-71f3ed1179f4",
   "metadata": {},
   "source": [
    "- 최종 성능 지표 : F1 score (recall / precision 의 조합평균)\n",
    "- 성능 지표 선정 이유 : 레이블에 불균형이 있어 클래스의 샘플 수에 따라 가중 평균을 계산하는 F1 score(average='weighted') 사용"
   ]
  },
  {
   "cell_type": "code",
   "execution_count": 277,
   "id": "551b9a3e-10a7-4420-a2ae-66b396d8f1c2",
   "metadata": {},
   "outputs": [],
   "source": [
    "from sklearn.metrics import f1_score\n",
    "def calculate_f1_score(model, X, y):\n",
    "    \"\"\"\n",
    "    모델 예측값을 얻어 F1 스코어 반환하는 함수\n",
    "    \"\"\"\n",
    "    # 모델의 예측값 얻기\n",
    "    y_pred = model.predict(X)\n",
    "\n",
    "    # F1 스코어 계산\n",
    "    f1 = f1_score(y, y_pred, average='weighted') \n",
    "\n",
    "    return f1"
   ]
  },
  {
   "cell_type": "code",
   "execution_count": 307,
   "id": "3180eb07-bfa9-4757-b91e-a35066064278",
   "metadata": {},
   "outputs": [
    {
     "name": "stdout",
     "output_type": "stream",
     "text": [
      "rfc_final_model = 0.529\n",
      "RFCmodel_weights = 0.491\n",
      "gbt_final_model = 0.534\n",
      "xgb_final_model = 0.534\n"
     ]
    }
   ],
   "source": [
    "rfc_f1 = calculate_f1_score(rfc_final_model, valid_X, valid_y)\n",
    "rfc_weights_f1 = calculate_f1_score(RFCmodel_pipeline_weights , valid_X, valid_y)\n",
    "gbt_f1 = calculate_f1_score(gbt_final_model, valid_X, valid_y)\n",
    "xgb_f1 = calculate_f1_score(xgb_final_model , valid_X, valid_y)\n",
    "\n",
    "\n",
    "print(f'rfc_final_model = {rfc_f1:.3f}')\n",
    "print(f'RFCmodel_weights = {rfc_weights_f1:.3f}')\n",
    "print(f'gbt_final_model = {gbt_f1:.3f}')\n",
    "print(f'xgb_final_model = {xgb_f1:.3f}')"
   ]
  },
  {
   "cell_type": "code",
   "execution_count": null,
   "id": "57c901f1-a9ea-4656-a209-a6b761cbc6a9",
   "metadata": {},
   "outputs": [],
   "source": []
  }
 ],
 "metadata": {
  "kernelspec": {
   "display_name": "Python 3 (ipykernel)",
   "language": "python",
   "name": "python3"
  },
  "language_info": {
   "codemirror_mode": {
    "name": "ipython",
    "version": 3
   },
   "file_extension": ".py",
   "mimetype": "text/x-python",
   "name": "python",
   "nbconvert_exporter": "python",
   "pygments_lexer": "ipython3",
   "version": "3.10.13"
  }
 },
 "nbformat": 4,
 "nbformat_minor": 5
}
