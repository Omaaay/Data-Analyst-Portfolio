{
 "cells": [
  {
   "cell_type": "code",
   "execution_count": 5,
   "id": "51fc0fcf-da05-47f8-a3f4-70fab5d9056d",
   "metadata": {},
   "outputs": [
    {
     "name": "stdout",
     "output_type": "stream",
     "text": [
      "bs4 : 4.12.2\n",
      "requests : 2.31.0\n"
     ]
    }
   ],
   "source": [
    "import csv\n",
    "import bs4\n",
    "from bs4 import BeautifulSoup\n",
    "import requests\n",
    "\n",
    "print(f'bs4 : {bs4.__version__}')\n",
    "print(f'requests : {requests.__version__}')"
   ]
  },
  {
   "cell_type": "markdown",
   "id": "9e6efb98-f8d1-4c9e-8ad4-b1a15ef96081",
   "metadata": {},
   "source": [
    "## 1. 서울시 금연구역 정보"
   ]
  },
  {
   "cell_type": "code",
   "execution_count": 6,
   "id": "802914d2-4e87-4513-b14f-06fdb59d1e80",
   "metadata": {},
   "outputs": [],
   "source": [
    "import mapo_smoke as ms\n",
    "import logging\n",
    "\n",
    "logger = logging.getLogger('mapo_smoke')\n",
    "logger.setLevel(logging.DEBUG) \n",
    "for handler in logging.root.handlers:\n",
    "        handler.addFilter(logging.Filter('mapo_smoke'))"
   ]
  },
  {
   "cell_type": "code",
   "execution_count": 7,
   "id": "87144a1b-58f1-461c-8890-e3143b9ff232",
   "metadata": {},
   "outputs": [],
   "source": [
    "base_url = 'http://openapi.seoul.go.kr:8088/'\n",
    "CERT_KEY = '724a707574706f69343477616d5445'"
   ]
  },
  {
   "cell_type": "markdown",
   "id": "488aacda-98c0-4d88-b8f6-52acd7de65ef",
   "metadata": {},
   "source": [
    "#### <b>함수사용 ver. </b>                                                          \n",
    "서울시 금연구역의 총 수를 확인합니다."
   ]
  },
  {
   "cell_type": "code",
   "execution_count": 10,
   "id": "4cae6d7e-7805-4b77-93c7-fff8e2fb88f7",
   "metadata": {},
   "outputs": [
    {
     "name": "stderr",
     "output_type": "stream",
     "text": [
      "2023-11-17 10:33:05,750 - mapo_smoke - DEBUG - get_SeoulSmoke_total_count()...\n",
      "2023-11-17 10:33:05,750 - mapo_smoke - DEBUG - url : http://openapi.seoul.go.kr:8088/724a707574706f69343477616d5445/json/tbPrhSmkArea/1/1/\n",
      "2023-11-17 10:33:05,845 - mapo_smoke - DEBUG - RESULT : {'CODE': 'INFO-000', 'MESSAGE': '정상 처리되었습니다'}\n",
      "2023-11-17 10:33:05,845 - mapo_smoke - DEBUG - SeoulSmoke_total_count : 10000\n",
      "2023-11-17 10:33:05,845 - mapo_smoke - INFO - seoulsmoke_total_count : 10000\n"
     ]
    }
   ],
   "source": [
    "SeoulSmoke_total_count = ms.get_SeoulSmoke_total_count(CERT_KEY)\n",
    "logger.info(f'seoulsmoke_total_count : {SeoulSmoke_total_count}')"
   ]
  },
  {
   "cell_type": "markdown",
   "id": "97e9e8fb-c880-476e-be01-4fe7eb6f3ca4",
   "metadata": {},
   "source": [
    "1회 요청 당 최대 1000건의 금역구역 정보를 가져오는 코드를 작성합니다."
   ]
  },
  {
   "cell_type": "code",
   "execution_count": 11,
   "id": "9a194478-a652-4091-aff3-decbaac6affc",
   "metadata": {},
   "outputs": [
    {
     "name": "stderr",
     "output_type": "stream",
     "text": [
      "2023-11-17 10:33:07,252 - mapo_smoke - DEBUG - get_SeoulSmoke_area()...\n"
     ]
    },
    {
     "name": "stdout",
     "output_type": "stream",
     "text": [
      "http://openapi.seoul.go.kr:8088/724a707574706f69343477616d5445/json/tbPrhSmkArea/1/1000/\n",
      "{'CODE': 'INFO-000', 'MESSAGE': '정상 처리되었습니다'}\n",
      "http://openapi.seoul.go.kr:8088/724a707574706f69343477616d5445/json/tbPrhSmkArea/1001/2000/\n",
      "{'CODE': 'INFO-000', 'MESSAGE': '정상 처리되었습니다'}\n",
      "http://openapi.seoul.go.kr:8088/724a707574706f69343477616d5445/json/tbPrhSmkArea/2001/3000/\n",
      "{'CODE': 'INFO-000', 'MESSAGE': '정상 처리되었습니다'}\n",
      "http://openapi.seoul.go.kr:8088/724a707574706f69343477616d5445/json/tbPrhSmkArea/3001/4000/\n",
      "{'CODE': 'INFO-000', 'MESSAGE': '정상 처리되었습니다'}\n",
      "http://openapi.seoul.go.kr:8088/724a707574706f69343477616d5445/json/tbPrhSmkArea/4001/5000/\n",
      "{'CODE': 'INFO-000', 'MESSAGE': '정상 처리되었습니다'}\n",
      "http://openapi.seoul.go.kr:8088/724a707574706f69343477616d5445/json/tbPrhSmkArea/5001/6000/\n",
      "{'CODE': 'INFO-000', 'MESSAGE': '정상 처리되었습니다'}\n",
      "http://openapi.seoul.go.kr:8088/724a707574706f69343477616d5445/json/tbPrhSmkArea/6001/7000/\n",
      "{'CODE': 'INFO-000', 'MESSAGE': '정상 처리되었습니다'}\n",
      "http://openapi.seoul.go.kr:8088/724a707574706f69343477616d5445/json/tbPrhSmkArea/7001/8000/\n",
      "{'CODE': 'INFO-000', 'MESSAGE': '정상 처리되었습니다'}\n",
      "http://openapi.seoul.go.kr:8088/724a707574706f69343477616d5445/json/tbPrhSmkArea/8001/9000/\n",
      "{'CODE': 'INFO-000', 'MESSAGE': '정상 처리되었습니다'}\n",
      "http://openapi.seoul.go.kr:8088/724a707574706f69343477616d5445/json/tbPrhSmkArea/9001/10000/\n",
      "{'CODE': 'INFO-000', 'MESSAGE': '정상 처리되었습니다'}\n"
     ]
    },
    {
     "name": "stderr",
     "output_type": "stream",
     "text": [
      "2023-11-17 10:33:27,525 - mapo_smoke - INFO - lines #: 10000\n"
     ]
    }
   ],
   "source": [
    "lines = ms.get_SeoulSmoke_area(CERT_KEY, SeoulSmoke_total_count)\n",
    "logger.info(f'lines #: {len(lines)}')"
   ]
  },
  {
   "cell_type": "code",
   "execution_count": 12,
   "id": "0c7116fb-3f1d-4d9e-abb5-165d122cbd47",
   "metadata": {},
   "outputs": [],
   "source": [
    "url = f'{base_url}{CERT_KEY}/json/tbPrhSmkArea/1/5/'"
   ]
  },
  {
   "cell_type": "code",
   "execution_count": 13,
   "id": "81616ef2-26f1-4f48-b319-2fb49924725a",
   "metadata": {},
   "outputs": [
    {
     "data": {
      "text/plain": [
       "'http://openapi.seoul.go.kr:8088/724a707574706f69343477616d5445/json/tbPrhSmkArea/1/5/'"
      ]
     },
     "execution_count": 13,
     "metadata": {},
     "output_type": "execute_result"
    }
   ],
   "source": [
    "url"
   ]
  },
  {
   "cell_type": "code",
   "execution_count": 14,
   "id": "6d5c1202-ea8f-4c21-a5ba-247f71457b6a",
   "metadata": {
    "scrolled": true
   },
   "outputs": [
    {
     "data": {
      "text/plain": [
       "{'tbPrhSmkArea': {'list_total_count': 10000,\n",
       "  'RESULT': {'CODE': 'INFO-000', 'MESSAGE': '정상 처리되었습니다'},\n",
       "  'row': [{'PRHSMKNM': '모정한의원',\n",
       "    'PRHSMKSCOPEDESC': '시설전체',\n",
       "    'CTPRVNNM': '서울특별시',\n",
       "    'SIGNGUNM': '송파구',\n",
       "    'PRHSMKSE': '의료기관                                                                                                ',\n",
       "    'PRHSMKAPPNBASIS': '국민건강증진법 제9조',\n",
       "    'PRHSMKAR': '',\n",
       "    'FFNLG': 100000.0,\n",
       "    'PHONENUMBER': '02-2147-3498',\n",
       "    'RDNMADR': '서울특별시 송파구 새말로 120, 2층 201호 (문정동, 화애빌딩)',\n",
       "    'LNMADR': '',\n",
       "    'INSTITUTIONNM': '서울특별시 송파구청',\n",
       "    'LATITUDE': '37.4827389390',\n",
       "    'LONGITUDE': '127.1275207892',\n",
       "    'REFERENCEDATE': '2021-02-17',\n",
       "    'INSTT_CODE': '',\n",
       "    'WORK_DTTM': '2023-10-17 11:37:44.0'},\n",
       "   {'PRHSMKNM': '풍림아이원 108동 놀이터',\n",
       "    'PRHSMKSCOPEDESC': '시설부지',\n",
       "    'CTPRVNNM': '서울특별시',\n",
       "    'SIGNGUNM': '노원구',\n",
       "    'PRHSMKSE': '어린이 놀이시설                                                                                            ',\n",
       "    'PRHSMKAPPNBASIS': '국민건강증진법',\n",
       "    'PRHSMKAR': '',\n",
       "    'FFNLG': 100000.0,\n",
       "    'PHONENUMBER': '02-2116-4381',\n",
       "    'RDNMADR': '서울특별시 노원구 화랑로47길 38 (월계동)',\n",
       "    'LNMADR': '',\n",
       "    'INSTITUTIONNM': '서울특별시 노원구청',\n",
       "    'LATITUDE': '37.61651195',\n",
       "    'LONGITUDE': '127.06573950',\n",
       "    'REFERENCEDATE': '2023-08-01',\n",
       "    'INSTT_CODE': '',\n",
       "    'WORK_DTTM': '2023-10-17 11:37:44.0'},\n",
       "   {'PRHSMKNM': '대치상상학원',\n",
       "    'PRHSMKSCOPEDESC': '시설전체',\n",
       "    'CTPRVNNM': '서울특별시',\n",
       "    'SIGNGUNM': '마포구',\n",
       "    'PRHSMKSE': '학교교과보습학원                                                                                            ',\n",
       "    'PRHSMKAPPNBASIS': '국민건강증진법제9조',\n",
       "    'PRHSMKAR': '',\n",
       "    'FFNLG': 100000.0,\n",
       "    'PHONENUMBER': '02-3153-9089',\n",
       "    'RDNMADR': '서울특별시 마포구 신촌로 222-1 , 2,3,4,5,7,8층 (아현동)',\n",
       "    'LNMADR': '',\n",
       "    'INSTITUTIONNM': '서울특별시 마포구청',\n",
       "    'LATITUDE': '37.556802',\n",
       "    'LONGITUDE': '126.950410',\n",
       "    'REFERENCEDATE': '2023-09-06',\n",
       "    'INSTT_CODE': '',\n",
       "    'WORK_DTTM': '2023-10-17 11:37:44.0'},\n",
       "   {'PRHSMKNM': '대치써미트영어학원',\n",
       "    'PRHSMKSCOPEDESC': '시설전체',\n",
       "    'CTPRVNNM': '서울특별시',\n",
       "    'SIGNGUNM': '마포구',\n",
       "    'PRHSMKSE': '학교교과보습학원                                                                                            ',\n",
       "    'PRHSMKAPPNBASIS': '국민건강증진법제9조',\n",
       "    'PRHSMKAR': '',\n",
       "    'FFNLG': 100000.0,\n",
       "    'PHONENUMBER': '02-3153-9089',\n",
       "    'RDNMADR': '서울특별시 마포구 독막로 278-4 , 202호, 301~302호 (대흥동, LS building)',\n",
       "    'LNMADR': '',\n",
       "    'INSTITUTIONNM': '서울특별시 마포구청',\n",
       "    'LATITUDE': '37.5451997049',\n",
       "    'LONGITUDE': '126.943769',\n",
       "    'REFERENCEDATE': '2023-09-06',\n",
       "    'INSTT_CODE': '',\n",
       "    'WORK_DTTM': '2023-10-17 11:37:44.0'},\n",
       "   {'PRHSMKNM': '대치써미트영어학원제2관(고등관)학원',\n",
       "    'PRHSMKSCOPEDESC': '시설전체',\n",
       "    'CTPRVNNM': '서울특별시',\n",
       "    'SIGNGUNM': '마포구',\n",
       "    'PRHSMKSE': '학교교과보습학원                                                                                            ',\n",
       "    'PRHSMKAPPNBASIS': '국민건강증진법제9조',\n",
       "    'PRHSMKAR': '',\n",
       "    'FFNLG': 100000.0,\n",
       "    'PHONENUMBER': '02-3153-9089',\n",
       "    'RDNMADR': '서울특별시 마포구 백범로 102 , 2,3,4층 (대흥동, 원흥빌딩)',\n",
       "    'LNMADR': '',\n",
       "    'INSTITUTIONNM': '서울특별시 마포구청',\n",
       "    'LATITUDE': '37.547395',\n",
       "    'LONGITUDE': '126.942454',\n",
       "    'REFERENCEDATE': '2023-09-06',\n",
       "    'INSTT_CODE': '',\n",
       "    'WORK_DTTM': '2023-10-17 11:37:44.0'}]}}"
      ]
     },
     "execution_count": 14,
     "metadata": {},
     "output_type": "execute_result"
    }
   ],
   "source": [
    "response = requests.get(url)\n",
    "result=response.json()\n",
    "result\n"
   ]
  },
  {
   "cell_type": "code",
   "execution_count": 15,
   "id": "f235c3b1-3acf-4451-8459-7e9577ea1765",
   "metadata": {},
   "outputs": [
    {
     "data": {
      "text/plain": [
       "dict_keys(['tbPrhSmkArea'])"
      ]
     },
     "execution_count": 15,
     "metadata": {},
     "output_type": "execute_result"
    }
   ],
   "source": [
    "result.keys()"
   ]
  },
  {
   "cell_type": "code",
   "execution_count": 16,
   "id": "4522b892-ad2e-4225-a9a7-b5c925130f6b",
   "metadata": {},
   "outputs": [
    {
     "data": {
      "text/plain": [
       "dict_keys(['list_total_count', 'RESULT', 'row'])"
      ]
     },
     "execution_count": 16,
     "metadata": {},
     "output_type": "execute_result"
    }
   ],
   "source": [
    "result['tbPrhSmkArea'].keys()"
   ]
  },
  {
   "cell_type": "code",
   "execution_count": 17,
   "id": "853301d2-405d-48f4-9fab-b1801a4144c8",
   "metadata": {
    "scrolled": true
   },
   "outputs": [
    {
     "data": {
      "text/plain": [
       "[{'PRHSMKNM': '모정한의원',\n",
       "  'PRHSMKSCOPEDESC': '시설전체',\n",
       "  'CTPRVNNM': '서울특별시',\n",
       "  'SIGNGUNM': '송파구',\n",
       "  'PRHSMKSE': '의료기관                                                                                                ',\n",
       "  'PRHSMKAPPNBASIS': '국민건강증진법 제9조',\n",
       "  'PRHSMKAR': '',\n",
       "  'FFNLG': 100000.0,\n",
       "  'PHONENUMBER': '02-2147-3498',\n",
       "  'RDNMADR': '서울특별시 송파구 새말로 120, 2층 201호 (문정동, 화애빌딩)',\n",
       "  'LNMADR': '',\n",
       "  'INSTITUTIONNM': '서울특별시 송파구청',\n",
       "  'LATITUDE': '37.4827389390',\n",
       "  'LONGITUDE': '127.1275207892',\n",
       "  'REFERENCEDATE': '2021-02-17',\n",
       "  'INSTT_CODE': '',\n",
       "  'WORK_DTTM': '2023-10-17 11:37:44.0'},\n",
       " {'PRHSMKNM': '풍림아이원 108동 놀이터',\n",
       "  'PRHSMKSCOPEDESC': '시설부지',\n",
       "  'CTPRVNNM': '서울특별시',\n",
       "  'SIGNGUNM': '노원구',\n",
       "  'PRHSMKSE': '어린이 놀이시설                                                                                            ',\n",
       "  'PRHSMKAPPNBASIS': '국민건강증진법',\n",
       "  'PRHSMKAR': '',\n",
       "  'FFNLG': 100000.0,\n",
       "  'PHONENUMBER': '02-2116-4381',\n",
       "  'RDNMADR': '서울특별시 노원구 화랑로47길 38 (월계동)',\n",
       "  'LNMADR': '',\n",
       "  'INSTITUTIONNM': '서울특별시 노원구청',\n",
       "  'LATITUDE': '37.61651195',\n",
       "  'LONGITUDE': '127.06573950',\n",
       "  'REFERENCEDATE': '2023-08-01',\n",
       "  'INSTT_CODE': '',\n",
       "  'WORK_DTTM': '2023-10-17 11:37:44.0'},\n",
       " {'PRHSMKNM': '대치상상학원',\n",
       "  'PRHSMKSCOPEDESC': '시설전체',\n",
       "  'CTPRVNNM': '서울특별시',\n",
       "  'SIGNGUNM': '마포구',\n",
       "  'PRHSMKSE': '학교교과보습학원                                                                                            ',\n",
       "  'PRHSMKAPPNBASIS': '국민건강증진법제9조',\n",
       "  'PRHSMKAR': '',\n",
       "  'FFNLG': 100000.0,\n",
       "  'PHONENUMBER': '02-3153-9089',\n",
       "  'RDNMADR': '서울특별시 마포구 신촌로 222-1 , 2,3,4,5,7,8층 (아현동)',\n",
       "  'LNMADR': '',\n",
       "  'INSTITUTIONNM': '서울특별시 마포구청',\n",
       "  'LATITUDE': '37.556802',\n",
       "  'LONGITUDE': '126.950410',\n",
       "  'REFERENCEDATE': '2023-09-06',\n",
       "  'INSTT_CODE': '',\n",
       "  'WORK_DTTM': '2023-10-17 11:37:44.0'},\n",
       " {'PRHSMKNM': '대치써미트영어학원',\n",
       "  'PRHSMKSCOPEDESC': '시설전체',\n",
       "  'CTPRVNNM': '서울특별시',\n",
       "  'SIGNGUNM': '마포구',\n",
       "  'PRHSMKSE': '학교교과보습학원                                                                                            ',\n",
       "  'PRHSMKAPPNBASIS': '국민건강증진법제9조',\n",
       "  'PRHSMKAR': '',\n",
       "  'FFNLG': 100000.0,\n",
       "  'PHONENUMBER': '02-3153-9089',\n",
       "  'RDNMADR': '서울특별시 마포구 독막로 278-4 , 202호, 301~302호 (대흥동, LS building)',\n",
       "  'LNMADR': '',\n",
       "  'INSTITUTIONNM': '서울특별시 마포구청',\n",
       "  'LATITUDE': '37.5451997049',\n",
       "  'LONGITUDE': '126.943769',\n",
       "  'REFERENCEDATE': '2023-09-06',\n",
       "  'INSTT_CODE': '',\n",
       "  'WORK_DTTM': '2023-10-17 11:37:44.0'},\n",
       " {'PRHSMKNM': '대치써미트영어학원제2관(고등관)학원',\n",
       "  'PRHSMKSCOPEDESC': '시설전체',\n",
       "  'CTPRVNNM': '서울특별시',\n",
       "  'SIGNGUNM': '마포구',\n",
       "  'PRHSMKSE': '학교교과보습학원                                                                                            ',\n",
       "  'PRHSMKAPPNBASIS': '국민건강증진법제9조',\n",
       "  'PRHSMKAR': '',\n",
       "  'FFNLG': 100000.0,\n",
       "  'PHONENUMBER': '02-3153-9089',\n",
       "  'RDNMADR': '서울특별시 마포구 백범로 102 , 2,3,4층 (대흥동, 원흥빌딩)',\n",
       "  'LNMADR': '',\n",
       "  'INSTITUTIONNM': '서울특별시 마포구청',\n",
       "  'LATITUDE': '37.547395',\n",
       "  'LONGITUDE': '126.942454',\n",
       "  'REFERENCEDATE': '2023-09-06',\n",
       "  'INSTT_CODE': '',\n",
       "  'WORK_DTTM': '2023-10-17 11:37:44.0'}]"
      ]
     },
     "execution_count": 17,
     "metadata": {},
     "output_type": "execute_result"
    }
   ],
   "source": [
    "result['tbPrhSmkArea']['row']"
   ]
  },
  {
   "cell_type": "code",
   "execution_count": 18,
   "id": "98436fa1-5191-43bf-aa4c-159ae424519d",
   "metadata": {},
   "outputs": [
    {
     "data": {
      "text/plain": [
       "10000"
      ]
     },
     "execution_count": 18,
     "metadata": {},
     "output_type": "execute_result"
    }
   ],
   "source": [
    "total_rows=int(result['tbPrhSmkArea']['list_total_count'])\n",
    "total_rows"
   ]
  },
  {
   "cell_type": "markdown",
   "id": "1ad1185d-4723-4993-be83-61b9a828f14d",
   "metadata": {},
   "source": [
    "1회 요청 당 최대 1000건의 금연구역 정보를 가져오는 코드를 작성합니다."
   ]
  },
  {
   "cell_type": "code",
   "execution_count": 23,
   "id": "d8d73a68-10fe-4ef3-bd41-8239b9089e41",
   "metadata": {},
   "outputs": [
    {
     "data": {
      "text/plain": [
       "10"
      ]
     },
     "execution_count": 23,
     "metadata": {},
     "output_type": "execute_result"
    }
   ],
   "source": [
    "rows = 1000\n",
    "start = 0\n",
    "end = start+rows\n",
    "n_times = total_rows // rows \n",
    "n_times"
   ]
  },
  {
   "cell_type": "code",
   "execution_count": 24,
   "id": "42fde88d-a1a8-4dd2-9b29-7e4ecb627ded",
   "metadata": {
    "scrolled": true
   },
   "outputs": [
    {
     "name": "stdout",
     "output_type": "stream",
     "text": [
      "http://openapi.seoul.go.kr:8088/724a707574706f69343477616d5445/json/tbPrhSmkArea/1/1000/\n",
      "{'CODE': 'INFO-000', 'MESSAGE': '정상 처리되었습니다'}\n",
      "http://openapi.seoul.go.kr:8088/724a707574706f69343477616d5445/json/tbPrhSmkArea/1001/2000/\n",
      "{'CODE': 'INFO-000', 'MESSAGE': '정상 처리되었습니다'}\n",
      "http://openapi.seoul.go.kr:8088/724a707574706f69343477616d5445/json/tbPrhSmkArea/2001/3000/\n",
      "{'CODE': 'INFO-000', 'MESSAGE': '정상 처리되었습니다'}\n",
      "http://openapi.seoul.go.kr:8088/724a707574706f69343477616d5445/json/tbPrhSmkArea/3001/4000/\n",
      "{'CODE': 'INFO-000', 'MESSAGE': '정상 처리되었습니다'}\n",
      "http://openapi.seoul.go.kr:8088/724a707574706f69343477616d5445/json/tbPrhSmkArea/4001/5000/\n",
      "{'CODE': 'INFO-000', 'MESSAGE': '정상 처리되었습니다'}\n",
      "http://openapi.seoul.go.kr:8088/724a707574706f69343477616d5445/json/tbPrhSmkArea/5001/6000/\n",
      "{'CODE': 'INFO-000', 'MESSAGE': '정상 처리되었습니다'}\n",
      "http://openapi.seoul.go.kr:8088/724a707574706f69343477616d5445/json/tbPrhSmkArea/6001/7000/\n",
      "{'CODE': 'INFO-000', 'MESSAGE': '정상 처리되었습니다'}\n",
      "http://openapi.seoul.go.kr:8088/724a707574706f69343477616d5445/json/tbPrhSmkArea/7001/8000/\n",
      "{'CODE': 'INFO-000', 'MESSAGE': '정상 처리되었습니다'}\n",
      "http://openapi.seoul.go.kr:8088/724a707574706f69343477616d5445/json/tbPrhSmkArea/8001/9000/\n",
      "{'CODE': 'INFO-000', 'MESSAGE': '정상 처리되었습니다'}\n",
      "http://openapi.seoul.go.kr:8088/724a707574706f69343477616d5445/json/tbPrhSmkArea/9001/10000/\n",
      "{'CODE': 'INFO-000', 'MESSAGE': '정상 처리되었습니다'}\n"
     ]
    }
   ],
   "source": [
    "import random\n",
    "import time\n",
    "\n",
    "# 도로명주소에서 법정동 추출하는 코드\n",
    "import re\n",
    "pattern = re.compile(r'\\(([^)]+동)')\n",
    "                     \n",
    "\n",
    "#루프 돌리기\n",
    "lines = []\n",
    "for _ in range(n_times):\n",
    "        \n",
    "    try : \n",
    "        url = f'{base_url}{CERT_KEY}/json/tbPrhSmkArea/{start+1}/{end}/'\n",
    "        print(url)\n",
    "        response = requests.get(url)\n",
    "        result = response.json()\n",
    "        print(result['tbPrhSmkArea']['RESULT'])\n",
    "        \n",
    "        for row in result['tbPrhSmkArea']['row']:\n",
    "            if row['SIGNGUNM'] == '마포구':\n",
    "                line = []\n",
    "                line.append(row['PRHSMKNM'])\n",
    "                line.append(row['PRHSMKSCOPEDESC'])\n",
    "                line.append(row['SIGNGUNM'])\n",
    "                line.append(row['PRHSMKSE'].strip())\n",
    "                line.append(row['RDNMADR'])\n",
    "\n",
    "                bjdong = pattern.findall(row['RDNMADR'])\n",
    "                if bjdong:\n",
    "                    # () 안에 '동'이 존재하는 경우; 도로명 주소 상세 표기\n",
    "                    line.append(bjdong[0].split(',')[0])\n",
    "                else:\n",
    "                    # () 안에 '동'이 존재하지 않는 경우; 지번 표기\n",
    "                    pattern2 = re.compile(r'([가-힣]+동)')\n",
    "                    bjdong = pattern2.findall(row['RDNMADR'])\n",
    "                    if bjdong:\n",
    "                        line.append(bjdong[0])\n",
    "                    else:\n",
    "                        # '동'을 찾지 못한 경우; 도로명주소 상세 표기 제외\n",
    "                        line.append(\"0\")  # 기본값 0 설정\n",
    "\n",
    "                    \n",
    "                line.append(row['LATITUDE'])\n",
    "                line.append(row['LONGITUDE'])\n",
    "                lines.append(line)\n",
    "  \n",
    "        \n",
    "    #예외 검사\n",
    "    except Exception as e:\n",
    "        print(f'{type(e)} :{e}')\n",
    "   \n",
    "    #예외가 발생하든 말든 수행 : 다음 루프 수행 TERM 만들기\n",
    "    finally:\n",
    "        start = end\n",
    "        end = start + rows\n",
    "        time.sleep(random.random() * 3)\n",
    "\n",
    "  "
   ]
  },
  {
   "cell_type": "code",
   "execution_count": 25,
   "id": "1fce7cac-2e26-4adc-811b-3bf4bea17088",
   "metadata": {},
   "outputs": [
    {
     "data": {
      "text/plain": [
       "6890"
      ]
     },
     "execution_count": 25,
     "metadata": {},
     "output_type": "execute_result"
    }
   ],
   "source": [
    "len(lines)"
   ]
  },
  {
   "cell_type": "code",
   "execution_count": 26,
   "id": "854bb45f-9970-4623-9178-9b0f656294bc",
   "metadata": {},
   "outputs": [],
   "source": [
    "with open(\"마포구 금연구역 정보 법정동.csv\",\"w\",encoding='utf-8', newline=\"\")as f:\n",
    "    csv_writer = csv.writer(f)\n",
    "    #헤더 정보 넣기\n",
    "    csv_writer.writerow(['금연구역명', '금연구역범위상세', '시군구명', '금연구역구분', '소재지도로명주소','법정동','위도','경도'])\n",
    "    for line in lines:\n",
    "        csv_writer.writerow(line)"
   ]
  },
  {
   "cell_type": "code",
   "execution_count": 27,
   "id": "446f273c-d8d2-48f6-950b-78a53dde463a",
   "metadata": {},
   "outputs": [],
   "source": [
    "#마포구 금연구역 정보 법정동.csv에서 도로명주소열에서 도로명 추출해서 행 추가하기\n",
    "\n",
    "import mapo as mp"
   ]
  },
  {
   "cell_type": "code",
   "execution_count": 29,
   "id": "d27d9533-c1f1-4679-8bb0-434d81e4ad97",
   "metadata": {
    "scrolled": true
   },
   "outputs": [],
   "source": [
    "mp.get_roadname('마포구 금연구역 정보 법정동.csv','소재지도로명주소','마포구 금연구역 정보 최종.csv')"
   ]
  },
  {
   "cell_type": "code",
   "execution_count": 30,
   "id": "ca1439fc-08f2-48b1-b584-7349f52df4a9",
   "metadata": {},
   "outputs": [
    {
     "data": {
      "text/plain": [
       "'신망원동'"
      ]
     },
     "execution_count": 30,
     "metadata": {},
     "output_type": "execute_result"
    }
   ],
   "source": [
    "import re\n",
    "text = '서울시 마포구 월드컵로 83, 3층 일부(우측)(신망원동, 원흥빌딩동)'\n",
    "pattern = re.compile(r'\\(([^)]+동)')\n",
    "                       #\\(([^)]+동)\n",
    "pattern.findall(text)[0].split(',')[0]"
   ]
  },
  {
   "cell_type": "code",
   "execution_count": 31,
   "id": "9bc78447-2701-444a-8017-10676ad1743f",
   "metadata": {},
   "outputs": [],
   "source": [
    "address = '서울시 마포구 신촌로 125, 3층 (망원동)'\n",
    "pattern = re.compile(r'([가-힣0-9]+로)')"
   ]
  },
  {
   "cell_type": "code",
   "execution_count": 33,
   "id": "3c51820a-f239-40a1-ab65-c13441036463",
   "metadata": {},
   "outputs": [
    {
     "data": {
      "text/plain": [
       "['망원동']"
      ]
     },
     "execution_count": 33,
     "metadata": {},
     "output_type": "execute_result"
    }
   ],
   "source": [
    "text='서울시 마포구 망원동 118-9'\n",
    "pattern = re.compile(r'([가-힣]+동)')\n",
    "pattern.findall(text)"
   ]
  },
  {
   "cell_type": "code",
   "execution_count": 34,
   "id": "71a56184-280f-4d88-9837-97f6caa9f67d",
   "metadata": {},
   "outputs": [],
   "source": [
    "import pandas as pd\n",
    "df=pd.read_csv('마포구 금연구역 정보 최종.csv')"
   ]
  },
  {
   "cell_type": "code",
   "execution_count": 35,
   "id": "43f2e904-1102-4753-8b11-abb08e6121f4",
   "metadata": {},
   "outputs": [
    {
     "data": {
      "text/html": [
       "<div>\n",
       "<style scoped>\n",
       "    .dataframe tbody tr th:only-of-type {\n",
       "        vertical-align: middle;\n",
       "    }\n",
       "\n",
       "    .dataframe tbody tr th {\n",
       "        vertical-align: top;\n",
       "    }\n",
       "\n",
       "    .dataframe thead th {\n",
       "        text-align: right;\n",
       "    }\n",
       "</style>\n",
       "<table border=\"1\" class=\"dataframe\">\n",
       "  <thead>\n",
       "    <tr style=\"text-align: right;\">\n",
       "      <th></th>\n",
       "      <th>금연구역명</th>\n",
       "      <th>금연구역범위상세</th>\n",
       "      <th>시군구명</th>\n",
       "      <th>금연구역구분</th>\n",
       "      <th>소재지도로명주소</th>\n",
       "      <th>법정동</th>\n",
       "      <th>위도</th>\n",
       "      <th>경도</th>\n",
       "      <th>도로명</th>\n",
       "    </tr>\n",
       "  </thead>\n",
       "  <tbody>\n",
       "    <tr>\n",
       "      <th>0</th>\n",
       "      <td>대치상상학원</td>\n",
       "      <td>시설전체</td>\n",
       "      <td>마포구</td>\n",
       "      <td>학교교과보습학원</td>\n",
       "      <td>서울특별시 마포구 신촌로 222-1 , 2,3,4,5,7,8층 (아현동)</td>\n",
       "      <td>아현동</td>\n",
       "      <td>37.556802</td>\n",
       "      <td>126.950410</td>\n",
       "      <td>신촌로</td>\n",
       "    </tr>\n",
       "    <tr>\n",
       "      <th>1</th>\n",
       "      <td>대치써미트영어학원</td>\n",
       "      <td>시설전체</td>\n",
       "      <td>마포구</td>\n",
       "      <td>학교교과보습학원</td>\n",
       "      <td>서울특별시 마포구 독막로 278-4 , 202호, 301~302호 (대흥동, LS ...</td>\n",
       "      <td>대흥동</td>\n",
       "      <td>37.545200</td>\n",
       "      <td>126.943769</td>\n",
       "      <td>독막로</td>\n",
       "    </tr>\n",
       "    <tr>\n",
       "      <th>2</th>\n",
       "      <td>대치써미트영어학원제2관(고등관)학원</td>\n",
       "      <td>시설전체</td>\n",
       "      <td>마포구</td>\n",
       "      <td>학교교과보습학원</td>\n",
       "      <td>서울특별시 마포구 백범로 102 , 2,3,4층 (대흥동, 원흥빌딩)</td>\n",
       "      <td>대흥동</td>\n",
       "      <td>37.547395</td>\n",
       "      <td>126.942454</td>\n",
       "      <td>백범로</td>\n",
       "    </tr>\n",
       "    <tr>\n",
       "      <th>3</th>\n",
       "      <td>대치영재수학학원</td>\n",
       "      <td>시설전체</td>\n",
       "      <td>마포구</td>\n",
       "      <td>학교교과보습학원</td>\n",
       "      <td>서울특별시 마포구 독막로 268 , 종합상가동 3층 302,303,304호 (대흥동...</td>\n",
       "      <td>대흥동</td>\n",
       "      <td>37.545662</td>\n",
       "      <td>126.942879</td>\n",
       "      <td>독막로</td>\n",
       "    </tr>\n",
       "    <tr>\n",
       "      <th>4</th>\n",
       "      <td>대치이강학원신촌캠퍼스학원</td>\n",
       "      <td>시설전체</td>\n",
       "      <td>마포구</td>\n",
       "      <td>학교교과보습학원</td>\n",
       "      <td>서울특별시 마포구 성미산로 121 , 경성문화회관 4층(연남동 369-1) (연남동)</td>\n",
       "      <td>연남동</td>\n",
       "      <td>37.562962</td>\n",
       "      <td>126.920249</td>\n",
       "      <td>성미산로</td>\n",
       "    </tr>\n",
       "    <tr>\n",
       "      <th>...</th>\n",
       "      <td>...</td>\n",
       "      <td>...</td>\n",
       "      <td>...</td>\n",
       "      <td>...</td>\n",
       "      <td>...</td>\n",
       "      <td>...</td>\n",
       "      <td>...</td>\n",
       "      <td>...</td>\n",
       "      <td>...</td>\n",
       "    </tr>\n",
       "    <tr>\n",
       "      <th>6885</th>\n",
       "      <td>커피더맨</td>\n",
       "      <td>시설전체</td>\n",
       "      <td>마포구</td>\n",
       "      <td>음식점</td>\n",
       "      <td>서울특별시 마포구 양화로 25, 1층 (합정동)</td>\n",
       "      <td>합정동</td>\n",
       "      <td>37.549091</td>\n",
       "      <td>126.911997</td>\n",
       "      <td>양화로</td>\n",
       "    </tr>\n",
       "    <tr>\n",
       "      <th>6886</th>\n",
       "      <td>오펠레(O fele)</td>\n",
       "      <td>시설전체</td>\n",
       "      <td>마포구</td>\n",
       "      <td>음식점</td>\n",
       "      <td>서울특별시 마포구 독막로 291-5, 지층일부~1층101호 (염리동)</td>\n",
       "      <td>염리동</td>\n",
       "      <td>37.545099</td>\n",
       "      <td>126.945763</td>\n",
       "      <td>독막로</td>\n",
       "    </tr>\n",
       "    <tr>\n",
       "      <th>6887</th>\n",
       "      <td>익.coffee</td>\n",
       "      <td>시설전체</td>\n",
       "      <td>마포구</td>\n",
       "      <td>음식점</td>\n",
       "      <td>서울특별시 마포구 신촌로 20, 1층 (동교동)</td>\n",
       "      <td>동교동</td>\n",
       "      <td>37.557832</td>\n",
       "      <td>126.928458</td>\n",
       "      <td>신촌로</td>\n",
       "    </tr>\n",
       "    <tr>\n",
       "      <th>6888</th>\n",
       "      <td>이모네전집</td>\n",
       "      <td>시설전체</td>\n",
       "      <td>마포구</td>\n",
       "      <td>음식점</td>\n",
       "      <td>서울특별시 마포구 월드컵로 205, 도시개발공사성산아파트 상가동 108호 (성산동)</td>\n",
       "      <td>성산동</td>\n",
       "      <td>37.565048</td>\n",
       "      <td>126.901500</td>\n",
       "      <td>월드컵로</td>\n",
       "    </tr>\n",
       "    <tr>\n",
       "      <th>6889</th>\n",
       "      <td>조쿤</td>\n",
       "      <td>시설전체</td>\n",
       "      <td>마포구</td>\n",
       "      <td>음식점</td>\n",
       "      <td>서울특별시 마포구 연남로11길 52, 1층 (성산동)</td>\n",
       "      <td>성산동</td>\n",
       "      <td>37.565317</td>\n",
       "      <td>126.916076</td>\n",
       "      <td>연남로</td>\n",
       "    </tr>\n",
       "  </tbody>\n",
       "</table>\n",
       "<p>6890 rows × 9 columns</p>\n",
       "</div>"
      ],
      "text/plain": [
       "                    금연구역명 금연구역범위상세 시군구명    금연구역구분  \\\n",
       "0                  대치상상학원     시설전체  마포구  학교교과보습학원   \n",
       "1               대치써미트영어학원     시설전체  마포구  학교교과보습학원   \n",
       "2     대치써미트영어학원제2관(고등관)학원     시설전체  마포구  학교교과보습학원   \n",
       "3                대치영재수학학원     시설전체  마포구  학교교과보습학원   \n",
       "4           대치이강학원신촌캠퍼스학원     시설전체  마포구  학교교과보습학원   \n",
       "...                   ...      ...  ...       ...   \n",
       "6885                 커피더맨     시설전체  마포구       음식점   \n",
       "6886          오펠레(O fele)     시설전체  마포구       음식점   \n",
       "6887             익.coffee     시설전체  마포구       음식점   \n",
       "6888                이모네전집     시설전체  마포구       음식점   \n",
       "6889                   조쿤     시설전체  마포구       음식점   \n",
       "\n",
       "                                               소재지도로명주소  법정동         위도  \\\n",
       "0              서울특별시 마포구 신촌로 222-1 , 2,3,4,5,7,8층 (아현동)  아현동  37.556802   \n",
       "1     서울특별시 마포구 독막로 278-4 , 202호, 301~302호 (대흥동, LS ...  대흥동  37.545200   \n",
       "2                서울특별시 마포구 백범로 102 , 2,3,4층 (대흥동, 원흥빌딩)  대흥동  37.547395   \n",
       "3     서울특별시 마포구 독막로 268 , 종합상가동 3층 302,303,304호 (대흥동...  대흥동  37.545662   \n",
       "4       서울특별시 마포구 성미산로 121 , 경성문화회관 4층(연남동 369-1) (연남동)  연남동  37.562962   \n",
       "...                                                 ...  ...        ...   \n",
       "6885                         서울특별시 마포구 양화로 25, 1층 (합정동)  합정동  37.549091   \n",
       "6886             서울특별시 마포구 독막로 291-5, 지층일부~1층101호 (염리동)  염리동  37.545099   \n",
       "6887                         서울특별시 마포구 신촌로 20, 1층 (동교동)  동교동  37.557832   \n",
       "6888     서울특별시 마포구 월드컵로 205, 도시개발공사성산아파트 상가동 108호 (성산동)  성산동  37.565048   \n",
       "6889                      서울특별시 마포구 연남로11길 52, 1층 (성산동)  성산동  37.565317   \n",
       "\n",
       "              경도   도로명  \n",
       "0     126.950410   신촌로  \n",
       "1     126.943769   독막로  \n",
       "2     126.942454   백범로  \n",
       "3     126.942879   독막로  \n",
       "4     126.920249  성미산로  \n",
       "...          ...   ...  \n",
       "6885  126.911997   양화로  \n",
       "6886  126.945763   독막로  \n",
       "6887  126.928458   신촌로  \n",
       "6888  126.901500  월드컵로  \n",
       "6889  126.916076   연남로  \n",
       "\n",
       "[6890 rows x 9 columns]"
      ]
     },
     "execution_count": 35,
     "metadata": {},
     "output_type": "execute_result"
    }
   ],
   "source": [
    "df"
   ]
  },
  {
   "cell_type": "code",
   "execution_count": 37,
   "id": "208f7ac5-2749-487c-b07a-4a2b83b6583a",
   "metadata": {},
   "outputs": [
    {
     "data": {
      "text/html": [
       "<div>\n",
       "<style scoped>\n",
       "    .dataframe tbody tr th:only-of-type {\n",
       "        vertical-align: middle;\n",
       "    }\n",
       "\n",
       "    .dataframe tbody tr th {\n",
       "        vertical-align: top;\n",
       "    }\n",
       "\n",
       "    .dataframe thead th {\n",
       "        text-align: right;\n",
       "    }\n",
       "</style>\n",
       "<table border=\"1\" class=\"dataframe\">\n",
       "  <thead>\n",
       "    <tr style=\"text-align: right;\">\n",
       "      <th></th>\n",
       "      <th>금연구역명</th>\n",
       "      <th>금연구역구분</th>\n",
       "      <th>소재지도로명주소</th>\n",
       "      <th>법정동</th>\n",
       "      <th>위도</th>\n",
       "      <th>경도</th>\n",
       "      <th>도로명</th>\n",
       "    </tr>\n",
       "  </thead>\n",
       "  <tbody>\n",
       "    <tr>\n",
       "      <th>0</th>\n",
       "      <td>대치상상학원</td>\n",
       "      <td>학교교과보습학원</td>\n",
       "      <td>서울특별시 마포구 신촌로 222-1 , 2,3,4,5,7,8층 (아현동)</td>\n",
       "      <td>아현동</td>\n",
       "      <td>37.556802</td>\n",
       "      <td>126.950410</td>\n",
       "      <td>신촌로</td>\n",
       "    </tr>\n",
       "    <tr>\n",
       "      <th>1</th>\n",
       "      <td>대치써미트영어학원</td>\n",
       "      <td>학교교과보습학원</td>\n",
       "      <td>서울특별시 마포구 독막로 278-4 , 202호, 301~302호 (대흥동, LS ...</td>\n",
       "      <td>대흥동</td>\n",
       "      <td>37.545200</td>\n",
       "      <td>126.943769</td>\n",
       "      <td>독막로</td>\n",
       "    </tr>\n",
       "    <tr>\n",
       "      <th>2</th>\n",
       "      <td>대치써미트영어학원제2관(고등관)학원</td>\n",
       "      <td>학교교과보습학원</td>\n",
       "      <td>서울특별시 마포구 백범로 102 , 2,3,4층 (대흥동, 원흥빌딩)</td>\n",
       "      <td>대흥동</td>\n",
       "      <td>37.547395</td>\n",
       "      <td>126.942454</td>\n",
       "      <td>백범로</td>\n",
       "    </tr>\n",
       "    <tr>\n",
       "      <th>3</th>\n",
       "      <td>대치영재수학학원</td>\n",
       "      <td>학교교과보습학원</td>\n",
       "      <td>서울특별시 마포구 독막로 268 , 종합상가동 3층 302,303,304호 (대흥동...</td>\n",
       "      <td>대흥동</td>\n",
       "      <td>37.545662</td>\n",
       "      <td>126.942879</td>\n",
       "      <td>독막로</td>\n",
       "    </tr>\n",
       "    <tr>\n",
       "      <th>4</th>\n",
       "      <td>대치이강학원신촌캠퍼스학원</td>\n",
       "      <td>학교교과보습학원</td>\n",
       "      <td>서울특별시 마포구 성미산로 121 , 경성문화회관 4층(연남동 369-1) (연남동)</td>\n",
       "      <td>연남동</td>\n",
       "      <td>37.562962</td>\n",
       "      <td>126.920249</td>\n",
       "      <td>성미산로</td>\n",
       "    </tr>\n",
       "    <tr>\n",
       "      <th>...</th>\n",
       "      <td>...</td>\n",
       "      <td>...</td>\n",
       "      <td>...</td>\n",
       "      <td>...</td>\n",
       "      <td>...</td>\n",
       "      <td>...</td>\n",
       "      <td>...</td>\n",
       "    </tr>\n",
       "    <tr>\n",
       "      <th>6885</th>\n",
       "      <td>커피더맨</td>\n",
       "      <td>음식점</td>\n",
       "      <td>서울특별시 마포구 양화로 25, 1층 (합정동)</td>\n",
       "      <td>합정동</td>\n",
       "      <td>37.549091</td>\n",
       "      <td>126.911997</td>\n",
       "      <td>양화로</td>\n",
       "    </tr>\n",
       "    <tr>\n",
       "      <th>6886</th>\n",
       "      <td>오펠레(O fele)</td>\n",
       "      <td>음식점</td>\n",
       "      <td>서울특별시 마포구 독막로 291-5, 지층일부~1층101호 (염리동)</td>\n",
       "      <td>염리동</td>\n",
       "      <td>37.545099</td>\n",
       "      <td>126.945763</td>\n",
       "      <td>독막로</td>\n",
       "    </tr>\n",
       "    <tr>\n",
       "      <th>6887</th>\n",
       "      <td>익.coffee</td>\n",
       "      <td>음식점</td>\n",
       "      <td>서울특별시 마포구 신촌로 20, 1층 (동교동)</td>\n",
       "      <td>동교동</td>\n",
       "      <td>37.557832</td>\n",
       "      <td>126.928458</td>\n",
       "      <td>신촌로</td>\n",
       "    </tr>\n",
       "    <tr>\n",
       "      <th>6888</th>\n",
       "      <td>이모네전집</td>\n",
       "      <td>음식점</td>\n",
       "      <td>서울특별시 마포구 월드컵로 205, 도시개발공사성산아파트 상가동 108호 (성산동)</td>\n",
       "      <td>성산동</td>\n",
       "      <td>37.565048</td>\n",
       "      <td>126.901500</td>\n",
       "      <td>월드컵로</td>\n",
       "    </tr>\n",
       "    <tr>\n",
       "      <th>6889</th>\n",
       "      <td>조쿤</td>\n",
       "      <td>음식점</td>\n",
       "      <td>서울특별시 마포구 연남로11길 52, 1층 (성산동)</td>\n",
       "      <td>성산동</td>\n",
       "      <td>37.565317</td>\n",
       "      <td>126.916076</td>\n",
       "      <td>연남로</td>\n",
       "    </tr>\n",
       "  </tbody>\n",
       "</table>\n",
       "<p>6890 rows × 7 columns</p>\n",
       "</div>"
      ],
      "text/plain": [
       "                    금연구역명    금연구역구분  \\\n",
       "0                  대치상상학원  학교교과보습학원   \n",
       "1               대치써미트영어학원  학교교과보습학원   \n",
       "2     대치써미트영어학원제2관(고등관)학원  학교교과보습학원   \n",
       "3                대치영재수학학원  학교교과보습학원   \n",
       "4           대치이강학원신촌캠퍼스학원  학교교과보습학원   \n",
       "...                   ...       ...   \n",
       "6885                 커피더맨       음식점   \n",
       "6886          오펠레(O fele)       음식점   \n",
       "6887             익.coffee       음식점   \n",
       "6888                이모네전집       음식점   \n",
       "6889                   조쿤       음식점   \n",
       "\n",
       "                                               소재지도로명주소  법정동         위도  \\\n",
       "0              서울특별시 마포구 신촌로 222-1 , 2,3,4,5,7,8층 (아현동)  아현동  37.556802   \n",
       "1     서울특별시 마포구 독막로 278-4 , 202호, 301~302호 (대흥동, LS ...  대흥동  37.545200   \n",
       "2                서울특별시 마포구 백범로 102 , 2,3,4층 (대흥동, 원흥빌딩)  대흥동  37.547395   \n",
       "3     서울특별시 마포구 독막로 268 , 종합상가동 3층 302,303,304호 (대흥동...  대흥동  37.545662   \n",
       "4       서울특별시 마포구 성미산로 121 , 경성문화회관 4층(연남동 369-1) (연남동)  연남동  37.562962   \n",
       "...                                                 ...  ...        ...   \n",
       "6885                         서울특별시 마포구 양화로 25, 1층 (합정동)  합정동  37.549091   \n",
       "6886             서울특별시 마포구 독막로 291-5, 지층일부~1층101호 (염리동)  염리동  37.545099   \n",
       "6887                         서울특별시 마포구 신촌로 20, 1층 (동교동)  동교동  37.557832   \n",
       "6888     서울특별시 마포구 월드컵로 205, 도시개발공사성산아파트 상가동 108호 (성산동)  성산동  37.565048   \n",
       "6889                      서울특별시 마포구 연남로11길 52, 1층 (성산동)  성산동  37.565317   \n",
       "\n",
       "              경도   도로명  \n",
       "0     126.950410   신촌로  \n",
       "1     126.943769   독막로  \n",
       "2     126.942454   백범로  \n",
       "3     126.942879   독막로  \n",
       "4     126.920249  성미산로  \n",
       "...          ...   ...  \n",
       "6885  126.911997   양화로  \n",
       "6886  126.945763   독막로  \n",
       "6887  126.928458   신촌로  \n",
       "6888  126.901500  월드컵로  \n",
       "6889  126.916076   연남로  \n",
       "\n",
       "[6890 rows x 7 columns]"
      ]
     },
     "execution_count": 37,
     "metadata": {},
     "output_type": "execute_result"
    }
   ],
   "source": [
    "column_to_remove = '시군구명'\n",
    "df = df.drop(column_to_remove, axis=1)\n",
    "df"
   ]
  },
  {
   "cell_type": "code",
   "execution_count": null,
   "id": "6e8e4d30-62f6-45f3-9872-36c3890b4901",
   "metadata": {},
   "outputs": [],
   "source": [
    "df[\"도로명\"] = df[\"소재지도로명주소\"].str.extract(r'([가-힣0-9]+로|[가-힣0-9]+길)')                                       \n",
    "        \n",
    "df.to_csv('서울시 금연구역 정보 최종.csv', index=False)\n"
   ]
  },
  {
   "cell_type": "code",
   "execution_count": 38,
   "id": "773185ac-3d08-4a6d-8867-80e9b2f29e00",
   "metadata": {},
   "outputs": [
    {
     "data": {
      "text/plain": [
       "6890"
      ]
     },
     "execution_count": 38,
     "metadata": {},
     "output_type": "execute_result"
    }
   ],
   "source": [
    "mp.to_sql('서울시 금연구역 정보 최종.csv', 'no_smoke_area_')"
   ]
  },
  {
   "cell_type": "code",
   "execution_count": 39,
   "id": "6f744c85-6e96-4d6a-abf9-91d128a21426",
   "metadata": {},
   "outputs": [
    {
     "name": "stdout",
     "output_type": "stream",
     "text": [
      "null값이 존재\n"
     ]
    }
   ],
   "source": [
    "import pandas as pd\n",
    "\n",
    "df = pd.read_csv('서울시 금연구역 정보 최종.csv')\n",
    "null_values = df['도로명'].isnull().any()\n",
    "\n",
    "if null_values:\n",
    "\tprint(\"null값이 존재\")\n",
    "else:\n",
    "\tprint(\"존재하지 않음\")"
   ]
  },
  {
   "cell_type": "code",
   "execution_count": null,
   "id": "ab6c23cd-a7fe-4ec8-827e-ec2737257441",
   "metadata": {},
   "outputs": [],
   "source": []
  }
 ],
 "metadata": {
  "kernelspec": {
   "display_name": "Python 3 (ipykernel)",
   "language": "python",
   "name": "python3"
  },
  "language_info": {
   "codemirror_mode": {
    "name": "ipython",
    "version": 3
   },
   "file_extension": ".py",
   "mimetype": "text/x-python",
   "name": "python",
   "nbconvert_exporter": "python",
   "pygments_lexer": "ipython3",
   "version": "3.10.13"
  }
 },
 "nbformat": 4,
 "nbformat_minor": 5
}
