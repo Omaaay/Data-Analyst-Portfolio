{
 "cells": [
  {
   "cell_type": "code",
   "execution_count": 1,
   "id": "51fc0fcf-da05-47f8-a3f4-70fab5d9056d",
   "metadata": {},
   "outputs": [
    {
     "name": "stdout",
     "output_type": "stream",
     "text": [
      "bs4 : 4.12.2\n",
      "requests : 2.31.0\n"
     ]
    }
   ],
   "source": [
    "import csv\n",
    "import bs4\n",
    "from bs4 import BeautifulSoup\n",
    "import requests\n",
    "\n",
    "\n",
    "print(f'bs4 : {bs4.__version__}')\n",
    "print(f'requests : {requests.__version__}')"
   ]
  },
  {
   "cell_type": "code",
   "execution_count": 2,
   "id": "87144a1b-58f1-461c-8890-e3143b9ff232",
   "metadata": {},
   "outputs": [],
   "source": [
    "base_url = 'https://api.odcloud.kr/api/15053603/v1/uddi:df726928-0dec-4b93-9fd4-dbec8745e665_201705300825'\n",
    "CERT_KEY = 'Gk79Sq8AtJ1c5CsN31uLMqmmx7cbwJg8dNa6GSYpMbanbXm0k9aStvYRa%2FSlZ99mFbgFnmfEFEwH0P6axICa0g%3D%3D'"
   ]
  },
  {
   "cell_type": "code",
   "execution_count": 3,
   "id": "27910678-caad-4d3b-b3ee-57b0fe24ae01",
   "metadata": {},
   "outputs": [],
   "source": [
    "page='1'\n",
    "perPage='5'\n",
    "returnType='json'\n",
    "serviceKey=CERT_KEY\n",
    "\n",
    "#url = 'https://apis.data.go.kr/3130000/openapi/floatingPopulation/getfloatingPopulation'\n",
    "#params ={'serviceKey' : 'Gk79Sq8AtJ1c5CsN31uLMqmmx7cbwJg8dNa6GSYpMbanbXm0k9aStvYRa%2FSlZ99mFbgFnmfEFEwH0P6axICa0g%3D%3D', 'numOfRows' : '10', 'pageNo' : '0', 'sortKey' : 'addr', 'filterKey' : 'addr', 'filterValues' : '디지털미디어시티인근주거밀집지역', 'type' : 'json' }\n",
    "#response = requests.get(url, params=params)\n"
   ]
  },
  {
   "cell_type": "code",
   "execution_count": 4,
   "id": "c2a12a0e-7093-4131-90cd-7018179fbc4d",
   "metadata": {},
   "outputs": [],
   "source": [
    "url=f'{base_url}?page={page}&perPage={perPage}&returnType={returnType}&serviceKey={CERT_KEY}'"
   ]
  },
  {
   "cell_type": "code",
   "execution_count": 5,
   "id": "9dfe575a-3d65-4af0-b720-f3dbe2421b78",
   "metadata": {},
   "outputs": [
    {
     "data": {
      "text/plain": [
       "'https://api.odcloud.kr/api/15053603/v1/uddi:df726928-0dec-4b93-9fd4-dbec8745e665_201705300825?page=1&perPage=5&returnType=json&serviceKey=Gk79Sq8AtJ1c5CsN31uLMqmmx7cbwJg8dNa6GSYpMbanbXm0k9aStvYRa%2FSlZ99mFbgFnmfEFEwH0P6axICa0g%3D%3D'"
      ]
     },
     "execution_count": 5,
     "metadata": {},
     "output_type": "execute_result"
    }
   ],
   "source": [
    "url"
   ]
  },
  {
   "cell_type": "code",
   "execution_count": 6,
   "id": "6d5c1202-ea8f-4c21-a5ba-247f71457b6a",
   "metadata": {
    "scrolled": true
   },
   "outputs": [
    {
     "data": {
      "text/plain": [
       "{'currentCount': 5,\n",
       " 'data': [{'본분교구분': '본교',\n",
       "   '설립유형': '공립',\n",
       "   '시도': '서울',\n",
       "   '전화번호': '02-390-5824',\n",
       "   '주소': '서울특별시 마포구 마포대로 249 (아현동,아현직업학교)',\n",
       "   '학교명': '아현산업정보학교',\n",
       "   '학제': '각종학교',\n",
       "   '행정구역': '마포구'},\n",
       "  {'본분교구분': '본교',\n",
       "   '설립유형': '공립',\n",
       "   '시도': '서울',\n",
       "   '전화번호': '02-712-5928',\n",
       "   '주소': '서울특별시 마포구 만리재옛길 13 (공덕동)',\n",
       "   '학교명': '서울공덕초등학교병설유치원',\n",
       "   '학제': '유치원',\n",
       "   '행정구역': '마포구'},\n",
       "  {'본분교구분': '본교',\n",
       "   '설립유형': '공립',\n",
       "   '시도': '서울',\n",
       "   '전화번호': '02-6959-8120',\n",
       "   '주소': '서울특별시 마포구 월드컵로25길 86 (망원동)',\n",
       "   '학교명': '서울동교초등학교병설유치원',\n",
       "   '학제': '유치원',\n",
       "   '행정구역': '마포구'},\n",
       "  {'본분교구분': '본교',\n",
       "   '설립유형': '공립',\n",
       "   '시도': '서울',\n",
       "   '전화번호': '02-712-1170',\n",
       "   '주소': '서울특별시 마포구 도화2길 64 (도화동)',\n",
       "   '학교명': '서울마포초등학교병설유치원',\n",
       "   '학제': '유치원',\n",
       "   '행정구역': '마포구'},\n",
       "  {'본분교구분': '본교',\n",
       "   '설립유형': '공립',\n",
       "   '시도': '서울',\n",
       "   '전화번호': '02-376-4110',\n",
       "   '주소': '서울특별시 마포구 월드컵북로 353 (상암동)',\n",
       "   '학교명': '서울상암초등학교병설유치원',\n",
       "   '학제': '유치원',\n",
       "   '행정구역': '마포구'}],\n",
       " 'matchCount': 241,\n",
       " 'page': 1,\n",
       " 'perPage': 5,\n",
       " 'totalCount': 241}"
      ]
     },
     "execution_count": 6,
     "metadata": {},
     "output_type": "execute_result"
    }
   ],
   "source": [
    "response = requests.get(url)\n",
    "result=response.json()\n",
    "result\n",
    "\n",
    "#response = requests.get(url, params=params)\n",
    "#print(response.content)"
   ]
  },
  {
   "cell_type": "code",
   "execution_count": 8,
   "id": "f235c3b1-3acf-4451-8459-7e9577ea1765",
   "metadata": {},
   "outputs": [
    {
     "data": {
      "text/plain": [
       "dict_keys(['currentCount', 'data', 'matchCount', 'page', 'perPage', 'totalCount'])"
      ]
     },
     "execution_count": 8,
     "metadata": {},
     "output_type": "execute_result"
    }
   ],
   "source": [
    "result.keys()"
   ]
  },
  {
   "cell_type": "code",
   "execution_count": 9,
   "id": "4522b892-ad2e-4225-a9a7-b5c925130f6b",
   "metadata": {},
   "outputs": [
    {
     "data": {
      "text/plain": [
       "241"
      ]
     },
     "execution_count": 9,
     "metadata": {},
     "output_type": "execute_result"
    }
   ],
   "source": [
    "#총 유아및초·중등교육기관 갯수\n",
    "result['totalCount']"
   ]
  },
  {
   "cell_type": "code",
   "execution_count": 10,
   "id": "37ecabe5-5fe5-44c7-99d2-eca0c903f5ed",
   "metadata": {
    "scrolled": true
   },
   "outputs": [
    {
     "data": {
      "text/plain": [
       "[{'본분교구분': '본교',\n",
       "  '설립유형': '공립',\n",
       "  '시도': '서울',\n",
       "  '전화번호': '02-390-5824',\n",
       "  '주소': '서울특별시 마포구 마포대로 249 (아현동,아현직업학교)',\n",
       "  '학교명': '아현산업정보학교',\n",
       "  '학제': '각종학교',\n",
       "  '행정구역': '마포구'},\n",
       " {'본분교구분': '본교',\n",
       "  '설립유형': '공립',\n",
       "  '시도': '서울',\n",
       "  '전화번호': '02-712-5928',\n",
       "  '주소': '서울특별시 마포구 만리재옛길 13 (공덕동)',\n",
       "  '학교명': '서울공덕초등학교병설유치원',\n",
       "  '학제': '유치원',\n",
       "  '행정구역': '마포구'},\n",
       " {'본분교구분': '본교',\n",
       "  '설립유형': '공립',\n",
       "  '시도': '서울',\n",
       "  '전화번호': '02-6959-8120',\n",
       "  '주소': '서울특별시 마포구 월드컵로25길 86 (망원동)',\n",
       "  '학교명': '서울동교초등학교병설유치원',\n",
       "  '학제': '유치원',\n",
       "  '행정구역': '마포구'},\n",
       " {'본분교구분': '본교',\n",
       "  '설립유형': '공립',\n",
       "  '시도': '서울',\n",
       "  '전화번호': '02-712-1170',\n",
       "  '주소': '서울특별시 마포구 도화2길 64 (도화동)',\n",
       "  '학교명': '서울마포초등학교병설유치원',\n",
       "  '학제': '유치원',\n",
       "  '행정구역': '마포구'},\n",
       " {'본분교구분': '본교',\n",
       "  '설립유형': '공립',\n",
       "  '시도': '서울',\n",
       "  '전화번호': '02-376-4110',\n",
       "  '주소': '서울특별시 마포구 월드컵북로 353 (상암동)',\n",
       "  '학교명': '서울상암초등학교병설유치원',\n",
       "  '학제': '유치원',\n",
       "  '행정구역': '마포구'}]"
      ]
     },
     "execution_count": 10,
     "metadata": {},
     "output_type": "execute_result"
    }
   ],
   "source": [
    "#유아및초·중등교육기관 데이터값\n",
    "result['data']\n"
   ]
  },
  {
   "cell_type": "code",
   "execution_count": 11,
   "id": "98436fa1-5191-43bf-aa4c-159ae424519d",
   "metadata": {},
   "outputs": [
    {
     "data": {
      "text/plain": [
       "241"
      ]
     },
     "execution_count": 11,
     "metadata": {},
     "output_type": "execute_result"
    }
   ],
   "source": [
    "total_rows=result['totalCount']\n",
    "result['totalCount']"
   ]
  },
  {
   "cell_type": "markdown",
   "id": "1ad1185d-4723-4993-be83-61b9a828f14d",
   "metadata": {},
   "source": [
    "1회 요청 당 최대 1000건의 유초중고등학교 정보를 가져오는 코드를 작성합니다."
   ]
  },
  {
   "cell_type": "code",
   "execution_count": null,
   "id": "d8d73a68-10fe-4ef3-bd41-8239b9089e41",
   "metadata": {},
   "outputs": [],
   "source": [
    "start = 1\n",
    "end = total_rows"
   ]
  },
  {
   "cell_type": "code",
   "execution_count": null,
   "id": "42fde88d-a1a8-4dd2-9b29-7e4ecb627ded",
   "metadata": {
    "scrolled": true
   },
   "outputs": [],
   "source": [
    "import re\n",
    "lines = []\n",
    "pattern = re.compile(r'\\(([^)]+동)')\n",
    "\n",
    "for _ in range(1):\n",
    "    try : \n",
    "        url=f'{base_url}?page={page}&perPage={total_rows}&returnType={returnType}&serviceKey={CERT_KEY}'\n",
    "        print(url)\n",
    "        response = requests.get(url)\n",
    "        result = response.json()\n",
    "\n",
    "        for row in result['data']:\n",
    "            if row['행정구역'] == '마포구':\n",
    "                line = []\n",
    "                line.append(row['주소'])\n",
    "                \n",
    "                bjdong = pattern.findall(row['주소'])\n",
    "                if bjdong:\n",
    "                    line.append(bjdong[0].split(',')[0])\n",
    "                else:\n",
    "                    line.append(0)\n",
    "                    \n",
    "                line.append(row['학교명'])\n",
    "                line.append(row['학제'])\n",
    "                line.append(row['행정구역']) \n",
    "                lines.append(line)\n",
    "  \n",
    "    except Exception as e:\n",
    "        print(f'{type(e)} :{e}')"
   ]
  },
  {
   "cell_type": "code",
   "execution_count": null,
   "id": "1fce7cac-2e26-4adc-811b-3bf4bea17088",
   "metadata": {},
   "outputs": [],
   "source": [
    "len(lines)"
   ]
  },
  {
   "cell_type": "code",
   "execution_count": null,
   "id": "5bb33ccb-4d3a-4dbf-9ad0-70553a9c4d50",
   "metadata": {},
   "outputs": [],
   "source": [
    "with open(\"마포구 관내 학교현황 정보.csv\",\"w\",encoding='utf-8', newline=\"\")as f:\n",
    "    csv_writer = csv.writer(f)\n",
    "    csv_writer.writerow(['주소','법정동', '학교명', '학제', '행정구역'])\n",
    "    for line in lines:\n",
    "        csv_writer.writerow(line)"
   ]
  },
  {
   "cell_type": "code",
   "execution_count": 12,
   "id": "0c8f1c53-406e-416f-8236-e7273b236ea2",
   "metadata": {},
   "outputs": [],
   "source": [
    "import mapo as mp"
   ]
  },
  {
   "cell_type": "code",
   "execution_count": null,
   "id": "bf459589-07ae-4563-99db-9fc7ae02af00",
   "metadata": {
    "scrolled": true
   },
   "outputs": [],
   "source": [
    "mp.get_roadname('마포구 관내 학교현황 정보.csv','주소','마포구 관내 학교현황 정보.csv')"
   ]
  },
  {
   "cell_type": "code",
   "execution_count": 13,
   "id": "f158e51a-6878-4426-bb04-7ea779cf04ef",
   "metadata": {},
   "outputs": [
    {
     "data": {
      "text/html": [
       "<div>\n",
       "<style scoped>\n",
       "    .dataframe tbody tr th:only-of-type {\n",
       "        vertical-align: middle;\n",
       "    }\n",
       "\n",
       "    .dataframe tbody tr th {\n",
       "        vertical-align: top;\n",
       "    }\n",
       "\n",
       "    .dataframe thead th {\n",
       "        text-align: right;\n",
       "    }\n",
       "</style>\n",
       "<table border=\"1\" class=\"dataframe\">\n",
       "  <thead>\n",
       "    <tr style=\"text-align: right;\">\n",
       "      <th></th>\n",
       "      <th>주소</th>\n",
       "      <th>법정동</th>\n",
       "      <th>학교명</th>\n",
       "      <th>학제</th>\n",
       "      <th>행정구역</th>\n",
       "      <th>도로명</th>\n",
       "    </tr>\n",
       "  </thead>\n",
       "  <tbody>\n",
       "    <tr>\n",
       "      <th>0</th>\n",
       "      <td>서울특별시 마포구 마포대로 249 (아현동,아현직업학교)</td>\n",
       "      <td>아현동</td>\n",
       "      <td>아현산업정보학교</td>\n",
       "      <td>각종학교</td>\n",
       "      <td>마포구</td>\n",
       "      <td>마포대로</td>\n",
       "    </tr>\n",
       "    <tr>\n",
       "      <th>1</th>\n",
       "      <td>서울특별시 마포구 만리재옛길 13 (공덕동)</td>\n",
       "      <td>공덕동</td>\n",
       "      <td>서울공덕초등학교병설유치원</td>\n",
       "      <td>유치원</td>\n",
       "      <td>마포구</td>\n",
       "      <td>만리재옛길</td>\n",
       "    </tr>\n",
       "    <tr>\n",
       "      <th>2</th>\n",
       "      <td>서울특별시 마포구 월드컵로25길 86 (망원동)</td>\n",
       "      <td>망원동</td>\n",
       "      <td>서울동교초등학교병설유치원</td>\n",
       "      <td>유치원</td>\n",
       "      <td>마포구</td>\n",
       "      <td>월드컵로</td>\n",
       "    </tr>\n",
       "    <tr>\n",
       "      <th>3</th>\n",
       "      <td>서울특별시 마포구 도화2길 64 (도화동)</td>\n",
       "      <td>도화동</td>\n",
       "      <td>서울마포초등학교병설유치원</td>\n",
       "      <td>유치원</td>\n",
       "      <td>마포구</td>\n",
       "      <td>도화2길</td>\n",
       "    </tr>\n",
       "    <tr>\n",
       "      <th>4</th>\n",
       "      <td>서울특별시 마포구 월드컵북로 353 (상암동)</td>\n",
       "      <td>상암동</td>\n",
       "      <td>서울상암초등학교병설유치원</td>\n",
       "      <td>유치원</td>\n",
       "      <td>마포구</td>\n",
       "      <td>월드컵북로</td>\n",
       "    </tr>\n",
       "    <tr>\n",
       "      <th>...</th>\n",
       "      <td>...</td>\n",
       "      <td>...</td>\n",
       "      <td>...</td>\n",
       "      <td>...</td>\n",
       "      <td>...</td>\n",
       "      <td>...</td>\n",
       "    </tr>\n",
       "    <tr>\n",
       "      <th>68</th>\n",
       "      <td>서울특별시 마포구 성미산로 51 (성산동)</td>\n",
       "      <td>성산동</td>\n",
       "      <td>홍익대학교사범대학부속초등학교</td>\n",
       "      <td>초등학교</td>\n",
       "      <td>마포구</td>\n",
       "      <td>성미산로</td>\n",
       "    </tr>\n",
       "    <tr>\n",
       "      <th>69</th>\n",
       "      <td>서울특별시 마포구 백범로 139 (염리동)</td>\n",
       "      <td>염리동</td>\n",
       "      <td>서울디자인고등학교</td>\n",
       "      <td>특성화고(직업)</td>\n",
       "      <td>마포구</td>\n",
       "      <td>백범로</td>\n",
       "    </tr>\n",
       "    <tr>\n",
       "      <th>70</th>\n",
       "      <td>서울특별시 마포구 마포대로11길 44-80 (아현동)</td>\n",
       "      <td>아현동</td>\n",
       "      <td>한세사이버보안고등학교</td>\n",
       "      <td>특성화고(직업)</td>\n",
       "      <td>마포구</td>\n",
       "      <td>마포대로</td>\n",
       "    </tr>\n",
       "    <tr>\n",
       "      <th>71</th>\n",
       "      <td>서울특별시 마포구 성미산로 111 (연남동)</td>\n",
       "      <td>연남동</td>\n",
       "      <td>홍익디자인고등학교</td>\n",
       "      <td>특성화고(직업)</td>\n",
       "      <td>마포구</td>\n",
       "      <td>성미산로</td>\n",
       "    </tr>\n",
       "    <tr>\n",
       "      <th>72</th>\n",
       "      <td>서울특별시 마포구 월드컵북로38길 21 , 한국우진학교 (중동)</td>\n",
       "      <td>중동</td>\n",
       "      <td>한국우진학교</td>\n",
       "      <td>특수학교</td>\n",
       "      <td>마포구</td>\n",
       "      <td>월드컵북로</td>\n",
       "    </tr>\n",
       "  </tbody>\n",
       "</table>\n",
       "<p>73 rows × 6 columns</p>\n",
       "</div>"
      ],
      "text/plain": [
       "                                     주소  법정동              학교명        학제 행정구역  \\\n",
       "0       서울특별시 마포구 마포대로 249 (아현동,아현직업학교)  아현동         아현산업정보학교      각종학교  마포구   \n",
       "1              서울특별시 마포구 만리재옛길 13 (공덕동)  공덕동    서울공덕초등학교병설유치원       유치원  마포구   \n",
       "2            서울특별시 마포구 월드컵로25길 86 (망원동)  망원동    서울동교초등학교병설유치원       유치원  마포구   \n",
       "3               서울특별시 마포구 도화2길 64 (도화동)  도화동    서울마포초등학교병설유치원       유치원  마포구   \n",
       "4             서울특별시 마포구 월드컵북로 353 (상암동)  상암동    서울상암초등학교병설유치원       유치원  마포구   \n",
       "..                                  ...  ...              ...       ...  ...   \n",
       "68              서울특별시 마포구 성미산로 51 (성산동)  성산동  홍익대학교사범대학부속초등학교      초등학교  마포구   \n",
       "69              서울특별시 마포구 백범로 139 (염리동)  염리동        서울디자인고등학교  특성화고(직업)  마포구   \n",
       "70        서울특별시 마포구 마포대로11길 44-80 (아현동)  아현동      한세사이버보안고등학교  특성화고(직업)  마포구   \n",
       "71             서울특별시 마포구 성미산로 111 (연남동)  연남동        홍익디자인고등학교  특성화고(직업)  마포구   \n",
       "72  서울특별시 마포구 월드컵북로38길 21 , 한국우진학교 (중동)   중동           한국우진학교      특수학교  마포구   \n",
       "\n",
       "      도로명  \n",
       "0    마포대로  \n",
       "1   만리재옛길  \n",
       "2    월드컵로  \n",
       "3    도화2길  \n",
       "4   월드컵북로  \n",
       "..    ...  \n",
       "68   성미산로  \n",
       "69    백범로  \n",
       "70   마포대로  \n",
       "71   성미산로  \n",
       "72  월드컵북로  \n",
       "\n",
       "[73 rows x 6 columns]"
      ]
     },
     "execution_count": 13,
     "metadata": {},
     "output_type": "execute_result"
    }
   ],
   "source": [
    "import pandas as pd\n",
    "df = pd.read_csv('마포구 관내 학교현황 정보.csv')\n",
    "df"
   ]
  },
  {
   "cell_type": "code",
   "execution_count": 14,
   "id": "40afe1ba-9b09-4c29-8290-eff844518ca3",
   "metadata": {},
   "outputs": [
    {
     "data": {
      "text/html": [
       "<div>\n",
       "<style scoped>\n",
       "    .dataframe tbody tr th:only-of-type {\n",
       "        vertical-align: middle;\n",
       "    }\n",
       "\n",
       "    .dataframe tbody tr th {\n",
       "        vertical-align: top;\n",
       "    }\n",
       "\n",
       "    .dataframe thead th {\n",
       "        text-align: right;\n",
       "    }\n",
       "</style>\n",
       "<table border=\"1\" class=\"dataframe\">\n",
       "  <thead>\n",
       "    <tr style=\"text-align: right;\">\n",
       "      <th></th>\n",
       "      <th>주소</th>\n",
       "      <th>법정동</th>\n",
       "      <th>학교명</th>\n",
       "      <th>학제</th>\n",
       "      <th>도로명</th>\n",
       "    </tr>\n",
       "  </thead>\n",
       "  <tbody>\n",
       "    <tr>\n",
       "      <th>0</th>\n",
       "      <td>서울특별시 마포구 마포대로 249 (아현동,아현직업학교)</td>\n",
       "      <td>아현동</td>\n",
       "      <td>아현산업정보학교</td>\n",
       "      <td>각종학교</td>\n",
       "      <td>마포대로</td>\n",
       "    </tr>\n",
       "    <tr>\n",
       "      <th>1</th>\n",
       "      <td>서울특별시 마포구 만리재옛길 13 (공덕동)</td>\n",
       "      <td>공덕동</td>\n",
       "      <td>서울공덕초등학교병설유치원</td>\n",
       "      <td>유치원</td>\n",
       "      <td>만리재옛길</td>\n",
       "    </tr>\n",
       "    <tr>\n",
       "      <th>2</th>\n",
       "      <td>서울특별시 마포구 월드컵로25길 86 (망원동)</td>\n",
       "      <td>망원동</td>\n",
       "      <td>서울동교초등학교병설유치원</td>\n",
       "      <td>유치원</td>\n",
       "      <td>월드컵로</td>\n",
       "    </tr>\n",
       "    <tr>\n",
       "      <th>3</th>\n",
       "      <td>서울특별시 마포구 도화2길 64 (도화동)</td>\n",
       "      <td>도화동</td>\n",
       "      <td>서울마포초등학교병설유치원</td>\n",
       "      <td>유치원</td>\n",
       "      <td>도화2길</td>\n",
       "    </tr>\n",
       "    <tr>\n",
       "      <th>4</th>\n",
       "      <td>서울특별시 마포구 월드컵북로 353 (상암동)</td>\n",
       "      <td>상암동</td>\n",
       "      <td>서울상암초등학교병설유치원</td>\n",
       "      <td>유치원</td>\n",
       "      <td>월드컵북로</td>\n",
       "    </tr>\n",
       "    <tr>\n",
       "      <th>...</th>\n",
       "      <td>...</td>\n",
       "      <td>...</td>\n",
       "      <td>...</td>\n",
       "      <td>...</td>\n",
       "      <td>...</td>\n",
       "    </tr>\n",
       "    <tr>\n",
       "      <th>68</th>\n",
       "      <td>서울특별시 마포구 성미산로 51 (성산동)</td>\n",
       "      <td>성산동</td>\n",
       "      <td>홍익대학교사범대학부속초등학교</td>\n",
       "      <td>초등학교</td>\n",
       "      <td>성미산로</td>\n",
       "    </tr>\n",
       "    <tr>\n",
       "      <th>69</th>\n",
       "      <td>서울특별시 마포구 백범로 139 (염리동)</td>\n",
       "      <td>염리동</td>\n",
       "      <td>서울디자인고등학교</td>\n",
       "      <td>특성화고(직업)</td>\n",
       "      <td>백범로</td>\n",
       "    </tr>\n",
       "    <tr>\n",
       "      <th>70</th>\n",
       "      <td>서울특별시 마포구 마포대로11길 44-80 (아현동)</td>\n",
       "      <td>아현동</td>\n",
       "      <td>한세사이버보안고등학교</td>\n",
       "      <td>특성화고(직업)</td>\n",
       "      <td>마포대로</td>\n",
       "    </tr>\n",
       "    <tr>\n",
       "      <th>71</th>\n",
       "      <td>서울특별시 마포구 성미산로 111 (연남동)</td>\n",
       "      <td>연남동</td>\n",
       "      <td>홍익디자인고등학교</td>\n",
       "      <td>특성화고(직업)</td>\n",
       "      <td>성미산로</td>\n",
       "    </tr>\n",
       "    <tr>\n",
       "      <th>72</th>\n",
       "      <td>서울특별시 마포구 월드컵북로38길 21 , 한국우진학교 (중동)</td>\n",
       "      <td>중동</td>\n",
       "      <td>한국우진학교</td>\n",
       "      <td>특수학교</td>\n",
       "      <td>월드컵북로</td>\n",
       "    </tr>\n",
       "  </tbody>\n",
       "</table>\n",
       "<p>73 rows × 5 columns</p>\n",
       "</div>"
      ],
      "text/plain": [
       "                                     주소  법정동              학교명        학제    도로명\n",
       "0       서울특별시 마포구 마포대로 249 (아현동,아현직업학교)  아현동         아현산업정보학교      각종학교   마포대로\n",
       "1              서울특별시 마포구 만리재옛길 13 (공덕동)  공덕동    서울공덕초등학교병설유치원       유치원  만리재옛길\n",
       "2            서울특별시 마포구 월드컵로25길 86 (망원동)  망원동    서울동교초등학교병설유치원       유치원   월드컵로\n",
       "3               서울특별시 마포구 도화2길 64 (도화동)  도화동    서울마포초등학교병설유치원       유치원   도화2길\n",
       "4             서울특별시 마포구 월드컵북로 353 (상암동)  상암동    서울상암초등학교병설유치원       유치원  월드컵북로\n",
       "..                                  ...  ...              ...       ...    ...\n",
       "68              서울특별시 마포구 성미산로 51 (성산동)  성산동  홍익대학교사범대학부속초등학교      초등학교   성미산로\n",
       "69              서울특별시 마포구 백범로 139 (염리동)  염리동        서울디자인고등학교  특성화고(직업)    백범로\n",
       "70        서울특별시 마포구 마포대로11길 44-80 (아현동)  아현동      한세사이버보안고등학교  특성화고(직업)   마포대로\n",
       "71             서울특별시 마포구 성미산로 111 (연남동)  연남동        홍익디자인고등학교  특성화고(직업)   성미산로\n",
       "72  서울특별시 마포구 월드컵북로38길 21 , 한국우진학교 (중동)   중동           한국우진학교      특수학교  월드컵북로\n",
       "\n",
       "[73 rows x 5 columns]"
      ]
     },
     "execution_count": 14,
     "metadata": {},
     "output_type": "execute_result"
    }
   ],
   "source": [
    "column_to_remove = '행정구역'\n",
    "df = df.drop(column_to_remove, axis=1)\n",
    "df"
   ]
  },
  {
   "cell_type": "code",
   "execution_count": 15,
   "id": "2612bde2-2ece-467c-bfed-418b13bef104",
   "metadata": {},
   "outputs": [],
   "source": [
    "df.to_csv('마포구 관내 학교현황 정보 최종.csv', index=False)"
   ]
  },
  {
   "cell_type": "code",
   "execution_count": 16,
   "id": "9c8b0c57-175f-4dbc-91c4-56b47fc4e3f6",
   "metadata": {},
   "outputs": [
    {
     "data": {
      "text/plain": [
       "73"
      ]
     },
     "execution_count": 16,
     "metadata": {},
     "output_type": "execute_result"
    }
   ],
   "source": [
    "mp.to_sql('마포구 관내 학교현황 정보 최종.csv', 'school_')"
   ]
  },
  {
   "cell_type": "code",
   "execution_count": null,
   "id": "23184490-84d7-467e-852b-58f4d882ad80",
   "metadata": {},
   "outputs": [],
   "source": []
  }
 ],
 "metadata": {
  "kernelspec": {
   "display_name": "Python 3 (ipykernel)",
   "language": "python",
   "name": "python3"
  },
  "language_info": {
   "codemirror_mode": {
    "name": "ipython",
    "version": 3
   },
   "file_extension": ".py",
   "mimetype": "text/x-python",
   "name": "python",
   "nbconvert_exporter": "python",
   "pygments_lexer": "ipython3",
   "version": "3.10.13"
  }
 },
 "nbformat": 4,
 "nbformat_minor": 5
}
