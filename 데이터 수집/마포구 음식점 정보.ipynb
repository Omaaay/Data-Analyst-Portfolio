{
 "cells": [
  {
   "cell_type": "code",
   "execution_count": 1,
   "id": "51fc0fcf-da05-47f8-a3f4-70fab5d9056d",
   "metadata": {},
   "outputs": [
    {
     "name": "stdout",
     "output_type": "stream",
     "text": [
      "bs4 : 4.12.2\n",
      "requests : 2.31.0\n"
     ]
    }
   ],
   "source": [
    "import csv\n",
    "import bs4\n",
    "from bs4 import BeautifulSoup\n",
    "import requests\n",
    "\n",
    "print(f'bs4 : {bs4.__version__}')\n",
    "print(f'requests : {requests.__version__}')"
   ]
  },
  {
   "cell_type": "markdown",
   "id": "9e6efb98-f8d1-4c9e-8ad4-b1a15ef96081",
   "metadata": {},
   "source": [
    "## 1. 마포구 일반음식점 인허가 정보"
   ]
  },
  {
   "cell_type": "code",
   "execution_count": 2,
   "id": "87144a1b-58f1-461c-8890-e3143b9ff232",
   "metadata": {},
   "outputs": [],
   "source": [
    "base_url = 'http://openapi.seoul.go.kr:8088/'\n",
    "CERT_KEY = '4f66414841706f693732434c437457'"
   ]
  },
  {
   "cell_type": "markdown",
   "id": "488aacda-98c0-4d88-b8f6-52acd7de65ef",
   "metadata": {},
   "source": [
    "마포구 일반음식점의 총 수를 확인합니다."
   ]
  },
  {
   "cell_type": "code",
   "execution_count": 3,
   "id": "0c7116fb-3f1d-4d9e-abb5-165d122cbd47",
   "metadata": {},
   "outputs": [],
   "source": [
    "url = f'{base_url}{CERT_KEY}/json/LOCALDATA_072404_MP/1/5/'"
   ]
  },
  {
   "cell_type": "code",
   "execution_count": 4,
   "id": "f60d4cc9-871d-448e-acc1-f66c87e915db",
   "metadata": {},
   "outputs": [],
   "source": [
    "url = f'{base_url}{CERT_KEY}/json/LOCALDATA_072404_MP/1/5/'"
   ]
  },
  {
   "cell_type": "code",
   "execution_count": 5,
   "id": "81616ef2-26f1-4f48-b319-2fb49924725a",
   "metadata": {},
   "outputs": [
    {
     "data": {
      "text/plain": [
       "'http://openapi.seoul.go.kr:8088/4f66414841706f693732434c437457/json/LOCALDATA_072404_MP/1/5/'"
      ]
     },
     "execution_count": 5,
     "metadata": {},
     "output_type": "execute_result"
    }
   ],
   "source": [
    "url"
   ]
  },
  {
   "cell_type": "code",
   "execution_count": 6,
   "id": "6d5c1202-ea8f-4c21-a5ba-247f71457b6a",
   "metadata": {
    "scrolled": true
   },
   "outputs": [
    {
     "data": {
      "text/plain": [
       "{'LOCALDATA_072404_MP': {'list_total_count': 27040,\n",
       "  'RESULT': {'CODE': 'INFO-000', 'MESSAGE': '정상 처리되었습니다'},\n",
       "  'row': [{'OPNSFTEAMCODE': '3130000',\n",
       "    'MGTNO': '3130000-101-1968-00355',\n",
       "    'APVPERMYMD': '19680725',\n",
       "    'APVCANCELYMD': '',\n",
       "    'TRDSTATEGBN': '03',\n",
       "    'TRDSTATENM': '폐업',\n",
       "    'DTLSTATEGBN': '02',\n",
       "    'DTLSTATENM': '폐업',\n",
       "    'DCBYMD': '20000316',\n",
       "    'CLGSTDT': '',\n",
       "    'CLGENDDT': '',\n",
       "    'ROPNYMD': '',\n",
       "    'SITETEL': '02',\n",
       "    'SITEAREA': '24.00',\n",
       "    'SITEPOSTNO': '121801',\n",
       "    'SITEWHLADDR': '서울특별시 마포구 공덕동 118-8번지 ',\n",
       "    'RDNWHLADDR': '',\n",
       "    'RDNPOSTNO': '',\n",
       "    'BPLCNM': '유성식당',\n",
       "    'LASTMODTS': '2002-04-26 00:00:00',\n",
       "    'UPDATEGBN': 'I',\n",
       "    'UPDATEDT': '2018-08-31 23:59:59.0',\n",
       "    'UPTAENM': '한식',\n",
       "    'X': '196120.411407895    ',\n",
       "    'Y': '449552.413410775    ',\n",
       "    'SNTUPTAENM': '한식',\n",
       "    'MANEIPCNT': '1',\n",
       "    'WMEIPCNT': '1',\n",
       "    'TRDPJUBNSENM': '기타',\n",
       "    'LVSENM': '지도',\n",
       "    'WTRSPLYFACILSENM': '상수도전용',\n",
       "    'TOTEPNUM': '',\n",
       "    'HOFFEPCNT': '',\n",
       "    'FCTYOWKEPCNT': '',\n",
       "    'FCTYSILJOBEPCNT': '',\n",
       "    'FCTYPDTJOBEPCNT': '',\n",
       "    'BDNGOWNSENM': '',\n",
       "    'ISREAM': '',\n",
       "    'MONAM': '',\n",
       "    'MULTUSNUPSOYN': 'N',\n",
       "    'FACILTOTSCP': '24',\n",
       "    'JTUPSOASGNNO': '',\n",
       "    'JTUPSOMAINEDF': '',\n",
       "    'HOMEPAGE': ''},\n",
       "   {'OPNSFTEAMCODE': '3130000',\n",
       "    'MGTNO': '3130000-101-1968-00757',\n",
       "    'APVPERMYMD': '19680426',\n",
       "    'APVCANCELYMD': '',\n",
       "    'TRDSTATEGBN': '03',\n",
       "    'TRDSTATENM': '폐업',\n",
       "    'DTLSTATEGBN': '02',\n",
       "    'DTLSTATENM': '폐업',\n",
       "    'DCBYMD': '20020604',\n",
       "    'CLGSTDT': '',\n",
       "    'CLGENDDT': '',\n",
       "    'ROPNYMD': '',\n",
       "    'SITETEL': '02 7127333',\n",
       "    'SITEAREA': '22.50',\n",
       "    'SITEPOSTNO': '121875',\n",
       "    'SITEWHLADDR': '서울특별시 마포구 용강동 40-1번지 ',\n",
       "    'RDNWHLADDR': '',\n",
       "    'RDNPOSTNO': '',\n",
       "    'BPLCNM': '한일정',\n",
       "    'LASTMODTS': '2002-06-05 00:00:00',\n",
       "    'UPDATEGBN': 'I',\n",
       "    'UPDATEDT': '2018-08-31 23:59:59.0',\n",
       "    'UPTAENM': '한식',\n",
       "    'X': '194986.978304208    ',\n",
       "    'Y': '448633.912588529    ',\n",
       "    'SNTUPTAENM': '한식',\n",
       "    'MANEIPCNT': '1',\n",
       "    'WMEIPCNT': '1',\n",
       "    'TRDPJUBNSENM': '기타',\n",
       "    'LVSENM': '지도',\n",
       "    'WTRSPLYFACILSENM': '상수도전용',\n",
       "    'TOTEPNUM': '',\n",
       "    'HOFFEPCNT': '',\n",
       "    'FCTYOWKEPCNT': '',\n",
       "    'FCTYSILJOBEPCNT': '',\n",
       "    'FCTYPDTJOBEPCNT': '',\n",
       "    'BDNGOWNSENM': '',\n",
       "    'ISREAM': '',\n",
       "    'MONAM': '',\n",
       "    'MULTUSNUPSOYN': 'N',\n",
       "    'FACILTOTSCP': '22.5',\n",
       "    'JTUPSOASGNNO': '',\n",
       "    'JTUPSOMAINEDF': '',\n",
       "    'HOMEPAGE': ''},\n",
       "   {'OPNSFTEAMCODE': '3130000',\n",
       "    'MGTNO': '3130000-101-1969-00081',\n",
       "    'APVPERMYMD': '19691008',\n",
       "    'APVCANCELYMD': '',\n",
       "    'TRDSTATEGBN': '03',\n",
       "    'TRDSTATENM': '폐업',\n",
       "    'DTLSTATEGBN': '02',\n",
       "    'DTLSTATENM': '폐업',\n",
       "    'DCBYMD': '19991202',\n",
       "    'CLGSTDT': '',\n",
       "    'CLGENDDT': '',\n",
       "    'ROPNYMD': '',\n",
       "    'SITETEL': '02',\n",
       "    'SITEAREA': '31.19',\n",
       "    'SITEPOSTNO': '121861',\n",
       "    'SITEWHLADDR': '서울특별시 마포구 아현동 406-1번지 1층 ',\n",
       "    'RDNWHLADDR': '',\n",
       "    'RDNPOSTNO': '',\n",
       "    'BPLCNM': '태능숯불갈비',\n",
       "    'LASTMODTS': '2002-07-16 00:00:00',\n",
       "    'UPDATEGBN': 'I',\n",
       "    'UPDATEDT': '2018-08-31 23:59:59.0',\n",
       "    'UPTAENM': '한식',\n",
       "    'X': '',\n",
       "    'Y': '',\n",
       "    'SNTUPTAENM': '한식',\n",
       "    'MANEIPCNT': '2',\n",
       "    'WMEIPCNT': '0',\n",
       "    'TRDPJUBNSENM': '주택가주변',\n",
       "    'LVSENM': '을',\n",
       "    'WTRSPLYFACILSENM': '상수도전용',\n",
       "    'TOTEPNUM': '',\n",
       "    'HOFFEPCNT': '',\n",
       "    'FCTYOWKEPCNT': '',\n",
       "    'FCTYSILJOBEPCNT': '',\n",
       "    'FCTYPDTJOBEPCNT': '',\n",
       "    'BDNGOWNSENM': '',\n",
       "    'ISREAM': '',\n",
       "    'MONAM': '',\n",
       "    'MULTUSNUPSOYN': 'N',\n",
       "    'FACILTOTSCP': '31.19',\n",
       "    'JTUPSOASGNNO': '',\n",
       "    'JTUPSOMAINEDF': '',\n",
       "    'HOMEPAGE': ''},\n",
       "   {'OPNSFTEAMCODE': '3130000',\n",
       "    'MGTNO': '3130000-101-1969-02300',\n",
       "    'APVPERMYMD': '19690128',\n",
       "    'APVCANCELYMD': '',\n",
       "    'TRDSTATEGBN': '03',\n",
       "    'TRDSTATENM': '폐업',\n",
       "    'DTLSTATEGBN': '02',\n",
       "    'DTLSTATENM': '폐업',\n",
       "    'DCBYMD': '20100608',\n",
       "    'CLGSTDT': '',\n",
       "    'CLGENDDT': '',\n",
       "    'ROPNYMD': '',\n",
       "    'SITETEL': '0207164495',\n",
       "    'SITEAREA': '46.46',\n",
       "    'SITEPOSTNO': '121807',\n",
       "    'SITEWHLADDR': '서울특별시 마포구 노고산동 109-21번지 ',\n",
       "    'RDNWHLADDR': '',\n",
       "    'RDNPOSTNO': '',\n",
       "    'BPLCNM': '용화루',\n",
       "    'LASTMODTS': '2009-09-08 11:49:40',\n",
       "    'UPDATEGBN': 'I',\n",
       "    'UPDATEDT': '2018-08-31 23:59:59.0',\n",
       "    'UPTAENM': '중국식',\n",
       "    'X': '194178.843497162    ',\n",
       "    'Y': '450083.32317694     ',\n",
       "    'SNTUPTAENM': '중국식',\n",
       "    'MANEIPCNT': '3',\n",
       "    'WMEIPCNT': '0',\n",
       "    'TRDPJUBNSENM': '기타',\n",
       "    'LVSENM': '지도',\n",
       "    'WTRSPLYFACILSENM': '상수도전용',\n",
       "    'TOTEPNUM': '',\n",
       "    'HOFFEPCNT': '',\n",
       "    'FCTYOWKEPCNT': '',\n",
       "    'FCTYSILJOBEPCNT': '',\n",
       "    'FCTYPDTJOBEPCNT': '',\n",
       "    'BDNGOWNSENM': '',\n",
       "    'ISREAM': '',\n",
       "    'MONAM': '',\n",
       "    'MULTUSNUPSOYN': 'N',\n",
       "    'FACILTOTSCP': '46.46',\n",
       "    'JTUPSOASGNNO': '',\n",
       "    'JTUPSOMAINEDF': '',\n",
       "    'HOMEPAGE': ''},\n",
       "   {'OPNSFTEAMCODE': '3130000',\n",
       "    'MGTNO': '3130000-101-1969-03901',\n",
       "    'APVPERMYMD': '19690908',\n",
       "    'APVCANCELYMD': '',\n",
       "    'TRDSTATEGBN': '03',\n",
       "    'TRDSTATENM': '폐업',\n",
       "    'DTLSTATEGBN': '02',\n",
       "    'DTLSTATENM': '폐업',\n",
       "    'DCBYMD': '19961008',\n",
       "    'CLGSTDT': '',\n",
       "    'CLGENDDT': '',\n",
       "    'ROPNYMD': '',\n",
       "    'SITETEL': '0207121837',\n",
       "    'SITEAREA': '55.20',\n",
       "    'SITEPOSTNO': '121851',\n",
       "    'SITEWHLADDR': '서울특별시 마포구 신공덕동 27-8번지 ',\n",
       "    'RDNWHLADDR': '',\n",
       "    'RDNPOSTNO': '',\n",
       "    'BPLCNM': '사랑과이별',\n",
       "    'LASTMODTS': '2002-07-25 00:00:00',\n",
       "    'UPDATEGBN': 'I',\n",
       "    'UPDATEDT': '2018-08-31 23:59:59.0',\n",
       "    'UPTAENM': '한식',\n",
       "    'X': '195781.417843942    ',\n",
       "    'Y': '449054.532533923    ',\n",
       "    'SNTUPTAENM': '한식',\n",
       "    'MANEIPCNT': '1',\n",
       "    'WMEIPCNT': '1',\n",
       "    'TRDPJUBNSENM': '기타',\n",
       "    'LVSENM': '지도',\n",
       "    'WTRSPLYFACILSENM': '상수도전용',\n",
       "    'TOTEPNUM': '',\n",
       "    'HOFFEPCNT': '',\n",
       "    'FCTYOWKEPCNT': '',\n",
       "    'FCTYSILJOBEPCNT': '',\n",
       "    'FCTYPDTJOBEPCNT': '',\n",
       "    'BDNGOWNSENM': '',\n",
       "    'ISREAM': '',\n",
       "    'MONAM': '',\n",
       "    'MULTUSNUPSOYN': 'N',\n",
       "    'FACILTOTSCP': '55.2',\n",
       "    'JTUPSOASGNNO': '',\n",
       "    'JTUPSOMAINEDF': '',\n",
       "    'HOMEPAGE': ''}]}}"
      ]
     },
     "execution_count": 6,
     "metadata": {},
     "output_type": "execute_result"
    }
   ],
   "source": [
    "response = requests.get(url)\n",
    "result=response.json()\n",
    "result\n"
   ]
  },
  {
   "cell_type": "code",
   "execution_count": 7,
   "id": "f235c3b1-3acf-4451-8459-7e9577ea1765",
   "metadata": {},
   "outputs": [
    {
     "data": {
      "text/plain": [
       "dict_keys(['LOCALDATA_072404_MP'])"
      ]
     },
     "execution_count": 7,
     "metadata": {},
     "output_type": "execute_result"
    }
   ],
   "source": [
    "result.keys()"
   ]
  },
  {
   "cell_type": "code",
   "execution_count": 8,
   "id": "4522b892-ad2e-4225-a9a7-b5c925130f6b",
   "metadata": {},
   "outputs": [
    {
     "data": {
      "text/plain": [
       "dict_keys(['list_total_count', 'RESULT', 'row'])"
      ]
     },
     "execution_count": 8,
     "metadata": {},
     "output_type": "execute_result"
    }
   ],
   "source": [
    "result['LOCALDATA_072404_MP'].keys()"
   ]
  },
  {
   "cell_type": "code",
   "execution_count": 9,
   "id": "98436fa1-5191-43bf-aa4c-159ae424519d",
   "metadata": {},
   "outputs": [
    {
     "data": {
      "text/plain": [
       "27040"
      ]
     },
     "execution_count": 9,
     "metadata": {},
     "output_type": "execute_result"
    }
   ],
   "source": [
    "#총 음식점(폐업/영업) 정보\n",
    "total_rows=int(result['LOCALDATA_072404_MP']['list_total_count'])\n",
    "total_rows"
   ]
  },
  {
   "cell_type": "code",
   "execution_count": 10,
   "id": "853301d2-405d-48f4-9fab-b1801a4144c8",
   "metadata": {
    "scrolled": true
   },
   "outputs": [
    {
     "data": {
      "text/plain": [
       "[{'OPNSFTEAMCODE': '3130000',\n",
       "  'MGTNO': '3130000-101-1968-00355',\n",
       "  'APVPERMYMD': '19680725',\n",
       "  'APVCANCELYMD': '',\n",
       "  'TRDSTATEGBN': '03',\n",
       "  'TRDSTATENM': '폐업',\n",
       "  'DTLSTATEGBN': '02',\n",
       "  'DTLSTATENM': '폐업',\n",
       "  'DCBYMD': '20000316',\n",
       "  'CLGSTDT': '',\n",
       "  'CLGENDDT': '',\n",
       "  'ROPNYMD': '',\n",
       "  'SITETEL': '02',\n",
       "  'SITEAREA': '24.00',\n",
       "  'SITEPOSTNO': '121801',\n",
       "  'SITEWHLADDR': '서울특별시 마포구 공덕동 118-8번지 ',\n",
       "  'RDNWHLADDR': '',\n",
       "  'RDNPOSTNO': '',\n",
       "  'BPLCNM': '유성식당',\n",
       "  'LASTMODTS': '2002-04-26 00:00:00',\n",
       "  'UPDATEGBN': 'I',\n",
       "  'UPDATEDT': '2018-08-31 23:59:59.0',\n",
       "  'UPTAENM': '한식',\n",
       "  'X': '196120.411407895    ',\n",
       "  'Y': '449552.413410775    ',\n",
       "  'SNTUPTAENM': '한식',\n",
       "  'MANEIPCNT': '1',\n",
       "  'WMEIPCNT': '1',\n",
       "  'TRDPJUBNSENM': '기타',\n",
       "  'LVSENM': '지도',\n",
       "  'WTRSPLYFACILSENM': '상수도전용',\n",
       "  'TOTEPNUM': '',\n",
       "  'HOFFEPCNT': '',\n",
       "  'FCTYOWKEPCNT': '',\n",
       "  'FCTYSILJOBEPCNT': '',\n",
       "  'FCTYPDTJOBEPCNT': '',\n",
       "  'BDNGOWNSENM': '',\n",
       "  'ISREAM': '',\n",
       "  'MONAM': '',\n",
       "  'MULTUSNUPSOYN': 'N',\n",
       "  'FACILTOTSCP': '24',\n",
       "  'JTUPSOASGNNO': '',\n",
       "  'JTUPSOMAINEDF': '',\n",
       "  'HOMEPAGE': ''},\n",
       " {'OPNSFTEAMCODE': '3130000',\n",
       "  'MGTNO': '3130000-101-1968-00757',\n",
       "  'APVPERMYMD': '19680426',\n",
       "  'APVCANCELYMD': '',\n",
       "  'TRDSTATEGBN': '03',\n",
       "  'TRDSTATENM': '폐업',\n",
       "  'DTLSTATEGBN': '02',\n",
       "  'DTLSTATENM': '폐업',\n",
       "  'DCBYMD': '20020604',\n",
       "  'CLGSTDT': '',\n",
       "  'CLGENDDT': '',\n",
       "  'ROPNYMD': '',\n",
       "  'SITETEL': '02 7127333',\n",
       "  'SITEAREA': '22.50',\n",
       "  'SITEPOSTNO': '121875',\n",
       "  'SITEWHLADDR': '서울특별시 마포구 용강동 40-1번지 ',\n",
       "  'RDNWHLADDR': '',\n",
       "  'RDNPOSTNO': '',\n",
       "  'BPLCNM': '한일정',\n",
       "  'LASTMODTS': '2002-06-05 00:00:00',\n",
       "  'UPDATEGBN': 'I',\n",
       "  'UPDATEDT': '2018-08-31 23:59:59.0',\n",
       "  'UPTAENM': '한식',\n",
       "  'X': '194986.978304208    ',\n",
       "  'Y': '448633.912588529    ',\n",
       "  'SNTUPTAENM': '한식',\n",
       "  'MANEIPCNT': '1',\n",
       "  'WMEIPCNT': '1',\n",
       "  'TRDPJUBNSENM': '기타',\n",
       "  'LVSENM': '지도',\n",
       "  'WTRSPLYFACILSENM': '상수도전용',\n",
       "  'TOTEPNUM': '',\n",
       "  'HOFFEPCNT': '',\n",
       "  'FCTYOWKEPCNT': '',\n",
       "  'FCTYSILJOBEPCNT': '',\n",
       "  'FCTYPDTJOBEPCNT': '',\n",
       "  'BDNGOWNSENM': '',\n",
       "  'ISREAM': '',\n",
       "  'MONAM': '',\n",
       "  'MULTUSNUPSOYN': 'N',\n",
       "  'FACILTOTSCP': '22.5',\n",
       "  'JTUPSOASGNNO': '',\n",
       "  'JTUPSOMAINEDF': '',\n",
       "  'HOMEPAGE': ''},\n",
       " {'OPNSFTEAMCODE': '3130000',\n",
       "  'MGTNO': '3130000-101-1969-00081',\n",
       "  'APVPERMYMD': '19691008',\n",
       "  'APVCANCELYMD': '',\n",
       "  'TRDSTATEGBN': '03',\n",
       "  'TRDSTATENM': '폐업',\n",
       "  'DTLSTATEGBN': '02',\n",
       "  'DTLSTATENM': '폐업',\n",
       "  'DCBYMD': '19991202',\n",
       "  'CLGSTDT': '',\n",
       "  'CLGENDDT': '',\n",
       "  'ROPNYMD': '',\n",
       "  'SITETEL': '02',\n",
       "  'SITEAREA': '31.19',\n",
       "  'SITEPOSTNO': '121861',\n",
       "  'SITEWHLADDR': '서울특별시 마포구 아현동 406-1번지 1층 ',\n",
       "  'RDNWHLADDR': '',\n",
       "  'RDNPOSTNO': '',\n",
       "  'BPLCNM': '태능숯불갈비',\n",
       "  'LASTMODTS': '2002-07-16 00:00:00',\n",
       "  'UPDATEGBN': 'I',\n",
       "  'UPDATEDT': '2018-08-31 23:59:59.0',\n",
       "  'UPTAENM': '한식',\n",
       "  'X': '',\n",
       "  'Y': '',\n",
       "  'SNTUPTAENM': '한식',\n",
       "  'MANEIPCNT': '2',\n",
       "  'WMEIPCNT': '0',\n",
       "  'TRDPJUBNSENM': '주택가주변',\n",
       "  'LVSENM': '을',\n",
       "  'WTRSPLYFACILSENM': '상수도전용',\n",
       "  'TOTEPNUM': '',\n",
       "  'HOFFEPCNT': '',\n",
       "  'FCTYOWKEPCNT': '',\n",
       "  'FCTYSILJOBEPCNT': '',\n",
       "  'FCTYPDTJOBEPCNT': '',\n",
       "  'BDNGOWNSENM': '',\n",
       "  'ISREAM': '',\n",
       "  'MONAM': '',\n",
       "  'MULTUSNUPSOYN': 'N',\n",
       "  'FACILTOTSCP': '31.19',\n",
       "  'JTUPSOASGNNO': '',\n",
       "  'JTUPSOMAINEDF': '',\n",
       "  'HOMEPAGE': ''},\n",
       " {'OPNSFTEAMCODE': '3130000',\n",
       "  'MGTNO': '3130000-101-1969-02300',\n",
       "  'APVPERMYMD': '19690128',\n",
       "  'APVCANCELYMD': '',\n",
       "  'TRDSTATEGBN': '03',\n",
       "  'TRDSTATENM': '폐업',\n",
       "  'DTLSTATEGBN': '02',\n",
       "  'DTLSTATENM': '폐업',\n",
       "  'DCBYMD': '20100608',\n",
       "  'CLGSTDT': '',\n",
       "  'CLGENDDT': '',\n",
       "  'ROPNYMD': '',\n",
       "  'SITETEL': '0207164495',\n",
       "  'SITEAREA': '46.46',\n",
       "  'SITEPOSTNO': '121807',\n",
       "  'SITEWHLADDR': '서울특별시 마포구 노고산동 109-21번지 ',\n",
       "  'RDNWHLADDR': '',\n",
       "  'RDNPOSTNO': '',\n",
       "  'BPLCNM': '용화루',\n",
       "  'LASTMODTS': '2009-09-08 11:49:40',\n",
       "  'UPDATEGBN': 'I',\n",
       "  'UPDATEDT': '2018-08-31 23:59:59.0',\n",
       "  'UPTAENM': '중국식',\n",
       "  'X': '194178.843497162    ',\n",
       "  'Y': '450083.32317694     ',\n",
       "  'SNTUPTAENM': '중국식',\n",
       "  'MANEIPCNT': '3',\n",
       "  'WMEIPCNT': '0',\n",
       "  'TRDPJUBNSENM': '기타',\n",
       "  'LVSENM': '지도',\n",
       "  'WTRSPLYFACILSENM': '상수도전용',\n",
       "  'TOTEPNUM': '',\n",
       "  'HOFFEPCNT': '',\n",
       "  'FCTYOWKEPCNT': '',\n",
       "  'FCTYSILJOBEPCNT': '',\n",
       "  'FCTYPDTJOBEPCNT': '',\n",
       "  'BDNGOWNSENM': '',\n",
       "  'ISREAM': '',\n",
       "  'MONAM': '',\n",
       "  'MULTUSNUPSOYN': 'N',\n",
       "  'FACILTOTSCP': '46.46',\n",
       "  'JTUPSOASGNNO': '',\n",
       "  'JTUPSOMAINEDF': '',\n",
       "  'HOMEPAGE': ''},\n",
       " {'OPNSFTEAMCODE': '3130000',\n",
       "  'MGTNO': '3130000-101-1969-03901',\n",
       "  'APVPERMYMD': '19690908',\n",
       "  'APVCANCELYMD': '',\n",
       "  'TRDSTATEGBN': '03',\n",
       "  'TRDSTATENM': '폐업',\n",
       "  'DTLSTATEGBN': '02',\n",
       "  'DTLSTATENM': '폐업',\n",
       "  'DCBYMD': '19961008',\n",
       "  'CLGSTDT': '',\n",
       "  'CLGENDDT': '',\n",
       "  'ROPNYMD': '',\n",
       "  'SITETEL': '0207121837',\n",
       "  'SITEAREA': '55.20',\n",
       "  'SITEPOSTNO': '121851',\n",
       "  'SITEWHLADDR': '서울특별시 마포구 신공덕동 27-8번지 ',\n",
       "  'RDNWHLADDR': '',\n",
       "  'RDNPOSTNO': '',\n",
       "  'BPLCNM': '사랑과이별',\n",
       "  'LASTMODTS': '2002-07-25 00:00:00',\n",
       "  'UPDATEGBN': 'I',\n",
       "  'UPDATEDT': '2018-08-31 23:59:59.0',\n",
       "  'UPTAENM': '한식',\n",
       "  'X': '195781.417843942    ',\n",
       "  'Y': '449054.532533923    ',\n",
       "  'SNTUPTAENM': '한식',\n",
       "  'MANEIPCNT': '1',\n",
       "  'WMEIPCNT': '1',\n",
       "  'TRDPJUBNSENM': '기타',\n",
       "  'LVSENM': '지도',\n",
       "  'WTRSPLYFACILSENM': '상수도전용',\n",
       "  'TOTEPNUM': '',\n",
       "  'HOFFEPCNT': '',\n",
       "  'FCTYOWKEPCNT': '',\n",
       "  'FCTYSILJOBEPCNT': '',\n",
       "  'FCTYPDTJOBEPCNT': '',\n",
       "  'BDNGOWNSENM': '',\n",
       "  'ISREAM': '',\n",
       "  'MONAM': '',\n",
       "  'MULTUSNUPSOYN': 'N',\n",
       "  'FACILTOTSCP': '55.2',\n",
       "  'JTUPSOASGNNO': '',\n",
       "  'JTUPSOMAINEDF': '',\n",
       "  'HOMEPAGE': ''}]"
      ]
     },
     "execution_count": 10,
     "metadata": {},
     "output_type": "execute_result"
    }
   ],
   "source": [
    "#음식점 정보\n",
    "result['LOCALDATA_072404_MP']['row']"
   ]
  },
  {
   "cell_type": "markdown",
   "id": "1ad1185d-4723-4993-be83-61b9a828f14d",
   "metadata": {},
   "source": [
    "1회 요청 당 최대 1000건의 마포구 음식점 인허가 정보를 가져오는 코드를 작성합니다."
   ]
  },
  {
   "cell_type": "code",
   "execution_count": 11,
   "id": "d8d73a68-10fe-4ef3-bd41-8239b9089e41",
   "metadata": {},
   "outputs": [
    {
     "data": {
      "text/plain": [
       "28"
      ]
     },
     "execution_count": 11,
     "metadata": {},
     "output_type": "execute_result"
    }
   ],
   "source": [
    "rows = 1000\n",
    "start = 0\n",
    "end = start+rows\n",
    "n_times = total_rows // rows + 1\n",
    "n_times"
   ]
  },
  {
   "cell_type": "code",
   "execution_count": 12,
   "id": "42fde88d-a1a8-4dd2-9b29-7e4ecb627ded",
   "metadata": {
    "scrolled": true
   },
   "outputs": [
    {
     "name": "stdout",
     "output_type": "stream",
     "text": [
      "http://openapi.seoul.go.kr:8088/4f66414841706f693732434c437457/json/LOCALDATA_072404_MP/1/1000/\n",
      "http://openapi.seoul.go.kr:8088/4f66414841706f693732434c437457/json/LOCALDATA_072404_MP/1001/2000/\n",
      "http://openapi.seoul.go.kr:8088/4f66414841706f693732434c437457/json/LOCALDATA_072404_MP/2001/3000/\n",
      "http://openapi.seoul.go.kr:8088/4f66414841706f693732434c437457/json/LOCALDATA_072404_MP/3001/4000/\n",
      "http://openapi.seoul.go.kr:8088/4f66414841706f693732434c437457/json/LOCALDATA_072404_MP/4001/5000/\n",
      "http://openapi.seoul.go.kr:8088/4f66414841706f693732434c437457/json/LOCALDATA_072404_MP/5001/6000/\n",
      "http://openapi.seoul.go.kr:8088/4f66414841706f693732434c437457/json/LOCALDATA_072404_MP/6001/7000/\n",
      "http://openapi.seoul.go.kr:8088/4f66414841706f693732434c437457/json/LOCALDATA_072404_MP/7001/8000/\n",
      "http://openapi.seoul.go.kr:8088/4f66414841706f693732434c437457/json/LOCALDATA_072404_MP/8001/9000/\n",
      "http://openapi.seoul.go.kr:8088/4f66414841706f693732434c437457/json/LOCALDATA_072404_MP/9001/10000/\n",
      "http://openapi.seoul.go.kr:8088/4f66414841706f693732434c437457/json/LOCALDATA_072404_MP/10001/11000/\n",
      "http://openapi.seoul.go.kr:8088/4f66414841706f693732434c437457/json/LOCALDATA_072404_MP/11001/12000/\n",
      "http://openapi.seoul.go.kr:8088/4f66414841706f693732434c437457/json/LOCALDATA_072404_MP/12001/13000/\n",
      "http://openapi.seoul.go.kr:8088/4f66414841706f693732434c437457/json/LOCALDATA_072404_MP/13001/14000/\n",
      "http://openapi.seoul.go.kr:8088/4f66414841706f693732434c437457/json/LOCALDATA_072404_MP/14001/15000/\n",
      "http://openapi.seoul.go.kr:8088/4f66414841706f693732434c437457/json/LOCALDATA_072404_MP/15001/16000/\n",
      "http://openapi.seoul.go.kr:8088/4f66414841706f693732434c437457/json/LOCALDATA_072404_MP/16001/17000/\n",
      "http://openapi.seoul.go.kr:8088/4f66414841706f693732434c437457/json/LOCALDATA_072404_MP/17001/18000/\n",
      "http://openapi.seoul.go.kr:8088/4f66414841706f693732434c437457/json/LOCALDATA_072404_MP/18001/19000/\n",
      "http://openapi.seoul.go.kr:8088/4f66414841706f693732434c437457/json/LOCALDATA_072404_MP/19001/20000/\n",
      "http://openapi.seoul.go.kr:8088/4f66414841706f693732434c437457/json/LOCALDATA_072404_MP/20001/21000/\n",
      "http://openapi.seoul.go.kr:8088/4f66414841706f693732434c437457/json/LOCALDATA_072404_MP/21001/22000/\n",
      "http://openapi.seoul.go.kr:8088/4f66414841706f693732434c437457/json/LOCALDATA_072404_MP/22001/23000/\n",
      "http://openapi.seoul.go.kr:8088/4f66414841706f693732434c437457/json/LOCALDATA_072404_MP/23001/24000/\n",
      "http://openapi.seoul.go.kr:8088/4f66414841706f693732434c437457/json/LOCALDATA_072404_MP/24001/25000/\n",
      "http://openapi.seoul.go.kr:8088/4f66414841706f693732434c437457/json/LOCALDATA_072404_MP/25001/26000/\n",
      "http://openapi.seoul.go.kr:8088/4f66414841706f693732434c437457/json/LOCALDATA_072404_MP/26001/27000/\n",
      "http://openapi.seoul.go.kr:8088/4f66414841706f693732434c437457/json/LOCALDATA_072404_MP/27001/28000/\n"
     ]
    }
   ],
   "source": [
    "import random\n",
    "import time\n",
    "\n",
    "\n",
    "lines = []\n",
    "for _ in range(n_times):\n",
    "    \n",
    "#요청 url만들기(for 반복문)    \n",
    "    try : \n",
    "        url = f'{base_url}{CERT_KEY}/json/LOCALDATA_072404_MP/{start+1}/{end}/'\n",
    "        print(url)\n",
    "        response = requests.get(url)\n",
    "        result = response.json()\n",
    "    \n",
    "        \n",
    "        for row in result['LOCALDATA_072404_MP']['row']:\n",
    "            line = []\n",
    "            if row['TRDSTATENM'] == '영업/정상':\n",
    "                line.append(row['TRDSTATENM'])\n",
    "                line.append(row['SITEWHLADDR'])\n",
    "                line.append(row['BPLCNM'])\n",
    "                line.append(row['UPTAENM'])\n",
    "                line.append(row['X'])\n",
    "                line.append(row['Y'])\n",
    "                lines.append(line)\n",
    "      \n",
    "        \n",
    "    #예외 검사\n",
    "    except Exception as e:\n",
    "        print(f'{type(e)} :{e}')\n",
    "   \n",
    "    #예외가 발생하든 말든 수행 : 다음 루프 수행 TERM 만들기\n",
    "    finally:\n",
    "        start = end\n",
    "        end = start + rows\n",
    "        time.sleep(random.random() * 3)\n",
    "        \n",
    "        "
   ]
  },
  {
   "cell_type": "code",
   "execution_count": 18,
   "id": "1fce7cac-2e26-4adc-811b-3bf4bea17088",
   "metadata": {},
   "outputs": [
    {
     "data": {
      "text/plain": [
       "8491"
      ]
     },
     "execution_count": 18,
     "metadata": {},
     "output_type": "execute_result"
    }
   ],
   "source": [
    "#영업상태 영업/정상 음식점 수\n",
    "\n",
    "len(lines)"
   ]
  },
  {
   "cell_type": "code",
   "execution_count": 15,
   "id": "5bb33ccb-4d3a-4dbf-9ad0-70553a9c4d50",
   "metadata": {},
   "outputs": [],
   "source": [
    "with open(\"마포구 음식점 정보.csv\",\"w\",encoding='utf-8', newline=\"\")as f:\n",
    "    csv_writer = csv.writer(f)\n",
    "    #헤더 정보 넣기\n",
    "    csv_writer.writerow(['영업상태명', '지번주소', '사업장명', '업태구분명', '좌표정보(X)','좌표정보(Y)'])\n",
    "    for line in lines:\n",
    "        csv_writer.writerow(line)"
   ]
  },
  {
   "cell_type": "code",
   "execution_count": 16,
   "id": "0c8f1c53-406e-416f-8236-e7273b236ea2",
   "metadata": {},
   "outputs": [],
   "source": [
    "import mapo as mp"
   ]
  },
  {
   "cell_type": "code",
   "execution_count": 17,
   "id": "31186b96-6a0c-40eb-b11d-b2d59a832987",
   "metadata": {
    "scrolled": true
   },
   "outputs": [
    {
     "name": "stderr",
     "output_type": "stream",
     "text": [
      "2023-11-16 17:44:17,412 - mapo - DEBUG - get_dong()...\n",
      "2023-11-16 17:44:17,452 - mapo - DEBUG - df :       영업상태명                            지번주소          사업장명  업태구분명  \\\n",
      "0     영업/정상  서울특별시 마포구 용강동 494-61번지 2층, 3층            부영각    중국식   \n",
      "1     영업/정상           서울특별시 마포구 용강동 40-1번지            태순집     한식   \n",
      "2     영업/정상          서울특별시 마포구 용강동 50-14번지         마포옥하우스     한식   \n",
      "3     영업/정상            서울특별시 마포구 도화동 179-7           도화곱창     한식   \n",
      "4     영업/정상             서울특별시 마포구 용강동 43-2           조박집투  호프/통닭   \n",
      "...     ...                             ...           ...    ...   \n",
      "8486  영업/정상             서울특별시 마포구 상수동 144-1       발레 블랙노즈     기타   \n",
      "8487  영업/정상            서울특별시 마포구 연남동 252-17  블루보틀커피코리아 연남     기타   \n",
      "8488  영업/정상             서울특별시 마포구 동교동 177-8    아이니드케이크 홍대     기타   \n",
      "8489  영업/정상             서울특별시 마포구 서교동 403-1      멕시카나 홍대점  호프/통닭   \n",
      "8490  영업/정상             서울특별시 마포구 상수동 339-3   김영자 한우 나주곰탕     한식   \n",
      "\n",
      "            좌표정보(X)        좌표정보(Y)  \n",
      "0     194584.258580  448920.303378  \n",
      "1     194986.978304  448633.912589  \n",
      "2     194923.164555  448625.162714  \n",
      "3     195461.952407  448786.713120  \n",
      "4     194942.826260  448658.095467  \n",
      "...             ...            ...  \n",
      "8486  193075.119473  449587.557051  \n",
      "8487  193078.414006  451185.881378  \n",
      "8488  193686.050099  450490.584990  \n",
      "8489  192935.990697  449763.484722  \n",
      "8490  193060.858307  449230.835951  \n",
      "\n",
      "[8491 rows x 6 columns]\n",
      "2023-11-16 17:44:17,468 - mapo - DEBUG - 법정동 : 0       용강동\n",
      "1       용강동\n",
      "2       용강동\n",
      "3       도화동\n",
      "4       용강동\n",
      "       ... \n",
      "8486    상수동\n",
      "8487    연남동\n",
      "8488    동교동\n",
      "8489    서교동\n",
      "8490    상수동\n",
      "Name: 법정동, Length: 8491, dtype: object\n",
      "2023-11-16 17:44:17,530 - mapo - DEBUG - df :       영업상태명                            지번주소          사업장명  업태구분명  \\\n",
      "0     영업/정상  서울특별시 마포구 용강동 494-61번지 2층, 3층            부영각    중국식   \n",
      "1     영업/정상           서울특별시 마포구 용강동 40-1번지            태순집     한식   \n",
      "2     영업/정상          서울특별시 마포구 용강동 50-14번지         마포옥하우스     한식   \n",
      "3     영업/정상            서울특별시 마포구 도화동 179-7           도화곱창     한식   \n",
      "4     영업/정상             서울특별시 마포구 용강동 43-2           조박집투  호프/통닭   \n",
      "...     ...                             ...           ...    ...   \n",
      "8486  영업/정상             서울특별시 마포구 상수동 144-1       발레 블랙노즈     기타   \n",
      "8487  영업/정상            서울특별시 마포구 연남동 252-17  블루보틀커피코리아 연남     기타   \n",
      "8488  영업/정상             서울특별시 마포구 동교동 177-8    아이니드케이크 홍대     기타   \n",
      "8489  영업/정상             서울특별시 마포구 서교동 403-1      멕시카나 홍대점  호프/통닭   \n",
      "8490  영업/정상             서울특별시 마포구 상수동 339-3   김영자 한우 나주곰탕     한식   \n",
      "\n",
      "            좌표정보(X)        좌표정보(Y)  법정동  \n",
      "0     194584.258580  448920.303378  용강동  \n",
      "1     194986.978304  448633.912589  용강동  \n",
      "2     194923.164555  448625.162714  용강동  \n",
      "3     195461.952407  448786.713120  도화동  \n",
      "4     194942.826260  448658.095467  용강동  \n",
      "...             ...            ...  ...  \n",
      "8486  193075.119473  449587.557051  상수동  \n",
      "8487  193078.414006  451185.881378  연남동  \n",
      "8488  193686.050099  450490.584990  동교동  \n",
      "8489  192935.990697  449763.484722  서교동  \n",
      "8490  193060.858307  449230.835951  상수동  \n",
      "\n",
      "[8491 rows x 7 columns]\n"
     ]
    }
   ],
   "source": [
    "mp.get_bjdong('마포구 음식점 정보.csv','지번주소','마포구 음식점 정보 법정동.csv')"
   ]
  },
  {
   "cell_type": "code",
   "execution_count": null,
   "id": "98d0c79f-1a3d-47ef-a7f7-8edcf006645f",
   "metadata": {},
   "outputs": [],
   "source": [
    "import pandas as pd\n",
    "df = pd.read_csv('마포구 음식점 정보 법정동.csv')\n",
    "df"
   ]
  },
  {
   "cell_type": "code",
   "execution_count": null,
   "id": "1f7ccbc5-e62d-4085-b401-b0d0bb1d45fc",
   "metadata": {},
   "outputs": [],
   "source": [
    "column_to_remove = '영업상태명'\n",
    "df = df.drop(column_to_remove, axis=1)\n",
    "df"
   ]
  },
  {
   "cell_type": "code",
   "execution_count": null,
   "id": "3d66cc3f-e211-45ef-8fcf-b9deaa642bb2",
   "metadata": {},
   "outputs": [],
   "source": [
    "df.to_csv('마포구 음식점 정보 최종.csv',index=False)"
   ]
  },
  {
   "cell_type": "code",
   "execution_count": 6,
   "id": "be2cd3f5-0917-4c4e-a6c7-4dd6f2f4b8ca",
   "metadata": {},
   "outputs": [
    {
     "data": {
      "text/plain": [
       "8490"
      ]
     },
     "execution_count": 6,
     "metadata": {},
     "output_type": "execute_result"
    }
   ],
   "source": [
    "import mapo as mp\n",
    "mp.to_sql('마포구 음식점 정보 최종.csv','restaurant_')"
   ]
  },
  {
   "cell_type": "code",
   "execution_count": 7,
   "id": "2b3f6f71-b609-4439-8822-7baf56acb67d",
   "metadata": {},
   "outputs": [
    {
     "name": "stdout",
     "output_type": "stream",
     "text": [
      "null값이 존재\n"
     ]
    }
   ],
   "source": [
    "import pandas as pd\n",
    "\n",
    "df = pd.read_csv('마포구 음식점 정보 최종.csv')\n",
    "null_values = df['지번주소'].isnull().any()\n",
    "\n",
    "if null_values:\n",
    "\tprint(\"null값이 존재\")\n",
    "else:\n",
    "\tprint(\"존재하지 않음\")"
   ]
  },
  {
   "cell_type": "code",
   "execution_count": null,
   "id": "3a4dbb8e-b4ea-404d-ad0b-85cc45de0aa0",
   "metadata": {},
   "outputs": [],
   "source": []
  },
  {
   "cell_type": "code",
   "execution_count": null,
   "id": "3113fd83-6a4a-4d34-9f62-9fceebbafda5",
   "metadata": {},
   "outputs": [],
   "source": []
  }
 ],
 "metadata": {
  "kernelspec": {
   "display_name": "Python 3 (ipykernel)",
   "language": "python",
   "name": "python3"
  },
  "language_info": {
   "codemirror_mode": {
    "name": "ipython",
    "version": 3
   },
   "file_extension": ".py",
   "mimetype": "text/x-python",
   "name": "python",
   "nbconvert_exporter": "python",
   "pygments_lexer": "ipython3",
   "version": "3.10.13"
  }
 },
 "nbformat": 4,
 "nbformat_minor": 5
}
