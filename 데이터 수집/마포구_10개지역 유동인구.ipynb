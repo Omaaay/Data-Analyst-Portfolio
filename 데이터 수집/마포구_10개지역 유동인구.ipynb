{
 "cells": [
  {
   "cell_type": "code",
   "execution_count": 1,
   "id": "51fc0fcf-da05-47f8-a3f4-70fab5d9056d",
   "metadata": {},
   "outputs": [
    {
     "name": "stdout",
     "output_type": "stream",
     "text": [
      "bs4 : 4.12.2\n",
      "requests : 2.31.0\n"
     ]
    }
   ],
   "source": [
    "import csv\n",
    "import bs4\n",
    "from bs4 import BeautifulSoup\n",
    "import requests\n",
    "\n",
    "\n",
    "print(f'bs4 : {bs4.__version__}')\n",
    "print(f'requests : {requests.__version__}')"
   ]
  },
  {
   "cell_type": "code",
   "execution_count": 8,
   "id": "87144a1b-58f1-461c-8890-e3143b9ff232",
   "metadata": {},
   "outputs": [],
   "source": [
    "base_url = 'http://apis.data.go.kr/3130000/openapi/floatingPopulation/getfloatingPopulation'\n",
    "CERT_KEY = 'Gk79Sq8AtJ1c5CsN31uLMqmmx7cbwJg8dNa6GSYpMbanbXm0k9aStvYRa%2FSlZ99mFbgFnmfEFEwH0P6axICa0g%3D%3D'"
   ]
  },
  {
   "cell_type": "code",
   "execution_count": 9,
   "id": "71719568-3cdd-46ed-9456-4278266125a9",
   "metadata": {},
   "outputs": [],
   "source": [
    "location=['대흥역인근','DMC청구아파트인근','서교동1','서교동2','서울여자고등학교인근','성산시영아파트인근','합정역메세나폴리스인근','연남동빌라밀집지역','마포자이아파트인근','디지털미디어시티인근주거밀집지역']"
   ]
  },
  {
   "cell_type": "code",
   "execution_count": 10,
   "id": "27910678-caad-4d3b-b3ee-57b0fe24ae01",
   "metadata": {},
   "outputs": [],
   "source": [
    "serviceKey= CERT_KEY\n",
    "numOfRows='10'\n",
    "pageNo='0'\n",
    "sortKey='addr'\n",
    "filterKey='addr'\n",
    "filterValues=location[3]\n",
    "type='json'\n"
   ]
  },
  {
   "cell_type": "code",
   "execution_count": 11,
   "id": "c2a12a0e-7093-4131-90cd-7018179fbc4d",
   "metadata": {},
   "outputs": [],
   "source": [
    "url=f'{base_url}?serviceKey={serviceKey}&numOfRows={numOfRows}&pageNo={pageNo}&sortKey={sortKey}&filterKey={filterKey}&filterValues={filterValues}&type={type}'"
   ]
  },
  {
   "cell_type": "code",
   "execution_count": 12,
   "id": "9dfe575a-3d65-4af0-b720-f3dbe2421b78",
   "metadata": {},
   "outputs": [
    {
     "data": {
      "text/plain": [
       "'http://apis.data.go.kr/3130000/openapi/floatingPopulation/getfloatingPopulation?serviceKey=Gk79Sq8AtJ1c5CsN31uLMqmmx7cbwJg8dNa6GSYpMbanbXm0k9aStvYRa%2FSlZ99mFbgFnmfEFEwH0P6axICa0g%3D%3D&numOfRows=10&pageNo=0&sortKey=addr&filterKey=addr&filterValues=서교동2&type=json'"
      ]
     },
     "execution_count": 12,
     "metadata": {},
     "output_type": "execute_result"
    }
   ],
   "source": [
    "url"
   ]
  },
  {
   "cell_type": "code",
   "execution_count": 8,
   "id": "6d5c1202-ea8f-4c21-a5ba-247f71457b6a",
   "metadata": {
    "scrolled": true
   },
   "outputs": [
    {
     "data": {
      "text/plain": [
       "{'resultCode': '0',\n",
       " 'resultMsg': 'SUCCESS',\n",
       " 'numOfRows': 10,\n",
       " 'pageNo': 0,\n",
       " 'totalCount': 31,\n",
       " 'items': [{'grid_id': '3064',\n",
       "   '_left': '304227.0002',\n",
       "   'top': '550918.0001',\n",
       "   '_right': '304327.0002',\n",
       "   'bottom': '550818.0001',\n",
       "   '_14age': '22.9076776',\n",
       "   '_20_50T21_': '151.8639344',\n",
       "   '_65age_': '169.7138798',\n",
       "   '_20_60T9_18': '1691.906298',\n",
       "   'weekend': '2222.273558',\n",
       "   'addr': '서교동2'},\n",
       "  {'grid_id': '3065',\n",
       "   '_left': '304227.0002',\n",
       "   'top': '550818.0001',\n",
       "   '_right': '304327.0002',\n",
       "   'bottom': '550718.0001',\n",
       "   '_14age': '25.93079235',\n",
       "   '_20_50T21_': '193.7151093',\n",
       "   '_65age_': '209.7027049',\n",
       "   '_20_60T9_18': '2102.580458',\n",
       "   'weekend': '2818.637596',\n",
       "   'addr': '서교동2'},\n",
       "  {'grid_id': '3066',\n",
       "   '_left': '304227.0002',\n",
       "   'top': '550718.0001',\n",
       "   '_right': '304327.0002',\n",
       "   'bottom': '550618.0001',\n",
       "   '_14age': '20.18237705',\n",
       "   '_20_50T21_': '171.7596721',\n",
       "   '_65age_': '177.6382514',\n",
       "   '_20_60T9_18': '1781.841183',\n",
       "   'weekend': '2396.107788',\n",
       "   'addr': '서교동2'},\n",
       "  {'grid_id': '3126',\n",
       "   '_left': '304327.0002',\n",
       "   'top': '551018.0001',\n",
       "   '_right': '304427.0002',\n",
       "   'bottom': '550918.0001',\n",
       "   '_14age': '24.22442623',\n",
       "   '_20_50T21_': '162.1754918',\n",
       "   '_65age_': '186.1539071',\n",
       "   '_20_60T9_18': '1734.548244',\n",
       "   'weekend': '2378.681538',\n",
       "   'addr': '서교동2'},\n",
       "  {'grid_id': '3127',\n",
       "   '_left': '304327.0002',\n",
       "   'top': '550918.0001',\n",
       "   '_right': '304427.0002',\n",
       "   'bottom': '550818.0001',\n",
       "   '_14age': '21.41273224',\n",
       "   '_20_50T21_': '142.9630874',\n",
       "   '_65age_': '161.3781421',\n",
       "   '_20_60T9_18': '1638.329237',\n",
       "   'weekend': '2107.597596',\n",
       "   'addr': '서교동2'},\n",
       "  {'grid_id': '3128',\n",
       "   '_left': '304327.0002',\n",
       "   'top': '550818.0001',\n",
       "   '_right': '304427.0002',\n",
       "   'bottom': '550718.0001',\n",
       "   '_14age': '22.5579235',\n",
       "   '_20_50T21_': '164.9272404',\n",
       "   '_65age_': '179.7083607',\n",
       "   '_20_60T9_18': '1801.881756',\n",
       "   'weekend': '2414.498654',\n",
       "   'addr': '서교동2'},\n",
       "  {'grid_id': '3129',\n",
       "   '_left': '304327.0002',\n",
       "   'top': '550718.0001',\n",
       "   '_right': '304427.0002',\n",
       "   'bottom': '550618.0001',\n",
       "   '_14age': '22.55103825',\n",
       "   '_20_50T21_': '192.4181694',\n",
       "   '_65age_': '199.2978415',\n",
       "   '_20_60T9_18': '1987.160382',\n",
       "   'weekend': '2717.364808',\n",
       "   'addr': '서교동2'},\n",
       "  {'grid_id': '3130',\n",
       "   '_left': '304327.0002',\n",
       "   'top': '550618.0001',\n",
       "   '_right': '304427.0002',\n",
       "   'bottom': '550518.0001',\n",
       "   '_14age': '19.7236612',\n",
       "   '_20_50T21_': '166.5010929',\n",
       "   '_65age_': '172.4733333',\n",
       "   '_20_60T9_18': '1722.349351',\n",
       "   'weekend': '2339.558077',\n",
       "   'addr': '서교동2'},\n",
       "  {'grid_id': '3189',\n",
       "   '_left': '304427.0002',\n",
       "   'top': '551018.0001',\n",
       "   '_right': '304527.0002',\n",
       "   'bottom': '550918.0001',\n",
       "   '_14age': '14.44259563',\n",
       "   '_20_50T21_': '100.2639618',\n",
       "   '_65age_': '129.5085519',\n",
       "   '_20_60T9_18': '965.8342366',\n",
       "   'weekend': '1505.001827',\n",
       "   'addr': '서교동2'},\n",
       "  {'grid_id': '3190',\n",
       "   '_left': '304427.0002',\n",
       "   'top': '550918.0001',\n",
       "   '_right': '304527.0002',\n",
       "   'bottom': '550818.0001',\n",
       "   '_14age': '27.50702186',\n",
       "   '_20_50T21_': '184.0241257',\n",
       "   '_65age_': '207.7864208',\n",
       "   '_20_60T9_18': '2093.620878',\n",
       "   'weekend': '2766.914519',\n",
       "   'addr': '서교동2'}]}"
      ]
     },
     "execution_count": 8,
     "metadata": {},
     "output_type": "execute_result"
    }
   ],
   "source": [
    "response = requests.get(url)\n",
    "result=response.json()\n",
    "result\n",
    "\n",
    "#response = requests.get(url, params=params)\n",
    "#print(response.content)"
   ]
  },
  {
   "cell_type": "code",
   "execution_count": 9,
   "id": "f235c3b1-3acf-4451-8459-7e9577ea1765",
   "metadata": {},
   "outputs": [
    {
     "data": {
      "text/plain": [
       "dict_keys(['resultCode', 'resultMsg', 'numOfRows', 'pageNo', 'totalCount', 'items'])"
      ]
     },
     "execution_count": 9,
     "metadata": {},
     "output_type": "execute_result"
    }
   ],
   "source": [
    "result.keys()"
   ]
  },
  {
   "cell_type": "code",
   "execution_count": 13,
   "id": "98436fa1-5191-43bf-aa4c-159ae424519d",
   "metadata": {},
   "outputs": [
    {
     "data": {
      "text/plain": [
       "31"
      ]
     },
     "execution_count": 13,
     "metadata": {},
     "output_type": "execute_result"
    }
   ],
   "source": [
    "#장소(서교동2)의 총 데이터 갯수\n",
    "total_rows=result['totalCount']\n",
    "total_rows"
   ]
  },
  {
   "cell_type": "code",
   "execution_count": 15,
   "id": "416353fe-283a-4f9a-8b3a-0fad7f095c9f",
   "metadata": {
    "scrolled": true
   },
   "outputs": [
    {
     "data": {
      "text/plain": [
       "[{'grid_id': '3064',\n",
       "  '_left': '304227.0002',\n",
       "  'top': '550918.0001',\n",
       "  '_right': '304327.0002',\n",
       "  'bottom': '550818.0001',\n",
       "  '_14age': '22.9076776',\n",
       "  '_20_50T21_': '151.8639344',\n",
       "  '_65age_': '169.7138798',\n",
       "  '_20_60T9_18': '1691.906298',\n",
       "  'weekend': '2222.273558',\n",
       "  'addr': '서교동2'},\n",
       " {'grid_id': '3065',\n",
       "  '_left': '304227.0002',\n",
       "  'top': '550818.0001',\n",
       "  '_right': '304327.0002',\n",
       "  'bottom': '550718.0001',\n",
       "  '_14age': '25.93079235',\n",
       "  '_20_50T21_': '193.7151093',\n",
       "  '_65age_': '209.7027049',\n",
       "  '_20_60T9_18': '2102.580458',\n",
       "  'weekend': '2818.637596',\n",
       "  'addr': '서교동2'},\n",
       " {'grid_id': '3066',\n",
       "  '_left': '304227.0002',\n",
       "  'top': '550718.0001',\n",
       "  '_right': '304327.0002',\n",
       "  'bottom': '550618.0001',\n",
       "  '_14age': '20.18237705',\n",
       "  '_20_50T21_': '171.7596721',\n",
       "  '_65age_': '177.6382514',\n",
       "  '_20_60T9_18': '1781.841183',\n",
       "  'weekend': '2396.107788',\n",
       "  'addr': '서교동2'},\n",
       " {'grid_id': '3126',\n",
       "  '_left': '304327.0002',\n",
       "  'top': '551018.0001',\n",
       "  '_right': '304427.0002',\n",
       "  'bottom': '550918.0001',\n",
       "  '_14age': '24.22442623',\n",
       "  '_20_50T21_': '162.1754918',\n",
       "  '_65age_': '186.1539071',\n",
       "  '_20_60T9_18': '1734.548244',\n",
       "  'weekend': '2378.681538',\n",
       "  'addr': '서교동2'},\n",
       " {'grid_id': '3127',\n",
       "  '_left': '304327.0002',\n",
       "  'top': '550918.0001',\n",
       "  '_right': '304427.0002',\n",
       "  'bottom': '550818.0001',\n",
       "  '_14age': '21.41273224',\n",
       "  '_20_50T21_': '142.9630874',\n",
       "  '_65age_': '161.3781421',\n",
       "  '_20_60T9_18': '1638.329237',\n",
       "  'weekend': '2107.597596',\n",
       "  'addr': '서교동2'},\n",
       " {'grid_id': '3128',\n",
       "  '_left': '304327.0002',\n",
       "  'top': '550818.0001',\n",
       "  '_right': '304427.0002',\n",
       "  'bottom': '550718.0001',\n",
       "  '_14age': '22.5579235',\n",
       "  '_20_50T21_': '164.9272404',\n",
       "  '_65age_': '179.7083607',\n",
       "  '_20_60T9_18': '1801.881756',\n",
       "  'weekend': '2414.498654',\n",
       "  'addr': '서교동2'},\n",
       " {'grid_id': '3129',\n",
       "  '_left': '304327.0002',\n",
       "  'top': '550718.0001',\n",
       "  '_right': '304427.0002',\n",
       "  'bottom': '550618.0001',\n",
       "  '_14age': '22.55103825',\n",
       "  '_20_50T21_': '192.4181694',\n",
       "  '_65age_': '199.2978415',\n",
       "  '_20_60T9_18': '1987.160382',\n",
       "  'weekend': '2717.364808',\n",
       "  'addr': '서교동2'},\n",
       " {'grid_id': '3130',\n",
       "  '_left': '304327.0002',\n",
       "  'top': '550618.0001',\n",
       "  '_right': '304427.0002',\n",
       "  'bottom': '550518.0001',\n",
       "  '_14age': '19.7236612',\n",
       "  '_20_50T21_': '166.5010929',\n",
       "  '_65age_': '172.4733333',\n",
       "  '_20_60T9_18': '1722.349351',\n",
       "  'weekend': '2339.558077',\n",
       "  'addr': '서교동2'},\n",
       " {'grid_id': '3189',\n",
       "  '_left': '304427.0002',\n",
       "  'top': '551018.0001',\n",
       "  '_right': '304527.0002',\n",
       "  'bottom': '550918.0001',\n",
       "  '_14age': '14.44259563',\n",
       "  '_20_50T21_': '100.2639618',\n",
       "  '_65age_': '129.5085519',\n",
       "  '_20_60T9_18': '965.8342366',\n",
       "  'weekend': '1505.001827',\n",
       "  'addr': '서교동2'},\n",
       " {'grid_id': '3190',\n",
       "  '_left': '304427.0002',\n",
       "  'top': '550918.0001',\n",
       "  '_right': '304527.0002',\n",
       "  'bottom': '550818.0001',\n",
       "  '_14age': '27.50702186',\n",
       "  '_20_50T21_': '184.0241257',\n",
       "  '_65age_': '207.7864208',\n",
       "  '_20_60T9_18': '2093.620878',\n",
       "  'weekend': '2766.914519',\n",
       "  'addr': '서교동2'}]"
      ]
     },
     "execution_count": 15,
     "metadata": {},
     "output_type": "execute_result"
    }
   ],
   "source": [
    "#장소(서교동2)의 유동인구 데이터\n",
    "result['items']"
   ]
  },
  {
   "cell_type": "code",
   "execution_count": null,
   "id": "6e561341-2da7-4559-9eab-9d6a7c4c6fe8",
   "metadata": {},
   "outputs": [],
   "source": []
  },
  {
   "cell_type": "code",
   "execution_count": 19,
   "id": "5c5a89a4-b2e6-40cb-80e4-a7b23b460071",
   "metadata": {},
   "outputs": [],
   "source": [
    "location=['대흥역인근','DMC청구아파트인근','서교동1','서교동2','서울여자고등학교인근','성산시영아파트인근','합정역메세나폴리스인근','연남동빌라밀집지역','마포자이아파트인근','디지털미디어시티인근주거밀집지역']"
   ]
  },
  {
   "cell_type": "markdown",
   "id": "b065528a-1a5d-454e-9fe9-ced545127e61",
   "metadata": {},
   "source": [
    "각 장소 당 데이터를 전부를 가져오는 코드를 작성합니다."
   ]
  },
  {
   "cell_type": "code",
   "execution_count": 25,
   "id": "fe5f73dd-042f-40a9-b555-03544a9983e6",
   "metadata": {},
   "outputs": [
    {
     "data": {
      "text/plain": [
       "1"
      ]
     },
     "execution_count": 25,
     "metadata": {},
     "output_type": "execute_result"
    }
   ],
   "source": [
    "url=f'{base_url}?serviceKey={serviceKey}&numOfRows=1&pageNo=0&sortKey={sortKey}&filterKey={filterKey}&filterValues={place}&type={type}'\n",
    "response = requests.get(url)\n",
    "result = response.json()\n",
    "total_rows=result['totalCount']\n",
    "\n",
    "rows = 1000\n",
    "n_times = total_rows // rows +1\n",
    "n_times\n"
   ]
  },
  {
   "cell_type": "code",
   "execution_count": 26,
   "id": "42fde88d-a1a8-4dd2-9b29-7e4ecb627ded",
   "metadata": {
    "scrolled": true
   },
   "outputs": [
    {
     "name": "stdout",
     "output_type": "stream",
     "text": [
      "http://apis.data.go.kr/3130000/openapi/floatingPopulation/getfloatingPopulation?serviceKey=Gk79Sq8AtJ1c5CsN31uLMqmmx7cbwJg8dNa6GSYpMbanbXm0k9aStvYRa%2FSlZ99mFbgFnmfEFEwH0P6axICa0g%3D%3D&numOfRows=30&pageNo=0&sortKey=addr&filterKey=addr&filterValues=대흥역인근&type=json\n",
      "http://apis.data.go.kr/3130000/openapi/floatingPopulation/getfloatingPopulation?serviceKey=Gk79Sq8AtJ1c5CsN31uLMqmmx7cbwJg8dNa6GSYpMbanbXm0k9aStvYRa%2FSlZ99mFbgFnmfEFEwH0P6axICa0g%3D%3D&numOfRows=24&pageNo=0&sortKey=addr&filterKey=addr&filterValues=DMC청구아파트인근&type=json\n",
      "http://apis.data.go.kr/3130000/openapi/floatingPopulation/getfloatingPopulation?serviceKey=Gk79Sq8AtJ1c5CsN31uLMqmmx7cbwJg8dNa6GSYpMbanbXm0k9aStvYRa%2FSlZ99mFbgFnmfEFEwH0P6axICa0g%3D%3D&numOfRows=30&pageNo=0&sortKey=addr&filterKey=addr&filterValues=서교동1&type=json\n",
      "http://apis.data.go.kr/3130000/openapi/floatingPopulation/getfloatingPopulation?serviceKey=Gk79Sq8AtJ1c5CsN31uLMqmmx7cbwJg8dNa6GSYpMbanbXm0k9aStvYRa%2FSlZ99mFbgFnmfEFEwH0P6axICa0g%3D%3D&numOfRows=31&pageNo=0&sortKey=addr&filterKey=addr&filterValues=서교동2&type=json\n",
      "http://apis.data.go.kr/3130000/openapi/floatingPopulation/getfloatingPopulation?serviceKey=Gk79Sq8AtJ1c5CsN31uLMqmmx7cbwJg8dNa6GSYpMbanbXm0k9aStvYRa%2FSlZ99mFbgFnmfEFEwH0P6axICa0g%3D%3D&numOfRows=30&pageNo=0&sortKey=addr&filterKey=addr&filterValues=서울여자고등학교인근&type=json\n",
      "http://apis.data.go.kr/3130000/openapi/floatingPopulation/getfloatingPopulation?serviceKey=Gk79Sq8AtJ1c5CsN31uLMqmmx7cbwJg8dNa6GSYpMbanbXm0k9aStvYRa%2FSlZ99mFbgFnmfEFEwH0P6axICa0g%3D%3D&numOfRows=31&pageNo=0&sortKey=addr&filterKey=addr&filterValues=성산시영아파트인근&type=json\n",
      "http://apis.data.go.kr/3130000/openapi/floatingPopulation/getfloatingPopulation?serviceKey=Gk79Sq8AtJ1c5CsN31uLMqmmx7cbwJg8dNa6GSYpMbanbXm0k9aStvYRa%2FSlZ99mFbgFnmfEFEwH0P6axICa0g%3D%3D&numOfRows=31&pageNo=0&sortKey=addr&filterKey=addr&filterValues=합정역메세나폴리스인근&type=json\n",
      "http://apis.data.go.kr/3130000/openapi/floatingPopulation/getfloatingPopulation?serviceKey=Gk79Sq8AtJ1c5CsN31uLMqmmx7cbwJg8dNa6GSYpMbanbXm0k9aStvYRa%2FSlZ99mFbgFnmfEFEwH0P6axICa0g%3D%3D&numOfRows=27&pageNo=0&sortKey=addr&filterKey=addr&filterValues=연남동빌라밀집지역&type=json\n",
      "http://apis.data.go.kr/3130000/openapi/floatingPopulation/getfloatingPopulation?serviceKey=Gk79Sq8AtJ1c5CsN31uLMqmmx7cbwJg8dNa6GSYpMbanbXm0k9aStvYRa%2FSlZ99mFbgFnmfEFEwH0P6axICa0g%3D%3D&numOfRows=30&pageNo=0&sortKey=addr&filterKey=addr&filterValues=마포자이아파트인근&type=json\n",
      "http://apis.data.go.kr/3130000/openapi/floatingPopulation/getfloatingPopulation?serviceKey=Gk79Sq8AtJ1c5CsN31uLMqmmx7cbwJg8dNa6GSYpMbanbXm0k9aStvYRa%2FSlZ99mFbgFnmfEFEwH0P6axICa0g%3D%3D&numOfRows=25&pageNo=0&sortKey=addr&filterKey=addr&filterValues=디지털미디어시티인근주거밀집지역&type=json\n"
     ]
    }
   ],
   "source": [
    "import random\n",
    "import time\n",
    "\n",
    "\n",
    "lines = []\n",
    "\n",
    "for place in location:\n",
    "    try:\n",
    "      \n",
    "        #totalCount를 구하기 위해 numOfRows에 기본값 1을 넣고 url를 구한다. \n",
    "        url=f'{base_url}?serviceKey={serviceKey}&numOfRows=1&pageNo=0&sortKey={sortKey}&filterKey={filterKey}&filterValues={place}&type={type}'\n",
    "        response = requests.get(url)\n",
    "        result = response.json()\n",
    "        total_rows=result['totalCount']\n",
    "\n",
    "        rows = 1000\n",
    "        n_times = total_rows // rows+1\n",
    "        n_times\n",
    "\n",
    "        for _ in range(n_times): \n",
    "    \n",
    "            #total_rows(totalCount) 값을 numOfRows에 넣어 place별 데이터 총 개수를 뽑아내는 url를 만든다.\n",
    "            url=f'{base_url}?serviceKey={serviceKey}&numOfRows={total_rows}&pageNo={pageNo}&sortKey={sortKey}&filterKey={filterKey}&filterValues={place}&type={type}'\n",
    "            print(url)\n",
    "            response = requests.get(url)\n",
    "            result = response.json()\n",
    "    \n",
    "            for key in result['items']:\n",
    "                line = []\n",
    "                line.append(key['grid_id'])\n",
    "                line.append(key['_left'])\n",
    "                line.append(key['top'])\n",
    "                line.append(key['_right']) \n",
    "                line.append(key['bottom'])\n",
    "                line.append(key['_14age'])\n",
    "                line.append(key['_20_50T21_'])\n",
    "                line.append(key['_65age_'])\n",
    "                line.append(key['_20_60T9_18'])\n",
    "                line.append(key['weekend'])\n",
    "                line.append(key['addr'])\n",
    "                lines.append(line)\n",
    "  \n",
    "    except Exception as e:\n",
    "        print(f'{type(e)} :{e}')\n",
    "\n",
    "    #place가 바뀔때 마다 sleep를 걸어 다음 출력 값의 term을 만든다. \n",
    "    finally:\n",
    "        time.sleep(random.random() * 3)\n",
    "    \n",
    "        "
   ]
  },
  {
   "cell_type": "code",
   "execution_count": 27,
   "id": "1fce7cac-2e26-4adc-811b-3bf4bea17088",
   "metadata": {},
   "outputs": [
    {
     "data": {
      "text/plain": [
       "289"
      ]
     },
     "execution_count": 27,
     "metadata": {},
     "output_type": "execute_result"
    }
   ],
   "source": [
    "len(lines)"
   ]
  },
  {
   "cell_type": "code",
   "execution_count": 28,
   "id": "5bb33ccb-4d3a-4dbf-9ad0-70553a9c4d50",
   "metadata": {},
   "outputs": [],
   "source": [
    "with open(\"마포구 10개 지역 유동인구.csv\",\"w\",encoding='utf-8', newline=\"\")as f:\n",
    "    csv_writer = csv.writer(f)\n",
    "    #헤더 정보 넣기\n",
    "    csv_writer.writerow(['격자 id', '좌측 격자 위치', '상단 격자 위치', '우측 격자 위치',\\\n",
    "                         '하단 격자 위치','14세 이하 어린이 유동인구','20세 이상 50세 미만 여성 유동 인구 21시-24시 전체 유동인구 합','65세 이상 유동인구','20세 이상 60세 미만 주중 유동입구 합','주말 전체 일별평균','지역명'])\n",
    "    for line in lines:\n",
    "        csv_writer.writerow(line)"
   ]
  },
  {
   "cell_type": "code",
   "execution_count": null,
   "id": "0c8f1c53-406e-416f-8236-e7273b236ea2",
   "metadata": {},
   "outputs": [],
   "source": []
  }
 ],
 "metadata": {
  "kernelspec": {
   "display_name": "Python 3 (ipykernel)",
   "language": "python",
   "name": "python3"
  },
  "language_info": {
   "codemirror_mode": {
    "name": "ipython",
    "version": 3
   },
   "file_extension": ".py",
   "mimetype": "text/x-python",
   "name": "python",
   "nbconvert_exporter": "python",
   "pygments_lexer": "ipython3",
   "version": "3.10.13"
  }
 },
 "nbformat": 4,
 "nbformat_minor": 5
}
