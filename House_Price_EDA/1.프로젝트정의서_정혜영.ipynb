{
 "cells": [
  {
   "attachments": {},
   "cell_type": "markdown",
   "metadata": {
    "id": "EegOYei1EadY"
   },
   "source": [
    "# [인도 6개 대도시별 임대료 예측을 위한 임대료 데이터셋 분석]]"
   ]
  },
  {
   "attachments": {},
   "cell_type": "markdown",
   "metadata": {
    "id": "gaUGwf0uFD9j"
   },
   "source": [
    "# *   기간: 2023-11-28 ~ 2023-12-05 (총 7일)\n",
    "                      \n",
    "*   리더: 정혜영\n",
    "                                                                           \n",
    "*   정의: 우리나라의 직방 사이트 격인 인도의 부동산 사이트 데이터를 통해 실제 인도 대도시별 임대 매물 특징과 임대 부동산 시장을 분석\n",
    "                                \n",
    "*   목적:인도 6개 대도시별 임대료 예측을 위한 임대료 데이터셋 분석  b)\n",
    "                                                                                                           "
   ]
  },
  {
   "attachments": {},
   "cell_type": "markdown",
   "metadata": {},
   "source": [
    "*   범위: 전체 4746개의 데이터 / 주택 가격 영향 요소 파악 및 특징 시각화 \n"
   ]
  },
  {
   "attachments": {},
   "cell_type": "markdown",
   "metadata": {},
   "source": [
    "*   <b>결론 및 향후 과제</b> :   \n",
    "  (1) 도시별 특징이 뚜렷한 부분이 있어 인도 도시6개의 예측 모형 1개로 만들기에 성능이 떨어질 것 같아 6개 도시의 각각의 상관계수 구해야 할 것 같다. \\\r",
    "  (2) \n",
    "도시별로도 이상치가 있었는데 이상치 처리에 대한 부분 고민해봐야 할 것 같다. \r\n"
   ]
  },
  {
   "cell_type": "markdown",
   "metadata": {
    "id": "Wc2oLxrZK3qy"
   },
   "source": [
    "## [할 일 목록]"
   ]
  },
  {
   "cell_type": "markdown",
   "metadata": {
    "id": "xqMJWyv7CtjL"
   },
   "source": [
    "### [1일차]\n"
   ]
  },
  {
   "cell_type": "markdown",
   "metadata": {
    "id": "5Zu9ptEAO4e9"
   },
   "source": [
    "#### 1.   프로젝트 주제 선정 : 팬데믹 이후 축제 개최 경향 분석과 2030 방문객을 높이기 위한 우수 문화관광 축제 특성 분석"
   ]
  },
  {
   "cell_type": "markdown",
   "metadata": {
    "id": "pqS3op0JPAB_"
   },
   "source": [
    "### 2030 방문객을 높이기 위한 문화관광 축제 특성 분석\r\n",
    "\r\n",
    "데이터 분석 범위 : 2018, 2019, 2022\r\n",
    "\r\n",
    "종속변수 : 2030대 축제 방문객 수\r\n",
    "\r\n",
    "1. 문화관광 축제(21개) 축제 방문객 \r\n",
    "2. 문화관광 축제(21개)  2030대 축제 방문객 \r\n",
    "\r\n",
    "데이터: https://datalab.visitkorea.or.kr/datalab/portal/fes/getFesDataForm.do#p)제 계획"
   ]
  },
  {
   "cell_type": "markdown",
   "metadata": {
    "id": "lSQgQa0RPqVs"
   },
   "source": [
    "#### 2.  과제와 관련된 데이터"
   ]
  },
  {
   "cell_type": "markdown",
   "metadata": {
    "id": "HlKHPGvMPqVt"
   },
   "source": [
    "* 문화체육관광부 지역축제 계획\n",
    "* 2023년도 축제 계획\n",
    "* 한국 관광데이터랩\r\n",
    ". ****지역별 관광 현황 / 행정구역별 방문객 연령비율****\r\n",
    "\r\n",
    "https://datalab.visitkorea.or.kr/datalab/portal/loc/getAreaDataForm.do?SGG_CD=28237#\n",
    "\n",
    "[지역축제 | 문화체육관광부](https://www.mcst.go.kr/kor/s_culture/festival/festivalList.jsp)"
   ]
  },
  {
   "cell_type": "markdown",
   "metadata": {},
   "source": [
    "### [2일/3일차] 방문객 연령별 방문객 수집 어려움과 특성 분석할 축제 갯수 미흡 > 주제 변경 결정"
   ]
  },
  {
   "cell_type": "markdown",
   "metadata": {
    "id": "c7MRPWeEPrGL"
   },
   "source": [
    "#### 1.     **관련 논문 수집 및 변수 설정**"
   ]
  },
  {
   "cell_type": "markdown",
   "metadata": {},
   "source": [
    "종속변수 : 2030대 축제 방문객 수\n",
    "\n",
    "1. 문화관광 축제(21개) 축제 방문객 \n",
    "2. 문화관광 축제(21개)  2030대 축제 방문객 \n",
    "\n",
    "데이터: https://datalab.visitkorea.or.kr/datalab/portal/fes/getFesDataForm.do#\n",
    "\n",
    "**변수들** \n",
    "\n",
    "1. 연도별 지역축제 날씨 데이터 (축제명, 위경도, 기온, 기압) \n",
    "    - 기온이 높을수록 2030의 축제 방문객 수는 높아질까\n",
    "2. 서울과의 거리 (서울 중심부 : 경복궁 위경도)\n",
    "    \n",
    "    \n",
    "    | 37.578841 | 126.977016 |\n",
    " \n",
    "    - 서울과의 거리가 가까울수록 2030의 축제 방문객 수는 높아질까\n",
    "3. 축제 검색량 데이터(축제 화제성/ 홍보)\n",
    "    - 축제 검색량이 높을수록 2030의 방문객 수는 높아질까\n",
    "4. 광역단체명, 기초단체명, 시군구 구분 데이터\n",
    "    - 지역 인프라와 관련된 항목들 > 2030 방문객의 수는 높아질까\n",
    "5. 전국 ktx 역 데이터\n",
    "6. 문화축제 데이터( 축제 특성(콘텐츠))\n",
    "    - 2030의 방문객이 높은 축제의 콘텐츠는 무엇일까"
   ]
  },
  {
   "cell_type": "markdown",
   "metadata": {},
   "source": [
    "### [4일차] 캐글 데이터 탐색 > 주제 선정"
   ]
  },
  {
   "cell_type": "markdown",
   "metadata": {},
   "source": [
    "[인도 6개 대도시별 임대료 예측을 위한 임대료 데이터셋 분석]"
   ]
  },
  {
   "cell_type": "markdown",
   "metadata": {},
   "source": [
    "https://www.kaggle.com/datasets/iamsouravbanerjee/house-rent-prediction-dataset"
   ]
  },
  {
   "cell_type": "markdown",
   "metadata": {},
   "source": [
    "인도 핵심 도시 6곳 : 뭄바이 > 델리 > 벵갈로르 > 하이데라바드 > 첸나이 > 콜카타"
   ]
  },
  {
   "cell_type": "markdown",
   "metadata": {},
   "source": [
    "### [5일차] 데이터 셋 구조 파악 및 전처리"
   ]
  },
  {
   "cell_type": "markdown",
   "metadata": {},
   "source": [
    "### [6일차] EDA"
   ]
  },
  {
   "cell_type": "markdown",
   "metadata": {},
   "source": [
    "### [7일차] 제출 파일 작성 / 발표용 파워포인트 만들기"
   ]
  },
  {
   "cell_type": "code",
   "execution_count": null,
   "metadata": {},
   "outputs": [],
   "source": []
  }
 ],
 "metadata": {
  "colab": {
   "authorship_tag": "ABX9TyN2H03+SyTzY0fDql2e3c+O",
   "collapsed_sections": [
    "Wc2oLxrZK3qy",
    "xqMJWyv7CtjL",
    "5Zu9ptEAO4e9",
    "lSQgQa0RPqVs",
    "c7MRPWeEPrGL",
    "7FkXBF5YP3nG",
    "-ZzkFrNfRnic"
   ],
   "provenance": [],
   "toc_visible": true
  },
  "kernelspec": {
   "display_name": "Python 3 (ipykernel)",
   "language": "python",
   "name": "python3"
  },
  "language_info": {
   "codemirror_mode": {
    "name": "ipython",
    "version": 3
   },
   "file_extension": ".py",
   "mimetype": "text/x-python",
   "name": "python",
   "nbconvert_exporter": "python",
   "pygments_lexer": "ipython3",
   "version": "3.10.13"
  }
 },
 "nbformat": 4,
 "nbformat_minor": 4
}
